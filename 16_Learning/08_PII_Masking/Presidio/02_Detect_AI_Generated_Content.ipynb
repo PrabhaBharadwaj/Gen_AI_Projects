{
 "cells": [
  {
   "cell_type": "markdown",
   "id": "3252bc94",
   "metadata": {},
   "source": [
    "# Detect AI-generated Content\n",
    "\n",
    "### Definition\n",
    "- **AI-generated content** refers to the output (text, code, images, etc.) produced by GenAI / Large Language Models (LLMs) that are trained on big data containing a wide range of writing styles, topics, and sources, triggered by input prompt and are capable of generating human-like text. These LLMs have the ability to understand context and  mimic the writing style of specific individuals or sources to generate text that is remarkably coherent and contextually appropriate. \n",
    "\n",
    "\n",
    "### Benefits \n",
    "- AI is your copilot / virtual assistant for productivity & creativity\n",
    "- AI-generated text opens up a new door to content creation, customer service, and automated journalism.\n",
    "\n",
    "### Risks\n",
    "- With the rise of ChatGPT (LLMs in general), AI-generated text has become increasingly indistinguishable from human-generated content. Without checks and balances, some people will use AI irresponsibly. This raises concerns about the potential **misuse of AI for spreading disinformation or generating fraudulent content**, which requires businesses to take extra steps to ensure employees use AI responsibly and ethically.\n",
    "\n"
   ]
  },
  {
   "cell_type": "code",
   "execution_count": 1,
   "id": "ce4f0699",
   "metadata": {},
   "outputs": [
    {
     "name": "stdout",
     "output_type": "stream",
     "text": [
      "3.10.0\n"
     ]
    },
    {
     "name": "stderr",
     "output_type": "stream",
     "text": [
      "OMP: Info #276: omp_set_nested routine deprecated, please use omp_set_max_active_levels instead.\n"
     ]
    }
   ],
   "source": [
    "%matplotlib inline\n",
    "\n",
    "import matplotlib\n",
    "#matplotlib.use( 'tkagg' )\n",
    "import matplotlib.pyplot as plt\n",
    "import seaborn as sns\n",
    "\n",
    "import os, time\n",
    "import numpy as np\n",
    "import openai\n",
    "import pandas as pd\n",
    "import pickle\n",
    "import tiktoken\n",
    "import streamlit as st\n",
    "from PIL import Image\n",
    "import requests\n",
    "#import config\n",
    "#import pyttsx3\n",
    "import speech_recognition as sr\n",
    "print(sr.__version__)\n",
    "# Use TTS to generate synthetic speech\n",
    "import pyaudio\n",
    "from TTS.api import TTS\n",
    "import io\n",
    "import IPython.display as ipd\n",
    "from playsound import playsound\n",
    "#Langchain\n",
    "from langchain import OpenAI, PromptTemplate, LLMChain, ConversationChain\n",
    "from langchain.memory import ConversationBufferWindowMemory\n",
    "from langchain.callbacks.streaming_stdout import StreamingStdOutCallbackHandler\n",
    "# Import Azure OpenAI\n",
    "from langchain.llms import AzureOpenAI"
   ]
  },
  {
   "cell_type": "code",
   "execution_count": 2,
   "id": "15d6e5fc",
   "metadata": {},
   "outputs": [],
   "source": [
    "# Authentication & Authorization using API Key option\n",
    "\n",
    "#Azure OpenAI Credential\n",
    "os.environ[\"OPENAI_API_KEY\"] = \"<FILL IN YOUR API KEY>\"\n",
    "os.environ[\"AZURE_OPENAI_ENDPOINT\"] = \"https://<FILL IN YOUR END POINT>.openai.azure.com/\"\n",
    "API_KEY = os.getenv(\"OPENAI_API_KEY\") \n",
    "RESOURCE_ENDPOINT = os.getenv(\"AZURE_OPENAI_ENDPOINT\") \n",
    "openai.api_type = \"azure\"\n",
    "openai.api_key = API_KEY\n",
    "openai.api_base = RESOURCE_ENDPOINT\n",
    "#openai.api_version = \"2022-12-01\"\n",
    "#openai.api_version = \"2023-03-15-preview\"   \n",
    "openai.api_version = \"2023-07-01-preview\"   "
   ]
  },
  {
   "cell_type": "code",
   "execution_count": 7,
   "id": "b343c698",
   "metadata": {},
   "outputs": [],
   "source": [
    "#Create a ChatCompletion Request\n",
    "# Use LLM to generate response\n",
    "\n",
    "#COMPLETIONS_MODEL = \"text-davinci-003\" #text generation 3.5 model name\n",
    "#COMPLETIONS_MODEL = \"gpt-3.5-turbo\" #OpenAI Standalone chatgpt model name\n",
    "#COMPLETIONS_MODEL = \"gpt-35-turbo\" #Azure OpenAI chatgpt model name \n",
    "COMPLETIONS_MODEL = \"gpt-35-turbo-16k\" #Azure OpenAI chatgpt model name \n",
    "#COMPLETIONS_MODEL = \"gpt-4-32k\" #\"gpt-4\" #Advanced GPT-4 model\n",
    "EMBEDDING_MODEL = \"text-embedding-ada-002\"\n",
    "\n",
    "engine = COMPLETIONS_MODEL\n",
    "\n",
    "def generate_response(prompt):\n",
    "    messages = [{\"role\": \"user\", \"content\": prompt}]\n",
    "    response = openai.ChatCompletion.create(\n",
    "                engine=engine,\n",
    "                temperature=0,\n",
    "                messages=messages,\n",
    "                model=COMPLETIONS_MODEL\n",
    "            )[\"choices\"][0][\"message\"][\"content\"].strip(\" \\n\")\n",
    "    return response\n",
    "  \n",
    "#Print the response from the ChatCompletion request.\n",
    "#prompt = 'how many planets in solar system'\n",
    "#prompt='Explain concisely in three to five sentences what embedding technique used for openai embedding model text-embedding-ada-002'\n",
    "#prompt='what is AI?'\n",
    "#response = generate_response(prompt)\n",
    "#print(f'GPT says: {response}')  "
   ]
  },
  {
   "cell_type": "markdown",
   "id": "b375ed5e",
   "metadata": {},
   "source": [
    "## 1. Human Evaluation: Hints to Detect AI-generated Content\n",
    "### Tone & Style\n",
    "- AI output is **robotic and uniform**, lacking transition words or varying tones.  \n",
    "- AI-generated content is **monotone**, often lacks personal touch, opinion or emotion.  \n",
    "- Whereas when people write, there are usually varying tones and styles throughout the tex. There are often shifts in thought patterns in humans, resulting in a change in tone.   \n",
    "- E.g. sample testing question: `\"write a paragragh about long-lasting flower species for garden\"`\n",
    "### Accuracy\n",
    "- AI output is often incorrect, inconsistant, untrue or not up-to-date as GPT training data cutoff by Sept.2021 (so always enforce fact-checking mechanism) e.g. `\"who is the boss of twitter?\"` GPT gave an obsolete answer \"Jack Dorsey\"  \n",
    "### Repetitive Language\n",
    "- 'keyword stuffing' in AI output, e.g. ask GPT a sample question of `'what is AI?'` "
   ]
  },
  {
   "cell_type": "code",
   "execution_count": 9,
   "id": "a9417e75",
   "metadata": {
    "scrolled": false
   },
   "outputs": [
    {
     "name": "stdout",
     "output_type": "stream",
     "text": [
      "ChatGPT says: When it comes to creating a beautiful and vibrant garden, choosing long-lasting flower species is essential. These flowers not only add color and fragrance to your outdoor space but also ensure that your garden remains in bloom for an extended period. Some popular long-lasting flower species for gardens include roses, marigolds, petunias, and geraniums. Roses are known for their longevity and come in a variety of colors and sizes, making them a versatile choice. Marigolds are not only visually appealing but also repel pests, making them a practical addition to any garden. Petunias are low-maintenance and can withstand various weather conditions, making them perfect for beginners. Lastly, geraniums are known for their vibrant blooms and can thrive in both sun and shade. By incorporating these long-lasting flower species into your garden, you can enjoy a beautiful and flourishing outdoor space throughout the seasons.\n"
     ]
    }
   ],
   "source": [
    "prompt='write a paragragh about long-lasting flower species for garden'\n",
    "response = generate_response(prompt)\n",
    "print(f'ChatGPT says: {response}')  "
   ]
  },
  {
   "cell_type": "code",
   "execution_count": 10,
   "id": "a4ca110f",
   "metadata": {},
   "outputs": [
    {
     "name": "stdout",
     "output_type": "stream",
     "text": [
      "ChatGPT says: As of my knowledge, Jack Dorsey is the CEO and co-founder of Twitter. However, please note that executive positions can change over time, so it's always a good idea to verify the latest information.\n"
     ]
    }
   ],
   "source": [
    "prompt='who is the boss of twitter?'\n",
    "response = generate_response(prompt)\n",
    "print(f'ChatGPT says: {response}')  "
   ]
  },
  {
   "cell_type": "markdown",
   "id": "a9fa52ba",
   "metadata": {},
   "source": [
    "Note: Recent ChatGPT updates include **safety verbiage** indicating that the answer is relevant as of September 2021 when asking questions about current events. Although this update is helpful, it is still possible to get output that isn’t accurate."
   ]
  },
  {
   "cell_type": "code",
   "execution_count": 8,
   "id": "0333186f",
   "metadata": {
    "scrolled": true
   },
   "outputs": [
    {
     "name": "stdout",
     "output_type": "stream",
     "text": [
      "ChatGPT says: AI, or Artificial Intelligence, refers to the simulation of human intelligence in machines that are programmed to think and learn like humans. It involves the development of computer systems capable of performing tasks that typically require human intelligence, such as speech recognition, decision-making, problem-solving, and language translation. AI can be categorized into two types: Narrow AI, which is designed for specific tasks, and General AI, which possesses the ability to understand, learn, and apply knowledge across various domains.\n"
     ]
    }
   ],
   "source": [
    "prompt='what is AI?'\n",
    "response = generate_response(prompt)\n",
    "print(f'ChatGPT says: {response}')  "
   ]
  },
  {
   "cell_type": "markdown",
   "id": "4f377e6a",
   "metadata": {},
   "source": [
    "## 2. AI Content Detection Tools\n",
    "\n",
    "### The idea: use AI to detect AI-generated content\n",
    "### How it works? \n",
    "- These tools analyze text using context to understand the likelihood of words appearing together.  \n",
    "- **The more predictable the linguistic pattern, the more likely it’s AI-generated content**. Unlike humans, AI typically does not write more creative sentences, is more predictable, and doesn’t offer opinions.  \n",
    "\n",
    "### Some typical tools\n",
    "- Originality AI \n",
    "- GPTZero\n",
    "- Content at Scale \n",
    "- Winston AI  \n",
    "- Hugging Face    \n",
    "- Other 'AI content detector' tool makers:   \n",
    "- [Writer](https://writer.com/ai-content-detector/)  \n",
    "- [Copyleaks](https://copyleaks.com/ai-content-detector)   \n",
    "- [Sapling.ai](https://sapling.ai/)  \n",
    "- [Crossplag AI](https://app.crossplag.com/sign-up)  \n",
    "- [Corrector App](https://corrector.app/) \n",
    "- [Kazan SEO](https://kazanseo.com/)  \n",
    "- And many more ..."
   ]
  },
  {
   "cell_type": "markdown",
   "id": "3e4b29f6",
   "metadata": {},
   "source": [
    "## [Originality AI](https://originality.ai/)\n",
    "- One of the leading tools, mainly created for identifying content generated through **GPT family like ChatGPT, GPT-2/-3/-4 and Bard** \n",
    "- Not free, but has a Chrome extension with 50 credits (100 words scan per credit)\n",
    "- Content can be scanned by inputting a URL, uploading a file, or pasting text."
   ]
  },
  {
   "cell_type": "markdown",
   "id": "9fd5c027",
   "metadata": {},
   "source": [
    "## [GPTZero](https://gptzero.me/)\n",
    "- Another excellent tool, trained to detect ChatGPT, GPT4, Bard, LLaMa and other LLMs  \n",
    "- Up to 5k characters detection for free   "
   ]
  },
  {
   "cell_type": "markdown",
   "id": "d4d0712c",
   "metadata": {},
   "source": [
    "## [Content at Scale](https://contentatscale.ai/ai-content-detector/)\n",
    "- It has a **FREE** tool named `AI content detector`, capable of detecting ChatGPT, GPT4, Bard, Claude & More \n",
    "- Its content score is based on the text’s predictability, probability and pattern  \n",
    "- It can be used to scan various types of text, including **SEO**, educational, marketing and academic content.\n",
    "- API is available on request  \n",
    "- It can scan up to 25,000 character text  \n",
    "- Multiple language support  \n",
    "- Also has a **FREE** [AI image detector](https://contentatscale.ai/ai-image-detector/) - nice!"
   ]
  },
  {
   "cell_type": "markdown",
   "id": "9d21830f",
   "metadata": {},
   "source": [
    "## [Winston AI](https://gowinston.ai/)\n",
    "- Can detect content generated with ChatGPT, GPT-4, Bard and many more LLMs   \n",
    "- Support OCR (Optical Character Recognition) to scan images and handwriting  \n",
    "- Offer a **free** plan (up to 2k words scan) and two paid plans"
   ]
  },
  {
   "cell_type": "markdown",
   "id": "b5a23499",
   "metadata": {},
   "source": [
    "## [Hugging Face](https://huggingface.co/spaces/PirateXX/AI-Content-Detector)\n",
    "- Hugging Face is a platform to help AI researchers develop and deploy DL models   \n",
    "- HF has its `'AI-Content-Detector'` tool, which is **free to use, open-sourced and has community support!**  \n",
    "- Has a more user-friendly free web app, which analyzes text based on patterns and perplexity  \n",
    "- Note: `perplexity` measures text randomness in NLP study"
   ]
  },
  {
   "cell_type": "markdown",
   "id": "80316d8e",
   "metadata": {},
   "source": [
    "## 3. Challenge: \"Reliably detecting AI-generated text is mathematically impossible. \"\n",
    "- Refer to [Reliably detecting AI-generated text is mathematically impossible](https://www.linkedin.com/pulse/reliably-detecting-ai-generated-text-mathematically-sayeed/): <i>\"The complexity and sophistication of modern AI models, coupled with their ability to mimic human writing styles, make it extremely difficult to distinguish AI-generated text from human-generated content.\"</i>\n",
    "\n",
    "- <i>\"Detection methods based on **statistical features or linguistic patterns** are easily overcome by more advanced AI models. Additionally, the constant evolution of AI technology and the potential for adversarial attacks further complicate the task of detection.\"<i>\n",
    "    \n",
    "- Moreover, <i>\"OpenAI says **no AI tool is reliable enough to distinguish** if the content is AI-generated\"<i>, refer to [OpenAI warns teachers that ChatGPT cannot detect AI-generated content, but offers tricks to identify copied answers](https://www.businesstoday.in/technology/news/story/openai-warns-teachers-that-chatgpt-cannot-detect-ai-generated-content-but-offers-tricks-to-identify-copied-answers-396723-2023-09-04)\n",
    "    \n",
    "#### Background info about 'Adversarial attack'\n",
    "- <i>\"Adversarial attacks involve intentionally modifying or manipulating (e.g. **re-write/paraphrase**) AI-generated text to make it more difficult to detect. By introducing subtle changes or perturbations, attackers can effectively camouflage AI-generated content, making it virtually impossible to distinguish from human-generated text.\"<i>\n",
    "    \n",
    "- An actaul example refers to [New AI Detection Bypassing Tool, UndetectableAI, Hits the Market](https://www.kentuckytoday.com/news/national/new-ai-detection-bypassing-tool-undetectableai-hits-the-market/article_32480a33-d83a-5175-88cd-1a6739c4fa75.html#:~:text=Using%20UndetectableAI%20to%20bypass%20AI,bypass%20most%20AI%20writing%20checks): <i>\"Using UndetectableAI to bypass AI detection is simple. To use it, its users simply need to enter their text that has been created by an AI tool and have the tool rewrite the text with a single click. They will then instantly be given the rewritten content that is able to bypass most AI writing checks.\"<i> (note: this website cannot be accessed)\n",
    "    \n",
    "## 4. Best Practice for AI content Detection\n",
    "- A hybrid human+AI approach is proposed, using both **a trained eye and an AI-powered tool** to get the best results"
   ]
  },
  {
   "cell_type": "code",
   "execution_count": null,
   "id": "75c8c33e",
   "metadata": {},
   "outputs": [],
   "source": []
  }
 ],
 "metadata": {
  "kernelspec": {
   "display_name": "Python 3 (ipykernel)",
   "language": "python",
   "name": "python3"
  },
  "language_info": {
   "codemirror_mode": {
    "name": "ipython",
    "version": 3
   },
   "file_extension": ".py",
   "mimetype": "text/x-python",
   "name": "python",
   "nbconvert_exporter": "python",
   "pygments_lexer": "ipython3",
   "version": "3.8.16"
  }
 },
 "nbformat": 4,
 "nbformat_minor": 5
}
