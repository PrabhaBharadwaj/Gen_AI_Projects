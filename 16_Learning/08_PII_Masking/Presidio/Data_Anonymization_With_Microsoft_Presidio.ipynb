{
  "nbformat": 4,
  "nbformat_minor": 0,
  "metadata": {
    "colab": {
      "provenance": [],
      "toc_visible": true
    },
    "kernelspec": {
      "name": "python3",
      "display_name": "Python 3"
    },
    "language_info": {
      "name": "python"
    }
  },
  "cells": [
    {
      "cell_type": "code",
      "execution_count": null,
      "metadata": {
        "colab": {
          "base_uri": "https://localhost:8080/"
        },
        "id": "dqBSdoRNfuEM",
        "outputId": "40119155-e2ce-4e3f-8dd6-312010647817"
      },
      "outputs": [
        {
          "output_type": "stream",
          "name": "stdout",
          "text": [
            "\u001b[2K     \u001b[90m━━━━━━━━━━━━━━━━━━━━━━━━━━━━━━━━━━━━━━━━\u001b[0m \u001b[32m587.7/587.7 MB\u001b[0m \u001b[31m3.1 MB/s\u001b[0m eta \u001b[36m0:00:00\u001b[0m\n",
            "\u001b[?25h\u001b[38;5;2m✔ Download and installation successful\u001b[0m\n",
            "You can now load the package via spacy.load('en_core_web_lg')\n",
            "\u001b[38;5;3m⚠ Restart to reload dependencies\u001b[0m\n",
            "If you are in a Jupyter or Colab notebook, you may need to restart Python in\n",
            "order to load all the package's dependencies. You can do this by selecting the\n",
            "'Restart kernel' or 'Restart runtime' option.\n"
          ]
        }
      ],
      "source": [
        "# download presidio\n",
        "!pip install presidio_analyzer presidio_anonymizer -q\n",
        "!python -m spacy download en_core_web_lg -q"
      ]
    },
    {
      "cell_type": "markdown",
      "source": [
        "# Presidio Analyzer\n",
        "- https://microsoft.github.io/presidio/samples/python/customizing_presidio_analyzer/\n",
        "\n",
        "- The Presidio-Anonymizer package contains both Anonymizers and Deanonymizers.\n",
        "\n",
        "- **Anonymizers** are used to replace a PII entity text with some other value.\n",
        "- **Deanonymizers** are used to revert the anonymization operation. For example, to decrypt an encrypted text.\n",
        "- https://github.com/microsoft/presidio/tree/main/presidio-anonymizer"
      ],
      "metadata": {
        "id": "KG845osSkbKY"
      }
    },
    {
      "cell_type": "code",
      "source": [
        "from typing import List\n",
        "import pprint\n",
        "\n",
        "from presidio_analyzer import (\n",
        "    AnalyzerEngine,\n",
        "    PatternRecognizer,\n",
        "    EntityRecognizer,\n",
        "    Pattern,\n",
        "    RecognizerResult,\n",
        ")\n",
        "from presidio_analyzer.recognizer_registry import RecognizerRegistry\n",
        "from presidio_analyzer.nlp_engine import NlpEngine, SpacyNlpEngine, NlpArtifacts\n",
        "from presidio_analyzer.context_aware_enhancers import LemmaContextAwareEnhancer"
      ],
      "metadata": {
        "id": "kF74jMO-gQAz"
      },
      "execution_count": null,
      "outputs": []
    },
    {
      "cell_type": "markdown",
      "source": [
        "## Function to Analyze"
      ],
      "metadata": {
        "id": "ijH2OganjWGp"
      }
    },
    {
      "cell_type": "code",
      "source": [
        "# Helper method to print results nicely\n",
        "\n",
        "\n",
        "def print_analyzer_results(results: List[RecognizerResult], text: str):\n",
        "    \"\"\"Print the results in a human readable way.\"\"\"\n",
        "\n",
        "    for i, result in enumerate(results):\n",
        "        print(f\"Result {i}:\")\n",
        "        print(f\" {result}, text: {text[result.start:result.end]}\")\n",
        "\n",
        "        if result.analysis_explanation is not None:\n",
        "            print(f\" {result.analysis_explanation.textual_explanation}\")"
      ],
      "metadata": {
        "id": "tkmyaHLRjYrf"
      },
      "execution_count": null,
      "outputs": []
    },
    {
      "cell_type": "markdown",
      "source": [
        "## Example 1: Deny-list based PII recognition¶\n",
        "- In this example, we will pass a short list of tokens which should be marked as PII if detected. First, let's define the tokens we want to treat as PII. In this case it would be a list of titles:\n"
      ],
      "metadata": {
        "id": "XUnBJqpsj6fK"
      }
    },
    {
      "cell_type": "code",
      "source": [
        "titles_list = [\n",
        "    \"Sir\",\n",
        "    \"Ma'am\",\n",
        "    \"Madam\",\n",
        "    \"Mr.\",\n",
        "    \"Mrs.\",\n",
        "    \"Ms.\",\n",
        "    \"Miss\",\n",
        "    \"Dr.\",\n",
        "    \"Professor\",\n",
        "]"
      ],
      "metadata": {
        "id": "xLUaF36Tj05i"
      },
      "execution_count": null,
      "outputs": []
    },
    {
      "cell_type": "code",
      "source": [
        "titles_recognizer = PatternRecognizer(supported_entity=\"TITLE\", deny_list=titles_list)"
      ],
      "metadata": {
        "id": "DCXnNA4VjzzR"
      },
      "execution_count": null,
      "outputs": []
    },
    {
      "cell_type": "code",
      "source": [
        "text1 = \"I suspect Professor Plum, in the Dining Room, with the candlestick\"\n",
        "result = titles_recognizer.analyze(text1, entities=[\"TITLE\"])\n",
        "print(f\"Result:\\n {result}\")"
      ],
      "metadata": {
        "colab": {
          "base_uri": "https://localhost:8080/"
        },
        "id": "UDSmsW0EjtZr",
        "outputId": "788a90f4-c4e9-4413-eff7-1408420dd568"
      },
      "execution_count": null,
      "outputs": [
        {
          "output_type": "stream",
          "name": "stdout",
          "text": [
            "Result:\n",
            " [type: TITLE, start: 10, end: 19, score: 1.0]\n"
          ]
        }
      ]
    },
    {
      "cell_type": "markdown",
      "source": [
        "> Finally, let's add this new recognizer to the list of recognizers used by the Presidio AnalyzerEngine:"
      ],
      "metadata": {
        "id": "iMQ3np1EkAw5"
      }
    },
    {
      "cell_type": "markdown",
      "source": [
        "### Add new recgnizer via - add_recognizer"
      ],
      "metadata": {
        "id": "ZNv0Ek06lXX3"
      }
    },
    {
      "cell_type": "code",
      "source": [
        "analyzer = AnalyzerEngine()\n",
        "analyzer.registry.add_recognizer(titles_recognizer)"
      ],
      "metadata": {
        "colab": {
          "base_uri": "https://localhost:8080/"
        },
        "id": "GxCkriWGkCQ5",
        "outputId": "9b5582ab-19f2-4ac9-eca8-751708f5ac8f"
      },
      "execution_count": null,
      "outputs": [
        {
          "output_type": "stream",
          "name": "stderr",
          "text": [
            "WARNING:presidio-analyzer:Recognizer not added to registry because language is not supported by registry - CreditCardRecognizer supported languages: es, registry supported languages: en\n",
            "WARNING:presidio-analyzer:Recognizer not added to registry because language is not supported by registry - CreditCardRecognizer supported languages: it, registry supported languages: en\n",
            "WARNING:presidio-analyzer:Recognizer not added to registry because language is not supported by registry - CreditCardRecognizer supported languages: pl, registry supported languages: en\n",
            "WARNING:presidio-analyzer:Recognizer not added to registry because language is not supported by registry - EsNifRecognizer supported languages: es, registry supported languages: en\n",
            "WARNING:presidio-analyzer:Recognizer not added to registry because language is not supported by registry - EsNieRecognizer supported languages: es, registry supported languages: en\n",
            "WARNING:presidio-analyzer:Recognizer not added to registry because language is not supported by registry - ItDriverLicenseRecognizer supported languages: it, registry supported languages: en\n",
            "WARNING:presidio-analyzer:Recognizer not added to registry because language is not supported by registry - ItFiscalCodeRecognizer supported languages: it, registry supported languages: en\n",
            "WARNING:presidio-analyzer:Recognizer not added to registry because language is not supported by registry - ItVatCodeRecognizer supported languages: it, registry supported languages: en\n",
            "WARNING:presidio-analyzer:Recognizer not added to registry because language is not supported by registry - ItIdentityCardRecognizer supported languages: it, registry supported languages: en\n",
            "WARNING:presidio-analyzer:Recognizer not added to registry because language is not supported by registry - ItPassportRecognizer supported languages: it, registry supported languages: en\n",
            "WARNING:presidio-analyzer:Recognizer not added to registry because language is not supported by registry - PlPeselRecognizer supported languages: pl, registry supported languages: en\n"
          ]
        }
      ]
    },
    {
      "cell_type": "markdown",
      "source": [
        "### Run\n",
        "- Let's run the analyzer with the new recognizer in place:"
      ],
      "metadata": {
        "id": "Oi2F7xwekKsQ"
      }
    },
    {
      "cell_type": "code",
      "source": [
        "results = analyzer.analyze(text=text1, language=\"en\")\n",
        "print_analyzer_results(results, text=text1)"
      ],
      "metadata": {
        "colab": {
          "base_uri": "https://localhost:8080/"
        },
        "id": "fJboP8NbkMdJ",
        "outputId": "1f46a473-6e66-4582-bda9-a1f43d9b7532"
      },
      "execution_count": null,
      "outputs": [
        {
          "output_type": "stream",
          "name": "stdout",
          "text": [
            "Result 0:\n",
            " type: TITLE, start: 10, end: 19, score: 1.0, text: Professor\n",
            "Result 1:\n",
            " type: PERSON, start: 20, end: 24, score: 0.85, text: Plum\n",
            "Result 2:\n",
            " type: LOCATION, start: 29, end: 44, score: 0.85, text: the Dining Room\n"
          ]
        }
      ]
    },
    {
      "cell_type": "code",
      "source": [
        "print(\"Identified these PII entities:\")\n",
        "for result in results:\n",
        "    print(f\"- {text1[result.start:result.end]} as {result.entity_type}\")"
      ],
      "metadata": {
        "colab": {
          "base_uri": "https://localhost:8080/"
        },
        "id": "NrQkMcWEkTOB",
        "outputId": "02084ae5-6127-43f5-963f-c55a044669e8"
      },
      "execution_count": null,
      "outputs": [
        {
          "output_type": "stream",
          "name": "stdout",
          "text": [
            "Identified these PII entities:\n",
            "- Professor as TITLE\n",
            "- Plum as PERSON\n",
            "- the Dining Room as LOCATION\n"
          ]
        }
      ]
    },
    {
      "cell_type": "markdown",
      "source": [
        "## Example 2: Regex based PII recognition\n",
        "- Another simple recognizer we can add is based on regular expressions. Let's assume we want to be extremely conservative and treat any token which contains a number as PII."
      ],
      "metadata": {
        "id": "KQ8hHrUSkgJB"
      }
    },
    {
      "cell_type": "code",
      "source": [
        "# Define the regex pattern in a Presidio `Pattern` object:\n",
        "numbers_pattern = Pattern(name=\"numbers_pattern\", regex=\"\\d+\", score=0.5)\n",
        "\n",
        "# Define the recognizer with one or more patterns\n",
        "number_recognizer = PatternRecognizer(\n",
        "    supported_entity=\"NUMBER\", patterns=[numbers_pattern]\n",
        ")"
      ],
      "metadata": {
        "id": "QTedwp11kkNQ"
      },
      "execution_count": null,
      "outputs": []
    },
    {
      "cell_type": "code",
      "source": [
        "text2 = \"I live in 510 Broad st.\"\n",
        "\n",
        "numbers_result = number_recognizer.analyze(text=text2, entities=[\"NUMBER\"])\n",
        "print(\"Result:\")\n",
        "print(numbers_result)"
      ],
      "metadata": {
        "colab": {
          "base_uri": "https://localhost:8080/"
        },
        "id": "5PQTs5OlkpA5",
        "outputId": "6960cafa-c1c1-416d-c1e0-d8d3e6a3f98c"
      },
      "execution_count": null,
      "outputs": [
        {
          "output_type": "stream",
          "name": "stdout",
          "text": [
            "Result:\n",
            "[type: NUMBER, start: 10, end: 13, score: 0.5]\n"
          ]
        }
      ]
    },
    {
      "cell_type": "markdown",
      "source": [
        "> It's important to mention that recognizers is likely to have errors, both false-positive and false-negative, which would impact the entire performance of Presidio. Consider testing each recognizer on a representative dataset prior to integrating it into Presidio. For more info, see the best practices for developing recognizers documentation."
      ],
      "metadata": {
        "id": "4gd6_oQRk9Tb"
      }
    },
    {
      "cell_type": "markdown",
      "source": [
        "## Example 3: Rule based logic recognizer\n",
        "- Taking the numbers recognizer one step further, let's say we also would like to detect numbers within words, e.g. \"Number One\". We can leverage the underlying spaCy token attributes, or write our own logic to detect such entities."
      ],
      "metadata": {
        "id": "NGAbs19zlBHL"
      }
    },
    {
      "cell_type": "code",
      "source": [
        "class MyRecognizer(EntityRecognizer):\n",
        "\n",
        "    def load(self) -> None:\n",
        "        \"\"\"No loading is required.\"\"\"\n",
        "        pass\n",
        "\n",
        "    def analyze(\n",
        "        self, text: str, entities: List[str], nlp_artifacts: NlpArtifacts\n",
        "    ) -> List[RecognizerResult]:\n",
        "        \"\"\"\n",
        "        Logic for detecting a specific PII\n",
        "        \"\"\"\n",
        "        pass"
      ],
      "metadata": {
        "id": "ic0I5xBMk-nK"
      },
      "execution_count": null,
      "outputs": []
    },
    {
      "cell_type": "markdown",
      "source": [
        "For example, detecting numbers in either numerical or alphabetic (e.g. Forty five) form:"
      ],
      "metadata": {
        "id": "8uYaKYuAlNqI"
      }
    },
    {
      "cell_type": "code",
      "source": [
        "class NumbersRecognizer(EntityRecognizer):\n",
        "\n",
        "    expected_confidence_level = 0.7  # expected confidence level for this recognizer\n",
        "\n",
        "    def load(self) -> None:\n",
        "        \"\"\"No loading is required.\"\"\"\n",
        "        pass\n",
        "\n",
        "    def analyze(\n",
        "        self, text: str, entities: List[str], nlp_artifacts: NlpArtifacts\n",
        "    ) -> List[RecognizerResult]:\n",
        "        \"\"\"\n",
        "        Analyzes test to find tokens which represent numbers (either 123 or One Two Three).\n",
        "        \"\"\"\n",
        "        results = []\n",
        "\n",
        "        # iterate over the spaCy tokens, and call `token.like_num`\n",
        "        for token in nlp_artifacts.tokens:\n",
        "            if token.like_num:\n",
        "                result = RecognizerResult(\n",
        "                    entity_type=\"NUMBER\",\n",
        "                    start=token.idx,\n",
        "                    end=token.idx + len(token),\n",
        "                    score=self.expected_confidence_level,\n",
        "                )\n",
        "                results.append(result)\n",
        "        return results"
      ],
      "metadata": {
        "id": "31-k2OJZlN56"
      },
      "execution_count": null,
      "outputs": []
    },
    {
      "cell_type": "code",
      "source": [
        "new_numbers_recognizer = NumbersRecognizer(supported_entities=[\"NUMBER\"])"
      ],
      "metadata": {
        "id": "KIvs5RjwlSqI"
      },
      "execution_count": null,
      "outputs": []
    },
    {
      "cell_type": "markdown",
      "source": [
        "### Add new recgnizer via - add_recognizer"
      ],
      "metadata": {
        "id": "6RE8oOC0lelJ"
      }
    },
    {
      "cell_type": "code",
      "source": [
        "text3 = \"Roberto lives in Five 10 Broad st.\"\n",
        "analyzer = AnalyzerEngine()\n",
        "analyzer.registry.add_recognizer(new_numbers_recognizer)\n",
        "\n",
        "numbers_results2 = analyzer.analyze(text=text3, language=\"en\")\n",
        "print_analyzer_results(numbers_results2, text=text3)"
      ],
      "metadata": {
        "colab": {
          "base_uri": "https://localhost:8080/"
        },
        "id": "nJAMPCd0lf_B",
        "outputId": "031c4298-bf5d-47bb-9528-dfb284c1f14e"
      },
      "execution_count": null,
      "outputs": [
        {
          "output_type": "stream",
          "name": "stderr",
          "text": [
            "/usr/local/lib/python3.11/dist-packages/spacy/util.py:1740: UserWarning: [W111] Jupyter notebook detected: if using `prefer_gpu()` or `require_gpu()`, include it in the same cell right before `spacy.load()` to ensure that the model is loaded on the correct device. More information: http://spacy.io/usage/v3#jupyter-notebook-gpu\n",
            "  warnings.warn(Warnings.W111)\n",
            "WARNING:presidio-analyzer:Recognizer not added to registry because language is not supported by registry - CreditCardRecognizer supported languages: es, registry supported languages: en\n",
            "WARNING:presidio-analyzer:Recognizer not added to registry because language is not supported by registry - CreditCardRecognizer supported languages: it, registry supported languages: en\n",
            "WARNING:presidio-analyzer:Recognizer not added to registry because language is not supported by registry - CreditCardRecognizer supported languages: pl, registry supported languages: en\n",
            "WARNING:presidio-analyzer:Recognizer not added to registry because language is not supported by registry - EsNifRecognizer supported languages: es, registry supported languages: en\n",
            "WARNING:presidio-analyzer:Recognizer not added to registry because language is not supported by registry - EsNieRecognizer supported languages: es, registry supported languages: en\n",
            "WARNING:presidio-analyzer:Recognizer not added to registry because language is not supported by registry - ItDriverLicenseRecognizer supported languages: it, registry supported languages: en\n",
            "WARNING:presidio-analyzer:Recognizer not added to registry because language is not supported by registry - ItFiscalCodeRecognizer supported languages: it, registry supported languages: en\n",
            "WARNING:presidio-analyzer:Recognizer not added to registry because language is not supported by registry - ItVatCodeRecognizer supported languages: it, registry supported languages: en\n",
            "WARNING:presidio-analyzer:Recognizer not added to registry because language is not supported by registry - ItIdentityCardRecognizer supported languages: it, registry supported languages: en\n",
            "WARNING:presidio-analyzer:Recognizer not added to registry because language is not supported by registry - ItPassportRecognizer supported languages: it, registry supported languages: en\n",
            "WARNING:presidio-analyzer:Recognizer not added to registry because language is not supported by registry - PlPeselRecognizer supported languages: pl, registry supported languages: en\n"
          ]
        },
        {
          "output_type": "stream",
          "name": "stdout",
          "text": [
            "Result 0:\n",
            " type: PERSON, start: 0, end: 7, score: 0.85, text: Roberto\n",
            "Result 1:\n",
            " type: LOCATION, start: 25, end: 34, score: 0.85, text: Broad st.\n",
            "Result 2:\n",
            " type: NUMBER, start: 17, end: 21, score: 0.7, text: Five\n",
            "Result 3:\n",
            " type: NUMBER, start: 22, end: 24, score: 0.7, text: 10\n"
          ]
        }
      ]
    },
    {
      "cell_type": "markdown",
      "source": [
        "## Example 4: Calling an external service for PII detection\n",
        "- In a similar way to example 3, we can write logic to call external services for PII detection. For a detailed example,\n",
        "- https://microsoft.github.io/presidio/analyzer/adding_recognizers/#creating-a-remote-recognizer\n",
        "\n",
        "This is a sample implementation of such remote recognizer.\n",
        "- https://github.com/microsoft/presidio/blob/main/docs/samples/python/example_remote_recognizer.py\n"
      ],
      "metadata": {
        "id": "17p1OXn-lqZI"
      }
    },
    {
      "cell_type": "markdown",
      "source": [
        "## Example 5: Supporting new languages\n",
        "Two main parts in Presidio handle the text, and should be adapted if a new language is required:\n",
        "\n",
        "The NlpEngine containing the NLP model which performs tokenization, lemmatization, Named Entity Recognition and other NLP tasks.\n",
        "The different PII recognizers (EntityRecognizer objects) should be adapted or created."
      ],
      "metadata": {
        "id": "AIT29mMWmwfA"
      }
    },
    {
      "cell_type": "code",
      "source": [
        "from presidio_analyzer.nlp_engine import NlpEngineProvider\n",
        "\n",
        "# import spacy\n",
        "# spacy.cli.download(\"es_core_news_md\")\n",
        "\n",
        "# Create configuration containing engine name and models\n",
        "configuration = {\n",
        "    \"nlp_engine_name\": \"spacy\",\n",
        "    \"models\": [\n",
        "        {\"lang_code\": \"es\", \"model_name\": \"es_core_news_md\"},\n",
        "        {\"lang_code\": \"en\", \"model_name\": \"en_core_web_lg\"},\n",
        "    ],\n",
        "}\n",
        "\n",
        "# Create NLP engine based on configuration\n",
        "provider = NlpEngineProvider(nlp_configuration=configuration)\n",
        "nlp_engine_with_spanish = provider.create_engine()\n",
        "\n",
        "# Pass the created NLP engine and supported_languages to the AnalyzerEngine\n",
        "analyzer = AnalyzerEngine(\n",
        "    nlp_engine=nlp_engine_with_spanish, supported_languages=[\"en\", \"es\"]\n",
        ")\n",
        "\n",
        "# Analyze in different languages\n",
        "results_spanish = analyzer.analyze(text=\"Mi nombre es Morris\", language=\"es\")\n",
        "print(\"Results from Spanish request:\")\n",
        "print(results_spanish)\n",
        "\n",
        "results_english = analyzer.analyze(text=\"My name is Morris\", language=\"en\")\n",
        "print(\"Results from English request:\")\n",
        "print(results_english)"
      ],
      "metadata": {
        "id": "uf64zFxsllLA"
      },
      "execution_count": null,
      "outputs": []
    },
    {
      "cell_type": "markdown",
      "source": [
        "- Results from Spanish request:\n",
        "[type: PERSON, start: 13, end: 19, score: 0.85]\n",
        "- Results from English request:\n",
        "[type: PERSON, start: 11, end: 17, score: 0.85]"
      ],
      "metadata": {
        "id": "jRjwYbRMm7lZ"
      }
    },
    {
      "cell_type": "markdown",
      "source": [
        "## Example 6: Using context words\n",
        "- Presidio has a internal mechanism for leveraging context words. This mechanism would increse the detection confidence of a PII entity in case a specific word appears before or after it.\n",
        "\n",
        "- In this example we would first implement a zip code recognizer without context, and then add context to see how the confidence changes. Zip regex patterns (essentially 5 digits) are very week, so we would want the initial confidence to be low, and increased with the existence of context words."
      ],
      "metadata": {
        "id": "5C7VhyIenFa4"
      }
    },
    {
      "cell_type": "markdown",
      "source": [
        "- In this example we would first implement a zip code recognizer without context, and then add context to see how the confidence changes. Zip regex patterns (essentially 5 digits) are very week, so we would want the initial confidence to be low, and increased with the existence of context words."
      ],
      "metadata": {
        "id": "-4JTEG4znjII"
      }
    },
    {
      "cell_type": "code",
      "source": [
        "# Define the regex pattern\n",
        "regex = r\"(\\b\\d{5}(?:\\-\\d{4})?\\b)\"  # very weak regex pattern\n",
        "zipcode_pattern = Pattern(name=\"zip code (weak)\", regex=regex, score=0.01)\n",
        "\n",
        "# Define the recognizer with the defined pattern\n",
        "zipcode_recognizer = PatternRecognizer(\n",
        "    supported_entity=\"US_ZIP_CODE\", patterns=[zipcode_pattern]\n",
        ")\n",
        "\n",
        "registry = RecognizerRegistry()\n",
        "registry.add_recognizer(zipcode_recognizer)\n",
        "analyzer = AnalyzerEngine(registry=registry)\n",
        "\n",
        "# Test\n",
        "text = \"My zip code is 90210\"\n",
        "results = analyzer.analyze(text=text, language=\"en\")\n",
        "print_analyzer_results(results, text=text)"
      ],
      "metadata": {
        "colab": {
          "base_uri": "https://localhost:8080/"
        },
        "id": "ogmIZ8pFmu5H",
        "outputId": "f0fc7bea-e45e-4c32-c160-76ae4708326b"
      },
      "execution_count": null,
      "outputs": [
        {
          "output_type": "stream",
          "name": "stdout",
          "text": [
            "Result 0:\n",
            " type: US_ZIP_CODE, start: 15, end: 20, score: 0.01, text: 90210\n"
          ]
        }
      ]
    },
    {
      "cell_type": "markdown",
      "source": [
        "> So this is working, but would catch any 5 digit string. This is why we set the score to 0.01. Let's use context words to increase score:"
      ],
      "metadata": {
        "id": "-DfQNWjCnpDh"
      }
    },
    {
      "cell_type": "code",
      "source": [
        "# Define the recognizer with the defined pattern and context words\n",
        "zipcode_recognizer = PatternRecognizer(\n",
        "    supported_entity=\"US_ZIP_CODE\",\n",
        "    patterns=[zipcode_pattern],\n",
        "    context=[\"zip\", \"zipcode\"],\n",
        ")"
      ],
      "metadata": {
        "id": "NssYCJAfnqo9"
      },
      "execution_count": null,
      "outputs": []
    },
    {
      "cell_type": "markdown",
      "source": [
        ">When creating an AnalyzerEngine we can provide our own context enhancement logic by passing it to context_aware_enhancer parameter. AnalyzerEngine will create LemmaContextAwareEnhancer by default if not passed, which will enhance score of each matched result if it's recognizer holds context words and those words are found in context of the matched entity."
      ],
      "metadata": {
        "id": "mqgl-zmgoHCS"
      }
    },
    {
      "cell_type": "code",
      "source": [
        "registry = RecognizerRegistry()\n",
        "registry.add_recognizer(zipcode_recognizer)\n",
        "analyzer = AnalyzerEngine(registry=registry)"
      ],
      "metadata": {
        "id": "FyztZLOVoIOr"
      },
      "execution_count": null,
      "outputs": []
    },
    {
      "cell_type": "code",
      "source": [
        "# Test\n",
        "results = analyzer.analyze(text=\"My zip code is 90210\", language=\"en\")\n",
        "print(\"Result:\")\n",
        "print_analyzer_results(results, text=text)"
      ],
      "metadata": {
        "colab": {
          "base_uri": "https://localhost:8080/"
        },
        "id": "naph_FTEoNBC",
        "outputId": "9e6933c4-861c-4aae-c99e-405fde71525d"
      },
      "execution_count": null,
      "outputs": [
        {
          "output_type": "stream",
          "name": "stdout",
          "text": [
            "Result:\n",
            "Result 0:\n",
            " type: US_ZIP_CODE, start: 15, end: 20, score: 0.4, text: 90210\n"
          ]
        }
      ]
    },
    {
      "cell_type": "markdown",
      "source": [
        "### context_aware_enhancer, context_similarity_factor"
      ],
      "metadata": {
        "id": "4LMkvyiKosgQ"
      }
    },
    {
      "cell_type": "markdown",
      "source": [
        "> The confidence score is now 0.4, instead of 0.01. because LemmaContextAwareEnhancer default context similarity factor is 0.35 and default minimum score with context similarity is 0.4, we can change that by passing context_similarity_factor and min_score_with_context_similarity parameters of LemmaContextAwareEnhancer to other than values, for example:"
      ],
      "metadata": {
        "id": "6ibnNl9IoeyY"
      }
    },
    {
      "cell_type": "code",
      "source": [
        "registry = RecognizerRegistry()\n",
        "registry.add_recognizer(zipcode_recognizer)\n",
        "analyzer = AnalyzerEngine(\n",
        "    registry=registry,\n",
        "    context_aware_enhancer=LemmaContextAwareEnhancer(\n",
        "        context_similarity_factor=0.45, min_score_with_context_similarity=0.4\n",
        "    ),\n",
        ")"
      ],
      "metadata": {
        "id": "XFn9CrnaogzY"
      },
      "execution_count": null,
      "outputs": []
    },
    {
      "cell_type": "code",
      "source": [
        "# Test\n",
        "results = analyzer.analyze(text=\"My zip code is 90210\", language=\"en\")\n",
        "print(\"Result:\")\n",
        "print_analyzer_results(results, text=text)"
      ],
      "metadata": {
        "colab": {
          "base_uri": "https://localhost:8080/"
        },
        "id": "VM0aFSpYolrS",
        "outputId": "fd1d67eb-bd28-4cd1-d96d-89ea9aba66f9"
      },
      "execution_count": null,
      "outputs": [
        {
          "output_type": "stream",
          "name": "stdout",
          "text": [
            "Result:\n",
            "Result 0:\n",
            " type: US_ZIP_CODE, start: 15, end: 20, score: 0.46, text: 90210\n"
          ]
        }
      ]
    },
    {
      "cell_type": "markdown",
      "source": [
        "> Presidio supports passing a list of outer context in analyzer level, this is useful if the text is coming from a specific column or a specific user input etc. notice how the \"zip\" context word doesn't appear in the text but still enhance the confidence score from 0.01 to 0.4:"
      ],
      "metadata": {
        "id": "DFY1ppI-o7Rn"
      }
    },
    {
      "cell_type": "code",
      "source": [
        "# Define the recognizer with the defined pattern and context words\n",
        "zipcode_recognizer = PatternRecognizer(\n",
        "    supported_entity=\"US_ZIP_CODE\",\n",
        "    patterns=[zipcode_pattern],\n",
        "    context=[\"zip\", \"zipcode\"],\n",
        ")\n",
        "\n",
        "registry = RecognizerRegistry()\n",
        "registry.add_recognizer(zipcode_recognizer)\n",
        "analyzer = AnalyzerEngine(registry=registry)\n",
        "\n",
        "# Test\n",
        "text = \"My code is 90210\"\n",
        "result = analyzer.analyze(text=text, language=\"en\", context=[\"zip\"])\n",
        "print(\"Result:\")\n",
        "print_analyzer_results(result, text=text)"
      ],
      "metadata": {
        "colab": {
          "base_uri": "https://localhost:8080/"
        },
        "id": "dZEqFNSGo8SD",
        "outputId": "204ba6d4-b76b-4053-ae74-899b42b6bdf8"
      },
      "execution_count": null,
      "outputs": [
        {
          "output_type": "stream",
          "name": "stdout",
          "text": [
            "Result:\n",
            "Result 0:\n",
            " type: US_ZIP_CODE, start: 11, end: 16, score: 0.4, text: 90210\n"
          ]
        }
      ]
    },
    {
      "cell_type": "markdown",
      "source": [
        "## Example 7: Tracing the decision process\n",
        "\n",
        "- Presidio-analyzer's decision process exposes information on why a specific PII was detected. Such information could contain:\n",
        "\n",
        "  - Which recognizer detected the entity\n",
        "  - Which regex pattern was used\n",
        "  - Interpretability mechanisms in ML models\n",
        "  - Which context words improved the score\n",
        "  - Confidence scores before and after each step And more.\n",
        "For more information, refer to the decision process documentation.\n",
        "\n",
        "Let's use the decision process output to understand how the zip code value was detected:"
      ],
      "metadata": {
        "id": "UPnN3Ml6pBrg"
      }
    },
    {
      "cell_type": "code",
      "source": [
        "results = analyzer.analyze(\n",
        "    text=\"My zip code is 90210\", language=\"en\", return_decision_process=True\n",
        ")\n",
        "decision_process = results[0].analysis_explanation\n",
        "\n",
        "pp = pprint.PrettyPrinter()\n",
        "print(\"Decision process output:\\n\")\n",
        "pp.pprint(decision_process.__dict__)"
      ],
      "metadata": {
        "colab": {
          "base_uri": "https://localhost:8080/"
        },
        "id": "270mseNnpJjB",
        "outputId": "27667885-cc75-49fb-f90a-b90917269011"
      },
      "execution_count": null,
      "outputs": [
        {
          "output_type": "stream",
          "name": "stdout",
          "text": [
            "Decision process output:\n",
            "\n",
            "{'original_score': 0.01,\n",
            " 'pattern': '(\\\\b\\\\d{5}(?:\\\\-\\\\d{4})?\\\\b)',\n",
            " 'pattern_name': 'zip code (weak)',\n",
            " 'recognizer': 'PatternRecognizer',\n",
            " 'regex_flags': regex.I|M|S,\n",
            " 'score': 0.4,\n",
            " 'score_context_improvement': 0.39,\n",
            " 'supportive_context_word': 'zip',\n",
            " 'textual_explanation': 'Detected by `PatternRecognizer` using pattern `zip '\n",
            "                        'code (weak)`',\n",
            " 'validation_result': None}\n"
          ]
        }
      ]
    },
    {
      "cell_type": "markdown",
      "source": [
        "## Example 8: passing a list of words to keep¶\n",
        "- We will use the built in recognizers that include the URLRecognizer and the NLP model EntityRecognizer and see the default functionality if we don't specify any list of words for the detector to allow to keep in the text."
      ],
      "metadata": {
        "id": "JeSeE_IHpWL7"
      }
    },
    {
      "cell_type": "code",
      "source": [
        "websites_list = [\"bing.com\", \"microsoft.com\"]\n",
        "text1 = \"Bill's favorite website is bing.com, David's is microsoft.com\"\n",
        "analyzer = AnalyzerEngine()\n",
        "results = analyzer.analyze(text=text1, language=\"en\", return_decision_process=True)\n",
        "print_analyzer_results(results, text=text1)"
      ],
      "metadata": {
        "colab": {
          "base_uri": "https://localhost:8080/"
        },
        "id": "IA9tV43RpXqy",
        "outputId": "4d487ffc-182f-406d-c795-0e9a2e419230"
      },
      "execution_count": null,
      "outputs": [
        {
          "output_type": "stream",
          "name": "stderr",
          "text": [
            "WARNING:presidio-analyzer:Recognizer not added to registry because language is not supported by registry - CreditCardRecognizer supported languages: es, registry supported languages: en\n",
            "WARNING:presidio-analyzer:Recognizer not added to registry because language is not supported by registry - CreditCardRecognizer supported languages: it, registry supported languages: en\n",
            "WARNING:presidio-analyzer:Recognizer not added to registry because language is not supported by registry - CreditCardRecognizer supported languages: pl, registry supported languages: en\n",
            "WARNING:presidio-analyzer:Recognizer not added to registry because language is not supported by registry - EsNifRecognizer supported languages: es, registry supported languages: en\n",
            "WARNING:presidio-analyzer:Recognizer not added to registry because language is not supported by registry - EsNieRecognizer supported languages: es, registry supported languages: en\n",
            "WARNING:presidio-analyzer:Recognizer not added to registry because language is not supported by registry - ItDriverLicenseRecognizer supported languages: it, registry supported languages: en\n",
            "WARNING:presidio-analyzer:Recognizer not added to registry because language is not supported by registry - ItFiscalCodeRecognizer supported languages: it, registry supported languages: en\n",
            "WARNING:presidio-analyzer:Recognizer not added to registry because language is not supported by registry - ItVatCodeRecognizer supported languages: it, registry supported languages: en\n",
            "WARNING:presidio-analyzer:Recognizer not added to registry because language is not supported by registry - ItIdentityCardRecognizer supported languages: it, registry supported languages: en\n",
            "WARNING:presidio-analyzer:Recognizer not added to registry because language is not supported by registry - ItPassportRecognizer supported languages: it, registry supported languages: en\n",
            "WARNING:presidio-analyzer:Recognizer not added to registry because language is not supported by registry - PlPeselRecognizer supported languages: pl, registry supported languages: en\n"
          ]
        },
        {
          "output_type": "stream",
          "name": "stdout",
          "text": [
            "Result 0:\n",
            " type: PERSON, start: 0, end: 4, score: 0.85, text: Bill\n",
            " Identified as PERSON by Spacy's Named Entity Recognition\n",
            "Result 1:\n",
            " type: URL, start: 27, end: 35, score: 0.85, text: bing.com\n",
            " Detected by `UrlRecognizer` using pattern `Non schema URL`\n",
            "Result 2:\n",
            " type: PERSON, start: 37, end: 42, score: 0.85, text: David\n",
            " Identified as PERSON by Spacy's Named Entity Recognition\n",
            "Result 3:\n",
            " type: URL, start: 48, end: 61, score: 0.85, text: microsoft.com\n",
            " Detected by `UrlRecognizer` using pattern `Non schema URL`\n"
          ]
        }
      ]
    },
    {
      "cell_type": "code",
      "source": [
        "results = analyzer.analyze(\n",
        "    text=text1,\n",
        "    language=\"en\",\n",
        "    allow_list=[\"bing.com\", \"google.com\"],\n",
        "    return_decision_process=True,\n",
        ")\n",
        "print_analyzer_results(results, text=text1)"
      ],
      "metadata": {
        "colab": {
          "base_uri": "https://localhost:8080/"
        },
        "id": "gmaAaU48paQJ",
        "outputId": "4c2d2255-f740-423f-b163-87fad0a34160"
      },
      "execution_count": null,
      "outputs": [
        {
          "output_type": "stream",
          "name": "stdout",
          "text": [
            "Result 0:\n",
            " type: PERSON, start: 0, end: 4, score: 0.85, text: Bill\n",
            " Identified as PERSON by Spacy's Named Entity Recognition\n",
            "Result 1:\n",
            " type: PERSON, start: 37, end: 42, score: 0.85, text: David\n",
            " Identified as PERSON by Spacy's Named Entity Recognition\n",
            "Result 2:\n",
            " type: URL, start: 48, end: 61, score: 0.85, text: microsoft.com\n",
            " Detected by `UrlRecognizer` using pattern `Non schema URL`\n"
          ]
        }
      ]
    },
    {
      "cell_type": "markdown",
      "source": [
        "# Simple Analyzer example\n",
        "- Refer this for more.\n",
        "- https://github.com/microsoft/presidio/tree/main/presidio-anonymizer\n"
      ],
      "metadata": {
        "id": "wV3sfXcoqega"
      }
    },
    {
      "cell_type": "code",
      "source": [
        "# download presidio\n",
        "!pip install presidio_analyzer presidio_anonymizer -q"
      ],
      "metadata": {
        "id": "aoN6bj8Eqm7c"
      },
      "execution_count": null,
      "outputs": []
    },
    {
      "cell_type": "code",
      "source": [
        "from presidio_analyzer import AnalyzerEngine\n",
        "from presidio_anonymizer import AnonymizerEngine"
      ],
      "metadata": {
        "id": "m_JitfFCri07"
      },
      "execution_count": null,
      "outputs": []
    },
    {
      "cell_type": "markdown",
      "source": [
        "##1.Detect sensitive data in text"
      ],
      "metadata": {
        "id": "p6C5CEzgvU_J"
      }
    },
    {
      "cell_type": "code",
      "source": [
        "# Helper method to print results nicely\n",
        "\n",
        "def print_analyzer_results(results: List[RecognizerResult], text: str):\n",
        "    \"\"\"Print the results in a human readable way.\"\"\"\n",
        "\n",
        "    for i, result in enumerate(results):\n",
        "        print(f\"Result {i}:\")\n",
        "        print(f\" {result}, text: {text[result.start:result.end]}\")\n",
        "\n",
        "        if result.analysis_explanation is not None:\n",
        "            print(f\" {result.analysis_explanation.textual_explanation}\")"
      ],
      "metadata": {
        "id": "stM7zinfsyIB"
      },
      "execution_count": null,
      "outputs": []
    },
    {
      "cell_type": "code",
      "source": [
        "text = \"My name is Prabha I born in Singapore, my phone no is 91125393 and email id prababardwaj@gmail.com myy id is 123456\"\n",
        "\n",
        "analyzer = AnalyzerEngine()\n",
        "\n",
        "#Using predefined entities\n",
        "analyzer_result = analyzer.analyze(text=text,  entities=[\"PHONE_NUMBER\", \"PERSON\", \"EMAIL_ADDRESS\", \"LOCATION\"], language=\"en\")\n",
        "print_analyzer_results(analyzer_result, text=text)"
      ],
      "metadata": {
        "colab": {
          "base_uri": "https://localhost:8080/"
        },
        "id": "6e0_kzbGq0nS",
        "outputId": "559e9264-9108-4e4d-dc36-e58782fc2f93"
      },
      "execution_count": null,
      "outputs": [
        {
          "output_type": "stream",
          "name": "stderr",
          "text": [
            "WARNING:presidio-analyzer:Recognizer not added to registry because language is not supported by registry - CreditCardRecognizer supported languages: es, registry supported languages: en\n",
            "WARNING:presidio-analyzer:Recognizer not added to registry because language is not supported by registry - CreditCardRecognizer supported languages: it, registry supported languages: en\n",
            "WARNING:presidio-analyzer:Recognizer not added to registry because language is not supported by registry - CreditCardRecognizer supported languages: pl, registry supported languages: en\n",
            "WARNING:presidio-analyzer:Recognizer not added to registry because language is not supported by registry - EsNifRecognizer supported languages: es, registry supported languages: en\n",
            "WARNING:presidio-analyzer:Recognizer not added to registry because language is not supported by registry - EsNieRecognizer supported languages: es, registry supported languages: en\n",
            "WARNING:presidio-analyzer:Recognizer not added to registry because language is not supported by registry - ItDriverLicenseRecognizer supported languages: it, registry supported languages: en\n",
            "WARNING:presidio-analyzer:Recognizer not added to registry because language is not supported by registry - ItFiscalCodeRecognizer supported languages: it, registry supported languages: en\n",
            "WARNING:presidio-analyzer:Recognizer not added to registry because language is not supported by registry - ItVatCodeRecognizer supported languages: it, registry supported languages: en\n",
            "WARNING:presidio-analyzer:Recognizer not added to registry because language is not supported by registry - ItIdentityCardRecognizer supported languages: it, registry supported languages: en\n",
            "WARNING:presidio-analyzer:Recognizer not added to registry because language is not supported by registry - ItPassportRecognizer supported languages: it, registry supported languages: en\n",
            "WARNING:presidio-analyzer:Recognizer not added to registry because language is not supported by registry - PlPeselRecognizer supported languages: pl, registry supported languages: en\n"
          ]
        },
        {
          "output_type": "stream",
          "name": "stdout",
          "text": [
            "Result 0:\n",
            " type: EMAIL_ADDRESS, start: 76, end: 98, score: 1.0, text: prababardwaj@gmail.com\n",
            "Result 1:\n",
            " type: PERSON, start: 11, end: 17, score: 0.85, text: Prabha\n",
            "Result 2:\n",
            " type: LOCATION, start: 28, end: 37, score: 0.85, text: Singapore\n"
          ]
        }
      ]
    },
    {
      "cell_type": "code",
      "source": [
        "analyzer_result"
      ],
      "metadata": {
        "colab": {
          "base_uri": "https://localhost:8080/"
        },
        "id": "3tI4AuU8snTh",
        "outputId": "588d6c8a-d082-4c44-c3aa-7a4af733ec39"
      },
      "execution_count": null,
      "outputs": [
        {
          "output_type": "execute_result",
          "data": {
            "text/plain": [
              "[type: EMAIL_ADDRESS, start: 76, end: 98, score: 1.0,\n",
              " type: PERSON, start: 11, end: 17, score: 0.85,\n",
              " type: LOCATION, start: 28, end: 37, score: 0.85]"
            ]
          },
          "metadata": {},
          "execution_count": 56
        }
      ]
    },
    {
      "cell_type": "markdown",
      "source": [
        "##2.Add Custom Entity"
      ],
      "metadata": {
        "id": "1HgwpnQ7s61x"
      }
    },
    {
      "cell_type": "code",
      "source": [
        "from presidio_analyzer import (\n",
        "    AnalyzerEngine,\n",
        "    PatternRecognizer,\n",
        "    # EntityRecognizer,\n",
        "    Pattern,\n",
        "    # RecognizerResult,\n",
        ")"
      ],
      "metadata": {
        "id": "1tgRihZ_tW2g"
      },
      "execution_count": null,
      "outputs": []
    },
    {
      "cell_type": "code",
      "source": [
        "id_pattern = Pattern(name=\"id_pattern\", regex=\"\\d{6}\", score=0.5)\n",
        "id_recognizer = PatternRecognizer(supported_entity=\"ID\", patterns=[id_pattern], context=[\"id no\", \"ID number\"])\n",
        "\n",
        "sg_phone_pattern = Pattern(name=\"ph_pattern\", regex=\"\\d{8}\", score=0.5) #\"^[0-9]{8}$\"\n",
        "sg_recognizer = PatternRecognizer(supported_entity=\"SG_PHONE_NUMBER\", patterns=[sg_phone_pattern], context=[\"phone no\", \"phone number\"])\n",
        "\n",
        "#Add custom recognizer to analyzer\n",
        "analyzer.registry.add_recognizer(id_recognizer)\n",
        "analyzer.registry.add_recognizer(sg_recognizer)\n"
      ],
      "metadata": {
        "id": "4ixdYOWetFKI"
      },
      "execution_count": null,
      "outputs": []
    },
    {
      "cell_type": "code",
      "source": [
        "analyzer_result = analyzer.analyze(text = text, entities=[\"PHONE_NUMBER\", \"PERSON\", \"EMAIL_ADDRESS\", \"LOCATION\", \"ID\", \"SG_PHONE_NUMBER\"], language=\"en\")\n",
        "# print(f\"Result:\\n {result}\")\n",
        "\n",
        "# analyzer_result = analyzer.analyze(text=text,  entities=[\"PHONE_NUMBER\", \"PERSON\", \"EMAIL_ADDRESS\", \"LOCATION\"], language=\"en\")\n",
        "print_analyzer_results(analyzer_result, text=text)"
      ],
      "metadata": {
        "colab": {
          "base_uri": "https://localhost:8080/"
        },
        "id": "fNVcVXfUuNL1",
        "outputId": "2d800eff-29ba-4639-fe9c-9c7040bebb9d"
      },
      "execution_count": null,
      "outputs": [
        {
          "output_type": "stream",
          "name": "stdout",
          "text": [
            "Result 0:\n",
            " type: EMAIL_ADDRESS, start: 76, end: 98, score: 1.0, text: prababardwaj@gmail.com\n",
            "Result 1:\n",
            " type: PERSON, start: 11, end: 17, score: 0.85, text: Prabha\n",
            "Result 2:\n",
            " type: LOCATION, start: 28, end: 37, score: 0.85, text: Singapore\n",
            "Result 3:\n",
            " type: SG_PHONE_NUMBER, start: 54, end: 62, score: 0.5, text: 91125393\n",
            "Result 4:\n",
            " type: ID, start: 54, end: 60, score: 0.5, text: 911253\n",
            "Result 5:\n",
            " type: SG_PHONE_NUMBER, start: 109, end: 115, score: 0.5, text: 123456\n",
            "Result 6:\n",
            " type: ID, start: 109, end: 115, score: 0.5, text: 123456\n"
          ]
        }
      ]
    },
    {
      "cell_type": "code",
      "source": [
        "result"
      ],
      "metadata": {
        "colab": {
          "base_uri": "https://localhost:8080/"
        },
        "id": "aQiUwgszute5",
        "outputId": "eb67bc53-26d3-4da9-c18e-52a93159e51c"
      },
      "execution_count": null,
      "outputs": [
        {
          "output_type": "execute_result",
          "data": {
            "text/plain": [
              "[type: EMAIL_ADDRESS, start: 76, end: 98, score: 1.0,\n",
              " type: PERSON, start: 11, end: 17, score: 0.85,\n",
              " type: LOCATION, start: 28, end: 37, score: 0.85,\n",
              " type: SG_PHONE_NUMBER, start: 54, end: 62, score: 0.5,\n",
              " type: ID, start: 54, end: 60, score: 0.5,\n",
              " type: SG_PHONE_NUMBER, start: 109, end: 115, score: 0.5,\n",
              " type: ID, start: 109, end: 115, score: 0.5]"
            ]
          },
          "metadata": {},
          "execution_count": 80
        }
      ]
    },
    {
      "cell_type": "markdown",
      "source": [
        "> Now ID also added as PII"
      ],
      "metadata": {
        "id": "HbGPulYRvKUP"
      }
    },
    {
      "cell_type": "markdown",
      "source": [
        "##3.Anonymize PII Data"
      ],
      "metadata": {
        "id": "QCmJW_RAvhqK"
      }
    },
    {
      "cell_type": "code",
      "source": [
        "anonymizer = AnonymizerEngine()\n",
        "\n",
        "anonymized_result = anonymizer.anonymize(\n",
        "    text = text,\n",
        "    analyzer_results=result\n",
        ")\n",
        "\n",
        "print(f\"text: {anonymized_result}\")"
      ],
      "metadata": {
        "colab": {
          "base_uri": "https://localhost:8080/"
        },
        "id": "zAigEehtvMxd",
        "outputId": "9ed8495a-32ff-4249-b2c4-0aa5539ce8f1"
      },
      "execution_count": null,
      "outputs": [
        {
          "output_type": "stream",
          "name": "stdout",
          "text": [
            "text: text: My name is <PERSON> I born in <LOCATION>, my phone no is <SG_PHONE_NUMBER> and email id <EMAIL_ADDRESS> myy id is <ID>\n",
            "items:\n",
            "[\n",
            "    {'start': 114, 'end': 118, 'entity_type': 'ID', 'text': '<ID>', 'operator': 'replace'},\n",
            "    {'start': 88, 'end': 103, 'entity_type': 'EMAIL_ADDRESS', 'text': '<EMAIL_ADDRESS>', 'operator': 'replace'},\n",
            "    {'start': 57, 'end': 74, 'entity_type': 'SG_PHONE_NUMBER', 'text': '<SG_PHONE_NUMBER>', 'operator': 'replace'},\n",
            "    {'start': 30, 'end': 40, 'entity_type': 'LOCATION', 'text': '<LOCATION>', 'operator': 'replace'},\n",
            "    {'start': 11, 'end': 19, 'entity_type': 'PERSON', 'text': '<PERSON>', 'operator': 'replace'}\n",
            "]\n",
            "\n"
          ]
        }
      ]
    },
    {
      "cell_type": "markdown",
      "source": [
        "##3.Custom Anonymize PII Data\n",
        "- Mask: Replaces the PII with a sequence of a given character.\n",
        "\n",
        "  - Parameters:\n",
        "\n",
        "    - chars_to_mask: The amount of characters out of the PII that should be replaced.\n",
        "    - masking_char: The character to be replaced with.\n",
        "    - from_end: Whether to mask the PII from it's end."
      ],
      "metadata": {
        "id": "t26v7jD-z7lM"
      }
    },
    {
      "cell_type": "code",
      "source": [
        "from presidio_anonymizer.entities import OperatorConfig\n",
        "\n",
        "\n",
        "operator = {\"SG_PHONE_NUMBER\": OperatorConfig(\"mask\", {\"type\":\"mask\",\"masking_char\":\"*\" ,\"chars_to_mask\":9 ,\"from_end\":True})\n",
        "          ,\"DEFAULT\": OperatorConfig(\"replace\",{\"new_value\":\"<ANONYMIZED>\"})\n",
        "           }\n",
        "\n",
        "anonymized_result = anonymizer.anonymize(\n",
        "    text = text,\n",
        "    analyzer_results=analyzer_result,\n",
        "    operators= operator\n",
        ")\n",
        "\n",
        "print(f\"text: {anonymized_result}\")"
      ],
      "metadata": {
        "colab": {
          "base_uri": "https://localhost:8080/"
        },
        "id": "NAG49qtsz9T5",
        "outputId": "27cc86bb-b99c-4473-eff5-051b22ee51a9"
      },
      "execution_count": null,
      "outputs": [
        {
          "output_type": "stream",
          "name": "stdout",
          "text": [
            "text: text: My name is <ANONYMIZED> I born in <ANONYMIZED>, my phone no is ******** and email id <ANONYMIZED> myy id is <ANONYMIZED>\n",
            "items:\n",
            "[\n",
            "    {'start': 108, 'end': 120, 'entity_type': 'ID', 'text': '<ANONYMIZED>', 'operator': 'replace'},\n",
            "    {'start': 85, 'end': 97, 'entity_type': 'EMAIL_ADDRESS', 'text': '<ANONYMIZED>', 'operator': 'replace'},\n",
            "    {'start': 63, 'end': 71, 'entity_type': 'SG_PHONE_NUMBER', 'text': '********', 'operator': 'mask'},\n",
            "    {'start': 34, 'end': 46, 'entity_type': 'LOCATION', 'text': '<ANONYMIZED>', 'operator': 'replace'},\n",
            "    {'start': 11, 'end': 23, 'entity_type': 'PERSON', 'text': '<ANONYMIZED>', 'operator': 'replace'}\n",
            "]\n",
            "\n"
          ]
        }
      ]
    },
    {
      "cell_type": "markdown",
      "source": [
        "##4.Encrpt and Deanonymizer PII data using specific crypto_key\n",
        "\n",
        "- **How to get unque crypto_key??**\n",
        "\n",
        "- Presidio deanonymizer currently contains one operator:\n",
        "\n",
        "- Decrypt: Replace the encrypted text with decrypted text. Uses Advanced Encryption Standard (AES) as the encryption algorithm, also known as Rijndael.\n",
        "Parameters:\n",
        "- key - a cryptographic key used for the encryption. The length of the key needs to be of 128, 192 or 256 bits, in a string format.\n",
        "- Please notice: you can use \"DEFAULT\" as an operator key to define an operator over all entities."
      ],
      "metadata": {
        "id": "QU-TW7-23nCB"
      }
    },
    {
      "cell_type": "code",
      "source": [
        "from presidio_anonymizer import AnonymizerEngine\n",
        "from presidio_anonymizer.entities import RecognizerResult, OperatorConfig\n",
        "\n",
        "# Initialize the engine with logger.\n",
        "engine = AnonymizerEngine()\n",
        "\n",
        "# Invoke the anonymize function with the text,\n",
        "# analyzer results (potentially coming from presidio-analyzer) and\n",
        "# Operators to get the anonymization output:\n",
        "result = engine.anonymize(\n",
        "    text=\"My name is Bond, James Bond\",\n",
        "    analyzer_results=[\n",
        "        RecognizerResult(entity_type=\"PERSON\", start=11, end=15, score=0.8),\n",
        "        RecognizerResult(entity_type=\"PERSON\", start=17, end=27, score=0.8),\n",
        "    ],\n",
        "    operators={\"PERSON\": OperatorConfig(\"replace\", {\"new_value\": \"BIP\"})},\n",
        ")\n",
        "\n",
        "print(result)"
      ],
      "metadata": {
        "colab": {
          "base_uri": "https://localhost:8080/"
        },
        "id": "ovbxbJM83vbL",
        "outputId": "bd95c6e5-3788-4648-8d67-bbe0fe4cb99c"
      },
      "execution_count": null,
      "outputs": [
        {
          "output_type": "stream",
          "name": "stdout",
          "text": [
            "text: My name is BIP, BIP\n",
            "items:\n",
            "[\n",
            "    {'start': 16, 'end': 19, 'entity_type': 'PERSON', 'text': 'BIP', 'operator': 'replace'},\n",
            "    {'start': 11, 'end': 14, 'entity_type': 'PERSON', 'text': 'BIP', 'operator': 'replace'}\n",
            "]\n",
            "\n"
          ]
        }
      ]
    },
    {
      "cell_type": "markdown",
      "source": [
        "### Now encrypt it with encrypt feature"
      ],
      "metadata": {
        "id": "2W0JgUtj5Arq"
      }
    },
    {
      "cell_type": "code",
      "source": [
        "crypto_key = \"WmZq4t7w!z%C&F)J\"\n",
        "\n",
        "engine = AnonymizerEngine()\n",
        "\n",
        "# Invoke the anonymize function with the text,\n",
        "# analyzer results (potentially coming from presidio-analyzer)\n",
        "# and an 'encrypt' operator to get an encrypted anonymization output:\n",
        "anonymize_result = engine.anonymize(\n",
        "    text=\"My name is James Bond\",\n",
        "    analyzer_results=[\n",
        "        RecognizerResult(entity_type=\"PERSON\", start=11, end=21, score=0.8),\n",
        "    ],\n",
        "    operators={\"PERSON\": OperatorConfig(\"encrypt\", {\"key\": crypto_key})},\n",
        ")\n",
        "\n",
        "anonymize_result"
      ],
      "metadata": {
        "colab": {
          "base_uri": "https://localhost:8080/"
        },
        "id": "BozHKNRy5K8d",
        "outputId": "630e9bbe-8a7c-4475-ef00-5c54a334592b"
      },
      "execution_count": null,
      "outputs": [
        {
          "output_type": "execute_result",
          "data": {
            "text/plain": [
              "text: My name is iA0mK67RyJ64E4Hr7F7zfYgriAw4Smk3mZ42HxWN1/s=\n",
              "items:\n",
              "[\n",
              "    {'start': 11, 'end': 55, 'entity_type': 'PERSON', 'text': 'iA0mK67RyJ64E4Hr7F7zfYgriAw4Smk3mZ42HxWN1/s=', 'operator': 'encrypt'}\n",
              "]"
            ]
          },
          "metadata": {},
          "execution_count": 108
        }
      ]
    },
    {
      "cell_type": "markdown",
      "source": [],
      "metadata": {
        "id": "OSVcN7E55Fay"
      }
    },
    {
      "cell_type": "markdown",
      "source": [
        "> This example take the output of the AnonymizerEngine with encrypted PII entities, and decrypt it back to the original text:"
      ],
      "metadata": {
        "id": "TaV0mEmj4HAX"
      }
    },
    {
      "cell_type": "code",
      "source": [
        "from presidio_anonymizer import DeanonymizeEngine\n",
        "from presidio_anonymizer.entities import OperatorResult, OperatorConfig\n",
        "\n",
        "# Initialize the engine with logger.\n",
        "engine = DeanonymizeEngine()\n",
        "\n",
        "# Invoke the deanonymize function with the text, anonymizer results and\n",
        "# Operators to define the deanonymization type.\n",
        "result = engine.deanonymize(\n",
        "    text=\"My name is iA0mK67RyJ64E4Hr7F7zfYgriAw4Smk3mZ42HxWN1/s=\",\n",
        "    entities=[\n",
        "        OperatorResult(start=11, end=55, entity_type=\"PERSON\"),\n",
        "    ],\n",
        "    operators={\"DEFAULT\": OperatorConfig(\"decrypt\", {\"key\": \"WmZq4t7w!z%C&F)J\"})},\n",
        ")\n",
        "\n",
        "print(result)\n"
      ],
      "metadata": {
        "colab": {
          "base_uri": "https://localhost:8080/"
        },
        "id": "u4twED5V4HtC",
        "outputId": "ab5be6fd-a954-453e-9ad3-23802952fc04"
      },
      "execution_count": null,
      "outputs": [
        {
          "output_type": "stream",
          "name": "stdout",
          "text": [
            "text: My name is James Bond\n",
            "items:\n",
            "[\n",
            "    {'start': 11, 'end': 21, 'entity_type': 'PERSON', 'text': 'James Bond', 'operator': 'decrypt'}\n",
            "]\n",
            "\n"
          ]
        }
      ]
    },
    {
      "cell_type": "markdown",
      "source": [
        "### Another Example"
      ],
      "metadata": {
        "id": "_Nv714DT4jhK"
      }
    },
    {
      "cell_type": "code",
      "source": [
        "crypto_key = \"WmZq4t7w!z%C&F)J\"\n",
        "\n",
        "engine = AnonymizerEngine()\n",
        "\n",
        "# Invoke the anonymize function with the text,\n",
        "# analyzer results (potentially coming from presidio-analyzer)\n",
        "# and an 'encrypt' operator to get an encrypted anonymization output:\n",
        "anonymize_result = engine.anonymize(\n",
        "    text=\"My name is PRABHA BHARADWAJ\",\n",
        "    analyzer_results=[\n",
        "        RecognizerResult(entity_type=\"PERSON\", start=11, end=27, score=0.8),\n",
        "    ],\n",
        "    operators={\"PERSON\": OperatorConfig(\"encrypt\", {\"key\": crypto_key})},\n",
        ")\n",
        "\n",
        "anonymize_result"
      ],
      "metadata": {
        "colab": {
          "base_uri": "https://localhost:8080/"
        },
        "id": "1Z-mr51P4mEj",
        "outputId": "1a72a786-2779-4384-d5e3-5c9aeaa1d449"
      },
      "execution_count": null,
      "outputs": [
        {
          "output_type": "execute_result",
          "data": {
            "text/plain": [
              "text: My name is FUZgO8VQHXIO0lcnbAO6Hzt+bSqQCViP/WkoIDLaX5ycPHxVPkrr5VSUW4X6Je3b\n",
              "items:\n",
              "[\n",
              "    {'start': 11, 'end': 75, 'entity_type': 'PERSON', 'text': 'FUZgO8VQHXIO0lcnbAO6Hzt+bSqQCViP/WkoIDLaX5ycPHxVPkrr5VSUW4X6Je3b', 'operator': 'encrypt'}\n",
              "]"
            ]
          },
          "metadata": {},
          "execution_count": 120
        }
      ]
    },
    {
      "cell_type": "code",
      "source": [
        "# Fetch the anonymized text from the result.\n",
        "anonymized_text = anonymize_result.text\n",
        "\n",
        "# Fetch the anonynized entities from the result.\n",
        "anonymized_entities = anonymize_result.items\n",
        "anonymized_text, anonymized_entities"
      ],
      "metadata": {
        "colab": {
          "base_uri": "https://localhost:8080/"
        },
        "id": "1FCB_5Bc7JVq",
        "outputId": "1387062a-b715-4261-9b4a-43768586eb49"
      },
      "execution_count": null,
      "outputs": [
        {
          "output_type": "execute_result",
          "data": {
            "text/plain": [
              "('My name is FUZgO8VQHXIO0lcnbAO6Hzt+bSqQCViP/WkoIDLaX5ycPHxVPkrr5VSUW4X6Je3b',\n",
              " [{'start': 11, 'end': 75, 'entity_type': 'PERSON', 'text': 'FUZgO8VQHXIO0lcnbAO6Hzt+bSqQCViP/WkoIDLaX5ycPHxVPkrr5VSUW4X6Je3b', 'operator': 'encrypt'}])"
            ]
          },
          "metadata": {},
          "execution_count": 123
        }
      ]
    },
    {
      "cell_type": "markdown",
      "source": [
        "#### Presidio Anonymizer: Decrypt"
      ],
      "metadata": {
        "id": "uW28wf9Q75md"
      }
    },
    {
      "cell_type": "code",
      "source": [
        "# Initialize the engine:\n",
        "engine = DeanonymizeEngine()\n",
        "\n",
        "# Invoke the deanonymize function with the text, anonymizer results\n",
        "# and a 'decrypt' operator to get the original text as output.\n",
        "deanonymized_result = engine.deanonymize(\n",
        "    text=anonymized_text,\n",
        "    entities=anonymized_entities,\n",
        "    operators={\"DEFAULT\": OperatorConfig(\"decrypt\", {\"key\": crypto_key})},\n",
        ")\n",
        "\n",
        "deanonymized_result"
      ],
      "metadata": {
        "colab": {
          "base_uri": "https://localhost:8080/"
        },
        "id": "T6Hox6G76U2y",
        "outputId": "8586ddc8-e561-4d11-a38b-756881e951cd"
      },
      "execution_count": null,
      "outputs": [
        {
          "output_type": "execute_result",
          "data": {
            "text/plain": [
              "text: My name is PRABHA BHARADWAJ\n",
              "items:\n",
              "[\n",
              "    {'start': 11, 'end': 27, 'entity_type': 'PERSON', 'text': 'PRABHA BHARADWAJ', 'operator': 'decrypt'}\n",
              "]"
            ]
          },
          "metadata": {},
          "execution_count": 124
        }
      ]
    },
    {
      "cell_type": "markdown",
      "source": [
        "### Alternatively, call the Decrypt operator directly"
      ],
      "metadata": {
        "id": "frC4RZnb8Bhj"
      }
    },
    {
      "cell_type": "code",
      "source": [
        "from presidio_anonymizer.operators import Decrypt\n",
        "\n",
        "# Fetch the encrypted entity value from the previous stage\n",
        "encrypted_entity_value = anonymize_result.items[0].text\n",
        "\n",
        "# Restore the original entity value\n",
        "Decrypt().operate(text=encrypted_entity_value, params={\"key\": crypto_key})"
      ],
      "metadata": {
        "colab": {
          "base_uri": "https://localhost:8080/",
          "height": 35
        },
        "id": "gawdgg-y7IMx",
        "outputId": "87bdbc63-06e6-46a9-dd10-f66d1391d5cc"
      },
      "execution_count": null,
      "outputs": [
        {
          "output_type": "execute_result",
          "data": {
            "text/plain": [
              "'PRABHA BHARADWAJ'"
            ],
            "application/vnd.google.colaboratory.intrinsic+json": {
              "type": "string"
            }
          },
          "metadata": {},
          "execution_count": 125
        }
      ]
    }
  ]
}