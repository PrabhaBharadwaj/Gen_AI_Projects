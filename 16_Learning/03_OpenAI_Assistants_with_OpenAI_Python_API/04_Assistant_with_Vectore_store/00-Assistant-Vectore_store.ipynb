{
 "cells": [
  {
   "cell_type": "markdown",
   "id": "9b61ca09-df53-48a9-ae2b-b80ce5f8eea0",
   "metadata": {
    "id": "9b61ca09-df53-48a9-ae2b-b80ce5f8eea0"
   },
   "source": []
  },
  {
   "cell_type": "markdown",
   "id": "99254f40-5a61-40fd-ac06-9a897f8776c8",
   "metadata": {
    "id": "99254f40-5a61-40fd-ac06-9a897f8776c8"
   },
   "source": [
    "#  Assistants With Vectore store\n",
    "\n",
    "- Executed in colab"
   ]
  },
  {
   "cell_type": "markdown",
   "id": "V1aEiVJui-Qp",
   "metadata": {
    "id": "V1aEiVJui-Qp"
   },
   "source": [
    "# This creates a OpenAI assistant V2"
   ]
  },
  {
   "cell_type": "markdown",
   "id": "db57b771-28d6-4ab5-bc15-de6bba4a2eeb",
   "metadata": {
    "id": "db57b771-28d6-4ab5-bc15-de6bba4a2eeb"
   },
   "source": [
    "## Connect to openai"
   ]
  },
  {
   "cell_type": "code",
   "execution_count": 1,
   "id": "1a6eaf6c-fbe4-4596-bac3-b249f46e8667",
   "metadata": {
    "executionInfo": {
     "elapsed": 11014,
     "status": "ok",
     "timestamp": 1736568444185,
     "user": {
      "displayName": "prabha Melady",
      "userId": "18413778025838058766"
     },
     "user_tz": -480
    },
    "id": "1a6eaf6c-fbe4-4596-bac3-b249f46e8667"
   },
   "outputs": [],
   "source": [
    "from openai import OpenAI\n",
    "import os\n",
    "from google.colab import userdata\n",
    "\n",
    "OPENAI_API_KEY = userdata.get('OPENAI_API_KEY')\n",
    "os.environ['OPENAI_API_KEY'] = OPENAI_API_KEY\n",
    "\n",
    "client = OpenAI()"
   ]
  },
  {
   "cell_type": "code",
   "execution_count": 3,
   "id": "1cbdfe24-513d-420e-8606-6c5ef2c006ba",
   "metadata": {
    "executionInfo": {
     "elapsed": 401,
     "status": "ok",
     "timestamp": 1736568728284,
     "user": {
      "displayName": "prabha Melady",
      "userId": "18413778025838058766"
     },
     "user_tz": -480
    },
    "id": "1cbdfe24-513d-420e-8606-6c5ef2c006ba"
   },
   "outputs": [],
   "source": [
    "description = \"\"\"\n",
    "  You are a `Wonka Milk Chocolate Factory Bot` for `The Code Cruise`, who responds to the\n",
    "  employees efficiently with precise response regarding the company\n",
    "  Wonka Milk Chocolate Factory: Facility Safety Rules.\n",
    "\"\"\""
   ]
  },
  {
   "cell_type": "code",
   "execution_count": 4,
   "id": "RCC9JKpsi2hZ",
   "metadata": {
    "executionInfo": {
     "elapsed": 797,
     "status": "ok",
     "timestamp": 1736568740937,
     "user": {
      "displayName": "prabha Melady",
      "userId": "18413778025838058766"
     },
     "user_tz": -480
    },
    "id": "RCC9JKpsi2hZ"
   },
   "outputs": [],
   "source": [
    "instructions = \"\"\"\n",
    "  Do not engage in any other conversation that isn't related to the policies of `Wonka Milk Chocolate Factory`\n",
    "  or information regarding the company, in case the user is asking questions outside of it then\n",
    "  excuse yourself from the conversation by responding as follows:\n",
    "\n",
    "  'I apologize but as a bot I can only guide you regarding\n",
    "  the policies and company specific information.'\n",
    "\"\"\""
   ]
  },
  {
   "cell_type": "code",
   "execution_count": 5,
   "id": "ncBxTXN4i6iQ",
   "metadata": {
    "executionInfo": {
     "elapsed": 1050,
     "status": "ok",
     "timestamp": 1736568745446,
     "user": {
      "displayName": "prabha Melady",
      "userId": "18413778025838058766"
     },
     "user_tz": -480
    },
    "id": "ncBxTXN4i6iQ"
   },
   "outputs": [],
   "source": [
    "assistant = client.beta.assistants.create(\n",
    "    name=\"The Cruise Assistant\",\n",
    "    description=description,\n",
    "    instructions=instructions,\n",
    "    model=\"gpt-4-turbo\",\n",
    "    tools=[{ \"type\": \"file_search\" }],\n",
    ")"
   ]
  },
  {
   "cell_type": "code",
   "execution_count": 15,
   "id": "kbREanqPk4mh",
   "metadata": {
    "colab": {
     "base_uri": "https://localhost:8080/"
    },
    "executionInfo": {
     "elapsed": 408,
     "status": "ok",
     "timestamp": 1736568967597,
     "user": {
      "displayName": "prabha Melady",
      "userId": "18413778025838058766"
     },
     "user_tz": -480
    },
    "id": "kbREanqPk4mh",
    "outputId": "9048618a-b051-4a18-fd27-849505210697"
   },
   "outputs": [
    {
     "data": {
      "text/plain": [
       "Assistant(id='asst_7JFJkkFFe2QXyxeJcOUPRthm', created_at=1736568744, description='\\n  You are a `Wonka Milk Chocolate Factory Bot` for `The Code Cruise`, who responds to the \\n  employees efficiently with precise response regarding the company \\n  Wonka Milk Chocolate Factory: Facility Safety Rules.\\n', instructions=\"\\n  Do not engage in any other conversation that isn't related to the policies of `Wonka Milk Chocolate Factory` \\n  or information regarding the company, in case the user is asking questions outside of it then \\n  excuse yourself from the conversation by responding as follows:\\n  \\n  'I apologize but as a bot I can only guide you regarding \\n  the policies and company specific information.'\\n\", metadata={}, model='gpt-4-turbo', name='The Cruise Assistant', object='assistant', tools=[FileSearchTool(type='file_search', file_search=FileSearch(max_num_results=None, ranking_options=FileSearchRankingOptions(score_threshold=0.0, ranker='default_2024_08_21')))], response_format='auto', temperature=1.0, tool_resources=ToolResources(code_interpreter=None, file_search=ToolResourcesFileSearch(vector_store_ids=[])), top_p=1.0)"
      ]
     },
     "execution_count": 15,
     "metadata": {},
     "output_type": "execute_result"
    }
   ],
   "source": [
    "assistant"
   ]
  },
  {
   "cell_type": "code",
   "execution_count": 16,
   "id": "hBHUvYyzk09B",
   "metadata": {
    "colab": {
     "base_uri": "https://localhost:8080/",
     "height": 36
    },
    "executionInfo": {
     "elapsed": 425,
     "status": "ok",
     "timestamp": 1736568974529,
     "user": {
      "displayName": "prabha Melady",
      "userId": "18413778025838058766"
     },
     "user_tz": -480
    },
    "id": "hBHUvYyzk09B",
    "outputId": "39ca0403-fb23-40e4-d55a-afb9ad1af94e"
   },
   "outputs": [
    {
     "data": {
      "application/vnd.google.colaboratory.intrinsic+json": {
       "type": "string"
      },
      "text/plain": [
       "'asst_7JFJkkFFe2QXyxeJcOUPRthm'"
      ]
     },
     "execution_count": 16,
     "metadata": {},
     "output_type": "execute_result"
    }
   ],
   "source": [
    "assistant_id = assistant.id\n",
    "assistant_id"
   ]
  },
  {
   "cell_type": "markdown",
   "id": "iM-TKnwejFIw",
   "metadata": {
    "id": "iM-TKnwejFIw"
   },
   "source": [
    "# This helps in running a OpenAI Assistant V2 by connect to vector store\n"
   ]
  },
  {
   "cell_type": "markdown",
   "id": "x2P8lVoukJLQ",
   "metadata": {
    "id": "x2P8lVoukJLQ"
   },
   "source": [
    "## Create Vector Store"
   ]
  },
  {
   "cell_type": "code",
   "execution_count": 6,
   "id": "TCz-7zOtjI1f",
   "metadata": {
    "colab": {
     "base_uri": "https://localhost:8080/"
    },
    "executionInfo": {
     "elapsed": 2275,
     "status": "ok",
     "timestamp": 1736568797080,
     "user": {
      "displayName": "prabha Melady",
      "userId": "18413778025838058766"
     },
     "user_tz": -480
    },
    "id": "TCz-7zOtjI1f",
    "outputId": "86b61379-a31b-4976-a330-9fe9f16d7f28"
   },
   "outputs": [
    {
     "name": "stdout",
     "output_type": "stream",
     "text": [
      "Vector Store Id - vs_iISpzkIJEdvuAppuR41dzQXz\n"
     ]
    }
   ],
   "source": [
    "# Create Vector Store\n",
    "vector_store = client.beta.vector_stores.create(name=\"company_bot\")\n",
    "print(f\"Vector Store Id - {vector_store.id}\")"
   ]
  },
  {
   "cell_type": "code",
   "execution_count": 7,
   "id": "Daozb6izkOvX",
   "metadata": {
    "colab": {
     "base_uri": "https://localhost:8080/"
    },
    "executionInfo": {
     "elapsed": 3,
     "status": "ok",
     "timestamp": 1736568797081,
     "user": {
      "displayName": "prabha Melady",
      "userId": "18413778025838058766"
     },
     "user_tz": -480
    },
    "id": "Daozb6izkOvX",
    "outputId": "4c7e37bb-baaf-4f4e-84fb-783c26335370"
   },
   "outputs": [
    {
     "data": {
      "text/plain": [
       "VectorStore(id='vs_iISpzkIJEdvuAppuR41dzQXz', created_at=1736568795, file_counts=FileCounts(cancelled=0, completed=0, failed=0, in_progress=0, total=0), last_active_at=1736568795, metadata={}, name='company_bot', object='vector_store', status='completed', usage_bytes=0, expires_after=None, expires_at=None)"
      ]
     },
     "execution_count": 7,
     "metadata": {},
     "output_type": "execute_result"
    }
   ],
   "source": [
    "vector_store"
   ]
  },
  {
   "cell_type": "markdown",
   "id": "JJ8nadmKjR2S",
   "metadata": {
    "id": "JJ8nadmKjR2S"
   },
   "source": [
    "## Upload Wonka Milk Chocolate Factory File\n",
    " Uload this file in colab files folder - Wonka Chocolate Facility Rules.pdf"
   ]
  },
  {
   "cell_type": "code",
   "execution_count": 8,
   "id": "qf6DewEWjIZP",
   "metadata": {
    "executionInfo": {
     "elapsed": 517,
     "status": "ok",
     "timestamp": 1736568868748,
     "user": {
      "displayName": "prabha Melady",
      "userId": "18413778025838058766"
     },
     "user_tz": -480
    },
    "id": "qf6DewEWjIZP"
   },
   "outputs": [],
   "source": [
    "# Upload Work From Home Policy File\n",
    "file_paths = [\"Wonka Chocolate Facility Rules.pdf\"]\n",
    "file_streams = [open(path, \"rb\") for path in file_paths]"
   ]
  },
  {
   "cell_type": "code",
   "execution_count": 9,
   "id": "lRf2msNTkhmf",
   "metadata": {
    "colab": {
     "base_uri": "https://localhost:8080/"
    },
    "executionInfo": {
     "elapsed": 431,
     "status": "ok",
     "timestamp": 1736568873446,
     "user": {
      "displayName": "prabha Melady",
      "userId": "18413778025838058766"
     },
     "user_tz": -480
    },
    "id": "lRf2msNTkhmf",
    "outputId": "128f26ca-2773-4b9a-fb07-f9845c187088"
   },
   "outputs": [
    {
     "data": {
      "text/plain": [
       "[<_io.BufferedReader name='Wonka Chocolate Facility Rules.pdf'>]"
      ]
     },
     "execution_count": 9,
     "metadata": {},
     "output_type": "execute_result"
    }
   ],
   "source": [
    "file_streams"
   ]
  },
  {
   "cell_type": "markdown",
   "id": "75sJyD27jTew",
   "metadata": {
    "id": "75sJyD27jTew"
   },
   "source": [
    "## Add Files To Vector Store in batch - file_batches"
   ]
  },
  {
   "cell_type": "code",
   "execution_count": 10,
   "id": "Oe3fhWnZjQsA",
   "metadata": {
    "executionInfo": {
     "elapsed": 4859,
     "status": "ok",
     "timestamp": 1736568892943,
     "user": {
      "displayName": "prabha Melady",
      "userId": "18413778025838058766"
     },
     "user_tz": -480
    },
    "id": "Oe3fhWnZjQsA"
   },
   "outputs": [],
   "source": [
    " # Add Files To Vector Store\n",
    "file_batch = client.beta.vector_stores.file_batches.upload_and_poll(\n",
    "  vector_store_id = vector_store.id,\n",
    "  files = file_streams\n",
    ")"
   ]
  },
  {
   "cell_type": "code",
   "execution_count": 12,
   "id": "sRYzqIB1kph4",
   "metadata": {
    "colab": {
     "base_uri": "https://localhost:8080/"
    },
    "executionInfo": {
     "elapsed": 804,
     "status": "ok",
     "timestamp": 1736568906364,
     "user": {
      "displayName": "prabha Melady",
      "userId": "18413778025838058766"
     },
     "user_tz": -480
    },
    "id": "sRYzqIB1kph4",
    "outputId": "764b091e-22a9-40f5-852a-051c4021b6c7"
   },
   "outputs": [
    {
     "data": {
      "text/plain": [
       "VectorStoreFileBatch(id='vsfb_d29901dfc2ca417e9887de56fbed96ce', created_at=1736568891, file_counts=FileCounts(cancelled=0, completed=1, failed=0, in_progress=0, total=1), object='vector_store.file_batch', status='completed', vector_store_id='vs_iISpzkIJEdvuAppuR41dzQXz')"
      ]
     },
     "execution_count": 12,
     "metadata": {},
     "output_type": "execute_result"
    }
   ],
   "source": [
    "file_batch"
   ]
  },
  {
   "cell_type": "markdown",
   "id": "KoXnykl_jYZY",
   "metadata": {
    "id": "KoXnykl_jYZY"
   },
   "source": [
    "## Check The Status Of Files"
   ]
  },
  {
   "cell_type": "code",
   "execution_count": 11,
   "id": "YNDECCpIjXhn",
   "metadata": {
    "colab": {
     "base_uri": "https://localhost:8080/"
    },
    "executionInfo": {
     "elapsed": 587,
     "status": "ok",
     "timestamp": 1736568894995,
     "user": {
      "displayName": "prabha Melady",
      "userId": "18413778025838058766"
     },
     "user_tz": -480
    },
    "id": "YNDECCpIjXhn",
    "outputId": "490f1d3f-2166-44ef-e51d-770da42b91f6"
   },
   "outputs": [
    {
     "name": "stdout",
     "output_type": "stream",
     "text": [
      "File Status completed\n"
     ]
    }
   ],
   "source": [
    "# Check The Status Of Files\n",
    "print(f\"File Status {file_batch.status}\")"
   ]
  },
  {
   "cell_type": "markdown",
   "id": "yTbWu5QNjbKY",
   "metadata": {
    "id": "yTbWu5QNjbKY"
   },
   "source": [
    "## Update The Assistant With A Vector Store"
   ]
  },
  {
   "cell_type": "code",
   "execution_count": 17,
   "id": "VQPi88XXktqP",
   "metadata": {
    "colab": {
     "base_uri": "https://localhost:8080/",
     "height": 36
    },
    "executionInfo": {
     "elapsed": 810,
     "status": "ok",
     "timestamp": 1736568979674,
     "user": {
      "displayName": "prabha Melady",
      "userId": "18413778025838058766"
     },
     "user_tz": -480
    },
    "id": "VQPi88XXktqP",
    "outputId": "a671ff04-e72d-4340-aaf6-bc5d10f9ed90"
   },
   "outputs": [
    {
     "data": {
      "application/vnd.google.colaboratory.intrinsic+json": {
       "type": "string"
      },
      "text/plain": [
       "'asst_7JFJkkFFe2QXyxeJcOUPRthm'"
      ]
     },
     "execution_count": 17,
     "metadata": {},
     "output_type": "execute_result"
    }
   ],
   "source": [
    "assistant_id"
   ]
  },
  {
   "cell_type": "code",
   "execution_count": 18,
   "id": "X1CqPq5IjZVP",
   "metadata": {
    "colab": {
     "base_uri": "https://localhost:8080/"
    },
    "executionInfo": {
     "elapsed": 851,
     "status": "ok",
     "timestamp": 1736568995091,
     "user": {
      "displayName": "prabha Melady",
      "userId": "18413778025838058766"
     },
     "user_tz": -480
    },
    "id": "X1CqPq5IjZVP",
    "outputId": "2644de7a-cd0d-4481-e063-931638883ca7"
   },
   "outputs": [
    {
     "name": "stdout",
     "output_type": "stream",
     "text": [
      "Assistant Updated with vector store!\n"
     ]
    }
   ],
   "source": [
    "# Update The Assistant With A Vector Store\n",
    "assistant = client.beta.assistants.update(\n",
    "  assistant_id=assistant_id,\n",
    "  tool_resources={\"file_search\": {\"vector_store_ids\": [vector_store.id]}},\n",
    ")\n",
    "print(\"Assistant Updated with vector store!\")"
   ]
  },
  {
   "cell_type": "markdown",
   "id": "AOja6Mc3jgk4",
   "metadata": {
    "id": "AOja6Mc3jgk4"
   },
   "source": [
    "## Create A Thread"
   ]
  },
  {
   "cell_type": "code",
   "execution_count": 19,
   "id": "xFZeUGfHjfxP",
   "metadata": {
    "colab": {
     "base_uri": "https://localhost:8080/"
    },
    "executionInfo": {
     "elapsed": 1249,
     "status": "ok",
     "timestamp": 1736568999926,
     "user": {
      "displayName": "prabha Melady",
      "userId": "18413778025838058766"
     },
     "user_tz": -480
    },
    "id": "xFZeUGfHjfxP",
    "outputId": "e820b835-c57b-4e01-f842-1ceabca46ee4"
   },
   "outputs": [
    {
     "name": "stdout",
     "output_type": "stream",
     "text": [
      "Your thread id is - thread_6E3lsuX2kJ7OQWcXRxSksWHK\n",
      "\n",
      "\n"
     ]
    }
   ],
   "source": [
    "# Create A Thread\n",
    "thread = client.beta.threads.create()\n",
    "print(f\"Your thread id is - {thread.id}\\n\\n\")"
   ]
  },
  {
   "cell_type": "markdown",
   "id": "OAhq5tFejkl_",
   "metadata": {
    "id": "OAhq5tFejkl_"
   },
   "source": [
    "## Run a loop where user can ask questions"
   ]
  },
  {
   "cell_type": "code",
   "execution_count": 21,
   "id": "FieEOfS0jk9X",
   "metadata": {
    "colab": {
     "base_uri": "https://localhost:8080/"
    },
    "executionInfo": {
     "elapsed": 53710,
     "status": "ok",
     "timestamp": 1736569378868,
     "user": {
      "displayName": "prabha Melady",
      "userId": "18413778025838058766"
     },
     "user_tz": -480
    },
    "id": "FieEOfS0jk9X",
    "outputId": "94be3378-e17b-453e-e590-29fc944481dc"
   },
   "outputs": [
    {
     "name": "stdout",
     "output_type": "stream",
     "text": [
      "What's your question?\n",
      "what step follwed in Ingredients Handling:\n",
      "Response: \n",
      "\n",
      "Here are the steps followed in Ingredient Handling at the Wonka Milk Chocolate Factory:\n",
      "\n",
      "1. Personnel are required to wear gloves and respiratory protection to manage dusty or powdered ingredients.\n",
      "2. Employees must adhere to precise measuring and weighing methods to ensure consistency and quality in production.\n",
      "3. There is a heightened attention to allergen control and the potential for cross-contamination, mandating specific preventive practices【6:0†source】.\n",
      "\n",
      "What's your question?\n",
      "what steps for Mixing and Grinding:\n",
      "Response: \n",
      "\n",
      "The steps followed in the Mixing and Grinding process at the Wonka Milk Chocolate Factory are:\n",
      "\n",
      "1. Workers need to maintain a safe distance from mixers and grinders while these machines are operating to ensure safety.\n",
      "2. Only designated tools and utensils should be used for handling molten chocolate.\n",
      "3. Employees must be vigilant about the risks of burns and spills and follow established safety procedures to manage these dangers【10:0†source】.\n",
      "\n",
      "What's your question?\n",
      "exit\n"
     ]
    }
   ],
   "source": [
    "# Run a loop where user can ask questions\n",
    "while True:\n",
    "    text = input(\"What's your question?\\n\") # Its front UI Q\n",
    "\n",
    "    if text==\"exit\": # this is to break loop\n",
    "      break\n",
    "\n",
    "    #Add 1st message/text to thread\n",
    "    message = client.beta.threads.messages.create(\n",
    "        thread_id=thread.id,\n",
    "        role=\"user\",\n",
    "        content=text,\n",
    "    )\n",
    "\n",
    "    #Create run by adding thread id and assistant id\n",
    "    run = client.beta.threads.runs.create_and_poll(\n",
    "        thread_id=thread.id,\n",
    "        assistant_id=assistant.id\n",
    "    )\n",
    "\n",
    "    #In above step it creates run and executes also, now check the message from list, which will have response\n",
    "    messages = list(client.beta.threads.messages.list(thread_id=thread.id, run_id=run.id))\n",
    "    message_content = messages[0].content[0].text\n",
    "    print(\"Response: \\n\")\n",
    "    print(f\"{message_content.value}\\n\")\n"
   ]
  }
 ],
 "metadata": {
  "colab": {
   "provenance": []
  },
  "kernelspec": {
   "display_name": "Python 3 (ipykernel)",
   "language": "python",
   "name": "python3"
  },
  "language_info": {
   "codemirror_mode": {
    "name": "ipython",
    "version": 3
   },
   "file_extension": ".py",
   "mimetype": "text/x-python",
   "name": "python",
   "nbconvert_exporter": "python",
   "pygments_lexer": "ipython3",
   "version": "3.9.12"
  }
 },
 "nbformat": 4,
 "nbformat_minor": 5
}
