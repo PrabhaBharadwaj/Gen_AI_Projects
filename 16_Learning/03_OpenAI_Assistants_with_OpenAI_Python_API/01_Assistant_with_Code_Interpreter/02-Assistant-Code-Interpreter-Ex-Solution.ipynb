{
 "cells": [
  {
   "cell_type": "markdown",
   "id": "9b61ca09-df53-48a9-ae2b-b80ce5f8eea0",
   "metadata": {
    "id": "9b61ca09-df53-48a9-ae2b-b80ce5f8eea0"
   },
   "source": [
    "<center><a href=\"https://www.pieriantraining.com/\" ><img src=\"../PTCenteredPurple.png\" alt=\"Pierian Training Logo\" /></a></center>\n"
   ]
  },
  {
   "cell_type": "markdown",
   "id": "nI8S929a0H3l",
   "metadata": {
    "id": "nI8S929a0H3l"
   },
   "source": [
    "# OpenAI Assistant with Code Interpreter - Exercise\n",
    "\n",
    "\n",
    "- Executed in colab\n",
    "\n",
    "# EXERCISE TASK:\n",
    "\n",
    "**In this exercise, you will create an Assistant that can take in a long text description of a bill at a restuarant and who ordered what and how much items cost, and then split the bill among the party accurately.**\n",
    "\n",
    "----\n",
    "\n",
    "**EXAMPLE INPUT:**\n",
    "\n",
    "    Mary ordered a burger, fries and coke. I ordered just a salad and coke.\n",
    "    A burger is $10, fries are $5, a salad is $8, and cokes are $2 each.\n",
    "    We want to leave an 18% tip. Please split the bill between Mary and me, how much do we each owe?\n",
    "\n",
    "\n",
    "**EXPECTED OUTPUT:**\n",
    "\n",
    "    To split the bill, we need to calculate the total cost of the food and drinks, add the 18% tip, and then divide the total by 2 to get the amount each person owes.\n",
    "\n",
    "    Based on the given prices, Mary ordered a burger ($10), fries ($5), and a coke ($2). So the total cost of her order is $10 + $5 + $2 = $17.\n",
    "\n",
    "    You ordered a salad ($8) and a coke ($2). So the total cost of your order is $8 + $2 = $10.\n",
    "\n",
    "    The total bill for both of you is $17 + $10 = $27.\n",
    "\n",
    "    Now we need to add an 18% tip to the total bill. The tip amount is 18% of $27, which is (18/100) * $27 = $4.86.\n",
    "\n",
    "    Finally, we can split the total bill including the tip between the two of you.\n",
    "\n",
    "\n",
    "    Each person owes $15.93.\n",
    "\n",
    "**Note: We will continue the conversation with this added message input:**\n",
    "\n",
    "    **Do not split the bill evenly. Have each person only pay for what they ordered, but don't forget the tip.**\n",
    "\n",
    "\n",
    "**Then get an output something like:**\n",
    "\n",
    "    To split the bill based on what each person ordered, we can calculate the total cost of Mary's order, the total cost of your order, and then add the 18% tip to the total bill.\n",
    "\n",
    "    Mary's total cost is $17, and your total cost is $10.\n",
    "\n",
    "    The total bill for both of you is $17 + $10 = $27.\n",
    "\n",
    "    Now we need to add an 18% tip to the total bill. The tip amount is 18% of $27, which is (18/100) * $27 = $4.86.\n",
    "\n",
    "    Finally, we can add the tip to the total bill and split it between the two of you based on what each person ordered.\n",
    "\n",
    "\n",
    "    Considering that Mary ordered a burger, fries, and a coke with a total cost of $17, while you ordered a salad and a coke with a total cost of $10, the bill split would be as follows:\n",
    "\n",
    "    Mary owes $20.06, and you owe $11.80.\n",
    "    \n",
    "    \n",
    "**Complete the tasks below to complete the exercise!**\n",
    "\n",
    "---"
   ]
  },
  {
   "cell_type": "markdown",
   "id": "7706bce7-09b9-4127-a485-dfa2cacf4ebb",
   "metadata": {
    "id": "7706bce7-09b9-4127-a485-dfa2cacf4ebb",
    "tags": []
   },
   "source": [
    "# OpenAI Assistant with Code Interpreter - Exercise Solution\n",
    "\n",
    "## TASK:\n",
    "\n",
    "**Create an Assistant that can take in a long text description of a bill at a restuarant and who ordered what and how much items cost, and then split the bill among the party accurately.**\n",
    "\n",
    "\n",
    "**EXAMPLE INPUT:**\n",
    "\n",
    "    Mary ordered a burger, fries and coke. I ordered just a salad and coke.\n",
    "    A burger is $10, fries are $5, a salad is $8, and cokes are $2 each.\n",
    "    We want to leave an 18% tip. Please split the bill between Mary and me, how much do we each owe?\n",
    "\n",
    "\n",
    "**EXPECTED OUTPUT:**\n",
    "\n",
    "    To split the bill, we need to calculate the total cost of the food and drinks, add the 18% tip, and then divide the total by 2 to get the amount each person owes.\n",
    "\n",
    "    Based on the given prices, Mary ordered a burger ($10), fries ($5), and a coke ($2). So the total cost of her order is $10 + $5 + $2 = $17.\n",
    "\n",
    "    You ordered a salad ($8) and a coke ($2). So the total cost of your order is $8 + $2 = $10.\n",
    "\n",
    "    The total bill for both of you is $17 + $10 = $27.\n",
    "\n",
    "    Now we need to add an 18% tip to the total bill. The tip amount is 18% of $27, which is (18/100) * $27 = $4.86.\n",
    "\n",
    "    Finally, we can split the total bill including the tip between the two of you.\n",
    "\n",
    "\n",
    "    Each person owes $15.93.\n",
    "\n",
    "**Note: We will continue the conversation with this added message input:**\n",
    "\n",
    "    **Do not split the bill evenly. Have each person only pay for what they ordered, but don't forget the tip.**\n",
    "\n",
    "\n",
    "**Then get an output something like:**\n",
    "\n",
    "    To split the bill based on what each person ordered, we can calculate the total cost of Mary's order, the total cost of your order, and then add the 18% tip to the total bill.\n",
    "\n",
    "    Mary's total cost is $17, and your total cost is $10.\n",
    "\n",
    "    The total bill for both of you is $17 + $10 = $27.\n",
    "\n",
    "    Now we need to add an 18% tip to the total bill. The tip amount is 18% of $27, which is (18/100) * $27 = $4.86.\n",
    "\n",
    "    Finally, we can add the tip to the total bill and split it between the two of you based on what each person ordered.\n",
    "\n",
    "\n",
    "    Considering that Mary ordered a burger, fries, and a coke with a total cost of $17, while you ordered a salad and a coke with a total cost of $10, the bill split would be as follows:\n",
    "\n",
    "    Mary owes $20.06, and you owe $11.80.\n",
    "    \n",
    "    \n",
    "**Complete the tasks below to complete the exercise!**"
   ]
  },
  {
   "cell_type": "markdown",
   "id": "65634a4d-be3d-4ffd-9709-cc602cfa38e4",
   "metadata": {
    "id": "65634a4d-be3d-4ffd-9709-cc602cfa38e4"
   },
   "source": [
    "##**TASK: Create a client connection to OpenAI**"
   ]
  },
  {
   "cell_type": "code",
   "execution_count": null,
   "id": "2092d969-cbf5-4f0f-b5fc-60aeef6cb63a",
   "metadata": {
    "id": "2092d969-cbf5-4f0f-b5fc-60aeef6cb63a"
   },
   "outputs": [],
   "source": [
    "# CODE HERE"
   ]
  },
  {
   "cell_type": "code",
   "execution_count": 1,
   "id": "d1bd7070-48e5-42e4-8c2a-23afc5ccdcbd",
   "metadata": {
    "executionInfo": {
     "elapsed": 6862,
     "status": "ok",
     "timestamp": 1735952247378,
     "user": {
      "displayName": "prabha Melady",
      "userId": "18413778025838058766"
     },
     "user_tz": -480
    },
    "id": "d1bd7070-48e5-42e4-8c2a-23afc5ccdcbd"
   },
   "outputs": [],
   "source": [
    "from openai import OpenAI\n",
    "import os\n",
    "from google.colab import userdata\n",
    "\n",
    "\n",
    "OPENAI_API_KEY = userdata.get('OPENAI_API_KEY')\n",
    "os.environ['OPENAI_API_KEY'] = OPENAI_API_KEY\n",
    "\n",
    "client = OpenAI()"
   ]
  },
  {
   "cell_type": "markdown",
   "id": "b6c2d572-85e4-4f2a-aa83-77f2da007788",
   "metadata": {
    "id": "b6c2d572-85e4-4f2a-aa83-77f2da007788"
   },
   "source": [
    "##**TASK: Create the assistant. Make sure your instructions are clear!**"
   ]
  },
  {
   "cell_type": "code",
   "execution_count": null,
   "id": "ee8e32aa-d6e5-4780-a77a-5b080f6266b7",
   "metadata": {
    "id": "ee8e32aa-d6e5-4780-a77a-5b080f6266b7"
   },
   "outputs": [],
   "source": [
    "#CODE HERE"
   ]
  },
  {
   "cell_type": "code",
   "execution_count": 2,
   "id": "8c105c74-f96d-4a4a-a4e6-1f9fe56af18c",
   "metadata": {
    "executionInfo": {
     "elapsed": 625,
     "status": "ok",
     "timestamp": 1735952252844,
     "user": {
      "displayName": "prabha Melady",
      "userId": "18413778025838058766"
     },
     "user_tz": -480
    },
    "id": "8c105c74-f96d-4a4a-a4e6-1f9fe56af18c"
   },
   "outputs": [],
   "source": [
    "assistant = client.beta.assistants.create(\n",
    "    name=\"Bill Splitter Bot\",\n",
    "    instructions=\"You use Python code to help calculate the correct way to split a bill.\",\n",
    "    tools=[{\"type\": \"code_interpreter\"}],\n",
    "    model=\"gpt-3.5-turbo\"\n",
    ")"
   ]
  },
  {
   "cell_type": "markdown",
   "id": "926b5c0b-1e0c-42ac-9d0e-9f53017f4894",
   "metadata": {
    "id": "926b5c0b-1e0c-42ac-9d0e-9f53017f4894"
   },
   "source": [
    "## **TASK: Initiate a new thread.**"
   ]
  },
  {
   "cell_type": "code",
   "execution_count": 3,
   "id": "67f9becb-cd9c-40d0-b733-82bb37040051",
   "metadata": {
    "executionInfo": {
     "elapsed": 511,
     "status": "ok",
     "timestamp": 1735952308259,
     "user": {
      "displayName": "prabha Melady",
      "userId": "18413778025838058766"
     },
     "user_tz": -480
    },
    "id": "67f9becb-cd9c-40d0-b733-82bb37040051"
   },
   "outputs": [],
   "source": [
    "thread = client.beta.threads.create()"
   ]
  },
  {
   "cell_type": "markdown",
   "id": "379b6d4a-dc94-4fb3-95b1-4b75b74f6ee5",
   "metadata": {
    "id": "379b6d4a-dc94-4fb3-95b1-4b75b74f6ee5"
   },
   "source": [
    "##**TASK: Add a new user message to the thread. Use the string below as the content:**"
   ]
  },
  {
   "cell_type": "code",
   "execution_count": 4,
   "id": "67c73547-f04c-41ab-96b2-ad2dd67f3fb5",
   "metadata": {
    "executionInfo": {
     "elapsed": 302,
     "status": "ok",
     "timestamp": 1735952315553,
     "user": {
      "displayName": "prabha Melady",
      "userId": "18413778025838058766"
     },
     "user_tz": -480
    },
    "id": "67c73547-f04c-41ab-96b2-ad2dd67f3fb5"
   },
   "outputs": [],
   "source": [
    "content = '''Mary ordered a burger, fries and coke. I ordered just a salad and coke.\n",
    "A burger is $10, fries are $5, a salad is $8, and cokes are $2 each.\n",
    "We want to leave an 18% tip. Please split the bill between Mary and me, how much do we each owe?'''"
   ]
  },
  {
   "cell_type": "code",
   "execution_count": 5,
   "id": "beefad8a-0ff1-4b57-a29d-0ece8a6591ac",
   "metadata": {
    "executionInfo": {
     "elapsed": 569,
     "status": "ok",
     "timestamp": 1735952317120,
     "user": {
      "displayName": "prabha Melady",
      "userId": "18413778025838058766"
     },
     "user_tz": -480
    },
    "id": "beefad8a-0ff1-4b57-a29d-0ece8a6591ac"
   },
   "outputs": [],
   "source": [
    "message = client.beta.threads.messages.create(\n",
    "    thread_id=thread.id,\n",
    "    role=\"user\",\n",
    "    content=content\n",
    ")"
   ]
  },
  {
   "cell_type": "markdown",
   "id": "b232f7c7-2811-41c9-8dd2-c0b076b30809",
   "metadata": {
    "id": "b232f7c7-2811-41c9-8dd2-c0b076b30809"
   },
   "source": [
    "## **TASK: Run the thread using the assistant created earlier.**"
   ]
  },
  {
   "cell_type": "code",
   "execution_count": 6,
   "id": "b0e63771-2969-4a23-88b4-72ef9f0f195b",
   "metadata": {
    "executionInfo": {
     "elapsed": 1824,
     "status": "ok",
     "timestamp": 1735952323886,
     "user": {
      "displayName": "prabha Melady",
      "userId": "18413778025838058766"
     },
     "user_tz": -480
    },
    "id": "b0e63771-2969-4a23-88b4-72ef9f0f195b"
   },
   "outputs": [],
   "source": [
    "run = client.beta.threads.runs.create(\n",
    "  thread_id=thread.id,\n",
    "  assistant_id=assistant.id,\n",
    "  instructions=\"Help itemize and split the bill between party members.\"\n",
    ")"
   ]
  },
  {
   "cell_type": "code",
   "execution_count": 7,
   "id": "81dee325-4cf6-4d95-8e93-b504059fe57b",
   "metadata": {
    "colab": {
     "base_uri": "https://localhost:8080/"
    },
    "executionInfo": {
     "elapsed": 11271,
     "status": "ok",
     "timestamp": 1735952336659,
     "user": {
      "displayName": "prabha Melady",
      "userId": "18413778025838058766"
     },
     "user_tz": -480
    },
    "id": "81dee325-4cf6-4d95-8e93-b504059fe57b",
    "outputId": "51bc0b94-acf3-4fe7-e00d-51e05f217bc9"
   },
   "outputs": [
    {
     "name": "stdout",
     "output_type": "stream",
     "text": [
      "in_progress\n",
      "completed\n"
     ]
    }
   ],
   "source": [
    "import time\n",
    "\n",
    "while run.status != \"completed\":\n",
    "    run = client.beta.threads.runs.retrieve(\n",
    "          thread_id=thread.id,\n",
    "          run_id=run.id\n",
    "        )\n",
    "\n",
    "    print(run.status)\n",
    "\n",
    "    time.sleep(5)"
   ]
  },
  {
   "cell_type": "markdown",
   "id": "a0d9ddfc-201f-42bd-b800-d067cf4feb17",
   "metadata": {
    "id": "a0d9ddfc-201f-42bd-b800-d067cf4feb17"
   },
   "source": [
    "## **TASK: Display the message conversation between the user and the assistant.**"
   ]
  },
  {
   "cell_type": "code",
   "execution_count": 8,
   "id": "7a08763d-16b9-4fb1-bdea-28b5730d83d8",
   "metadata": {
    "executionInfo": {
     "elapsed": 645,
     "status": "ok",
     "timestamp": 1735952340433,
     "user": {
      "displayName": "prabha Melady",
      "userId": "18413778025838058766"
     },
     "user_tz": -480
    },
    "id": "7a08763d-16b9-4fb1-bdea-28b5730d83d8"
   },
   "outputs": [],
   "source": [
    "messages = client.beta.threads.messages.list(\n",
    "    thread_id=thread.id, order=\"asc\",\n",
    ")"
   ]
  },
  {
   "cell_type": "code",
   "execution_count": 9,
   "id": "13494a29-dde5-4610-957f-07e0f2aa01e1",
   "metadata": {
    "executionInfo": {
     "elapsed": 323,
     "status": "ok",
     "timestamp": 1735952528037,
     "user": {
      "displayName": "prabha Melady",
      "userId": "18413778025838058766"
     },
     "user_tz": -480
    },
    "id": "13494a29-dde5-4610-957f-07e0f2aa01e1"
   },
   "outputs": [],
   "source": [
    "def display_thread_messages(messages):\n",
    "    # EXPECTS MESSAGES IN ASC ORDER!\n",
    "    for thread_message in messages.data:\n",
    "        print(thread_message.content[0].text.value)\n",
    "        print('\\n')"
   ]
  },
  {
   "cell_type": "code",
   "execution_count": 10,
   "id": "f84116ee-a546-4fa8-823c-2ff4cc681713",
   "metadata": {
    "colab": {
     "base_uri": "https://localhost:8080/"
    },
    "executionInfo": {
     "elapsed": 314,
     "status": "ok",
     "timestamp": 1735952530539,
     "user": {
      "displayName": "prabha Melady",
      "userId": "18413778025838058766"
     },
     "user_tz": -480
    },
    "id": "f84116ee-a546-4fa8-823c-2ff4cc681713",
    "outputId": "f13bde56-75bf-4771-9c03-1eff6160891a"
   },
   "outputs": [
    {
     "name": "stdout",
     "output_type": "stream",
     "text": [
      "Mary ordered a burger, fries and coke. I ordered just a salad and coke.\n",
      "A burger is $10, fries are $5, a salad is $8, and cokes are $2 each.\n",
      "We want to leave an 18% tip. Please split the bill between Mary and me, how much do we each owe?\n",
      "\n",
      "\n",
      "To calculate the total bill, we need to add up the costs of the items (burger, fries, salad, and cokes) for both Mary and you. Then we will add the 18% tip to the total bill. Finally, we will split the total bill equally between Mary and you to determine how much each person owes.\n",
      "\n",
      "Let's calculate this step by step.\n",
      "\n",
      "\n",
      "The total bill, including an 18% tip, is $31.86. Therefore, Mary and you each owe $15.93.\n",
      "\n",
      "\n"
     ]
    }
   ],
   "source": [
    "display_thread_messages(messages)"
   ]
  },
  {
   "cell_type": "markdown",
   "id": "3872422c-be19-448c-ac05-fb4cbbbe7d22",
   "metadata": {
    "id": "3872422c-be19-448c-ac05-fb4cbbbe7d22"
   },
   "source": [
    "## **TASK: If the Assistant bot split the bill evenly, add a new message asking the bill to be split based on what people ordered. (e.g. Mary should pay more since she ordered more). Then re-run the thread and re-display all the messages.**"
   ]
  },
  {
   "cell_type": "code",
   "execution_count": 11,
   "id": "bcac9c10-968b-464e-b3bf-f644dee40174",
   "metadata": {
    "executionInfo": {
     "elapsed": 832,
     "status": "ok",
     "timestamp": 1735952554793,
     "user": {
      "displayName": "prabha Melady",
      "userId": "18413778025838058766"
     },
     "user_tz": -480
    },
    "id": "bcac9c10-968b-464e-b3bf-f644dee40174"
   },
   "outputs": [],
   "source": [
    "message = client.beta.threads.messages.create(\n",
    "    thread_id=thread.id, role=\"user\",\n",
    "    content=\"Do not split the bill evenly. Have each person only pay for what they ordered, but don't forget the tip.\"\n",
    ")"
   ]
  },
  {
   "cell_type": "markdown",
   "id": "p8K78nP32nlU",
   "metadata": {
    "id": "p8K78nP32nlU"
   },
   "source": [
    "### Is client.beta.threads.runs.create only execute run or it just creates run? I thought it creates run and client.beta.threads.runs.retrieve execute run"
   ]
  },
  {
   "cell_type": "code",
   "execution_count": 12,
   "id": "c17ff032-808e-4d08-b012-7b340f819775",
   "metadata": {
    "executionInfo": {
     "elapsed": 1867,
     "status": "ok",
     "timestamp": 1735952558549,
     "user": {
      "displayName": "prabha Melady",
      "userId": "18413778025838058766"
     },
     "user_tz": -480
    },
    "id": "c17ff032-808e-4d08-b012-7b340f819775"
   },
   "outputs": [],
   "source": [
    "# Execute our run\n",
    "run = client.beta.threads.runs.create(\n",
    "    thread_id=thread.id,\n",
    "    assistant_id=assistant.id,\n",
    ")"
   ]
  },
  {
   "cell_type": "code",
   "execution_count": 20,
   "id": "9af5ff61-637d-486a-892d-81121ce13c02",
   "metadata": {
    "colab": {
     "base_uri": "https://localhost:8080/",
     "height": 36
    },
    "executionInfo": {
     "elapsed": 311,
     "status": "ok",
     "timestamp": 1735952845215,
     "user": {
      "displayName": "prabha Melady",
      "userId": "18413778025838058766"
     },
     "user_tz": -480
    },
    "id": "9af5ff61-637d-486a-892d-81121ce13c02",
    "outputId": "659e530a-2b79-45f9-b90e-c845db3bfe56"
   },
   "outputs": [
    {
     "data": {
      "application/vnd.google.colaboratory.intrinsic+json": {
       "type": "string"
      },
      "text/plain": [
       "'queued'"
      ]
     },
     "execution_count": 20,
     "metadata": {},
     "output_type": "execute_result"
    }
   ],
   "source": [
    "run.status"
   ]
  },
  {
   "cell_type": "code",
   "execution_count": 17,
   "id": "P0d3DwOC16rk",
   "metadata": {
    "colab": {
     "base_uri": "https://localhost:8080/"
    },
    "executionInfo": {
     "elapsed": 324,
     "status": "ok",
     "timestamp": 1735952680328,
     "user": {
      "displayName": "prabha Melady",
      "userId": "18413778025838058766"
     },
     "user_tz": -480
    },
    "id": "P0d3DwOC16rk",
    "outputId": "bc327f87-4899-48e2-bd3e-0b30c1eac42f"
   },
   "outputs": [
    {
     "data": {
      "text/plain": [
       "SyncCursorPage[Message](data=[Message(id='msg_RkeBpOURwXvd0hUCxbhMNws4', assistant_id=None, attachments=[], completed_at=None, content=[TextContentBlock(text=Text(annotations=[], value='Mary ordered a burger, fries and coke. I ordered just a salad and coke.\\nA burger is $10, fries are $5, a salad is $8, and cokes are $2 each.\\nWe want to leave an 18% tip. Please split the bill between Mary and me, how much do we each owe?'), type='text')], created_at=1735952316, incomplete_at=None, incomplete_details=None, metadata={}, object='thread.message', role='user', run_id=None, status=None, thread_id='thread_WbdC9AqIwcG4LZ8rbbtsrMZQ'), Message(id='msg_nZ2wK1Hc3Mb4v3tobQrGSIj7', assistant_id='asst_9FfCWq1dTGaJSm4Lf5L88l2B', attachments=[], completed_at=None, content=[TextContentBlock(text=Text(annotations=[], value=\"To calculate the total bill, we need to add up the costs of the items (burger, fries, salad, and cokes) for both Mary and you. Then we will add the 18% tip to the total bill. Finally, we will split the total bill equally between Mary and you to determine how much each person owes.\\n\\nLet's calculate this step by step.\"), type='text')], created_at=1735952324, incomplete_at=None, incomplete_details=None, metadata={}, object='thread.message', role='assistant', run_id='run_F55y6dzTpIB4zJNIt2XtN111', status=None, thread_id='thread_WbdC9AqIwcG4LZ8rbbtsrMZQ'), Message(id='msg_GJr0Lk7MtPLKPMLYWUCTHK2b', assistant_id='asst_9FfCWq1dTGaJSm4Lf5L88l2B', attachments=[], completed_at=None, content=[TextContentBlock(text=Text(annotations=[], value='The total bill, including an 18% tip, is $31.86. Therefore, Mary and you each owe $15.93.'), type='text')], created_at=1735952327, incomplete_at=None, incomplete_details=None, metadata={}, object='thread.message', role='assistant', run_id='run_F55y6dzTpIB4zJNIt2XtN111', status=None, thread_id='thread_WbdC9AqIwcG4LZ8rbbtsrMZQ'), Message(id='msg_y4sa0qx68PJbYBXQ8iGp552K', assistant_id=None, attachments=[], completed_at=None, content=[TextContentBlock(text=Text(annotations=[], value=\"Do not split the bill evenly. Have each person only pay for what they ordered, but don't forget the tip.\"), type='text')], created_at=1735952554, incomplete_at=None, incomplete_details=None, metadata={}, object='thread.message', role='user', run_id=None, status=None, thread_id='thread_WbdC9AqIwcG4LZ8rbbtsrMZQ'), Message(id='msg_GNizQaSumEHWxxQXbb7TKxe1', assistant_id='asst_9FfCWq1dTGaJSm4Lf5L88l2B', attachments=[], completed_at=None, content=[TextContentBlock(text=Text(annotations=[], value=\"To calculate the amount each person owes based on what they ordered, we need to consider the individual items each person ordered, along with their respective costs. After calculating the total cost for each person, including the 18% tip, we can determine how much each person owes.\\n\\nLet's calculate this.\"), type='text')], created_at=1735952558, incomplete_at=None, incomplete_details=None, metadata={}, object='thread.message', role='assistant', run_id='run_aB8OehmrWVGaSdWVB522CGWf', status=None, thread_id='thread_WbdC9AqIwcG4LZ8rbbtsrMZQ'), Message(id='msg_MisGyqSUNNBRy0s7P0vbPVri', assistant_id='asst_9FfCWq1dTGaJSm4Lf5L88l2B', attachments=[], completed_at=None, content=[TextContentBlock(text=Text(annotations=[], value='When each person pays for what they ordered, along with the 18% tip, the total bill comes to $36.58. \\n- Mary owes $22.42\\n- You owe $14.16'), type='text')], created_at=1735952562, incomplete_at=None, incomplete_details=None, metadata={}, object='thread.message', role='assistant', run_id='run_aB8OehmrWVGaSdWVB522CGWf', status=None, thread_id='thread_WbdC9AqIwcG4LZ8rbbtsrMZQ')], object='list', first_id='msg_RkeBpOURwXvd0hUCxbhMNws4', last_id='msg_MisGyqSUNNBRy0s7P0vbPVri', has_more=False)"
      ]
     },
     "execution_count": 17,
     "metadata": {},
     "output_type": "execute_result"
    }
   ],
   "source": [
    "messages = client.beta.threads.messages.list(\n",
    "    thread_id=thread.id, order=\"asc\",\n",
    ")\n",
    "messages"
   ]
  },
  {
   "cell_type": "code",
   "execution_count": 18,
   "id": "YQ68iBae188V",
   "metadata": {
    "colab": {
     "base_uri": "https://localhost:8080/"
    },
    "executionInfo": {
     "elapsed": 299,
     "status": "ok",
     "timestamp": 1735952703923,
     "user": {
      "displayName": "prabha Melady",
      "userId": "18413778025838058766"
     },
     "user_tz": -480
    },
    "id": "YQ68iBae188V",
    "outputId": "c838db07-d93b-441c-e976-d76afb44a9f9"
   },
   "outputs": [
    {
     "name": "stdout",
     "output_type": "stream",
     "text": [
      "Mary ordered a burger, fries and coke. I ordered just a salad and coke.\n",
      "A burger is $10, fries are $5, a salad is $8, and cokes are $2 each.\n",
      "We want to leave an 18% tip. Please split the bill between Mary and me, how much do we each owe?\n",
      "\n",
      "\n",
      "To calculate the total bill, we need to add up the costs of the items (burger, fries, salad, and cokes) for both Mary and you. Then we will add the 18% tip to the total bill. Finally, we will split the total bill equally between Mary and you to determine how much each person owes.\n",
      "\n",
      "Let's calculate this step by step.\n",
      "\n",
      "\n",
      "The total bill, including an 18% tip, is $31.86. Therefore, Mary and you each owe $15.93.\n",
      "\n",
      "\n",
      "Do not split the bill evenly. Have each person only pay for what they ordered, but don't forget the tip.\n",
      "\n",
      "\n",
      "To calculate the amount each person owes based on what they ordered, we need to consider the individual items each person ordered, along with their respective costs. After calculating the total cost for each person, including the 18% tip, we can determine how much each person owes.\n",
      "\n",
      "Let's calculate this.\n",
      "\n",
      "\n",
      "When each person pays for what they ordered, along with the 18% tip, the total bill comes to $36.58. \n",
      "- Mary owes $22.42\n",
      "- You owe $14.16\n",
      "\n",
      "\n"
     ]
    }
   ],
   "source": [
    "display_thread_messages(messages)"
   ]
  },
  {
   "cell_type": "markdown",
   "id": "yokDZbOr3Dik",
   "metadata": {
    "id": "yokDZbOr3Dik"
   },
   "source": [
    "## Before client.beta.threads.runs.retrieve only its retrived/executed"
   ]
  },
  {
   "cell_type": "code",
   "execution_count": 21,
   "id": "IvTn5qga21KL",
   "metadata": {
    "executionInfo": {
     "elapsed": 596,
     "status": "ok",
     "timestamp": 1735952924088,
     "user": {
      "displayName": "prabha Melady",
      "userId": "18413778025838058766"
     },
     "user_tz": -480
    },
    "id": "IvTn5qga21KL"
   },
   "outputs": [],
   "source": [
    "#Execute Run\n",
    "# run = client.beta.threads.runs.retrieve(\n",
    "#   thread_id=thread.id,\n",
    "#   run_id=run.id\n",
    "# )"
   ]
  },
  {
   "cell_type": "code",
   "execution_count": 22,
   "id": "xC0COCw923WM",
   "metadata": {
    "colab": {
     "base_uri": "https://localhost:8080/",
     "height": 36
    },
    "executionInfo": {
     "elapsed": 292,
     "status": "ok",
     "timestamp": 1735952927433,
     "user": {
      "displayName": "prabha Melady",
      "userId": "18413778025838058766"
     },
     "user_tz": -480
    },
    "id": "xC0COCw923WM",
    "outputId": "486f962c-f378-4585-dfeb-369ad50af427"
   },
   "outputs": [
    {
     "data": {
      "application/vnd.google.colaboratory.intrinsic+json": {
       "type": "string"
      },
      "text/plain": [
       "'completed'"
      ]
     },
     "execution_count": 22,
     "metadata": {},
     "output_type": "execute_result"
    }
   ],
   "source": [
    "# run.status"
   ]
  },
  {
   "cell_type": "code",
   "execution_count": 23,
   "id": "bvJxEq-q25Et",
   "metadata": {
    "colab": {
     "base_uri": "https://localhost:8080/"
    },
    "executionInfo": {
     "elapsed": 935,
     "status": "ok",
     "timestamp": 1735952945419,
     "user": {
      "displayName": "prabha Melady",
      "userId": "18413778025838058766"
     },
     "user_tz": -480
    },
    "id": "bvJxEq-q25Et",
    "outputId": "2be2ab1a-f9ac-440d-8cf8-fbabd82cedaf"
   },
   "outputs": [
    {
     "name": "stdout",
     "output_type": "stream",
     "text": [
      "When each person pays for what they ordered, along with the 18% tip, the total bill comes to $36.58. \n",
      "- Mary owes $22.42\n",
      "- You owe $14.16\n",
      "\n",
      "\n",
      "To calculate the amount each person owes based on what they ordered, we need to consider the individual items each person ordered, along with their respective costs. After calculating the total cost for each person, including the 18% tip, we can determine how much each person owes.\n",
      "\n",
      "Let's calculate this.\n",
      "\n",
      "\n",
      "Do not split the bill evenly. Have each person only pay for what they ordered, but don't forget the tip.\n",
      "\n",
      "\n",
      "The total bill, including an 18% tip, is $31.86. Therefore, Mary and you each owe $15.93.\n",
      "\n",
      "\n",
      "To calculate the total bill, we need to add up the costs of the items (burger, fries, salad, and cokes) for both Mary and you. Then we will add the 18% tip to the total bill. Finally, we will split the total bill equally between Mary and you to determine how much each person owes.\n",
      "\n",
      "Let's calculate this step by step.\n",
      "\n",
      "\n",
      "Mary ordered a burger, fries and coke. I ordered just a salad and coke.\n",
      "A burger is $10, fries are $5, a salad is $8, and cokes are $2 each.\n",
      "We want to leave an 18% tip. Please split the bill between Mary and me, how much do we each owe?\n",
      "\n",
      "\n"
     ]
    }
   ],
   "source": [
    "# messages = client.beta.threads.messages.list(\n",
    "#   thread_id=thread.id\n",
    "# )\n",
    "# display_thread_messages(messages)"
   ]
  },
  {
   "cell_type": "markdown",
   "id": "15e43433-cb43-48da-9118-8e5b55ce9528",
   "metadata": {
    "id": "15e43433-cb43-48da-9118-8e5b55ce9528"
   },
   "source": [
    "**TASK: Delete your assistant.**"
   ]
  },
  {
   "cell_type": "code",
   "execution_count": null,
   "id": "5d75f9b2-786c-404b-aa0b-e32ef34ef439",
   "metadata": {
    "id": "5d75f9b2-786c-404b-aa0b-e32ef34ef439"
   },
   "outputs": [],
   "source": [
    "# CODE HERE"
   ]
  },
  {
   "cell_type": "code",
   "execution_count": 24,
   "id": "3ec344fa-4709-4830-96de-5db9873fb70f",
   "metadata": {
    "colab": {
     "base_uri": "https://localhost:8080/"
    },
    "executionInfo": {
     "elapsed": 809,
     "status": "ok",
     "timestamp": 1735953005316,
     "user": {
      "displayName": "prabha Melady",
      "userId": "18413778025838058766"
     },
     "user_tz": -480
    },
    "id": "3ec344fa-4709-4830-96de-5db9873fb70f",
    "outputId": "d04e81b9-aba2-4fe3-afa8-2e1a8ea10f50"
   },
   "outputs": [
    {
     "name": "stdout",
     "output_type": "stream",
     "text": [
      "[Assistant(id='asst_9FfCWq1dTGaJSm4Lf5L88l2B', created_at=1735952252, description=None, instructions='You use Python code to help calculate the correct way to split a bill.', metadata={}, model='gpt-3.5-turbo', name='Bill Splitter Bot', object='assistant', tools=[CodeInterpreterTool(type='code_interpreter')], response_format='auto', temperature=1.0, tool_resources=ToolResources(code_interpreter=ToolResourcesCodeInterpreter(file_ids=[]), file_search=None), top_p=1.0), Assistant(id='asst_QRRT3wpFSVyX0noIyIrI94ve', created_at=1735951712, description=None, instructions='You use Python code to help answer questions about mortgage and interest payments.', metadata={}, model='gpt-3.5-turbo', name='Mortgage Bot', object='assistant', tools=[CodeInterpreterTool(type='code_interpreter')], response_format='auto', temperature=1.0, tool_resources=ToolResources(code_interpreter=ToolResourcesCodeInterpreter(file_ids=[]), file_search=None), top_p=1.0)]\n"
     ]
    }
   ],
   "source": [
    "my_assistants = client.beta.assistants.list(\n",
    "    order=\"desc\",\n",
    "    limit=\"20\",\n",
    ")\n",
    "print(my_assistants.data)"
   ]
  },
  {
   "cell_type": "code",
   "execution_count": 25,
   "id": "eda934fd-6547-4163-848b-146a069862bd",
   "metadata": {
    "colab": {
     "base_uri": "https://localhost:8080/"
    },
    "executionInfo": {
     "elapsed": 1120,
     "status": "ok",
     "timestamp": 1735953009521,
     "user": {
      "displayName": "prabha Melady",
      "userId": "18413778025838058766"
     },
     "user_tz": -480
    },
    "id": "eda934fd-6547-4163-848b-146a069862bd",
    "outputId": "fea9cc47-1e1f-474e-e488-7e236b87d517"
   },
   "outputs": [
    {
     "name": "stdout",
     "output_type": "stream",
     "text": [
      "AssistantDeleted(id='asst_9FfCWq1dTGaJSm4Lf5L88l2B', deleted=True, object='assistant.deleted')\n"
     ]
    }
   ],
   "source": [
    "response = client.beta.assistants.delete(my_assistants.data[0].id)\n",
    "print(response)"
   ]
  },
  {
   "cell_type": "markdown",
   "id": "ad682988-5fcf-48dc-9e9c-6bd08622cac9",
   "metadata": {
    "id": "ad682988-5fcf-48dc-9e9c-6bd08622cac9"
   },
   "source": [
    "---"
   ]
  }
 ],
 "metadata": {
  "colab": {
   "provenance": [],
   "toc_visible": true
  },
  "kernelspec": {
   "display_name": "Python 3 (ipykernel)",
   "language": "python",
   "name": "python3"
  },
  "language_info": {
   "codemirror_mode": {
    "name": "ipython",
    "version": 3
   },
   "file_extension": ".py",
   "mimetype": "text/x-python",
   "name": "python",
   "nbconvert_exporter": "python",
   "pygments_lexer": "ipython3",
   "version": "3.9.12"
  }
 },
 "nbformat": 4,
 "nbformat_minor": 5
}
