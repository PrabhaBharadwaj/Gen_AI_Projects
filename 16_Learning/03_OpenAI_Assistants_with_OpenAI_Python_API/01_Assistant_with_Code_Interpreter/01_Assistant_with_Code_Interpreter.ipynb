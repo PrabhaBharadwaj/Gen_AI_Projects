{
 "cells": [
  {
   "cell_type": "markdown",
   "id": "9b61ca09-df53-48a9-ae2b-b80ce5f8eea0",
   "metadata": {
    "id": "9b61ca09-df53-48a9-ae2b-b80ce5f8eea0"
   },
   "source": [
    "<center><a href=\"https://www.pieriantraining.com/\" ><img src=\"../PTCenteredPurple.png\" alt=\"Pierian Training Logo\" /></a></center>\n"
   ]
  },
  {
   "cell_type": "markdown",
   "id": "7706bce7-09b9-4127-a485-dfa2cacf4ebb",
   "metadata": {
    "id": "7706bce7-09b9-4127-a485-dfa2cacf4ebb"
   },
   "source": [
    "## OpenAI Assistant with Code Interpreter\n",
    "\n",
    "- Executed in colab\n",
    "\n",
    "Let's work through another example of creating an assistant with the code-interpreter tool!"
   ]
  },
  {
   "cell_type": "code",
   "execution_count": 1,
   "id": "d1bd7070-48e5-42e4-8c2a-23afc5ccdcbd",
   "metadata": {
    "executionInfo": {
     "elapsed": 6288,
     "status": "ok",
     "timestamp": 1735951712835,
     "user": {
      "displayName": "prabha Melady",
      "userId": "18413778025838058766"
     },
     "user_tz": -480
    },
    "id": "d1bd7070-48e5-42e4-8c2a-23afc5ccdcbd"
   },
   "outputs": [],
   "source": [
    "from openai import OpenAI\n",
    "import os\n",
    "from google.colab import userdata\n",
    "\n",
    "\n",
    "OPENAI_API_KEY = userdata.get('OPENAI_API_KEY')\n",
    "os.environ['OPENAI_API_KEY'] = OPENAI_API_KEY\n",
    "\n",
    "client = OpenAI()"
   ]
  },
  {
   "cell_type": "markdown",
   "id": "881696c9-ccdb-4f68-ad7e-7b3d8a6754d0",
   "metadata": {
    "id": "881696c9-ccdb-4f68-ad7e-7b3d8a6754d0"
   },
   "source": [
    "### STEP 1: ASSISTANT CREATION"
   ]
  },
  {
   "cell_type": "code",
   "execution_count": 3,
   "id": "60f0f6aa-cbd4-4360-b45a-d1af02d1b8f5",
   "metadata": {
    "executionInfo": {
     "elapsed": 801,
     "status": "ok",
     "timestamp": 1735951749252,
     "user": {
      "displayName": "prabha Melady",
      "userId": "18413778025838058766"
     },
     "user_tz": -480
    },
    "id": "60f0f6aa-cbd4-4360-b45a-d1af02d1b8f5"
   },
   "outputs": [],
   "source": [
    "assistant = client.beta.assistants.create(\n",
    "    name=\"Mortgage Bot\",\n",
    "    instructions=\"You use Python code to help answer questions about mortgage and interest payments.\",\n",
    "    tools=[{\"type\": \"code_interpreter\"}],\n",
    "    model=\"gpt-3.5-turbo\"\n",
    ")"
   ]
  },
  {
   "cell_type": "markdown",
   "id": "b2f0ec2d-7c3e-4afa-9aa9-05688f7eb16f",
   "metadata": {
    "id": "b2f0ec2d-7c3e-4afa-9aa9-05688f7eb16f"
   },
   "source": [
    "### STEP 2: THREAD CREATION"
   ]
  },
  {
   "cell_type": "code",
   "execution_count": 4,
   "id": "eda0f447-01ec-4b66-9121-49ce287cbcbb",
   "metadata": {
    "executionInfo": {
     "elapsed": 954,
     "status": "ok",
     "timestamp": 1735951752067,
     "user": {
      "displayName": "prabha Melady",
      "userId": "18413778025838058766"
     },
     "user_tz": -480
    },
    "id": "eda0f447-01ec-4b66-9121-49ce287cbcbb"
   },
   "outputs": [],
   "source": [
    "thread = client.beta.threads.create()"
   ]
  },
  {
   "cell_type": "markdown",
   "id": "38febadc-8c3d-43e7-b72a-1f2ac9977e3e",
   "metadata": {
    "id": "38febadc-8c3d-43e7-b72a-1f2ac9977e3e"
   },
   "source": [
    "### STEP 3: ADD MESSAGE TO THREAD"
   ]
  },
  {
   "cell_type": "code",
   "execution_count": 5,
   "id": "27c35f2b-3603-4b4b-8475-015d37035565",
   "metadata": {
    "executionInfo": {
     "elapsed": 1115,
     "status": "ok",
     "timestamp": 1735951754876,
     "user": {
      "displayName": "prabha Melady",
      "userId": "18413778025838058766"
     },
     "user_tz": -480
    },
    "id": "27c35f2b-3603-4b4b-8475-015d37035565"
   },
   "outputs": [],
   "source": [
    "message = client.beta.threads.messages.create(\n",
    "    thread_id=thread.id,\n",
    "    role=\"user\",\n",
    "    content=\"I want to buy a house that costs $2.1 Milion on a 30-yr fixed loan at 7.8% interest. What will my monthly payments be?\"\n",
    ")"
   ]
  },
  {
   "cell_type": "markdown",
   "id": "4abf4cc9-7eb9-4877-8d80-c2ba424e8d36",
   "metadata": {
    "id": "4abf4cc9-7eb9-4877-8d80-c2ba424e8d36"
   },
   "source": [
    "### STEP 4: RUN THREAD WITH ASSISTANT"
   ]
  },
  {
   "cell_type": "code",
   "execution_count": 10,
   "id": "4a7a1724-83b1-439e-86f2-7914e73b8b33",
   "metadata": {
    "executionInfo": {
     "elapsed": 1889,
     "status": "ok",
     "timestamp": 1735951811907,
     "user": {
      "displayName": "prabha Melady",
      "userId": "18413778025838058766"
     },
     "user_tz": -480
    },
    "id": "4a7a1724-83b1-439e-86f2-7914e73b8b33"
   },
   "outputs": [],
   "source": [
    "run = client.beta.threads.runs.create(\n",
    "  thread_id=thread.id,\n",
    "  assistant_id=assistant.id,\n",
    "  instructions=\"Give detailed analysis and considerations for the user question.\"\n",
    ")"
   ]
  },
  {
   "cell_type": "code",
   "execution_count": 11,
   "id": "yfssGhEaye88",
   "metadata": {
    "colab": {
     "base_uri": "https://localhost:8080/",
     "height": 36
    },
    "executionInfo": {
     "elapsed": 4,
     "status": "ok",
     "timestamp": 1735951811908,
     "user": {
      "displayName": "prabha Melady",
      "userId": "18413778025838058766"
     },
     "user_tz": -480
    },
    "id": "yfssGhEaye88",
    "outputId": "f0bf2fc2-cd46-49e0-a029-2b2ab4aac912"
   },
   "outputs": [
    {
     "data": {
      "application/vnd.google.colaboratory.intrinsic+json": {
       "type": "string"
      },
      "text/plain": [
       "'queued'"
      ]
     },
     "execution_count": 11,
     "metadata": {},
     "output_type": "execute_result"
    }
   ],
   "source": [
    "run.status"
   ]
  },
  {
   "cell_type": "code",
   "execution_count": 12,
   "id": "bbc775d6-6579-4313-909c-bd19f88aaa90",
   "metadata": {
    "colab": {
     "base_uri": "https://localhost:8080/"
    },
    "executionInfo": {
     "elapsed": 1821,
     "status": "ok",
     "timestamp": 1735951816195,
     "user": {
      "displayName": "prabha Melady",
      "userId": "18413778025838058766"
     },
     "user_tz": -480
    },
    "id": "bbc775d6-6579-4313-909c-bd19f88aaa90",
    "outputId": "b8052d8b-71c4-4165-eab1-fc1f36a2fcef"
   },
   "outputs": [
    {
     "name": "stdout",
     "output_type": "stream",
     "text": [
      "completed\n"
     ]
    }
   ],
   "source": [
    "import time\n",
    "\n",
    "while run.status != \"completed\":\n",
    "    run = client.beta.threads.runs.retrieve(\n",
    "          thread_id=thread.id,\n",
    "          run_id=run.id\n",
    "        )\n",
    "\n",
    "    print(run.status)\n",
    "\n",
    "    time.sleep(1)"
   ]
  },
  {
   "cell_type": "code",
   "execution_count": null,
   "id": "OAWQcQ8uyqdU",
   "metadata": {
    "id": "OAWQcQ8uyqdU"
   },
   "outputs": [],
   "source": [
    "# It shows different status like, queued, In progress, Completed"
   ]
  },
  {
   "cell_type": "markdown",
   "id": "ee5c32ac-c459-4012-ac7f-6ffc5f68f83d",
   "metadata": {
    "id": "ee5c32ac-c459-4012-ac7f-6ffc5f68f83d"
   },
   "source": [
    "### STEP 5: DISPLAY RESPONSE"
   ]
  },
  {
   "cell_type": "code",
   "execution_count": 13,
   "id": "53a62972-68c7-4d56-b80d-4318532f08cc",
   "metadata": {
    "colab": {
     "base_uri": "https://localhost:8080/"
    },
    "executionInfo": {
     "elapsed": 951,
     "status": "ok",
     "timestamp": 1735951865574,
     "user": {
      "displayName": "prabha Melady",
      "userId": "18413778025838058766"
     },
     "user_tz": -480
    },
    "id": "53a62972-68c7-4d56-b80d-4318532f08cc",
    "outputId": "b7e8e885-e3f2-4bb9-df0e-3b9cab99d2ad"
   },
   "outputs": [
    {
     "data": {
      "text/plain": [
       "SyncCursorPage[Message](data=[Message(id='msg_8JVzXakIWeEFUK1EyD28veB6', assistant_id='asst_rvcP3MupeSdKqeLB80IPGX41', attachments=[], completed_at=None, content=[TextContentBlock(text=Text(annotations=[], value='Please note that this is an estimate and the actual monthly payment may vary slightly depending on the exact terms of the loan and any additional fees or taxes.'), type='text')], created_at=1735951812, incomplete_at=None, incomplete_details=None, metadata={}, object='thread.message', role='assistant', run_id='run_hWgnswbrDcamlr5S3Jzwk8yD', status=None, thread_id='thread_4HfR4M8nT3gKGgov6KQ3bXFr'), Message(id='msg_hIHLa8I4jKnhui38PGzYNX3r', assistant_id='asst_rvcP3MupeSdKqeLB80IPGX41', attachments=[], completed_at=None, content=[TextContentBlock(text=Text(annotations=[], value='The monthly mortgage payment for a $2.1 million house on a 30-year fixed loan at 7.8% interest would be approximately $15,117.28.\\n\\nTherefore, if you take out a 30-year fixed loan at 7.8% interest to buy a $2.1 million house, you can expect to pay around $15,117.28 per month towards your mortgage.'), type='text')], created_at=1735951764, incomplete_at=None, incomplete_details=None, metadata={}, object='thread.message', role='assistant', run_id='run_hpDY5N0fMNCEFLf75KF6foKo', status=None, thread_id='thread_4HfR4M8nT3gKGgov6KQ3bXFr'), Message(id='msg_xfp6PdgFRUrFaXnkzQDSKj2a', assistant_id='asst_rvcP3MupeSdKqeLB80IPGX41', attachments=[], completed_at=None, content=[TextContentBlock(text=Text(annotations=[], value=\"To calculate the monthly mortgage payments for a $2.1 million house on a 30-year fixed loan at 7.8% interest, we can use the formula for calculating the monthly payment on a fixed-rate mortgage.\\n\\nThe formula is:\\n\\n\\\\[ M = P \\\\times \\\\frac{r(1+r)^n}{(1+r)^n - 1} \\\\]\\n\\nwhere:\\n- \\\\( M \\\\) is the monthly payment\\n- \\\\( P \\\\) is the principal loan amount (the cost of the house)\\n- \\\\( r \\\\) is the monthly interest rate (annual interest rate divided by 12 months)\\n- \\\\( n \\\\) is the total number of payments (loan term in years multiplied by 12 months)\\n\\nGiven:\\n- Principal amount (\\\\( P \\\\)): $2.1 million\\n- Annual interest rate: 7.8%\\n- Loan term: 30 years\\n\\nWe first need to calculate the monthly interest rate (\\\\( r \\\\)) by dividing the annual interest rate by 12. Then we can calculate the monthly payment using the formula mentioned above. Let's calculate that.\"), type='text')], created_at=1735951759, incomplete_at=None, incomplete_details=None, metadata={}, object='thread.message', role='assistant', run_id='run_hpDY5N0fMNCEFLf75KF6foKo', status=None, thread_id='thread_4HfR4M8nT3gKGgov6KQ3bXFr'), Message(id='msg_gGIfqLMBYQJrfzS2IAwcdV1Z', assistant_id=None, attachments=[], completed_at=None, content=[TextContentBlock(text=Text(annotations=[], value='I want to buy a house that costs $2.1 Milion on a 30-yr fixed loan at 7.8% interest. What will my monthly payments be?'), type='text')], created_at=1735951754, incomplete_at=None, incomplete_details=None, metadata={}, object='thread.message', role='user', run_id=None, status=None, thread_id='thread_4HfR4M8nT3gKGgov6KQ3bXFr')], object='list', first_id='msg_8JVzXakIWeEFUK1EyD28veB6', last_id='msg_gGIfqLMBYQJrfzS2IAwcdV1Z', has_more=False)"
      ]
     },
     "execution_count": 13,
     "metadata": {},
     "output_type": "execute_result"
    }
   ],
   "source": [
    "messages = client.beta.threads.messages.list(\n",
    "  thread_id=thread.id\n",
    ")\n",
    "messages"
   ]
  },
  {
   "cell_type": "code",
   "execution_count": 14,
   "id": "5d2a74a0-f360-474e-aa27-cf2c012db403",
   "metadata": {
    "colab": {
     "base_uri": "https://localhost:8080/"
    },
    "executionInfo": {
     "elapsed": 536,
     "status": "ok",
     "timestamp": 1735951873081,
     "user": {
      "displayName": "prabha Melady",
      "userId": "18413778025838058766"
     },
     "user_tz": -480
    },
    "id": "5d2a74a0-f360-474e-aa27-cf2c012db403",
    "outputId": "eb0f0146-0364-4650-d1fc-7b97a7b1f53a"
   },
   "outputs": [
    {
     "name": "stdout",
     "output_type": "stream",
     "text": [
      "I want to buy a house that costs $2.1 Milion on a 30-yr fixed loan at 7.8% interest. What will my monthly payments be?\n",
      "\n",
      "\n",
      "To calculate the monthly mortgage payments for a $2.1 million house on a 30-year fixed loan at 7.8% interest, we can use the formula for calculating the monthly payment on a fixed-rate mortgage.\n",
      "\n",
      "The formula is:\n",
      "\n",
      "\\[ M = P \\times \\frac{r(1+r)^n}{(1+r)^n - 1} \\]\n",
      "\n",
      "where:\n",
      "- \\( M \\) is the monthly payment\n",
      "- \\( P \\) is the principal loan amount (the cost of the house)\n",
      "- \\( r \\) is the monthly interest rate (annual interest rate divided by 12 months)\n",
      "- \\( n \\) is the total number of payments (loan term in years multiplied by 12 months)\n",
      "\n",
      "Given:\n",
      "- Principal amount (\\( P \\)): $2.1 million\n",
      "- Annual interest rate: 7.8%\n",
      "- Loan term: 30 years\n",
      "\n",
      "We first need to calculate the monthly interest rate (\\( r \\)) by dividing the annual interest rate by 12. Then we can calculate the monthly payment using the formula mentioned above. Let's calculate that.\n",
      "\n",
      "\n",
      "The monthly mortgage payment for a $2.1 million house on a 30-year fixed loan at 7.8% interest would be approximately $15,117.28.\n",
      "\n",
      "Therefore, if you take out a 30-year fixed loan at 7.8% interest to buy a $2.1 million house, you can expect to pay around $15,117.28 per month towards your mortgage.\n",
      "\n",
      "\n",
      "Please note that this is an estimate and the actual monthly payment may vary slightly depending on the exact terms of the loan and any additional fees or taxes.\n",
      "\n",
      "\n"
     ]
    }
   ],
   "source": [
    "for thread_message in messages.data[::-1]:\n",
    "    print(thread_message.content[0].text.value)\n",
    "    print('\\n')"
   ]
  },
  {
   "cell_type": "code",
   "execution_count": 15,
   "id": "0dc471d9-d0b8-4c12-a5b8-31dab254211e",
   "metadata": {
    "executionInfo": {
     "elapsed": 1,
     "status": "ok",
     "timestamp": 1735951883809,
     "user": {
      "displayName": "prabha Melady",
      "userId": "18413778025838058766"
     },
     "user_tz": -480
    },
    "id": "0dc471d9-d0b8-4c12-a5b8-31dab254211e"
   },
   "outputs": [],
   "source": [
    "def display_thread_messages(messages):\n",
    "    # EXPECTS MESSAGES IN ASC ORDER!\n",
    "    for thread_message in messages.data:\n",
    "        print(thread_message.content[0].text.value)\n",
    "        print('\\n')"
   ]
  },
  {
   "cell_type": "markdown",
   "id": "c0d3c2e7-51da-487e-a776-449f2f2a9640",
   "metadata": {
    "id": "c0d3c2e7-51da-487e-a776-449f2f2a9640"
   },
   "source": [
    "### STEP 6: CONTINUE CONVERSATION"
   ]
  },
  {
   "cell_type": "code",
   "execution_count": 16,
   "id": "9316de21-1e14-4e20-a070-5a3a3142c984",
   "metadata": {
    "executionInfo": {
     "elapsed": 351,
     "status": "ok",
     "timestamp": 1735951902806,
     "user": {
      "displayName": "prabha Melady",
      "userId": "18413778025838058766"
     },
     "user_tz": -480
    },
    "id": "9316de21-1e14-4e20-a070-5a3a3142c984"
   },
   "outputs": [],
   "source": [
    "def wait_on_run(run, thread):\n",
    "    '''\n",
    "    Simple function that waits on the run of a particular thread.\n",
    "    Returns the run once the thread has been run.\n",
    "    '''\n",
    "    while run.status == \"queued\" or run.status == \"in_progress\":\n",
    "        run = client.beta.threads.runs.retrieve(\n",
    "            thread_id=thread.id,\n",
    "            run_id=run.id,\n",
    "        )\n",
    "        time.sleep(0.5)\n",
    "    return run"
   ]
  },
  {
   "cell_type": "code",
   "execution_count": 17,
   "id": "ff6edb8d-d6f6-4fec-b53f-ba0ec60f902f",
   "metadata": {
    "colab": {
     "base_uri": "https://localhost:8080/"
    },
    "executionInfo": {
     "elapsed": 698,
     "status": "ok",
     "timestamp": 1735951913047,
     "user": {
      "displayName": "prabha Melady",
      "userId": "18413778025838058766"
     },
     "user_tz": -480
    },
    "id": "ff6edb8d-d6f6-4fec-b53f-ba0ec60f902f",
    "outputId": "5a7a9696-c26d-4a27-c014-e28ba8f75448"
   },
   "outputs": [
    {
     "data": {
      "text/plain": [
       "SyncCursorPage[Message](data=[Message(id='msg_8JVzXakIWeEFUK1EyD28veB6', assistant_id='asst_rvcP3MupeSdKqeLB80IPGX41', attachments=[], completed_at=None, content=[TextContentBlock(text=Text(annotations=[], value='Please note that this is an estimate and the actual monthly payment may vary slightly depending on the exact terms of the loan and any additional fees or taxes.'), type='text')], created_at=1735951812, incomplete_at=None, incomplete_details=None, metadata={}, object='thread.message', role='assistant', run_id='run_hWgnswbrDcamlr5S3Jzwk8yD', status=None, thread_id='thread_4HfR4M8nT3gKGgov6KQ3bXFr'), Message(id='msg_hIHLa8I4jKnhui38PGzYNX3r', assistant_id='asst_rvcP3MupeSdKqeLB80IPGX41', attachments=[], completed_at=None, content=[TextContentBlock(text=Text(annotations=[], value='The monthly mortgage payment for a $2.1 million house on a 30-year fixed loan at 7.8% interest would be approximately $15,117.28.\\n\\nTherefore, if you take out a 30-year fixed loan at 7.8% interest to buy a $2.1 million house, you can expect to pay around $15,117.28 per month towards your mortgage.'), type='text')], created_at=1735951764, incomplete_at=None, incomplete_details=None, metadata={}, object='thread.message', role='assistant', run_id='run_hpDY5N0fMNCEFLf75KF6foKo', status=None, thread_id='thread_4HfR4M8nT3gKGgov6KQ3bXFr'), Message(id='msg_xfp6PdgFRUrFaXnkzQDSKj2a', assistant_id='asst_rvcP3MupeSdKqeLB80IPGX41', attachments=[], completed_at=None, content=[TextContentBlock(text=Text(annotations=[], value=\"To calculate the monthly mortgage payments for a $2.1 million house on a 30-year fixed loan at 7.8% interest, we can use the formula for calculating the monthly payment on a fixed-rate mortgage.\\n\\nThe formula is:\\n\\n\\\\[ M = P \\\\times \\\\frac{r(1+r)^n}{(1+r)^n - 1} \\\\]\\n\\nwhere:\\n- \\\\( M \\\\) is the monthly payment\\n- \\\\( P \\\\) is the principal loan amount (the cost of the house)\\n- \\\\( r \\\\) is the monthly interest rate (annual interest rate divided by 12 months)\\n- \\\\( n \\\\) is the total number of payments (loan term in years multiplied by 12 months)\\n\\nGiven:\\n- Principal amount (\\\\( P \\\\)): $2.1 million\\n- Annual interest rate: 7.8%\\n- Loan term: 30 years\\n\\nWe first need to calculate the monthly interest rate (\\\\( r \\\\)) by dividing the annual interest rate by 12. Then we can calculate the monthly payment using the formula mentioned above. Let's calculate that.\"), type='text')], created_at=1735951759, incomplete_at=None, incomplete_details=None, metadata={}, object='thread.message', role='assistant', run_id='run_hpDY5N0fMNCEFLf75KF6foKo', status=None, thread_id='thread_4HfR4M8nT3gKGgov6KQ3bXFr'), Message(id='msg_gGIfqLMBYQJrfzS2IAwcdV1Z', assistant_id=None, attachments=[], completed_at=None, content=[TextContentBlock(text=Text(annotations=[], value='I want to buy a house that costs $2.1 Milion on a 30-yr fixed loan at 7.8% interest. What will my monthly payments be?'), type='text')], created_at=1735951754, incomplete_at=None, incomplete_details=None, metadata={}, object='thread.message', role='user', run_id=None, status=None, thread_id='thread_4HfR4M8nT3gKGgov6KQ3bXFr')], object='list', first_id='msg_8JVzXakIWeEFUK1EyD28veB6', last_id='msg_gGIfqLMBYQJrfzS2IAwcdV1Z', has_more=False)"
      ]
     },
     "execution_count": 17,
     "metadata": {},
     "output_type": "execute_result"
    }
   ],
   "source": [
    "client.beta.threads.messages.list(thread_id=thread.id)"
   ]
  },
  {
   "cell_type": "markdown",
   "id": "bSUfy5i2zDQr",
   "metadata": {
    "id": "bSUfy5i2zDQr"
   },
   "source": [
    "#### Add message to existing Thread"
   ]
  },
  {
   "cell_type": "code",
   "execution_count": 18,
   "id": "5c968326-564f-4a16-9014-5cb512cb196a",
   "metadata": {
    "executionInfo": {
     "elapsed": 927,
     "status": "ok",
     "timestamp": 1735951949537,
     "user": {
      "displayName": "prabha Melady",
      "userId": "18413778025838058766"
     },
     "user_tz": -480
    },
    "id": "5c968326-564f-4a16-9014-5cb512cb196a"
   },
   "outputs": [],
   "source": [
    "message = client.beta.threads.messages.create(\n",
    "    thread_id=thread.id, role=\"user\", content=\"What if I put a down payment of $200k on the house, how would that change the monthly payments?\"\n",
    ")"
   ]
  },
  {
   "cell_type": "code",
   "execution_count": 19,
   "id": "osO8sLTtzdQ9",
   "metadata": {
    "colab": {
     "base_uri": "https://localhost:8080/"
    },
    "executionInfo": {
     "elapsed": 5,
     "status": "ok",
     "timestamp": 1735952031176,
     "user": {
      "displayName": "prabha Melady",
      "userId": "18413778025838058766"
     },
     "user_tz": -480
    },
    "id": "osO8sLTtzdQ9",
    "outputId": "1a7e5717-c43b-471a-a2b7-250092ed50ba"
   },
   "outputs": [
    {
     "data": {
      "text/plain": [
       "Message(id='msg_B4GMX90pFnSJbwUJ9hDD1I3f', assistant_id=None, attachments=[], completed_at=None, content=[TextContentBlock(text=Text(annotations=[], value='What if I put a down payment of $200k on the house, how would that change the monthly payments?'), type='text')], created_at=1735951948, incomplete_at=None, incomplete_details=None, metadata={}, object='thread.message', role='user', run_id=None, status=None, thread_id='thread_4HfR4M8nT3gKGgov6KQ3bXFr')"
      ]
     },
     "execution_count": 19,
     "metadata": {},
     "output_type": "execute_result"
    }
   ],
   "source": [
    "message"
   ]
  },
  {
   "cell_type": "code",
   "execution_count": 20,
   "id": "fd6c557f-4e8f-4783-881b-ea69de9821cc",
   "metadata": {
    "colab": {
     "base_uri": "https://localhost:8080/"
    },
    "executionInfo": {
     "elapsed": 8196,
     "status": "ok",
     "timestamp": 1735952065829,
     "user": {
      "displayName": "prabha Melady",
      "userId": "18413778025838058766"
     },
     "user_tz": -480
    },
    "id": "fd6c557f-4e8f-4783-881b-ea69de9821cc",
    "outputId": "148181c6-212c-40ea-975c-dcae93c8192a"
   },
   "outputs": [
    {
     "name": "stdout",
     "output_type": "stream",
     "text": [
      "If you make a down payment of $200,000 towards the $2.1 million house, the loan amount (principal) will be reduced by the amount of the down payment. The new principal will be $2.1 million - $200,000 = $1.9 million.\n",
      "\n",
      "We can now recalculate the monthly mortgage payment using the new principal amount of $1.9 million. Let's calculate the new monthly payment.\n",
      "\n",
      "\n",
      "With a down payment of $200,000 towards the $2.1 million house, reducing the principal to $1.9 million, the new monthly mortgage payment would be approximately $13,677.54.\n",
      "\n",
      "Therefore, by making a down payment of $200,000, your monthly mortgage payment would decrease to around $13,677.54.\n",
      "\n",
      "\n"
     ]
    }
   ],
   "source": [
    "# Execute our run\n",
    "#Create run\n",
    "run = client.beta.threads.runs.create(\n",
    "    thread_id=thread.id,\n",
    "    assistant_id=assistant.id,\n",
    ")\n",
    "\n",
    "# Wait for completion\n",
    "wait_on_run(run, thread)\n",
    "\n",
    "# Retrieve all the messages added after our last user message\n",
    "# WE CAN REQUEST IN 'ASC' ORDER\n",
    "# WE CAN ALSO REQUEST ONLY MESSAGES AFTER A PARTICULAR ID!\n",
    "messages = client.beta.threads.messages.list(\n",
    "    thread_id=thread.id, order=\"asc\", after=message.id  # Here  after=message.id will help us to get only latest asked message Q next answer only. Not all history\n",
    ")\n",
    "\n",
    "display_thread_messages(messages)"
   ]
  },
  {
   "cell_type": "markdown",
   "id": "bbe3f4c8-278c-4a40-ba12-0af374cc5ce2",
   "metadata": {
    "id": "bbe3f4c8-278c-4a40-ba12-0af374cc5ce2"
   },
   "source": [
    "-----"
   ]
  },
  {
   "cell_type": "markdown",
   "id": "c66b0970-8c22-42ca-ab21-f721e74bfd1d",
   "metadata": {
    "id": "c66b0970-8c22-42ca-ab21-f721e74bfd1d"
   },
   "source": [
    "### Optional: Review the Run Steps the program took to get the reply"
   ]
  },
  {
   "cell_type": "code",
   "execution_count": 21,
   "id": "82cf5d57-176c-450f-9736-1bfb100373f7",
   "metadata": {
    "colab": {
     "base_uri": "https://localhost:8080/"
    },
    "executionInfo": {
     "elapsed": 1516,
     "status": "ok",
     "timestamp": 1735952073272,
     "user": {
      "displayName": "prabha Melady",
      "userId": "18413778025838058766"
     },
     "user_tz": -480
    },
    "id": "82cf5d57-176c-450f-9736-1bfb100373f7",
    "outputId": "24800200-94fe-48e2-9447-16d7d07b9830"
   },
   "outputs": [
    {
     "data": {
      "text/plain": [
       "SyncCursorPage[Run](data=[Run(id='run_U7VmKnt1ZBEiArLDTY1VfpHo', assistant_id='asst_rvcP3MupeSdKqeLB80IPGX41', cancelled_at=None, completed_at=1735952063, created_at=1735952058, expires_at=None, failed_at=None, incomplete_details=None, instructions='You use Python code to help answer questions about mortgage and interest payments.', last_error=None, max_completion_tokens=None, max_prompt_tokens=None, metadata={}, model='gpt-3.5-turbo', object='thread.run', parallel_tool_calls=True, required_action=None, response_format='auto', started_at=1735952059, status='completed', thread_id='thread_4HfR4M8nT3gKGgov6KQ3bXFr', tool_choice='auto', tools=[CodeInterpreterTool(type='code_interpreter')], truncation_strategy=TruncationStrategy(type='auto', last_messages=None), usage=Usage(completion_tokens=248, prompt_tokens=2303, total_tokens=2551, prompt_token_details={'cached_tokens': 0}), temperature=1.0, top_p=1.0, tool_resources={}), Run(id='run_hWgnswbrDcamlr5S3Jzwk8yD', assistant_id='asst_rvcP3MupeSdKqeLB80IPGX41', cancelled_at=None, completed_at=1735951812, created_at=1735951810, expires_at=None, failed_at=None, incomplete_details=None, instructions='Give detailed analysis and considerations for the user question.', last_error=None, max_completion_tokens=None, max_prompt_tokens=None, metadata={}, model='gpt-3.5-turbo', object='thread.run', parallel_tool_calls=True, required_action=None, response_format='auto', started_at=1735951811, status='completed', thread_id='thread_4HfR4M8nT3gKGgov6KQ3bXFr', tool_choice='auto', tools=[CodeInterpreterTool(type='code_interpreter')], truncation_strategy=TruncationStrategy(type='auto', last_messages=None), usage=Usage(completion_tokens=32, prompt_tokens=608, total_tokens=640, prompt_token_details={'cached_tokens': 0}), temperature=1.0, top_p=1.0, tool_resources={}), Run(id='run_hpDY5N0fMNCEFLf75KF6foKo', assistant_id='asst_rvcP3MupeSdKqeLB80IPGX41', cancelled_at=None, completed_at=1735951764, created_at=1735951757, expires_at=None, failed_at=None, incomplete_details=None, instructions='Give detailed analysis and considerations for the user question.', last_error=None, max_completion_tokens=None, max_prompt_tokens=None, metadata={}, model='gpt-3.5-turbo', object='thread.run', parallel_tool_calls=True, required_action=None, response_format='auto', started_at=1735951758, status='completed', thread_id='thread_4HfR4M8nT3gKGgov6KQ3bXFr', tool_choice='auto', tools=[CodeInterpreterTool(type='code_interpreter')], truncation_strategy=TruncationStrategy(type='auto', last_messages=None), usage=Usage(completion_tokens=442, prompt_tokens=1042, total_tokens=1484, prompt_token_details={'cached_tokens': 0}), temperature=1.0, top_p=1.0, tool_resources={})], object='list', first_id='run_U7VmKnt1ZBEiArLDTY1VfpHo', last_id='run_hpDY5N0fMNCEFLf75KF6foKo', has_more=False)"
      ]
     },
     "execution_count": 21,
     "metadata": {},
     "output_type": "execute_result"
    }
   ],
   "source": [
    "client.beta.threads.runs.list(thread.id)"
   ]
  },
  {
   "cell_type": "code",
   "execution_count": 22,
   "id": "946f6213-fae0-4f12-9799-9e960b24a831",
   "metadata": {
    "executionInfo": {
     "elapsed": 912,
     "status": "ok",
     "timestamp": 1735952131051,
     "user": {
      "displayName": "prabha Melady",
      "userId": "18413778025838058766"
     },
     "user_tz": -480
    },
    "id": "946f6213-fae0-4f12-9799-9e960b24a831"
   },
   "outputs": [],
   "source": [
    "#Run steps\n",
    "run_steps = client.beta.threads.runs.steps.list(\n",
    "    thread_id=thread.id,\n",
    "    run_id=run.id\n",
    ")"
   ]
  },
  {
   "cell_type": "code",
   "execution_count": 23,
   "id": "bdfb834c-1596-4eb2-8101-e7a154245443",
   "metadata": {
    "colab": {
     "base_uri": "https://localhost:8080/"
    },
    "executionInfo": {
     "elapsed": 504,
     "status": "ok",
     "timestamp": 1735952132865,
     "user": {
      "displayName": "prabha Melady",
      "userId": "18413778025838058766"
     },
     "user_tz": -480
    },
    "id": "bdfb834c-1596-4eb2-8101-e7a154245443",
    "outputId": "8909ac46-1996-412b-a25f-1bdbc514ffd6"
   },
   "outputs": [
    {
     "name": "stdout",
     "output_type": "stream",
     "text": [
      "MessageCreationStepDetails(message_creation=MessageCreation(message_id='msg_ALBZPNwLBmrxA8UpAt0xdC6T'), type='message_creation')\n",
      "\n",
      "\n",
      "ToolCallsStepDetails(tool_calls=[CodeInterpreterToolCall(id='call_9g2nkW60zanLDYAsX2FedJzY', code_interpreter=CodeInterpreter(input='# New principal amount after down payment\\r\\nnew_principal = principal - 200000  # $1.9 million\\r\\n\\r\\n# Calculate monthly payment with the new principal amount\\r\\nnew_monthly_payment = new_principal * (monthly_interest_rate * (1 + monthly_interest_rate) ** total_num_payments) / ((1 + monthly_interest_rate) ** total_num_payments - 1)\\r\\nnew_monthly_payment', outputs=[]), type='code_interpreter')], type='tool_calls')\n",
      "\n",
      "\n",
      "MessageCreationStepDetails(message_creation=MessageCreation(message_id='msg_mFsjjxjTNmD6jm0iO0GrKgVV'), type='message_creation')\n",
      "\n",
      "\n"
     ]
    }
   ],
   "source": [
    "for step in run_steps:\n",
    "    print(step.step_details)\n",
    "    print('\\n')"
   ]
  },
  {
   "cell_type": "markdown",
   "id": "b05318a1-f761-4aa9-95a5-3b3b0bf200c9",
   "metadata": {
    "id": "b05318a1-f761-4aa9-95a5-3b3b0bf200c9"
   },
   "source": [
    "### Optional: Delete Assistant"
   ]
  },
  {
   "cell_type": "code",
   "execution_count": 24,
   "id": "37d16882-1ec8-484b-832c-592d64f9d6dd",
   "metadata": {
    "colab": {
     "base_uri": "https://localhost:8080/"
    },
    "executionInfo": {
     "elapsed": 938,
     "status": "ok",
     "timestamp": 1735952143947,
     "user": {
      "displayName": "prabha Melady",
      "userId": "18413778025838058766"
     },
     "user_tz": -480
    },
    "id": "37d16882-1ec8-484b-832c-592d64f9d6dd",
    "outputId": "54cae178-0998-40e5-af87-aaef79eb846b"
   },
   "outputs": [
    {
     "name": "stdout",
     "output_type": "stream",
     "text": [
      "[Assistant(id='asst_rvcP3MupeSdKqeLB80IPGX41', created_at=1735951748, description=None, instructions='You use Python code to help answer questions about mortgage and interest payments.', metadata={}, model='gpt-3.5-turbo', name='Mortgage Bot', object='assistant', tools=[CodeInterpreterTool(type='code_interpreter')], response_format='auto', temperature=1.0, tool_resources=ToolResources(code_interpreter=ToolResourcesCodeInterpreter(file_ids=[]), file_search=None), top_p=1.0), Assistant(id='asst_QRRT3wpFSVyX0noIyIrI94ve', created_at=1735951712, description=None, instructions='You use Python code to help answer questions about mortgage and interest payments.', metadata={}, model='gpt-3.5-turbo', name='Mortgage Bot', object='assistant', tools=[CodeInterpreterTool(type='code_interpreter')], response_format='auto', temperature=1.0, tool_resources=ToolResources(code_interpreter=ToolResourcesCodeInterpreter(file_ids=[]), file_search=None), top_p=1.0)]\n"
     ]
    }
   ],
   "source": [
    "my_assistants = client.beta.assistants.list(\n",
    "    order=\"desc\",\n",
    "    limit=\"20\",\n",
    ")\n",
    "print(my_assistants.data)"
   ]
  },
  {
   "cell_type": "code",
   "execution_count": 25,
   "id": "f292a3ed-d91c-468b-bb06-3e3b7a522e33",
   "metadata": {
    "colab": {
     "base_uri": "https://localhost:8080/",
     "height": 36
    },
    "executionInfo": {
     "elapsed": 581,
     "status": "ok",
     "timestamp": 1735952145661,
     "user": {
      "displayName": "prabha Melady",
      "userId": "18413778025838058766"
     },
     "user_tz": -480
    },
    "id": "f292a3ed-d91c-468b-bb06-3e3b7a522e33",
    "outputId": "2c20af5f-cb4e-4f9f-b9a4-bd8a9663e78c"
   },
   "outputs": [
    {
     "data": {
      "application/vnd.google.colaboratory.intrinsic+json": {
       "type": "string"
      },
      "text/plain": [
       "'asst_rvcP3MupeSdKqeLB80IPGX41'"
      ]
     },
     "execution_count": 25,
     "metadata": {},
     "output_type": "execute_result"
    }
   ],
   "source": [
    "my_assistants.data[0].id"
   ]
  },
  {
   "cell_type": "code",
   "execution_count": 26,
   "id": "5fb34dde-854d-4fc8-b509-ca56672b60b8",
   "metadata": {
    "colab": {
     "base_uri": "https://localhost:8080/"
    },
    "executionInfo": {
     "elapsed": 3174,
     "status": "ok",
     "timestamp": 1735952153759,
     "user": {
      "displayName": "prabha Melady",
      "userId": "18413778025838058766"
     },
     "user_tz": -480
    },
    "id": "5fb34dde-854d-4fc8-b509-ca56672b60b8",
    "outputId": "9a68dcb8-430d-4b18-dbee-02e5610b5fad"
   },
   "outputs": [
    {
     "name": "stdout",
     "output_type": "stream",
     "text": [
      "AssistantDeleted(id='asst_rvcP3MupeSdKqeLB80IPGX41', deleted=True, object='assistant.deleted')\n"
     ]
    }
   ],
   "source": [
    "response = client.beta.assistants.delete(my_assistants.data[0].id)\n",
    "print(response)"
   ]
  }
 ],
 "metadata": {
  "colab": {
   "provenance": [],
   "toc_visible": true
  },
  "kernelspec": {
   "display_name": "Python 3 (ipykernel)",
   "language": "python",
   "name": "python3"
  },
  "language_info": {
   "codemirror_mode": {
    "name": "ipython",
    "version": 3
   },
   "file_extension": ".py",
   "mimetype": "text/x-python",
   "name": "python",
   "nbconvert_exporter": "python",
   "pygments_lexer": "ipython3",
   "version": "3.9.12"
  }
 },
 "nbformat": 4,
 "nbformat_minor": 5
}
