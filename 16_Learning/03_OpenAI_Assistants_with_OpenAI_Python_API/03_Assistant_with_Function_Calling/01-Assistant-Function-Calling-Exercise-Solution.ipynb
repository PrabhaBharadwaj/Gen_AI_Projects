{
 "cells": [
  {
   "cell_type": "markdown",
   "id": "9b61ca09-df53-48a9-ae2b-b80ce5f8eea0",
   "metadata": {
    "id": "9b61ca09-df53-48a9-ae2b-b80ce5f8eea0"
   },
   "source": [
    "<center><a href=\"https://www.pieriantraining.com/\" ><img src=\"../PTCenteredPurple.png\" alt=\"Pierian Training Logo\" /></a></center>\n"
   ]
  },
  {
   "cell_type": "markdown",
   "id": "99254f40-5a61-40fd-ac06-9a897f8776c8",
   "metadata": {
    "id": "99254f40-5a61-40fd-ac06-9a897f8776c8"
   },
   "source": [
    "# Function Calling with Assistants - Exercise Solution"
   ]
  },
  {
   "cell_type": "markdown",
   "id": "7d36549f-b6b2-48ac-ae80-5f31271dc813",
   "metadata": {
    "id": "7d36549f-b6b2-48ac-ae80-5f31271dc813"
   },
   "source": [
    "**OVERALL TASK: Given the function shown below, create an assistant that can create arguments for the function, send them back via a message, and then you will run the function to get a user input and send that information back to the assistant, and the grab the final answer check response from the assistant.**\n",
    "\n",
    "\n",
    "- Executed in colab"
   ]
  },
  {
   "cell_type": "markdown",
   "id": "aaed7572-b58f-4e97-abb9-cc31fc9838c3",
   "metadata": {
    "id": "aaed7572-b58f-4e97-abb9-cc31fc9838c3"
   },
   "source": [
    "----"
   ]
  },
  {
   "cell_type": "markdown",
   "id": "5c6b0d61-97e8-4dd2-b25b-095286791835",
   "metadata": {
    "id": "5c6b0d61-97e8-4dd2-b25b-095286791835"
   },
   "source": [
    "## **TASK: Review the function below and make sure you understand it.**"
   ]
  },
  {
   "cell_type": "code",
   "execution_count": 1,
   "id": "50a350bd-d091-48ff-b6d6-9b4451059a18",
   "metadata": {
    "executionInfo": {
     "elapsed": 369,
     "status": "ok",
     "timestamp": 1736055165863,
     "user": {
      "displayName": "prabha Melady",
      "userId": "18413778025838058766"
     },
     "user_tz": -480
    },
    "id": "50a350bd-d091-48ff-b6d6-9b4451059a18"
   },
   "outputs": [],
   "source": [
    "def president_home_state(president,state_options):\n",
    "    '''\n",
    "    INPUTS:\n",
    "        president str = The string name of a US President\n",
    "        state_options list[str] = A list of potential states that the President was born in, with one of them being correct!\n",
    "\n",
    "    OUTPUTS:\n",
    "        response str = The response the user chose as the correct birthplace state.\n",
    "\n",
    "    '''\n",
    "    print(\"Hello! Let's test your knowledge of the home states of US Presidents!\")\n",
    "    print(f\"In what state was this president born: {president}\\n\")\n",
    "\n",
    "    for num,option in enumerate(state_options):\n",
    "        print('\\n')\n",
    "        print(f\"Definition #{num} is: {option}\")\n",
    "\n",
    "    print('\\n')\n",
    "    num_choice = input(\"What is your choice? (Return the single number option)\")\n",
    "\n",
    "    return state_options[int(num_choice)]\n"
   ]
  },
  {
   "cell_type": "code",
   "execution_count": 3,
   "id": "a6b651e9-6b84-408d-abe9-8714afdd15da",
   "metadata": {
    "colab": {
     "base_uri": "https://localhost:8080/",
     "height": 309
    },
    "executionInfo": {
     "elapsed": 6380,
     "status": "ok",
     "timestamp": 1736055219436,
     "user": {
      "displayName": "prabha Melady",
      "userId": "18413778025838058766"
     },
     "user_tz": -480
    },
    "id": "a6b651e9-6b84-408d-abe9-8714afdd15da",
    "outputId": "5d40f9e3-b5ba-41cd-ddcb-25fa5750d519"
   },
   "outputs": [
    {
     "name": "stdout",
     "output_type": "stream",
     "text": [
      "Hello! Let's test your knowledge of the home states of US Presidents!\n",
      "In what state was this president born: George Washington\n",
      "\n",
      "\n",
      "\n",
      "Definition #0 is: Virginia\n",
      "\n",
      "\n",
      "Definition #1 is: New York\n",
      "\n",
      "\n",
      "Definition #2 is: Massachusetts\n",
      "\n",
      "\n",
      "What is your choice? (Return the single number option)1\n"
     ]
    },
    {
     "data": {
      "application/vnd.google.colaboratory.intrinsic+json": {
       "type": "string"
      },
      "text/plain": [
       "'New York'"
      ]
     },
     "execution_count": 3,
     "metadata": {},
     "output_type": "execute_result"
    }
   ],
   "source": [
    "president_home_state(\"George Washington\", [\"Virginia\", \"New York\", \"Massachusetts\"])\n"
   ]
  },
  {
   "cell_type": "markdown",
   "id": "4d503338-b463-4c45-866d-145d015a5933",
   "metadata": {
    "id": "4d503338-b463-4c45-866d-145d015a5933"
   },
   "source": [
    "## **TASK: Convert the Python function above into a JSON Description. Here is a general guide to help you:**\n",
    "\n",
    "     tool = {'type':'function',\n",
    "                    'function':{\n",
    "                        'name': 'my_function_name',\n",
    "                        'parameters':{\n",
    "                            \"type\":\"object\",\n",
    "                              \"properties\":{\n",
    "                                  \"parameter_one\": {'type':'string','description':\"A text description for the LLM of what this parameter should be. Note the JSON type.\"},\n",
    "                                  \"parameter_two\":{'type':'integer','description':\"A text description for the LLM of this parameter, note the JSON type.\"}\n",
    "                              },\n",
    "                            'required' : ['parameter_one','parameter_two']\n",
    "                        }\n",
    "\n",
    "            }\n",
    "        }"
   ]
  },
  {
   "cell_type": "code",
   "execution_count": 4,
   "id": "5180db65-33ef-419b-bfee-28dbb766cd20",
   "metadata": {
    "executionInfo": {
     "elapsed": 343,
     "status": "ok",
     "timestamp": 1736055225627,
     "user": {
      "displayName": "prabha Melady",
      "userId": "18413778025838058766"
     },
     "user_tz": -480
    },
    "id": "5180db65-33ef-419b-bfee-28dbb766cd20"
   },
   "outputs": [],
   "source": [
    "function_json = {'type':'function',\n",
    "            'function':{\n",
    "                'name': 'president_home_state',\n",
    "                'parameters':{\n",
    "                    \"type\":\"object\",\n",
    "                      \"properties\":{\n",
    "                          \"president\": {'type':'string','description':\"The name of a random US President\"},\n",
    "                          \"state_options\":{'type':'array',\n",
    "                                        'items':{'type':'string'},\n",
    "                                        'description':\"A Python list of strings of US States, where one of the states is the birthplace state of the US President.\"}\n",
    "                      },\n",
    "                    'required' : [\"president\",\"state_options\"]\n",
    "                }\n",
    "\n",
    "    }\n",
    "}"
   ]
  },
  {
   "cell_type": "markdown",
   "id": "7410adf8-0084-4e9c-8f1f-dd20a9f0ff16",
   "metadata": {
    "id": "7410adf8-0084-4e9c-8f1f-dd20a9f0ff16"
   },
   "source": [
    "## **TASK: Create the OpenAI API Client Connection**"
   ]
  },
  {
   "cell_type": "code",
   "execution_count": 5,
   "id": "7a8605b0-818a-4bba-a90b-4069d502f8a7",
   "metadata": {
    "executionInfo": {
     "elapsed": 5516,
     "status": "ok",
     "timestamp": 1736055237013,
     "user": {
      "displayName": "prabha Melady",
      "userId": "18413778025838058766"
     },
     "user_tz": -480
    },
    "id": "7a8605b0-818a-4bba-a90b-4069d502f8a7"
   },
   "outputs": [],
   "source": [
    "from openai import OpenAI\n",
    "import os\n",
    "from google.colab import userdata\n",
    "\n",
    "OPENAI_API_KEY = userdata.get('OPENAI_API_KEY')\n",
    "os.environ['OPENAI_API_KEY'] = OPENAI_API_KEY\n",
    "\n",
    "client = OpenAI()"
   ]
  },
  {
   "cell_type": "markdown",
   "id": "20ea4fd3-cb77-4c6e-91ff-d3fcbe5c5213",
   "metadata": {
    "id": "20ea4fd3-cb77-4c6e-91ff-d3fcbe5c5213"
   },
   "source": [
    "## **TASK: Create the Assistant with the Function Calling Tool**"
   ]
  },
  {
   "cell_type": "code",
   "execution_count": 41,
   "id": "88589939-b9d9-4378-9aeb-e522e1c37959",
   "metadata": {
    "executionInfo": {
     "elapsed": 825,
     "status": "ok",
     "timestamp": 1736055699670,
     "user": {
      "displayName": "prabha Melady",
      "userId": "18413778025838058766"
     },
     "user_tz": -480
    },
    "id": "88589939-b9d9-4378-9aeb-e522e1c37959"
   },
   "outputs": [],
   "source": [
    "assistant = client.beta.assistants.create(\n",
    "    name='India Presidents Quiz Bot',\n",
    "  instructions=\"You help create a quiz where you give a US President and a list of birthplace states, where only one is the correct birthplace state of the president. Later you check if answers returned are correct.\",\n",
    "  model=\"gpt-3.5-turbo\",\n",
    "  tools=[function_json]\n",
    ")"
   ]
  },
  {
   "cell_type": "markdown",
   "id": "9bef1476-8567-49b8-90d2-fb5d121b60ce",
   "metadata": {
    "id": "9bef1476-8567-49b8-90d2-fb5d121b60ce"
   },
   "source": [
    "## **TASK: Create a new thread.**"
   ]
  },
  {
   "cell_type": "code",
   "execution_count": 42,
   "id": "2c19a9da-c946-4f08-9263-78393cf87495",
   "metadata": {
    "executionInfo": {
     "elapsed": 2,
     "status": "ok",
     "timestamp": 1736055700178,
     "user": {
      "displayName": "prabha Melady",
      "userId": "18413778025838058766"
     },
     "user_tz": -480
    },
    "id": "2c19a9da-c946-4f08-9263-78393cf87495"
   },
   "outputs": [],
   "source": [
    "thread = client.beta.threads.create()"
   ]
  },
  {
   "cell_type": "markdown",
   "id": "a0924a41-0db9-41c5-a0d8-9275da34f29d",
   "metadata": {
    "id": "a0924a41-0db9-41c5-a0d8-9275da34f29d"
   },
   "source": [
    "**TASK: Create a new message, requesting a new US President and State Options List. Then let the model know you will later send back a reply and ask the assistant to check if its correct.**"
   ]
  },
  {
   "cell_type": "code",
   "execution_count": 43,
   "id": "74735112-6fe0-4aea-9e8e-51042391ea1c",
   "metadata": {
    "executionInfo": {
     "elapsed": 612,
     "status": "ok",
     "timestamp": 1736055702016,
     "user": {
      "displayName": "prabha Melady",
      "userId": "18413778025838058766"
     },
     "user_tz": -480
    },
    "id": "74735112-6fe0-4aea-9e8e-51042391ea1c"
   },
   "outputs": [],
   "source": [
    "message = client.beta.threads.messages.create(\n",
    "    thread_id=thread.id,\n",
    "    role=\"user\",\n",
    "    content=\"Create a new quiz question with a Indian President and a list of options for the home state of birth. Then I will reply with a single state and let me know if I got it right.\",\n",
    ")"
   ]
  },
  {
   "cell_type": "markdown",
   "id": "1746b630-9afa-42bf-a636-ad88a148e0f5",
   "metadata": {
    "id": "1746b630-9afa-42bf-a636-ad88a148e0f5"
   },
   "source": [
    "## **TASK: Run the thread with the assistant.**"
   ]
  },
  {
   "cell_type": "code",
   "execution_count": 44,
   "id": "27a2a639-b7f1-4cea-bafc-5c3a4dae8970",
   "metadata": {
    "executionInfo": {
     "elapsed": 1631,
     "status": "ok",
     "timestamp": 1736055705596,
     "user": {
      "displayName": "prabha Melady",
      "userId": "18413778025838058766"
     },
     "user_tz": -480
    },
    "id": "27a2a639-b7f1-4cea-bafc-5c3a4dae8970"
   },
   "outputs": [],
   "source": [
    "run = client.beta.threads.runs.create(\n",
    "  thread_id=thread.id,\n",
    "  assistant_id=assistant.id)"
   ]
  },
  {
   "cell_type": "markdown",
   "id": "0b899900-cb11-4462-90d8-1c77223a3948",
   "metadata": {
    "id": "0b899900-cb11-4462-90d8-1c77223a3948"
   },
   "source": [
    "## **TASK: Confirm that the run.status requires action**"
   ]
  },
  {
   "cell_type": "code",
   "execution_count": 45,
   "id": "1bd08ec3-7095-44b4-9124-a4a3b59f5b44",
   "metadata": {
    "executionInfo": {
     "elapsed": 4,
     "status": "ok",
     "timestamp": 1736055705596,
     "user": {
      "displayName": "prabha Melady",
      "userId": "18413778025838058766"
     },
     "user_tz": -480
    },
    "id": "1bd08ec3-7095-44b4-9124-a4a3b59f5b44"
   },
   "outputs": [],
   "source": [
    "import time\n",
    "\n",
    "def wait_on_run(run, thread):\n",
    "    while run.status == \"queued\" or run.status == \"in_progress\":\n",
    "        run = client.beta.threads.runs.retrieve(\n",
    "            thread_id=thread.id,\n",
    "            run_id=run.id,\n",
    "        )\n",
    "        time.sleep(1)\n",
    "    return run"
   ]
  },
  {
   "cell_type": "code",
   "execution_count": 46,
   "id": "d5a0a8f0-7211-4fa4-a659-34b31b8c9323",
   "metadata": {
    "executionInfo": {
     "elapsed": 1365,
     "status": "ok",
     "timestamp": 1736055708402,
     "user": {
      "displayName": "prabha Melady",
      "userId": "18413778025838058766"
     },
     "user_tz": -480
    },
    "id": "d5a0a8f0-7211-4fa4-a659-34b31b8c9323"
   },
   "outputs": [],
   "source": [
    "run = wait_on_run(run,thread)"
   ]
  },
  {
   "cell_type": "code",
   "execution_count": 47,
   "id": "3c43327b-2684-4004-980a-a62681d754ea",
   "metadata": {
    "colab": {
     "base_uri": "https://localhost:8080/",
     "height": 36
    },
    "executionInfo": {
     "elapsed": 4,
     "status": "ok",
     "timestamp": 1736055708402,
     "user": {
      "displayName": "prabha Melady",
      "userId": "18413778025838058766"
     },
     "user_tz": -480
    },
    "id": "3c43327b-2684-4004-980a-a62681d754ea",
    "outputId": "baaf64eb-f152-4753-f32e-acc8b45171ff"
   },
   "outputs": [
    {
     "data": {
      "application/vnd.google.colaboratory.intrinsic+json": {
       "type": "string"
      },
      "text/plain": [
       "'requires_action'"
      ]
     },
     "execution_count": 47,
     "metadata": {},
     "output_type": "execute_result"
    }
   ],
   "source": [
    "run.status"
   ]
  },
  {
   "cell_type": "markdown",
   "id": "495b275c-894c-4f9c-a291-1cba3320c341",
   "metadata": {
    "id": "495b275c-894c-4f9c-a291-1cba3320c341"
   },
   "source": [
    "## **TASK: Retrieve the Run result arguments for the tool and pass them into the president_home_state() function**"
   ]
  },
  {
   "cell_type": "code",
   "execution_count": 48,
   "id": "deb781de-f273-49e4-a8f1-c783d0402b68",
   "metadata": {
    "colab": {
     "base_uri": "https://localhost:8080/"
    },
    "executionInfo": {
     "elapsed": 8,
     "status": "ok",
     "timestamp": 1736055709689,
     "user": {
      "displayName": "prabha Melady",
      "userId": "18413778025838058766"
     },
     "user_tz": -480
    },
    "id": "deb781de-f273-49e4-a8f1-c783d0402b68",
    "outputId": "87d7b18e-e359-4e8a-c644-c93ab84e6ef8"
   },
   "outputs": [
    {
     "name": "stdout",
     "output_type": "stream",
     "text": [
      "Function Name: president_home_state\n",
      "Function Arguments:\n"
     ]
    },
    {
     "data": {
      "text/plain": [
       "{'president': 'Ram Nath Kovind',\n",
       " 'state_options': ['Uttar Pradesh', 'Bihar', 'Tamil Nadu']}"
      ]
     },
     "execution_count": 48,
     "metadata": {},
     "output_type": "execute_result"
    }
   ],
   "source": [
    "import json\n",
    "\n",
    "# Extract single tool call\n",
    "tool_call = run.required_action.submit_tool_outputs.tool_calls[0]\n",
    "name = tool_call.function.name\n",
    "arguments = json.loads(tool_call.function.arguments)\n",
    "\n",
    "print(\"Function Name:\", name)\n",
    "print(\"Function Arguments:\")\n",
    "arguments"
   ]
  },
  {
   "cell_type": "code",
   "execution_count": 49,
   "id": "596f3546-4864-45e8-946f-21951afca1bd",
   "metadata": {
    "colab": {
     "base_uri": "https://localhost:8080/"
    },
    "executionInfo": {
     "elapsed": 6824,
     "status": "ok",
     "timestamp": 1736055717992,
     "user": {
      "displayName": "prabha Melady",
      "userId": "18413778025838058766"
     },
     "user_tz": -480
    },
    "id": "596f3546-4864-45e8-946f-21951afca1bd",
    "outputId": "d4750f45-37f9-4941-d2fe-6d6e1601f020"
   },
   "outputs": [
    {
     "name": "stdout",
     "output_type": "stream",
     "text": [
      "Hello! Let's test your knowledge of the home states of US Presidents!\n",
      "In what state was this president born: Ram Nath Kovind\n",
      "\n",
      "\n",
      "\n",
      "Definition #0 is: Uttar Pradesh\n",
      "\n",
      "\n",
      "Definition #1 is: Bihar\n",
      "\n",
      "\n",
      "Definition #2 is: Tamil Nadu\n",
      "\n",
      "\n",
      "What is your choice? (Return the single number option)2\n"
     ]
    }
   ],
   "source": [
    "response = president_home_state(arguments['president'],arguments['state_options'])"
   ]
  },
  {
   "cell_type": "code",
   "execution_count": 50,
   "id": "d8ba15de-3144-411c-89f8-6bf6d48b3538",
   "metadata": {
    "colab": {
     "base_uri": "https://localhost:8080/",
     "height": 36
    },
    "executionInfo": {
     "elapsed": 497,
     "status": "ok",
     "timestamp": 1736055720051,
     "user": {
      "displayName": "prabha Melady",
      "userId": "18413778025838058766"
     },
     "user_tz": -480
    },
    "id": "d8ba15de-3144-411c-89f8-6bf6d48b3538",
    "outputId": "26bbb12a-d14b-40eb-8806-fa66c960811a"
   },
   "outputs": [
    {
     "data": {
      "application/vnd.google.colaboratory.intrinsic+json": {
       "type": "string"
      },
      "text/plain": [
       "'Tamil Nadu'"
      ]
     },
     "execution_count": 50,
     "metadata": {},
     "output_type": "execute_result"
    }
   ],
   "source": [
    "response"
   ]
  },
  {
   "cell_type": "code",
   "execution_count": 51,
   "id": "yfAz12GS-2SH",
   "metadata": {
    "colab": {
     "base_uri": "https://localhost:8080/",
     "height": 36
    },
    "executionInfo": {
     "elapsed": 7,
     "status": "ok",
     "timestamp": 1736055721369,
     "user": {
      "displayName": "prabha Melady",
      "userId": "18413778025838058766"
     },
     "user_tz": -480
    },
    "id": "yfAz12GS-2SH",
    "outputId": "b48a7524-ceb3-4f94-c112-2a0029c37115"
   },
   "outputs": [
    {
     "data": {
      "application/vnd.google.colaboratory.intrinsic+json": {
       "type": "string"
      },
      "text/plain": [
       "'call_0avTtsDEePArRwLOxEFzlJ43'"
      ]
     },
     "execution_count": 51,
     "metadata": {},
     "output_type": "execute_result"
    }
   ],
   "source": [
    "tool_call.id"
   ]
  },
  {
   "cell_type": "markdown",
   "id": "cc8bf90d-e3f1-4d37-8152-3d7983fef954",
   "metadata": {
    "id": "cc8bf90d-e3f1-4d37-8152-3d7983fef954"
   },
   "source": [
    "## **TASK: Return the local function response to the tool in the assistant.**"
   ]
  },
  {
   "cell_type": "code",
   "execution_count": 52,
   "id": "309cc700-95d2-404e-a708-3696104dd6be",
   "metadata": {
    "executionInfo": {
     "elapsed": 3037,
     "status": "ok",
     "timestamp": 1736055726286,
     "user": {
      "displayName": "prabha Melady",
      "userId": "18413778025838058766"
     },
     "user_tz": -480
    },
    "id": "309cc700-95d2-404e-a708-3696104dd6be"
   },
   "outputs": [],
   "source": [
    "run = client.beta.threads.runs.submit_tool_outputs(\n",
    "    thread_id=thread.id,\n",
    "    run_id=run.id,\n",
    "    tool_outputs=[\n",
    "        {\n",
    "            \"tool_call_id\": tool_call.id,\n",
    "            \"output\": json.dumps(response),\n",
    "        }\n",
    "    ],\n",
    ")"
   ]
  },
  {
   "cell_type": "code",
   "execution_count": 53,
   "id": "53399cc2-bada-467b-b441-b622bf6b87db",
   "metadata": {
    "executionInfo": {
     "elapsed": 1766,
     "status": "ok",
     "timestamp": 1736055731089,
     "user": {
      "displayName": "prabha Melady",
      "userId": "18413778025838058766"
     },
     "user_tz": -480
    },
    "id": "53399cc2-bada-467b-b441-b622bf6b87db"
   },
   "outputs": [],
   "source": [
    "run = wait_on_run(run, thread)"
   ]
  },
  {
   "cell_type": "code",
   "execution_count": 54,
   "id": "cc3103f9-c5fc-4dfa-90c8-54ceeaeaabcb",
   "metadata": {
    "colab": {
     "base_uri": "https://localhost:8080/",
     "height": 36
    },
    "executionInfo": {
     "elapsed": 6,
     "status": "ok",
     "timestamp": 1736055731089,
     "user": {
      "displayName": "prabha Melady",
      "userId": "18413778025838058766"
     },
     "user_tz": -480
    },
    "id": "cc3103f9-c5fc-4dfa-90c8-54ceeaeaabcb",
    "outputId": "4deb3c53-3c8c-4832-bd13-d13a8fbb097a"
   },
   "outputs": [
    {
     "data": {
      "application/vnd.google.colaboratory.intrinsic+json": {
       "type": "string"
      },
      "text/plain": [
       "'completed'"
      ]
     },
     "execution_count": 54,
     "metadata": {},
     "output_type": "execute_result"
    }
   ],
   "source": [
    "run.status"
   ]
  },
  {
   "cell_type": "markdown",
   "id": "60dd8c98-b289-4204-9479-c8c5b51bee2c",
   "metadata": {
    "id": "60dd8c98-b289-4204-9479-c8c5b51bee2c"
   },
   "source": [
    "## **TASK: Retrieve the Messages and see if you got the state correct!**"
   ]
  },
  {
   "cell_type": "code",
   "execution_count": 55,
   "id": "8ca6df09-46d4-40dc-8a55-5ba6ae4bba95",
   "metadata": {
    "executionInfo": {
     "elapsed": 679,
     "status": "ok",
     "timestamp": 1736055733960,
     "user": {
      "displayName": "prabha Melady",
      "userId": "18413778025838058766"
     },
     "user_tz": -480
    },
    "id": "8ca6df09-46d4-40dc-8a55-5ba6ae4bba95"
   },
   "outputs": [],
   "source": [
    "messages = client.beta.threads.messages.list(thread.id)"
   ]
  },
  {
   "cell_type": "code",
   "execution_count": 56,
   "id": "lVO2ioMD-vUb",
   "metadata": {
    "colab": {
     "base_uri": "https://localhost:8080/"
    },
    "executionInfo": {
     "elapsed": 10,
     "status": "ok",
     "timestamp": 1736055734808,
     "user": {
      "displayName": "prabha Melady",
      "userId": "18413778025838058766"
     },
     "user_tz": -480
    },
    "id": "lVO2ioMD-vUb",
    "outputId": "dfcc93dd-356c-4ece-8b21-7132bd84518b"
   },
   "outputs": [
    {
     "data": {
      "text/plain": [
       "SyncCursorPage[Message](data=[Message(id='msg_G146gEgzq6XMarWwD1Lzrbr7', assistant_id='asst_HlOsinDeafJ2D1zxWVC6ewqJ', attachments=[], completed_at=None, content=[TextContentBlock(text=Text(annotations=[], value='Where was the Indian President Ram Nath Kovind born?\\n1. Uttar Pradesh\\n2. Bihar\\n3. Tamil Nadu\\n\\nPlease select the correct state from the options given above.'), type='text')], created_at=1736055726, incomplete_at=None, incomplete_details=None, metadata={}, object='thread.message', role='assistant', run_id='run_gQg27hxKW1wKbiZBYIjNWJMT', status=None, thread_id='thread_yAS0ZJ1rjMNvITQPeaZe1kWS'), Message(id='msg_eKP7nuv4xUt4vlpv4ZhPnSxf', assistant_id=None, attachments=[], completed_at=None, content=[TextContentBlock(text=Text(annotations=[], value='Create a new quiz question with a Indian President and a list of options for the home state of birth. Then I will reply with a single state and let me know if I got it right.'), type='text')], created_at=1736055700, incomplete_at=None, incomplete_details=None, metadata={}, object='thread.message', role='user', run_id=None, status=None, thread_id='thread_yAS0ZJ1rjMNvITQPeaZe1kWS')], object='list', first_id='msg_G146gEgzq6XMarWwD1Lzrbr7', last_id='msg_eKP7nuv4xUt4vlpv4ZhPnSxf', has_more=False)"
      ]
     },
     "execution_count": 56,
     "metadata": {},
     "output_type": "execute_result"
    }
   ],
   "source": [
    "messages\n",
    "#No ans displayed"
   ]
  },
  {
   "cell_type": "code",
   "execution_count": 57,
   "id": "76bf222a-7203-41a4-a49a-e1de8d715d0a",
   "metadata": {
    "colab": {
     "base_uri": "https://localhost:8080/"
    },
    "executionInfo": {
     "elapsed": 989,
     "status": "ok",
     "timestamp": 1736055750231,
     "user": {
      "displayName": "prabha Melady",
      "userId": "18413778025838058766"
     },
     "user_tz": -480
    },
    "id": "76bf222a-7203-41a4-a49a-e1de8d715d0a",
    "outputId": "bf169de3-febb-4fa8-ecc7-fca652c5b0ce"
   },
   "outputs": [
    {
     "name": "stdout",
     "output_type": "stream",
     "text": [
      "Where was the Indian President Ram Nath Kovind born?\n",
      "1. Uttar Pradesh\n",
      "2. Bihar\n",
      "3. Tamil Nadu\n",
      "\n",
      "Please select the correct state from the options given above.\n",
      "\n",
      "\n",
      "Create a new quiz question with a Indian President and a list of options for the home state of birth. Then I will reply with a single state and let me know if I got it right.\n",
      "\n",
      "\n"
     ]
    }
   ],
   "source": [
    "for thread_message in messages:\n",
    "    print(thread_message.content[0].text.value)\n",
    "    print('\\n')"
   ]
  },
  {
   "cell_type": "markdown",
   "id": "li1TEk95-Ts5",
   "metadata": {
    "id": "li1TEk95-Ts5"
   },
   "source": [
    "# Here ans not displayed in final assistance response. Yet tos ee why"
   ]
  },
  {
   "cell_type": "markdown",
   "id": "c0a94088-9f72-4e34-882a-170b99cc75dc",
   "metadata": {
    "id": "c0a94088-9f72-4e34-882a-170b99cc75dc"
   },
   "source": [
    "## **TASK: Delete the Assistant**"
   ]
  },
  {
   "cell_type": "code",
   "execution_count": 58,
   "id": "9dd8bf24-1684-4d97-b62c-419c4945a927",
   "metadata": {
    "executionInfo": {
     "elapsed": 1105,
     "status": "ok",
     "timestamp": 1736055754229,
     "user": {
      "displayName": "prabha Melady",
      "userId": "18413778025838058766"
     },
     "user_tz": -480
    },
    "id": "9dd8bf24-1684-4d97-b62c-419c4945a927"
   },
   "outputs": [],
   "source": [
    "my_assistants = client.beta.assistants.list(\n",
    "    order=\"desc\",\n",
    "    limit=\"20\",\n",
    ")\n",
    "response = client.beta.assistants.delete(my_assistants.data[0].id)"
   ]
  },
  {
   "cell_type": "code",
   "execution_count": null,
   "id": "ad6a29f8-5215-4cda-ad27-72e9624a7bfd",
   "metadata": {
    "id": "ad6a29f8-5215-4cda-ad27-72e9624a7bfd"
   },
   "outputs": [],
   "source": []
  }
 ],
 "metadata": {
  "colab": {
   "provenance": [],
   "toc_visible": true
  },
  "kernelspec": {
   "display_name": "Python 3 (ipykernel)",
   "language": "python",
   "name": "python3"
  },
  "language_info": {
   "codemirror_mode": {
    "name": "ipython",
    "version": 3
   },
   "file_extension": ".py",
   "mimetype": "text/x-python",
   "name": "python",
   "nbconvert_exporter": "python",
   "pygments_lexer": "ipython3",
   "version": "3.9.12"
  }
 },
 "nbformat": 4,
 "nbformat_minor": 5
}
