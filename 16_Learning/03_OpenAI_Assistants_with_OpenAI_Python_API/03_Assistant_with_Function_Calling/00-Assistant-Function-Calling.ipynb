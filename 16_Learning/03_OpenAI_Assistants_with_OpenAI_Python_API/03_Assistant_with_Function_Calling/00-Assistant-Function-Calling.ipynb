{
 "cells": [
  {
   "cell_type": "markdown",
   "id": "9b61ca09-df53-48a9-ae2b-b80ce5f8eea0",
   "metadata": {
    "id": "9b61ca09-df53-48a9-ae2b-b80ce5f8eea0"
   },
   "source": [
    "<center><a href=\"https://www.pieriantraining.com/\" ><img src=\"../PTCenteredPurple.png\" alt=\"Pierian Training Logo\" /></a></center>\n"
   ]
  },
  {
   "cell_type": "markdown",
   "id": "99254f40-5a61-40fd-ac06-9a897f8776c8",
   "metadata": {
    "id": "99254f40-5a61-40fd-ac06-9a897f8776c8"
   },
   "source": [
    "# Function Calling with Assistants\n",
    "\n",
    "There may custom functionality that can't be done by the LLM Assistant, but the LLM assistant is \"smart\" enough to know how to fill in a Python function for the task. This is where we can provide a custom function that is run on our end and work in conjunction with the assistant. This is a powerful tool, because you now have the power of the OpenAI LLM but with the full flexibility of whatever Python code you can run on your end. Let's work through an example:\n",
    "\n",
    "- Executed in colab"
   ]
  },
  {
   "cell_type": "markdown",
   "id": "920b6090-72b8-472b-9489-b2406b2c20e7",
   "metadata": {
    "id": "920b6090-72b8-472b-9489-b2406b2c20e7"
   },
   "source": [
    "## Step 1: Define your custom function"
   ]
  },
  {
   "cell_type": "code",
   "execution_count": 1,
   "id": "3ec025d6-7e52-453c-aec2-4f1b8cd762d3",
   "metadata": {
    "executionInfo": {
     "elapsed": 528,
     "status": "ok",
     "timestamp": 1736053813750,
     "user": {
      "displayName": "prabha Melady",
      "userId": "18413778025838058766"
     },
     "user_tz": -480
    },
    "id": "3ec025d6-7e52-453c-aec2-4f1b8cd762d3"
   },
   "outputs": [],
   "source": [
    "def word_definition_quiz(word,definition_options):\n",
    "    '''\n",
    "    INPUTS:\n",
    "        word str = A single string representing a word\n",
    "        definition_options list[str] = A list of 4 potential defintions, where only one is correct!\n",
    "    OUTPUTS:\n",
    "        response str = The user selected definition\n",
    "    '''\n",
    "    print(\"Hello! Let's test your knowledge about words.\")\n",
    "    print(f\"What is the correct definition of this word: {word}\\n\")\n",
    "\n",
    "    for num,option in enumerate(definition_options):\n",
    "        print('\\n')\n",
    "        print(f\"Definition #{num} is: {option}\")\n",
    "\n",
    "    print('\\n')\n",
    "    num_choice = input(\"What is your choice? (Return the single number option)\")  # User has to input option\n",
    "\n",
    "    return definition_options[int(num_choice)]"
   ]
  },
  {
   "cell_type": "markdown",
   "id": "cf2e5631-b0cc-4245-b874-1f66020f66ac",
   "metadata": {
    "id": "cf2e5631-b0cc-4245-b874-1f66020f66ac"
   },
   "source": [
    "**Test the function.**"
   ]
  },
  {
   "cell_type": "code",
   "execution_count": 4,
   "id": "6339a308-2d9e-44e0-87d2-9919e2e0bcf8",
   "metadata": {
    "colab": {
     "base_uri": "https://localhost:8080/"
    },
    "executionInfo": {
     "elapsed": 31422,
     "status": "ok",
     "timestamp": 1736054274427,
     "user": {
      "displayName": "prabha Melady",
      "userId": "18413778025838058766"
     },
     "user_tz": -480
    },
    "id": "6339a308-2d9e-44e0-87d2-9919e2e0bcf8",
    "outputId": "8c6ed3c0-4a6e-4de5-cd34-e10dcb25950b"
   },
   "outputs": [
    {
     "name": "stdout",
     "output_type": "stream",
     "text": [
      "Hello! Let's test your knowledge about words.\n",
      "What is the correct definition of this word: serendipity\n",
      "\n",
      "\n",
      "\n",
      "Definition #0 is: The occurrence of events by chance in a happy or beneficial way.\n",
      "\n",
      "\n",
      "Definition #1 is: A feeling of intense fear, shock, or disgust.\n",
      "\n",
      "\n",
      "Definition #2 is: A method of painting using opaque pigments ground in water and thickened with a glue-like substance.\n",
      "\n",
      "\n",
      "Definition #3 is: The action of delaying or postponing something.\n",
      "\n",
      "\n",
      "What is your choice? (Return the single number option)0\n"
     ]
    }
   ],
   "source": [
    "word = \"serendipity\"\n",
    "definition_options = [\n",
    "    \"The occurrence of events by chance in a happy or beneficial way.\",\n",
    "    \"A feeling of intense fear, shock, or disgust.\",\n",
    "    \"A method of painting using opaque pigments ground in water and thickened with a glue-like substance.\",\n",
    "    \"The action of delaying or postponing something.\"\n",
    "]\n",
    "\n",
    "# Call the function with these arguments\n",
    "response = word_definition_quiz(word, definition_options)\n"
   ]
  },
  {
   "cell_type": "code",
   "execution_count": 5,
   "id": "93572753-cb4a-4dde-8a74-e3a1ff8aeb84",
   "metadata": {
    "colab": {
     "base_uri": "https://localhost:8080/",
     "height": 36
    },
    "executionInfo": {
     "elapsed": 365,
     "status": "ok",
     "timestamp": 1736054277029,
     "user": {
      "displayName": "prabha Melady",
      "userId": "18413778025838058766"
     },
     "user_tz": -480
    },
    "id": "93572753-cb4a-4dde-8a74-e3a1ff8aeb84",
    "outputId": "47f34511-ac09-4ea2-8c6e-fa1021171d35"
   },
   "outputs": [
    {
     "data": {
      "application/vnd.google.colaboratory.intrinsic+json": {
       "type": "string"
      },
      "text/plain": [
       "'The occurrence of events by chance in a happy or beneficial way.'"
      ]
     },
     "execution_count": 5,
     "metadata": {},
     "output_type": "execute_result"
    }
   ],
   "source": [
    "response"
   ]
  },
  {
   "cell_type": "markdown",
   "id": "cde6224a-8d72-4ea3-a89e-a261406b29fd",
   "metadata": {
    "id": "cde6224a-8d72-4ea3-a89e-a261406b29fd"
   },
   "source": [
    "## Step 2: Define Custom Function in JSON Format.\n",
    "\n",
    "Here is the example format that the Python function must be defined in, the most up to date information can be found in the OpenAI Documentation: https://platform.openai.com/docs/assistants/tools/function-calling.\n",
    "\n",
    "\n",
    "**JSON TOOLS DEFINITION GENERAL FORMAT:**"
   ]
  },
  {
   "cell_type": "markdown",
   "id": "02b83031-1db6-4500-b8c2-dc97dd24d2af",
   "metadata": {
    "id": "02b83031-1db6-4500-b8c2-dc97dd24d2af"
   },
   "source": [
    "    tool = {'type':'function',\n",
    "                'function':{\n",
    "                    'name': 'my_function_name',\n",
    "                    'parameters':{\n",
    "                        \"type\":\"object\",\n",
    "                          \"properties\":{\n",
    "                              \"parameter_one\": {'type':'string','description':\"A text description for the LLM of what this parameter should be. Note the JSON type.\"},\n",
    "                              \"parameter_two\":{'type':'integer','description':\"A text description for the LLM of this parameter, note the JSON type.\"}\n",
    "                          },\n",
    "                        'required' : ['parameter_one','parameter_two']\n",
    "                    }\n",
    "\n",
    "        }\n",
    "    }"
   ]
  },
  {
   "cell_type": "code",
   "execution_count": null,
   "id": "7fcbcc7a-4c03-492c-9641-e88ae510ed04",
   "metadata": {
    "id": "7fcbcc7a-4c03-492c-9641-e88ae510ed04"
   },
   "outputs": [],
   "source": [
    "# tool = {'type':'function',\n",
    "#             'function':{\n",
    "#                 'name': 'my_function_name',\n",
    "#                 'parameters':{\n",
    "#                     \"type\":\"object\",\n",
    "#                       \"properties\":{\n",
    "#                           \"parameter_one\": {'type':'string','description':\"A text description for the LLM of what this parameter should be. Note the JSON type.\"},\n",
    "#                           \"parameter_two\":{'type':'integer','description':\"A text description for the LLM of this parameter, note the JSON type.\"}\n",
    "#                       },\n",
    "#                     'required' : ['parameter_one','parameter_two']\n",
    "#                 }\n",
    "\n",
    "#     }\n",
    "# }"
   ]
  },
  {
   "cell_type": "code",
   "execution_count": 18,
   "id": "ec34461e-2cad-4838-927e-64e0b3ec2518",
   "metadata": {
    "executionInfo": {
     "elapsed": 290,
     "status": "ok",
     "timestamp": 1736054569012,
     "user": {
      "displayName": "prabha Melady",
      "userId": "18413778025838058766"
     },
     "user_tz": -480
    },
    "id": "ec34461e-2cad-4838-927e-64e0b3ec2518"
   },
   "outputs": [],
   "source": [
    "# https://community.openai.com/t/function-calling-passing-a-list-of-values/369032\n",
    "function_json = {'type':'function',\n",
    "            'function':{\n",
    "                'name': 'word_definition_quiz',\n",
    "                'parameters':{\n",
    "                    \"type\":\"object\",\n",
    "                      \"properties\":{\n",
    "                          \"word\": {'type':'string','description':\"A single word\"},\n",
    "                          \"definitions_list\":{'type':'array',\n",
    "                                        'items':{'type':'string'},  #As its array, we need to mention type of value/items in list\n",
    "                                        'description':\"A Python list of strings of definitions, with only one correct definition pertaining to the 'word' parameter. Just the string definitions.\"}\n",
    "                      },\n",
    "                    'required' : [\"word\",\"definitions_list\"]\n",
    "                }\n",
    "\n",
    "    }\n",
    "}"
   ]
  },
  {
   "cell_type": "markdown",
   "id": "db57b771-28d6-4ab5-bc15-de6bba4a2eeb",
   "metadata": {
    "id": "db57b771-28d6-4ab5-bc15-de6bba4a2eeb"
   },
   "source": [
    "## Step 3: Create Assistant with Function Calling Tool"
   ]
  },
  {
   "cell_type": "code",
   "execution_count": 7,
   "id": "1a6eaf6c-fbe4-4596-bac3-b249f46e8667",
   "metadata": {
    "executionInfo": {
     "elapsed": 5810,
     "status": "ok",
     "timestamp": 1736054417498,
     "user": {
      "displayName": "prabha Melady",
      "userId": "18413778025838058766"
     },
     "user_tz": -480
    },
    "id": "1a6eaf6c-fbe4-4596-bac3-b249f46e8667"
   },
   "outputs": [],
   "source": [
    "from openai import OpenAI\n",
    "import os\n",
    "from google.colab import userdata\n",
    "\n",
    "OPENAI_API_KEY = userdata.get('OPENAI_API_KEY')\n",
    "os.environ['OPENAI_API_KEY'] = OPENAI_API_KEY\n",
    "\n",
    "client = OpenAI()"
   ]
  },
  {
   "cell_type": "code",
   "execution_count": 19,
   "id": "1cbdfe24-513d-420e-8606-6c5ef2c006ba",
   "metadata": {
    "executionInfo": {
     "elapsed": 792,
     "status": "ok",
     "timestamp": 1736054571657,
     "user": {
      "displayName": "prabha Melady",
      "userId": "18413778025838058766"
     },
     "user_tz": -480
    },
    "id": "1cbdfe24-513d-420e-8606-6c5ef2c006ba"
   },
   "outputs": [],
   "source": [
    "assistant = client.beta.assistants.create(\n",
    "  instructions=\"You help create a quiz for checking defintions of words, providing a word and then multiple definition options, where only one option is correct.\",\n",
    "  model=\"gpt-3.5-turbo\",\n",
    "  tools=[function_json]\n",
    ")"
   ]
  },
  {
   "cell_type": "markdown",
   "id": "a7634161-3696-424a-9f61-369f525ad6fa",
   "metadata": {
    "id": "a7634161-3696-424a-9f61-369f525ad6fa"
   },
   "source": [
    "## Step 4: Create a Thread, Message, and Run\n",
    "- Here assistance will use some randm word and provides list of defination list"
   ]
  },
  {
   "cell_type": "code",
   "execution_count": 20,
   "id": "1c5a138a-554e-439d-81a7-c8775e0d418f",
   "metadata": {
    "executionInfo": {
     "elapsed": 622,
     "status": "ok",
     "timestamp": 1736054573665,
     "user": {
      "displayName": "prabha Melady",
      "userId": "18413778025838058766"
     },
     "user_tz": -480
    },
    "id": "1c5a138a-554e-439d-81a7-c8775e0d418f"
   },
   "outputs": [],
   "source": [
    "thread = client.beta.threads.create()"
   ]
  },
  {
   "cell_type": "code",
   "execution_count": 21,
   "id": "6ce74902-511e-4b18-8fe7-62ecf395ed8b",
   "metadata": {
    "executionInfo": {
     "elapsed": 738,
     "status": "ok",
     "timestamp": 1736054574800,
     "user": {
      "displayName": "prabha Melady",
      "userId": "18413778025838058766"
     },
     "user_tz": -480
    },
    "id": "6ce74902-511e-4b18-8fe7-62ecf395ed8b"
   },
   "outputs": [],
   "source": [
    "message = client.beta.threads.messages.create(\n",
    "    thread_id=thread.id,\n",
    "    role=\"user\",\n",
    "    content=\"Create a new quiz question word and definition list. Then let me know if the student answer recieved is correct.\",\n",
    ")"
   ]
  },
  {
   "cell_type": "code",
   "execution_count": 22,
   "id": "c9d1b41e-a8d2-4970-b246-641e8dbfd2b2",
   "metadata": {
    "executionInfo": {
     "elapsed": 2198,
     "status": "ok",
     "timestamp": 1736054578148,
     "user": {
      "displayName": "prabha Melady",
      "userId": "18413778025838058766"
     },
     "user_tz": -480
    },
    "id": "c9d1b41e-a8d2-4970-b246-641e8dbfd2b2"
   },
   "outputs": [],
   "source": [
    "run = client.beta.threads.runs.create(\n",
    "  thread_id=thread.id,\n",
    "  assistant_id=assistant.id)"
   ]
  },
  {
   "cell_type": "code",
   "execution_count": 12,
   "id": "88286dbf-11aa-4b12-84aa-2a3cfb6718f8",
   "metadata": {
    "executionInfo": {
     "elapsed": 323,
     "status": "ok",
     "timestamp": 1736054432958,
     "user": {
      "displayName": "prabha Melady",
      "userId": "18413778025838058766"
     },
     "user_tz": -480
    },
    "id": "88286dbf-11aa-4b12-84aa-2a3cfb6718f8"
   },
   "outputs": [],
   "source": [
    "import time\n",
    "\n",
    "def wait_on_run(run, thread):\n",
    "    while run.status == \"queued\" or run.status == \"in_progress\":\n",
    "        run = client.beta.threads.runs.retrieve(\n",
    "            thread_id=thread.id,\n",
    "            run_id=run.id,\n",
    "        )\n",
    "        time.sleep(0.5)\n",
    "    return run"
   ]
  },
  {
   "cell_type": "code",
   "execution_count": 23,
   "id": "cd28b3fe-3e43-4791-84c3-536ce5175e05",
   "metadata": {
    "executionInfo": {
     "elapsed": 1333,
     "status": "ok",
     "timestamp": 1736054583179,
     "user": {
      "displayName": "prabha Melady",
      "userId": "18413778025838058766"
     },
     "user_tz": -480
    },
    "id": "cd28b3fe-3e43-4791-84c3-536ce5175e05"
   },
   "outputs": [],
   "source": [
    "run = wait_on_run(run,thread)"
   ]
  },
  {
   "cell_type": "code",
   "execution_count": 24,
   "id": "70edd4e7-277e-4e5b-afd1-f42e5da9b754",
   "metadata": {
    "colab": {
     "base_uri": "https://localhost:8080/",
     "height": 36
    },
    "executionInfo": {
     "elapsed": 6,
     "status": "ok",
     "timestamp": 1736054584023,
     "user": {
      "displayName": "prabha Melady",
      "userId": "18413778025838058766"
     },
     "user_tz": -480
    },
    "id": "70edd4e7-277e-4e5b-afd1-f42e5da9b754",
    "outputId": "4764db78-4f94-442a-9089-88c3fd9be1f1"
   },
   "outputs": [
    {
     "data": {
      "application/vnd.google.colaboratory.intrinsic+json": {
       "type": "string"
      },
      "text/plain": [
       "'requires_action'"
      ]
     },
     "execution_count": 24,
     "metadata": {},
     "output_type": "execute_result"
    }
   ],
   "source": [
    "run.status"
   ]
  },
  {
   "cell_type": "markdown",
   "id": "17ebe0dc-a713-4fb9-b22e-c34ec591beaa",
   "metadata": {
    "id": "17ebe0dc-a713-4fb9-b22e-c34ec591beaa"
   },
   "source": [
    "## Step 5: Take Run Results and Call Function Locally"
   ]
  },
  {
   "cell_type": "code",
   "execution_count": 25,
   "id": "D1w7gTFW6O5h",
   "metadata": {
    "colab": {
     "base_uri": "https://localhost:8080/"
    },
    "executionInfo": {
     "elapsed": 412,
     "status": "ok",
     "timestamp": 1736054588307,
     "user": {
      "displayName": "prabha Melady",
      "userId": "18413778025838058766"
     },
     "user_tz": -480
    },
    "id": "D1w7gTFW6O5h",
    "outputId": "38ef0724-8cfe-4e34-c30d-6b056e650794"
   },
   "outputs": [
    {
     "data": {
      "text/plain": [
       "RequiredActionFunctionToolCall(id='call_uWrb5uusDjADyQO1Uh88SwBk', function=Function(arguments='{\"word\":\"ephemeral\",\"definitions_list\":[\"lasting for a very short time\",\"lasting for a long period of time\",\"occurring frequently\",\"having a strong scent\"]}', name='word_definition_quiz'), type='function')"
      ]
     },
     "execution_count": 25,
     "metadata": {},
     "output_type": "execute_result"
    }
   ],
   "source": [
    "run.required_action.submit_tool_outputs.tool_calls[0]\n",
    "# Here assistance created use some randm word ephemeral and provides list of defination list"
   ]
  },
  {
   "cell_type": "code",
   "execution_count": 26,
   "id": "4e8ae741-d53e-4e79-9c58-9c008b445968",
   "metadata": {
    "colab": {
     "base_uri": "https://localhost:8080/"
    },
    "executionInfo": {
     "elapsed": 644,
     "status": "ok",
     "timestamp": 1736054592497,
     "user": {
      "displayName": "prabha Melady",
      "userId": "18413778025838058766"
     },
     "user_tz": -480
    },
    "id": "4e8ae741-d53e-4e79-9c58-9c008b445968",
    "outputId": "c200028d-e9f4-405e-fc86-12ec259daae4"
   },
   "outputs": [
    {
     "name": "stdout",
     "output_type": "stream",
     "text": [
      "Function Name: word_definition_quiz\n",
      "Function Arguments:\n"
     ]
    },
    {
     "data": {
      "text/plain": [
       "{'word': 'ephemeral',\n",
       " 'definitions_list': ['lasting for a very short time',\n",
       "  'lasting for a long period of time',\n",
       "  'occurring frequently',\n",
       "  'having a strong scent']}"
      ]
     },
     "execution_count": 26,
     "metadata": {},
     "output_type": "execute_result"
    }
   ],
   "source": [
    "import json\n",
    "\n",
    "# Extract single tool call\n",
    "tool_call = run.required_action.submit_tool_outputs.tool_calls[0]\n",
    "name = tool_call.function.name\n",
    "arguments = json.loads(tool_call.function.arguments)\n",
    "\n",
    "print(\"Function Name:\", name)\n",
    "print(\"Function Arguments:\")\n",
    "arguments"
   ]
  },
  {
   "cell_type": "code",
   "execution_count": 27,
   "id": "4efb3f81-7e3c-40c5-9bd9-820d8b97ca2e",
   "metadata": {
    "colab": {
     "base_uri": "https://localhost:8080/"
    },
    "executionInfo": {
     "elapsed": 33677,
     "status": "ok",
     "timestamp": 1736054645131,
     "user": {
      "displayName": "prabha Melady",
      "userId": "18413778025838058766"
     },
     "user_tz": -480
    },
    "id": "4efb3f81-7e3c-40c5-9bd9-820d8b97ca2e",
    "outputId": "52d21321-c3be-4272-b4dd-286f109ab837"
   },
   "outputs": [
    {
     "name": "stdout",
     "output_type": "stream",
     "text": [
      "Hello! Let's test your knowledge about words.\n",
      "What is the correct definition of this word: ephemeral\n",
      "\n",
      "\n",
      "\n",
      "Definition #0 is: lasting for a very short time\n",
      "\n",
      "\n",
      "Definition #1 is: lasting for a long period of time\n",
      "\n",
      "\n",
      "Definition #2 is: occurring frequently\n",
      "\n",
      "\n",
      "Definition #3 is: having a strong scent\n",
      "\n",
      "\n",
      "What is your choice? (Return the single number option)3\n"
     ]
    }
   ],
   "source": [
    "answer = word_definition_quiz(arguments['word'],arguments['definitions_list'])"
   ]
  },
  {
   "cell_type": "code",
   "execution_count": 28,
   "id": "4af86723-6137-4c6b-8bf7-2d6869214b9e",
   "metadata": {
    "colab": {
     "base_uri": "https://localhost:8080/",
     "height": 36
    },
    "executionInfo": {
     "elapsed": 332,
     "status": "ok",
     "timestamp": 1736054647726,
     "user": {
      "displayName": "prabha Melady",
      "userId": "18413778025838058766"
     },
     "user_tz": -480
    },
    "id": "4af86723-6137-4c6b-8bf7-2d6869214b9e",
    "outputId": "f41c0780-85f6-46a3-bbca-65530c127b26"
   },
   "outputs": [
    {
     "data": {
      "application/vnd.google.colaboratory.intrinsic+json": {
       "type": "string"
      },
      "text/plain": [
       "'having a strong scent'"
      ]
     },
     "execution_count": 28,
     "metadata": {},
     "output_type": "execute_result"
    }
   ],
   "source": [
    "answer"
   ]
  },
  {
   "cell_type": "markdown",
   "id": "a8085730-40f8-4461-9bb8-63cbcae743e9",
   "metadata": {
    "id": "a8085730-40f8-4461-9bb8-63cbcae743e9"
   },
   "source": [
    "## Step 6: Return Local Function Response to the Tool in the Assistant"
   ]
  },
  {
   "cell_type": "code",
   "execution_count": 29,
   "id": "ad40f063-c2f8-4a4f-a2ae-875e520371d2",
   "metadata": {
    "executionInfo": {
     "elapsed": 1635,
     "status": "ok",
     "timestamp": 1736054891529,
     "user": {
      "displayName": "prabha Melady",
      "userId": "18413778025838058766"
     },
     "user_tz": -480
    },
    "id": "ad40f063-c2f8-4a4f-a2ae-875e520371d2"
   },
   "outputs": [],
   "source": [
    "run = client.beta.threads.runs.submit_tool_outputs(\n",
    "    thread_id=thread.id,\n",
    "    run_id=run.id,\n",
    "    tool_outputs=[\n",
    "        {\n",
    "            \"tool_call_id\": tool_call.id, #tool_call will have unique id\n",
    "            \"output\": json.dumps(answer),\n",
    "        }\n",
    "    ],\n",
    ")"
   ]
  },
  {
   "cell_type": "code",
   "execution_count": 30,
   "id": "7a8fcce5-4bd7-43fc-8619-69069b3ce681",
   "metadata": {
    "executionInfo": {
     "elapsed": 1400,
     "status": "ok",
     "timestamp": 1736054895369,
     "user": {
      "displayName": "prabha Melady",
      "userId": "18413778025838058766"
     },
     "user_tz": -480
    },
    "id": "7a8fcce5-4bd7-43fc-8619-69069b3ce681"
   },
   "outputs": [],
   "source": [
    "run = wait_on_run(run, thread)"
   ]
  },
  {
   "cell_type": "code",
   "execution_count": 31,
   "id": "5b741ded-b592-4254-b7cc-451e607afb35",
   "metadata": {
    "colab": {
     "base_uri": "https://localhost:8080/",
     "height": 36
    },
    "executionInfo": {
     "elapsed": 334,
     "status": "ok",
     "timestamp": 1736054896996,
     "user": {
      "displayName": "prabha Melady",
      "userId": "18413778025838058766"
     },
     "user_tz": -480
    },
    "id": "5b741ded-b592-4254-b7cc-451e607afb35",
    "outputId": "52805d51-371b-482a-df41-543e9e0c0941"
   },
   "outputs": [
    {
     "data": {
      "application/vnd.google.colaboratory.intrinsic+json": {
       "type": "string"
      },
      "text/plain": [
       "'completed'"
      ]
     },
     "execution_count": 31,
     "metadata": {},
     "output_type": "execute_result"
    }
   ],
   "source": [
    "run.status"
   ]
  },
  {
   "cell_type": "markdown",
   "id": "081325e0-f466-4401-85c1-abf91f44692d",
   "metadata": {
    "id": "081325e0-f466-4401-85c1-abf91f44692d"
   },
   "source": [
    "## Step 7: Retrieve Messages"
   ]
  },
  {
   "cell_type": "code",
   "execution_count": 32,
   "id": "b67e9508-e6cf-4ebd-981f-8fd912a4ca82",
   "metadata": {
    "executionInfo": {
     "elapsed": 841,
     "status": "ok",
     "timestamp": 1736054900319,
     "user": {
      "displayName": "prabha Melady",
      "userId": "18413778025838058766"
     },
     "user_tz": -480
    },
    "id": "b67e9508-e6cf-4ebd-981f-8fd912a4ca82"
   },
   "outputs": [],
   "source": [
    "messages = client.beta.threads.messages.list(thread.id)"
   ]
  },
  {
   "cell_type": "code",
   "execution_count": 33,
   "id": "1865380f-2c58-4650-bea2-e212e90b3663",
   "metadata": {
    "colab": {
     "base_uri": "https://localhost:8080/"
    },
    "executionInfo": {
     "elapsed": 1534,
     "status": "ok",
     "timestamp": 1736054904113,
     "user": {
      "displayName": "prabha Melady",
      "userId": "18413778025838058766"
     },
     "user_tz": -480
    },
    "id": "1865380f-2c58-4650-bea2-e212e90b3663",
    "outputId": "b2b41ec0-ee7e-46bd-a22f-ae110c59899c"
   },
   "outputs": [
    {
     "name": "stdout",
     "output_type": "stream",
     "text": [
      "The student's answer is incorrect. The correct definition of the word \"ephemeral\" is \"lasting for a very short time\".\n",
      "\n",
      "\n",
      "Create a new quiz question word and definition list. Then let me know if the student answer recieved is correct.\n",
      "\n",
      "\n"
     ]
    }
   ],
   "source": [
    "for thread_message in messages:\n",
    "    print(thread_message.content[0].text.value)\n",
    "    print('\\n')"
   ]
  },
  {
   "cell_type": "markdown",
   "id": "0011d4df-a85a-4ad7-9702-798b9ffd1f91",
   "metadata": {
    "id": "0011d4df-a85a-4ad7-9702-798b9ffd1f91"
   },
   "source": [
    "## Optional: Delete Assistant"
   ]
  },
  {
   "cell_type": "code",
   "execution_count": 34,
   "id": "8d1f15f7-014e-48ff-9d9a-51391d403911",
   "metadata": {
    "colab": {
     "base_uri": "https://localhost:8080/"
    },
    "executionInfo": {
     "elapsed": 1564,
     "status": "ok",
     "timestamp": 1736054923293,
     "user": {
      "displayName": "prabha Melady",
      "userId": "18413778025838058766"
     },
     "user_tz": -480
    },
    "id": "8d1f15f7-014e-48ff-9d9a-51391d403911",
    "outputId": "294b5250-0a80-4400-d793-db72beda097c"
   },
   "outputs": [
    {
     "name": "stdout",
     "output_type": "stream",
     "text": [
      "AssistantDeleted(id='asst_Z7g503iYbzrKminpljxjATnk', deleted=True, object='assistant.deleted')\n"
     ]
    }
   ],
   "source": [
    "my_assistants = client.beta.assistants.list(\n",
    "    order=\"desc\",\n",
    "    limit=\"20\",\n",
    ")\n",
    "response = client.beta.assistants.delete(my_assistants.data[0].id)\n",
    "print(response)"
   ]
  },
  {
   "cell_type": "code",
   "execution_count": null,
   "id": "24470ff9-1c0e-4853-b124-10e84b177430",
   "metadata": {
    "id": "24470ff9-1c0e-4853-b124-10e84b177430"
   },
   "outputs": [],
   "source": []
  }
 ],
 "metadata": {
  "colab": {
   "provenance": [],
   "toc_visible": true
  },
  "kernelspec": {
   "display_name": "Python 3 (ipykernel)",
   "language": "python",
   "name": "python3"
  },
  "language_info": {
   "codemirror_mode": {
    "name": "ipython",
    "version": 3
   },
   "file_extension": ".py",
   "mimetype": "text/x-python",
   "name": "python",
   "nbconvert_exporter": "python",
   "pygments_lexer": "ipython3",
   "version": "3.9.12"
  }
 },
 "nbformat": 4,
 "nbformat_minor": 5
}
