{
 "cells": [
  {
   "cell_type": "markdown",
   "id": "a6814bd5-1659-4177-bf47-99216abc64fc",
   "metadata": {
    "id": "a6814bd5-1659-4177-bf47-99216abc64fc"
   },
   "source": [
    "<center><a href=\"https://www.pieriantraining.com/\" ><img src=\"../PTCenteredPurple.png\" alt=\"Pierian Training Logo\" /></a></center>\n"
   ]
  },
  {
   "cell_type": "markdown",
   "id": "LPdJdXiEFCp0",
   "metadata": {
    "id": "LPdJdXiEFCp0"
   },
   "source": [
    "# Chat Completion Exercise\n",
    "\n",
    "- Executed in colab\n",
    "\n",
    "Before we dive into OpenAI Assistants, let's quickly test your knowledge with an exercise.\n",
    "\n",
    "**TASK**\n",
    "* Using a while loop, create a chat bot that answers questions about astronomy and the universe with simplified explanations that a 5 year old could understand."
   ]
  },
  {
   "cell_type": "markdown",
   "id": "b7b06ede-0019-47a1-8c00-7e3aabc71e7f",
   "metadata": {
    "id": "b7b06ede-0019-47a1-8c00-7e3aabc71e7f"
   },
   "source": [
    "# Chat Completion Exercise - SOLUTION\n",
    "\n",
    "\n",
    "Before we dive into OpenAI Assistants, let's quickly test your knowledge with an exercise.\n",
    "\n",
    "**TASK**\n",
    "* Using a while loop, create a chat bot that answers questions about astronomy and the universe with simplified explanations that a 5 year old could understand."
   ]
  },
  {
   "cell_type": "code",
   "execution_count": 1,
   "id": "e7837480-f85a-46b3-91e7-765e348f0c05",
   "metadata": {
    "executionInfo": {
     "elapsed": 2526,
     "status": "ok",
     "timestamp": 1735738502784,
     "user": {
      "displayName": "prabha Melady",
      "userId": "18413778025838058766"
     },
     "user_tz": -480
    },
    "id": "e7837480-f85a-46b3-91e7-765e348f0c05"
   },
   "outputs": [],
   "source": [
    "from openai import OpenAI"
   ]
  },
  {
   "cell_type": "code",
   "execution_count": 3,
   "id": "ADdBLTkpFHPa",
   "metadata": {
    "executionInfo": {
     "elapsed": 4214,
     "status": "ok",
     "timestamp": 1735738561835,
     "user": {
      "displayName": "prabha Melady",
      "userId": "18413778025838058766"
     },
     "user_tz": -480
    },
    "id": "ADdBLTkpFHPa"
   },
   "outputs": [],
   "source": [
    "import os\n",
    "from google.colab import userdata\n",
    "\n",
    "OPENAI_API_KEY = userdata.get('OPENAI_API_KEY')\n",
    "os.environ['OPENAI_API_KEY'] = OPENAI_API_KEY"
   ]
  },
  {
   "cell_type": "code",
   "execution_count": 4,
   "id": "95bd9cf8-9f89-4ce2-823a-0dbe27ae5590",
   "metadata": {
    "executionInfo": {
     "elapsed": 619,
     "status": "ok",
     "timestamp": 1735738562452,
     "user": {
      "displayName": "prabha Melady",
      "userId": "18413778025838058766"
     },
     "user_tz": -480
    },
    "id": "95bd9cf8-9f89-4ce2-823a-0dbe27ae5590"
   },
   "outputs": [],
   "source": [
    "client = OpenAI()"
   ]
  },
  {
   "cell_type": "code",
   "execution_count": 5,
   "id": "b8d812ce-2d81-4ca6-aeae-4acbae27d28e",
   "metadata": {
    "colab": {
     "base_uri": "https://localhost:8080/"
    },
    "executionInfo": {
     "elapsed": 238836,
     "status": "ok",
     "timestamp": 1735738802498,
     "user": {
      "displayName": "prabha Melady",
      "userId": "18413778025838058766"
     },
     "user_tz": -480
    },
    "id": "b8d812ce-2d81-4ca6-aeae-4acbae27d28e",
    "outputId": "0220556d-928e-4776-a4b3-7bba5fca53ac"
   },
   "outputs": [
    {
     "name": "stdout",
     "output_type": "stream",
     "text": [
      "Welcome to our discussion about the universe! What would you like to know? (To end our chat, type: 'BYE')\n",
      "\n",
      "\n",
      "\n",
      "how many planets in our universe?\n",
      "\n",
      "\n",
      "In our solar system, which is where we live, there are eight planets. These planets are Mercury, Venus, Earth, Mars, Jupiter, Saturn, Uranus, and Neptune. \n",
      "\n",
      "But in the whole universe, there are so many planets that we can't even count them all! There are billions and billions of planets out there in space, just like how we have lots of sand grains on a beach. Some planets are big like Jupiter, some are small like Mercury, and some are even different colors! Scientists are still exploring and discovering new planets all the time. \n",
      "\n",
      "So, there are many, many planets in the universe for us to learn about and explore!\n",
      "\n",
      "\n",
      "what is milky way galaxy ?\n",
      "\n",
      "\n",
      "Imagine the Milky Way galaxy as a huge city made up of lots and lots of buildings! But instead of buildings, the Milky Way galaxy is filled with stars, planets, and other space stuff.\n",
      "\n",
      "We live in the Milky Way galaxy, and it is so big that it would take us thousands of years to travel from one end to the other if we could even move that fast! The Milky Way is shaped like a huge spiral, with long arms stretching out from the center.\n",
      "\n",
      "In the night sky, when we look up and see a band of light streaking across, that's actually the Milky Way galaxy! It's made up of billions of stars, including our Sun. And just like how there are many different houses in a city, there are many different stars and planets in the Milky Way galaxy.\n",
      "\n",
      "So, the Milky Way galaxy is like a giant neighborhood in space where we live, surrounded by billions of other stars and planets!\n",
      "\n",
      "\n",
      "how to explain universe and sun for kids\n",
      "\n",
      "\n",
      "Imagine the universe as a giant playground where you can find everything that exists – planets, stars, moons, comets, and everything else! It's like the biggest, most amazing playground you can think of.\n",
      "\n",
      "Now, let's talk about the Sun. The Sun is like a big, bright ball of fire that sits in the center of our solar system. It's like a super bright and shiny ball that gives us light and warmth every day. \n",
      "\n",
      "Just like how a light bulb lights up a room, the Sun lights up our whole solar system. It's so huge that you could fit a million Earths inside it! The Sun is very important because it helps plants grow, keeps us warm, and makes daytime bright and cheerful.\n",
      "\n",
      "So, in the universe playground, the Sun is like the brightest and most special toy that helps everything around it stay happy and healthy.\n",
      "\n",
      "\n",
      "BYE\n",
      "\n",
      "\n",
      "Goodbye! If you have any more questions in the future, feel free to ask. Have a great day!\n",
      "\n",
      "\n"
     ]
    }
   ],
   "source": [
    "print(\"Welcome to our discussion about the universe! What would you like to know? (To end our chat, type: 'BYE')\\n\\n\\n\")\n",
    "question = ''\n",
    "\n",
    "messages = [{'role':'system','content':'You explain concepts about space, the universe and astronomy in easy to understand terms for a 5 year old.'}]\n",
    "\n",
    "while question != 'BYE':\n",
    "    # Get User Question\n",
    "    question = input(\"\")\n",
    "\n",
    "    # Add to messages/dialogue history\n",
    "    messages.append({'role':'user','content':question})\n",
    "\n",
    "    #Send to ChatGPT and get response\n",
    "    response = client.chat.completions.create(\n",
    "          model=\"gpt-3.5-turbo\",\n",
    "          messages=messages)\n",
    "\n",
    "    # Get content of assistant reply\n",
    "    reply = response.choices[0].message.content\n",
    "    print('\\n')\n",
    "    print(reply)\n",
    "    print('\\n')\n",
    "    # Add assistant reply for dialogue history\n",
    "    messages.append({'role':'assistant','content':reply})"
   ]
  },
  {
   "cell_type": "code",
   "execution_count": null,
   "id": "5b3164d4-7baa-46d2-ac65-76f1189a9d1c",
   "metadata": {
    "id": "5b3164d4-7baa-46d2-ac65-76f1189a9d1c"
   },
   "outputs": [],
   "source": []
  }
 ],
 "metadata": {
  "colab": {
   "provenance": []
  },
  "kernelspec": {
   "display_name": "Python 3 (ipykernel)",
   "language": "python",
   "name": "python3"
  },
  "language_info": {
   "codemirror_mode": {
    "name": "ipython",
    "version": 3
   },
   "file_extension": ".py",
   "mimetype": "text/x-python",
   "name": "python",
   "nbconvert_exporter": "python",
   "pygments_lexer": "ipython3",
   "version": "3.9.12"
  }
 },
 "nbformat": 4,
 "nbformat_minor": 5
}
