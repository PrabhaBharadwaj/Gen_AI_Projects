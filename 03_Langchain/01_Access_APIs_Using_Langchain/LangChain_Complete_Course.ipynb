{
 "cells": [
  {
   "cell_type": "markdown",
   "id": "54280118",
   "metadata": {},
   "source": [
    "# Basic Langchain Code\n",
    "- Holds Calling OpenAI API, HuggingFace API, Gemini(Google) API Connection examples from **Langchain**"
   ]
  },
  {
   "cell_type": "code",
   "execution_count": 19,
   "metadata": {},
   "outputs": [
    {
     "data": {
      "text/plain": [
       "True"
      ]
     },
     "execution_count": 19,
     "metadata": {},
     "output_type": "execute_result"
    }
   ],
   "source": [
    "import langchain\n",
    "\n",
    "# This is to read OPEN API KEYS from .env file which we created\n",
    "from dotenv import load_dotenv\n",
    "load_dotenv()  # take environment variables from .env."
   ]
  },
  {
   "cell_type": "markdown",
   "id": "726848b4",
   "metadata": {},
   "source": [
    "## Read API Keys from environment file .env"
   ]
  },
  {
   "cell_type": "code",
   "execution_count": 20,
   "id": "efe23463",
   "metadata": {},
   "outputs": [],
   "source": [
    "import os\n",
    "GOOGLE_API_KEY=os.getenv(\"GOOGLE_API_KEY\")"
   ]
  },
  {
   "cell_type": "code",
   "execution_count": 21,
   "id": "73f96202",
   "metadata": {},
   "outputs": [
    {
     "data": {
      "text/plain": [
       "'hf_HYYUqMs'"
      ]
     },
     "execution_count": 21,
     "metadata": {},
     "output_type": "execute_result"
    }
   ],
   "source": [
    "HUGGINGFACE_TOKEN=os.getenv(\"HUGGINGFACE_TOKEN\")\n",
    "HUGGINGFACE_TOKEN[:10]"
   ]
  },
  {
   "cell_type": "code",
   "execution_count": 22,
   "id": "da55b515",
   "metadata": {},
   "outputs": [],
   "source": [
    "OPENAI_API_KEY=os.getenv(\"OPENAI_API_KEY\")  \n",
    "# Here OPENAI_API_KEY is a standard parameter name used in openai, \n",
    "# so no need to pass this explicitly below while calling LLM model"
   ]
  },
  {
   "cell_type": "markdown",
   "id": "212fb50d",
   "metadata": {},
   "source": [
    "# Langchain with openai api"
   ]
  },
  {
   "cell_type": "code",
   "execution_count": 23,
   "id": "352e8ef5",
   "metadata": {},
   "outputs": [],
   "source": [
    "import openai\n",
    "from langchain.llms import OpenAI"
   ]
  },
  {
   "cell_type": "code",
   "execution_count": 24,
   "id": "c8bf2e21",
   "metadata": {},
   "outputs": [],
   "source": [
    "\n",
    "# Here OPENAI_API_KEY is a standard parameter name used in openai and assigned above,\n",
    "# so no need to pass this explicitly below while calling LLM model\n",
    "\n",
    "llm = OpenAI() #This is langchain openai LLM's. It has list of OPENAI models\n",
    "#llm = OpenAI(openai_api_key=\"YOUR_API_KEY\", openai_organization=\"YOUR_ORGANIZATION_ID\") #Another Way"
   ]
  },
  {
   "cell_type": "code",
   "execution_count": 25,
   "id": "8ddd2d6a",
   "metadata": {},
   "outputs": [
    {
     "name": "stdout",
     "output_type": "stream",
     "text": [
      "\n",
      "\n",
      "China, officially known as the People's Republic of China, is a country located in East Asia. It is the world's most populous country, with a population of over 1.4 billion people. China is also the fourth largest country by land area, covering an area of 9.6 million square kilometers.\n",
      "\n",
      "China has a long and rich history, with evidence of human habitation dating back to over 1.7 million years ago. It has been ruled by various dynasties and empires, including the Han, Tang, Ming, and Qing dynasties. In 1949, the Communist Party of China established the People's Republic of China, which remains the current political system.\n",
      "\n",
      "China is known for its diverse landscape, including mountains, rivers, deserts, and coastlines. It has a varied climate, from subarctic in the north to tropical in the south. Some of its famous landmarks include the Great Wall of China, the Forbidden City, and the Terracotta Army.\n",
      "\n",
      "Economically, China has undergone rapid development and is now the second largest economy in the world. Its major industries include manufacturing, agriculture, and services. China is also a major exporter of goods, including electronics, textiles, and machinery.\n",
      "\n",
      "Chinese culture is\n"
     ]
    }
   ],
   "source": [
    "text=\"can you tell me about the china?\"\n",
    "print(llm.predict(text))"
   ]
  },
  {
   "cell_type": "markdown",
   "id": "43d943cf",
   "metadata": {},
   "source": [
    "# Langchain with Huggingface hub"
   ]
  },
  {
   "cell_type": "code",
   "execution_count": 26,
   "id": "23d7cdf2",
   "metadata": {},
   "outputs": [],
   "source": [
    "from langchain import HuggingFaceHub"
   ]
  },
  {
   "cell_type": "code",
   "execution_count": 27,
   "id": "06525435",
   "metadata": {},
   "outputs": [
    {
     "name": "stdout",
     "output_type": "stream",
     "text": [
      "'  ?'\n"
     ]
    }
   ],
   "source": [
    "llm2=HuggingFaceHub(repo_id=\"google/flan-t5-large\",huggingfacehub_api_token=HUGGINGFACE_TOKEN)\n",
    "print(llm2(\"'how old are you?'please translate it in hindi\"))"
   ]
  },
  {
   "cell_type": "code",
   "execution_count": 28,
   "id": "5623dd5a",
   "metadata": {},
   "outputs": [
    {
     "name": "stdout",
     "output_type": "stream",
     "text": [
      "'how old are you?'please translate it in hindi\n",
      "\n",
      "To translate \"How old are you?\" into Hindi, you can use the following phrase:\n",
      "\n",
      "\"आपका उस साल किताब कैसे है?\"\n",
      "\n",
      "This phrase can be broken down as follows:\n",
      "\n",
      "* \"आप\" (ap) means \"you\"\n",
      "* \"का\" (kā) is a suffix used to indicate possession\n",
      "* \"उस\" (us\n"
     ]
    }
   ],
   "source": [
    "# Here \"google/flan-t5-large\" model didnt give any result\n",
    "llm2=HuggingFaceHub(repo_id=\"mistralai/Mistral-7B-Instruct-v0.2\",huggingfacehub_api_token=HUGGINGFACE_TOKEN)\n",
    "print(llm2(\"'how old are you?'please translate it in hindi\"))\n"
   ]
  },
  {
   "cell_type": "code",
   "execution_count": 29,
   "id": "deab80e2",
   "metadata": {},
   "outputs": [
    {
     "name": "stdout",
     "output_type": "stream",
     "text": [
      "what is the capital city of India?\n",
      "\n",
      "New Delhi is the capital city of India. It is a city that combines the old and the new, with historic sites and modern infrastructure. New Delhi is located in the northern part of India and is the political and administrative hub of the country. It is home to many government buildings, embassies, and diplomatic missions. The city is also known for its vibrant culture, delicious food, and bustling markets. Some popular tourist attractions in New Delhi include the Red Fort\n"
     ]
    }
   ],
   "source": [
    "llm3=HuggingFaceHub(repo_id=\"mistralai/Mistral-7B-Instruct-v0.2\",huggingfacehub_api_token=HUGGINGFACE_TOKEN)\n",
    "print(llm3(\"what is the capital city of India?\"))"
   ]
  },
  {
   "cell_type": "code",
   "execution_count": 30,
   "id": "66dc4b9d",
   "metadata": {},
   "outputs": [
    {
     "name": "stdout",
     "output_type": "stream",
     "text": [
      "can you give me 200 line of summary on the capital city of India New Delhi\n",
      "\n",
      "New Delhi, the capital city of India, is a bustling metropolis and a political, cultural, and commercial hub. It is located in the northern part of India, in the National Capital Territory of Delhi. The city was founded in 1911 by the British Raj as a replacement for Calcutta as the capital of India.\n",
      "\n",
      "New Delhi is a city of contrasts, where ancient monuments and modern infrastructure coexist. The city is\n"
     ]
    }
   ],
   "source": [
    "print(llm3.predict(\"can you give me 200 line of summary on the capital city of India\"))"
   ]
  },
  {
   "cell_type": "markdown",
   "id": "7c2815b0",
   "metadata": {},
   "source": [
    "# Lanchain with gemini api"
   ]
  },
  {
   "cell_type": "code",
   "execution_count": 31,
   "id": "44fd6cc0",
   "metadata": {},
   "outputs": [],
   "source": [
    "from langchain_google_genai import ChatGoogleGenerativeAI"
   ]
  },
  {
   "cell_type": "code",
   "execution_count": 32,
   "id": "4ce50b12",
   "metadata": {},
   "outputs": [
    {
     "data": {
      "text/plain": [
       "'Washington, D.C.'"
      ]
     },
     "execution_count": 32,
     "metadata": {},
     "output_type": "execute_result"
    }
   ],
   "source": [
    "llm4=ChatGoogleGenerativeAI(model=\"gemini-pro\",google_api_key=GOOGLE_API_KEY)\n",
    "llm4.predict(\"what is capital of usa?\")"
   ]
  },
  {
   "cell_type": "code",
   "execution_count": 33,
   "id": "ddcd9afb",
   "metadata": {},
   "outputs": [
    {
     "data": {
      "text/plain": [
       "'Washington, D.C.'"
      ]
     },
     "execution_count": 33,
     "metadata": {},
     "output_type": "execute_result"
    }
   ],
   "source": [
    "llm4.invoke(\"what is capital of usa?\").content"
   ]
  },
  {
   "cell_type": "markdown",
   "id": "288946c4",
   "metadata": {},
   "source": [
    "# END"
   ]
  }
 ],
 "metadata": {
  "kernelspec": {
   "display_name": "Python 3",
   "language": "python",
   "name": "python3"
  },
  "language_info": {
   "codemirror_mode": {
    "name": "ipython",
    "version": 3
   },
   "file_extension": ".py",
   "mimetype": "text/x-python",
   "name": "python",
   "nbconvert_exporter": "python",
   "pygments_lexer": "ipython3",
   "version": "3.9.18"
  }
 },
 "nbformat": 4,
 "nbformat_minor": 5
}
