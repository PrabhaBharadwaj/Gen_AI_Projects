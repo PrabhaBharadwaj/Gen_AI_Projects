{
  "cells": [
    {
      "cell_type": "markdown",
      "metadata": {
        "id": "fUKAsf3TgeJD"
      },
      "source": [
        "# **Multimodal_RAG_Image_text_table_summarize_Langchain_Chrom(GPT4V_GeminiProV)**\n",
        "\n",
        "- Here we built **MultiModal RAG** using **Unstructured partition** package\n",
        "- Applied **ChromDB indexing on Summarized Text/Image/Table** using **Gemini or openAI embedding**\n",
        "- Used **Langchains MultivectorRetrival** Approach to retrive the vector DB\n",
        "- Used Multimodal **GPT 4V or Gemini Pro vision** as Final LLM Model. Created **RAG Chain** on that\n",
        "\n",
        "## Best Multimodal Langchain link:\n",
        "- https://blog.langchain.dev/semi-structured-multi-modal-rag/\n",
        "\n",
        "## **Architecture**\n",
        "  ![plot](images/Architecture_1.png)\n",
        "\n",
        "## **Colab Folder**\n",
        "  ![plot](images/Colab_folder_2.png)\n",
        "  ![plot](images/Extracted_image_yolo_5.png)\n",
        "\n",
        "### **Install Package by PIP Install and sudo apt install**\n",
        "- pip is used to install python packages only, but apt-get is used to install packages created in any programming language.\n",
        "- **Canonical/sudo apt** only hosts a **single version of any package** (generally the **latest** or the one released in recent past). So, with apt-get we cannot decide the version of python-package that we want. pip helps us in this situation.In **Pip** We can install **any version** of the package that has previously been uploaded on PyPI.\n",
        "- apt-get installs python modules in **system-wide location.** We cannot just install modules in our project virtualenv. pip solves this problem for us. As mentioned in previous point, if there is a version of a **particular python package already installed in system-wide location**, and one of our project requires an **older version** of the same python package, in **such situations we can use virtualenv and pip to install** that older version of python package without any conflicts.\n",
        "\n",
        "\n",
        "\n",
        "- This give you the right name for the package you want to install\n",
        "  - apt-cache search pyudev\n",
        "  - pip search pyudev\n",
        "\n"
      ]
    },
    {
      "cell_type": "markdown",
      "metadata": {
        "id": "CD6pS0FbAIYz"
      },
      "source": [
        "# **STEP FOLLOWED:**\n",
        "\n",
        "### **1. Data Parsing and Preprocessing**\n",
        "- Create Folder - data and upload pdf in folders\n",
        "- Use **partition_pdf** reader to read **unstructured file**\n",
        "\t- In below process, it reads text , image and tabular data with different element name like Header/Footer/Narrative text/ListItem, image, table respectively.\n",
        "\t- Here it reads table also as image.\n",
        "\t- Here it captures image and tables as image in specified folder and it holds text converted info of image and tabular\n",
        "\n",
        "\n",
        "- **Sample Image with extracted detail in tesxt**\n",
        "  ![plot](images/Extracted_image_4.png)\n",
        "  ![plot](images/Extracted_image_yolo_5.1.png)\n",
        "\n",
        "- Append each element(Text/Table/Image) to sepearate list\n",
        "\n",
        "\n",
        "### **2. Start Summary(Convert to text) on each element(Text/Image/Table) Using Gemini Pro Vision Or OpenAI GPT4 Vision**, We dont have gpt 4V access, so using Gemin pro V Model (Connect to Gemini Pro Vision)\n",
        "\t- Get All **(Text/Table/Image)**  Summary by Prompt individually\n",
        "\n",
        " - **Sample Extracted Table**\n",
        "  ![plot](images/Extracted_table_3.png)\n",
        "  ![plot](images/Extracted_table_yolo_6.png)\n",
        "\n",
        "- **Sample Image with summary**\n",
        "\n",
        "  ![plot](images/Extracted_image_yolo_7.png)\n",
        "\n",
        "### **3. Creating VectorDB and MultiVector Retriever**\n",
        "- Here **Index** created on **summarized Text/Table/Image data** to Vector DB **Chroma**\n",
        "- Then use Langchain **MultiVectorRetriever** to retrive the context of text and image\n",
        "\t- Function: Create retriever that indexes summaries, but returns raw images or texts\n",
        "\t- Create Chroma vectore db in memory with name - **mm_rag** by passing **OpenAIEmbeddings() or Gemini Embedding**\n",
        "\n",
        "- Create **retrival - retriever_multi_vector_img**\n",
        "\n",
        "### **4. Create Final RAG**\n",
        "- Create set of function to process Image\n",
        "- split_image_text_types - Retrive's I/P Q:\n",
        "\t- This splits Input as Image or text before passing into Retriver(Chroma db for retrival)\n",
        "- img_prompt_func - LLM's feeding I/P Context\n",
        "\t- This joins Image and text O/P from Retriver(Chroma db for retrival) before passing to final LLM\n",
        "- Create final MultiModal RAG using **ChatGoogleGenerativeAI**\n",
        "\n",
        "### **5.1 Validate the Retriver with ex Q**\n",
        "### **5.2 Validate the Final RAG Chain with ex Q**"
      ]
    },
    {
      "cell_type": "markdown",
      "metadata": {
        "id": "zZCGtH8aCrhM"
      },
      "source": [
        "# **1.Data Parsing and Preprocessing**"
      ]
    },
    {
      "cell_type": "code",
      "execution_count": 1,
      "metadata": {
        "colab": {
          "base_uri": "https://localhost:8080/",
          "height": 270
        },
        "id": "8zNnObRAqSOR",
        "outputId": "72d97b93-f71c-482a-88b8-1e6c1bffa482"
      },
      "outputs": [
        {
          "name": "stdout",
          "output_type": "stream",
          "text": [
            "Collecting pillow==10.0.1\n",
            "  Downloading Pillow-10.0.1-cp310-cp310-manylinux_2_28_x86_64.whl (3.6 MB)\n",
            "\u001b[2K     \u001b[90m━━━━━━━━━━━━━━━━━━━━━━━━━━━━━━━━━━━━━━━━\u001b[0m \u001b[32m3.6/3.6 MB\u001b[0m \u001b[31m14.4 MB/s\u001b[0m eta \u001b[36m0:00:00\u001b[0m\n",
            "\u001b[?25hInstalling collected packages: pillow\n",
            "  Attempting uninstall: pillow\n",
            "    Found existing installation: Pillow 9.4.0\n",
            "    Uninstalling Pillow-9.4.0:\n",
            "      Successfully uninstalled Pillow-9.4.0\n",
            "Successfully installed pillow-10.0.1\n"
          ]
        },
        {
          "data": {
            "application/vnd.colab-display-data+json": {
              "id": "759978ab81924eb5ae4bacddba6bdd72",
              "pip_warning": {
                "packages": [
                  "PIL"
                ]
              }
            }
          },
          "metadata": {},
          "output_type": "display_data"
        }
      ],
      "source": [
        "!pip install pillow==10.0.1  #. imageio 2.31.6 requires pillow<10.1.0,>=8.3.2,"
      ]
    },
    {
      "cell_type": "code",
      "execution_count": 1,
      "metadata": {
        "colab": {
          "base_uri": "https://localhost:8080/"
        },
        "id": "4rQa1vCdaDhv",
        "outputId": "bf4a1677-6676-4f41-ad95-171db00b50dd"
      },
      "outputs": [
        {
          "name": "stdout",
          "output_type": "stream",
          "text": [
            "  Preparing metadata (setup.py) ... \u001b[?25l\u001b[?25hdone\n",
            "\u001b[2K     \u001b[90m━━━━━━━━━━━━━━━━━━━━━━━━━━━━━━━━━━━━━━━━\u001b[0m \u001b[32m159.9/159.9 kB\u001b[0m \u001b[31m1.7 MB/s\u001b[0m eta \u001b[36m0:00:00\u001b[0m\n",
            "\u001b[2K     \u001b[90m━━━━━━━━━━━━━━━━━━━━━━━━━━━━━━━━━━━━━━━━\u001b[0m \u001b[32m49.3/49.3 kB\u001b[0m \u001b[31m6.4 MB/s\u001b[0m eta \u001b[36m0:00:00\u001b[0m\n",
            "\u001b[2K     \u001b[90m━━━━━━━━━━━━━━━━━━━━━━━━━━━━━━━━━━━━━━━━\u001b[0m \u001b[32m114.6/114.6 kB\u001b[0m \u001b[31m8.9 MB/s\u001b[0m eta \u001b[36m0:00:00\u001b[0m\n",
            "\u001b[2K     \u001b[90m━━━━━━━━━━━━━━━━━━━━━━━━━━━━━━━━━━━━━━━━\u001b[0m \u001b[32m80.8/80.8 kB\u001b[0m \u001b[31m8.1 MB/s\u001b[0m eta \u001b[36m0:00:00\u001b[0m\n",
            "\u001b[2K     \u001b[90m━━━━━━━━━━━━━━━━━━━━━━━━━━━━━━━━━━━━━━━━\u001b[0m \u001b[32m46.0/46.0 kB\u001b[0m \u001b[31m6.3 MB/s\u001b[0m eta \u001b[36m0:00:00\u001b[0m\n",
            "\u001b[2K     \u001b[90m━━━━━━━━━━━━━━━━━━━━━━━━━━━━━━━━━━━━━━━━\u001b[0m \u001b[32m42.2/42.2 kB\u001b[0m \u001b[31m5.6 MB/s\u001b[0m eta \u001b[36m0:00:00\u001b[0m\n",
            "\u001b[?25h  Preparing metadata (setup.py) ... \u001b[?25l\u001b[?25hdone\n",
            "\u001b[2K     \u001b[90m━━━━━━━━━━━━━━━━━━━━━━━━━━━━━━━━━━━━━━━━\u001b[0m \u001b[32m56.4/56.4 kB\u001b[0m \u001b[31m5.3 MB/s\u001b[0m eta \u001b[36m0:00:00\u001b[0m\n",
            "\u001b[2K     \u001b[90m━━━━━━━━━━━━━━━━━━━━━━━━━━━━━━━━━━━━━━━━\u001b[0m \u001b[32m112.5/112.5 kB\u001b[0m \u001b[31m8.9 MB/s\u001b[0m eta \u001b[36m0:00:00\u001b[0m\n",
            "\u001b[2K     \u001b[90m━━━━━━━━━━━━━━━━━━━━━━━━━━━━━━━━━━━━━━━━\u001b[0m \u001b[32m86.8/86.8 kB\u001b[0m \u001b[31m9.6 MB/s\u001b[0m eta \u001b[36m0:00:00\u001b[0m\n",
            "\u001b[2K     \u001b[90m━━━━━━━━━━━━━━━━━━━━━━━━━━━━━━━━━━━━━━━━\u001b[0m \u001b[32m2.2/2.2 MB\u001b[0m \u001b[31m16.5 MB/s\u001b[0m eta \u001b[36m0:00:00\u001b[0m\n",
            "\u001b[2K     \u001b[90m━━━━━━━━━━━━━━━━━━━━━━━━━━━━━━━━━━━━━━━━\u001b[0m \u001b[32m79.5/79.5 kB\u001b[0m \u001b[31m7.7 MB/s\u001b[0m eta \u001b[36m0:00:00\u001b[0m\n",
            "\u001b[2K     \u001b[90m━━━━━━━━━━━━━━━━━━━━━━━━━━━━━━━━━━━━━━━━\u001b[0m \u001b[32m2.8/2.8 MB\u001b[0m \u001b[31m51.3 MB/s\u001b[0m eta \u001b[36m0:00:00\u001b[0m\n",
            "\u001b[2K     \u001b[90m━━━━━━━━━━━━━━━━━━━━━━━━━━━━━━━━━━━━━━━━\u001b[0m \u001b[32m117.0/117.0 kB\u001b[0m \u001b[31m15.6 MB/s\u001b[0m eta \u001b[36m0:00:00\u001b[0m\n",
            "\u001b[?25h  Preparing metadata (setup.py) ... \u001b[?25l\u001b[?25hdone\n",
            "  Building wheel for langdetect (setup.py) ... \u001b[?25l\u001b[?25hdone\n",
            "  Building wheel for iopath (setup.py) ... \u001b[?25l\u001b[?25hdone\n",
            "  Building wheel for antlr4-python3-runtime (setup.py) ... \u001b[?25l\u001b[?25hdone\n"
          ]
        }
      ],
      "source": [
        "! pip install \"unstructured[all-docs]\" pillow pydantic lxml pillow matplotlib -q"
      ]
    },
    {
      "cell_type": "code",
      "execution_count": 2,
      "metadata": {
        "colab": {
          "base_uri": "https://localhost:8080/"
        },
        "id": "a3W2ooY3OYfT",
        "outputId": "4899102b-5d31-4823-f337-4605598b54df"
      },
      "outputs": [
        {
          "name": "stdout",
          "output_type": "stream",
          "text": [
            "\r0% [Working]\r            \rHit:1 http://archive.ubuntu.com/ubuntu jammy InRelease\n",
            "\r0% [Waiting for headers] [Waiting for headers] [Connecting to ppa.launchpadcont\r                                                                               \rGet:2 http://security.ubuntu.com/ubuntu jammy-security InRelease [110 kB]\n",
            "\r                                                                               \rGet:3 https://cloud.r-project.org/bin/linux/ubuntu jammy-cran40/ InRelease [3,626 B]\n",
            "\r0% [Waiting for headers] [2 InRelease 14.2 kB/110 kB 13%] [Connecting to ppa.la\r                                                                               \rGet:4 http://archive.ubuntu.com/ubuntu jammy-updates InRelease [119 kB]\n",
            "\r0% [4 InRelease 12.7 kB/119 kB 11%] [2 InRelease 20.0 kB/110 kB 18%] [Connectin\r                                                                               \rGet:5 https://developer.download.nvidia.com/compute/cuda/repos/ubuntu2204/x86_64  InRelease [1,581 B]\n",
            "Get:6 http://archive.ubuntu.com/ubuntu jammy-backports InRelease [109 kB]\n",
            "Get:7 https://developer.download.nvidia.com/compute/cuda/repos/ubuntu2204/x86_64  Packages [830 kB]\n",
            "Get:8 http://security.ubuntu.com/ubuntu jammy-security/universe amd64 Packages [1,082 kB]\n",
            "Hit:9 https://ppa.launchpadcontent.net/c2d4u.team/c2d4u4.0+/ubuntu jammy InRelease\n",
            "Get:10 http://archive.ubuntu.com/ubuntu jammy-updates/universe amd64 Packages [1,374 kB]\n",
            "Hit:11 https://ppa.launchpadcontent.net/deadsnakes/ppa/ubuntu jammy InRelease\n",
            "Get:12 http://security.ubuntu.com/ubuntu jammy-security/main amd64 Packages [1,798 kB]\n",
            "Hit:13 https://ppa.launchpadcontent.net/graphics-drivers/ppa/ubuntu jammy InRelease\n",
            "Get:14 http://archive.ubuntu.com/ubuntu jammy-updates/main amd64 Packages [2,069 kB]\n",
            "Hit:15 https://ppa.launchpadcontent.net/ubuntugis/ppa/ubuntu jammy InRelease\n",
            "Fetched 7,496 kB in 2s (3,992 kB/s)\n",
            "Reading package lists... Done\n"
          ]
        }
      ],
      "source": [
        "!sudo apt-get update  # Some pkg not available in pip, so installing from apt-get , so updating apt-get with latest version"
      ]
    },
    {
      "cell_type": "code",
      "execution_count": 3,
      "metadata": {
        "colab": {
          "base_uri": "https://localhost:8080/"
        },
        "id": "MC7K2XQgOa-x",
        "outputId": "71c00793-71b3-4b51-cac2-c2e7301eeb01"
      },
      "outputs": [
        {
          "name": "stdout",
          "output_type": "stream",
          "text": [
            "Reading package lists... Done\n",
            "Building dependency tree... Done\n",
            "Reading state information... Done\n",
            "The following NEW packages will be installed:\n",
            "  poppler-utils\n",
            "0 upgraded, 1 newly installed, 0 to remove and 51 not upgraded.\n",
            "Need to get 186 kB of archives.\n",
            "After this operation, 696 kB of additional disk space will be used.\n",
            "Get:1 http://archive.ubuntu.com/ubuntu jammy-updates/main amd64 poppler-utils amd64 22.02.0-2ubuntu0.4 [186 kB]\n",
            "Fetched 186 kB in 0s (770 kB/s)\n",
            "debconf: unable to initialize frontend: Dialog\n",
            "debconf: (No usable dialog-like program is installed, so the dialog based frontend cannot be used. at /usr/share/perl5/Debconf/FrontEnd/Dialog.pm line 78, <> line 1.)\n",
            "debconf: falling back to frontend: Readline\n",
            "debconf: unable to initialize frontend: Readline\n",
            "debconf: (This frontend requires a controlling tty.)\n",
            "debconf: falling back to frontend: Teletype\n",
            "dpkg-preconfigure: unable to re-open stdin: \n",
            "Selecting previously unselected package poppler-utils.\n",
            "(Reading database ... 121918 files and directories currently installed.)\n",
            "Preparing to unpack .../poppler-utils_22.02.0-2ubuntu0.4_amd64.deb ...\n",
            "Unpacking poppler-utils (22.02.0-2ubuntu0.4) ...\n",
            "Setting up poppler-utils (22.02.0-2ubuntu0.4) ...\n",
            "Processing triggers for man-db (2.10.2-1) ...\n"
          ]
        }
      ],
      "source": [
        "!sudo apt-get install poppler-utils # This pkg not available in pip, so installing from apt-get . This required for Image extraction"
      ]
    },
    {
      "cell_type": "code",
      "execution_count": 4,
      "metadata": {
        "colab": {
          "base_uri": "https://localhost:8080/"
        },
        "id": "kMike74aFqrq",
        "outputId": "8b9e8755-ae1e-4e0c-c806-0259913e72cd"
      },
      "outputs": [
        {
          "name": "stdout",
          "output_type": "stream",
          "text": [
            "Reading package lists... Done\n",
            "Building dependency tree... Done\n",
            "Reading state information... Done\n",
            "The following additional packages will be installed:\n",
            "  libarchive-dev libimagequant0 libraqm0 mailcap mime-support python3-olefile\n",
            "  tesseract-ocr-osd\n",
            "Suggested packages:\n",
            "  python-pil-doc\n",
            "The following NEW packages will be installed:\n",
            "  libarchive-dev libimagequant0 libleptonica-dev libraqm0 libtesseract-dev\n",
            "  mailcap mime-support python3-olefile python3-pil tesseract-ocr\n",
            "  tesseract-ocr-eng tesseract-ocr-osd tesseract-ocr-script-latn\n",
            "0 upgraded, 13 newly installed, 0 to remove and 51 not upgraded.\n",
            "Need to get 40.0 MB of archives.\n",
            "After this operation, 123 MB of additional disk space will be used.\n",
            "Get:1 http://archive.ubuntu.com/ubuntu jammy/main amd64 libarchive-dev amd64 3.6.0-1ubuntu1 [581 kB]\n",
            "Get:2 http://archive.ubuntu.com/ubuntu jammy/main amd64 libimagequant0 amd64 2.17.0-1 [34.6 kB]\n",
            "Get:3 http://archive.ubuntu.com/ubuntu jammy/universe amd64 libleptonica-dev amd64 1.82.0-3build1 [1,562 kB]\n",
            "Get:4 http://archive.ubuntu.com/ubuntu jammy/main amd64 libraqm0 amd64 0.7.0-4ubuntu1 [11.7 kB]\n",
            "Get:5 http://archive.ubuntu.com/ubuntu jammy/universe amd64 libtesseract-dev amd64 4.1.1-2.1build1 [1,600 kB]\n",
            "Get:6 http://archive.ubuntu.com/ubuntu jammy/main amd64 mailcap all 3.70+nmu1ubuntu1 [23.8 kB]\n",
            "Get:7 http://archive.ubuntu.com/ubuntu jammy/main amd64 mime-support all 3.66 [3,696 B]\n",
            "Get:8 http://archive.ubuntu.com/ubuntu jammy/main amd64 python3-olefile all 0.46-3 [33.8 kB]\n",
            "Get:9 http://archive.ubuntu.com/ubuntu jammy-updates/main amd64 python3-pil amd64 9.0.1-1ubuntu0.3 [419 kB]\n",
            "Get:10 http://archive.ubuntu.com/ubuntu jammy/universe amd64 tesseract-ocr-eng all 1:4.00~git30-7274cfa-1.1 [1,591 kB]\n",
            "Get:11 http://archive.ubuntu.com/ubuntu jammy/universe amd64 tesseract-ocr-osd all 1:4.00~git30-7274cfa-1.1 [2,990 kB]\n",
            "Get:12 http://archive.ubuntu.com/ubuntu jammy/universe amd64 tesseract-ocr amd64 4.1.1-2.1build1 [236 kB]\n",
            "Get:13 http://archive.ubuntu.com/ubuntu jammy/universe amd64 tesseract-ocr-script-latn all 1:4.00~git30-7274cfa-1.1 [30.9 MB]\n",
            "Fetched 40.0 MB in 4s (10.2 MB/s)\n",
            "debconf: unable to initialize frontend: Dialog\n",
            "debconf: (No usable dialog-like program is installed, so the dialog based frontend cannot be used. at /usr/share/perl5/Debconf/FrontEnd/Dialog.pm line 78, <> line 13.)\n",
            "debconf: falling back to frontend: Readline\n",
            "debconf: unable to initialize frontend: Readline\n",
            "debconf: (This frontend requires a controlling tty.)\n",
            "debconf: falling back to frontend: Teletype\n",
            "dpkg-preconfigure: unable to re-open stdin: \n",
            "Selecting previously unselected package libarchive-dev:amd64.\n",
            "(Reading database ... 121948 files and directories currently installed.)\n",
            "Preparing to unpack .../00-libarchive-dev_3.6.0-1ubuntu1_amd64.deb ...\n",
            "Unpacking libarchive-dev:amd64 (3.6.0-1ubuntu1) ...\n",
            "Selecting previously unselected package libimagequant0:amd64.\n",
            "Preparing to unpack .../01-libimagequant0_2.17.0-1_amd64.deb ...\n",
            "Unpacking libimagequant0:amd64 (2.17.0-1) ...\n",
            "Selecting previously unselected package libleptonica-dev.\n",
            "Preparing to unpack .../02-libleptonica-dev_1.82.0-3build1_amd64.deb ...\n",
            "Unpacking libleptonica-dev (1.82.0-3build1) ...\n",
            "Selecting previously unselected package libraqm0:amd64.\n",
            "Preparing to unpack .../03-libraqm0_0.7.0-4ubuntu1_amd64.deb ...\n",
            "Unpacking libraqm0:amd64 (0.7.0-4ubuntu1) ...\n",
            "Selecting previously unselected package libtesseract-dev:amd64.\n",
            "Preparing to unpack .../04-libtesseract-dev_4.1.1-2.1build1_amd64.deb ...\n",
            "Unpacking libtesseract-dev:amd64 (4.1.1-2.1build1) ...\n",
            "Selecting previously unselected package mailcap.\n",
            "Preparing to unpack .../05-mailcap_3.70+nmu1ubuntu1_all.deb ...\n",
            "Unpacking mailcap (3.70+nmu1ubuntu1) ...\n",
            "Selecting previously unselected package mime-support.\n",
            "Preparing to unpack .../06-mime-support_3.66_all.deb ...\n",
            "Unpacking mime-support (3.66) ...\n",
            "Selecting previously unselected package python3-olefile.\n",
            "Preparing to unpack .../07-python3-olefile_0.46-3_all.deb ...\n",
            "Unpacking python3-olefile (0.46-3) ...\n",
            "Selecting previously unselected package python3-pil:amd64.\n",
            "Preparing to unpack .../08-python3-pil_9.0.1-1ubuntu0.3_amd64.deb ...\n",
            "Unpacking python3-pil:amd64 (9.0.1-1ubuntu0.3) ...\n",
            "Selecting previously unselected package tesseract-ocr-eng.\n",
            "Preparing to unpack .../09-tesseract-ocr-eng_1%3a4.00~git30-7274cfa-1.1_all.deb ...\n",
            "Unpacking tesseract-ocr-eng (1:4.00~git30-7274cfa-1.1) ...\n",
            "Selecting previously unselected package tesseract-ocr-osd.\n",
            "Preparing to unpack .../10-tesseract-ocr-osd_1%3a4.00~git30-7274cfa-1.1_all.deb ...\n",
            "Unpacking tesseract-ocr-osd (1:4.00~git30-7274cfa-1.1) ...\n",
            "Selecting previously unselected package tesseract-ocr.\n",
            "Preparing to unpack .../11-tesseract-ocr_4.1.1-2.1build1_amd64.deb ...\n",
            "Unpacking tesseract-ocr (4.1.1-2.1build1) ...\n",
            "Selecting previously unselected package tesseract-ocr-script-latn.\n",
            "Preparing to unpack .../12-tesseract-ocr-script-latn_1%3a4.00~git30-7274cfa-1.1_all.deb ...\n",
            "Unpacking tesseract-ocr-script-latn (1:4.00~git30-7274cfa-1.1) ...\n",
            "Setting up tesseract-ocr-script-latn (1:4.00~git30-7274cfa-1.1) ...\n",
            "Setting up python3-olefile (0.46-3) ...\n",
            "Setting up tesseract-ocr-eng (1:4.00~git30-7274cfa-1.1) ...\n",
            "Setting up libleptonica-dev (1.82.0-3build1) ...\n",
            "Setting up libraqm0:amd64 (0.7.0-4ubuntu1) ...\n",
            "Setting up libimagequant0:amd64 (2.17.0-1) ...\n",
            "Setting up libarchive-dev:amd64 (3.6.0-1ubuntu1) ...\n",
            "Setting up tesseract-ocr-osd (1:4.00~git30-7274cfa-1.1) ...\n",
            "Setting up mailcap (3.70+nmu1ubuntu1) ...\n",
            "Setting up libtesseract-dev:amd64 (4.1.1-2.1build1) ...\n",
            "Setting up mime-support (3.66) ...\n",
            "Setting up python3-pil:amd64 (9.0.1-1ubuntu0.3) ...\n",
            "Setting up tesseract-ocr (4.1.1-2.1build1) ...\n",
            "Processing triggers for man-db (2.10.2-1) ...\n",
            "Processing triggers for libc-bin (2.35-0ubuntu3.4) ...\n",
            "/sbin/ldconfig.real: /usr/local/lib/libtbbmalloc.so.2 is not a symbolic link\n",
            "\n",
            "/sbin/ldconfig.real: /usr/local/lib/libtbbmalloc_proxy.so.2 is not a symbolic link\n",
            "\n",
            "/sbin/ldconfig.real: /usr/local/lib/libtbbbind_2_5.so.3 is not a symbolic link\n",
            "\n",
            "/sbin/ldconfig.real: /usr/local/lib/libtbb.so.12 is not a symbolic link\n",
            "\n",
            "/sbin/ldconfig.real: /usr/local/lib/libtbbbind.so.3 is not a symbolic link\n",
            "\n",
            "/sbin/ldconfig.real: /usr/local/lib/libtbbbind_2_0.so.3 is not a symbolic link\n",
            "\n"
          ]
        }
      ],
      "source": [
        "!sudo apt-get install libleptonica-dev tesseract-ocr libtesseract-dev python3-pil tesseract-ocr-eng tesseract-ocr-script-latn"
      ]
    },
    {
      "cell_type": "code",
      "execution_count": 5,
      "metadata": {
        "colab": {
          "base_uri": "https://localhost:8080/"
        },
        "id": "hCq4oMVXO3DR",
        "outputId": "67cde366-61d4-4616-cfa4-85efd624b9dd"
      },
      "outputs": [
        {
          "name": "stdout",
          "output_type": "stream",
          "text": [
            "  Preparing metadata (setup.py) ... \u001b[?25l\u001b[?25hdone\n",
            "  Building wheel for tesseract-ocr (setup.py) ... \u001b[?25l\u001b[?25hdone\n"
          ]
        }
      ],
      "source": [
        "!pip install unstructured-pytesseract tesseract-ocr -q"
      ]
    },
    {
      "cell_type": "code",
      "execution_count": 6,
      "metadata": {
        "id": "lsSUx1cPNNH_"
      },
      "outputs": [],
      "source": [
        "from unstructured.partition.pdf import partition_pdf\n",
        "from PIL import Image"
      ]
    },
    {
      "cell_type": "markdown",
      "metadata": {
        "id": "8yITGtwWlTnT"
      },
      "source": [
        "## **Create Folder - data and upload pdf in folders**\n"
      ]
    },
    {
      "cell_type": "code",
      "execution_count": 7,
      "metadata": {
        "id": "379zOzLflc8v"
      },
      "outputs": [],
      "source": [
        "!mkdir data"
      ]
    },
    {
      "cell_type": "code",
      "execution_count": null,
      "metadata": {
        "id": "a_bls3tZMzCn"
      },
      "outputs": [],
      "source": [
        "\"/content/data/RAG_Doc\"\n",
        "\"/content/data2/Yolo_doc.pdf\""
      ]
    },
    {
      "cell_type": "markdown",
      "metadata": {
        "id": "rLfzAe4u9YGu"
      },
      "source": [
        "## **Use partition_pdf reader to read unstructured file**\n",
        "- In below process, it reads **text , image and tabular data** with different element name like **Header/Footer/Narrative text/ListItem, image, table** respectively.\n",
        "- Here it reads **table also as image.**\n",
        "- Here it captures **image and tables** as image in specified folder and it holds **text converted info of image and tabular**"
      ]
    },
    {
      "cell_type": "markdown",
      "metadata": {
        "id": "flsOyw95HCcy"
      },
      "source": [
        "### **Example 1**"
      ]
    },
    {
      "cell_type": "code",
      "execution_count": 9,
      "metadata": {
        "colab": {
          "base_uri": "https://localhost:8080/",
          "height": 136,
          "referenced_widgets": [
            "1834aac97ce04cb4b626ed4e2f1de570",
            "798d03b917de4270a7e4f6dd627b2710",
            "909488fc95f549c89df6f18e8b95b799",
            "a6712976bebf495d9e15bfcf4a91771d",
            "890701cd6e844815be18dd61f9fb0106",
            "b564c9430ed849feadb114083b649d37",
            "d050e524c37f43a2a33bf8197bed88ef",
            "7b01829b2e6847c0a171d68d386de430",
            "8d8c951cf0d84e049973bf22b07b0c1a",
            "c6026969cf294700a81824012be522b3",
            "619cef414d3248468fb6799ae81be42b"
          ]
        },
        "id": "GzIeIXtEQOsh",
        "outputId": "f5619548-538c-4958-b812-c6fcf7dae503"
      },
      "outputs": [
        {
          "name": "stderr",
          "output_type": "stream",
          "text": [
            "[nltk_data] Downloading package punkt to /root/nltk_data...\n",
            "[nltk_data]   Unzipping tokenizers/punkt.zip.\n",
            "[nltk_data] Downloading package averaged_perceptron_tagger to\n",
            "[nltk_data]     /root/nltk_data...\n",
            "[nltk_data]   Unzipping taggers/averaged_perceptron_tagger.zip.\n"
          ]
        },
        {
          "data": {
            "application/vnd.jupyter.widget-view+json": {
              "model_id": "1834aac97ce04cb4b626ed4e2f1de570",
              "version_major": 2,
              "version_minor": 0
            },
            "text/plain": [
              "yolox_l0.05.onnx:   0%|          | 0.00/217M [00:00<?, ?B/s]"
            ]
          },
          "metadata": {},
          "output_type": "display_data"
        }
      ],
      "source": [
        "raw_pdf_elements=partition_pdf(\n",
        "    filename=\"/content/data/RAG_Doc.pdf\",                  # mandatory\n",
        "    strategy=\"hi_res\",                                 # mandatory to use ``hi_res`` strategy\n",
        "    extract_images_in_pdf=True,                       # mandatory to set as ``True``\n",
        "    extract_image_block_types=[ \"Table\"],          # optional \"Image\",\n",
        "    extract_image_block_to_payload=False,                  # optional\n",
        "    extract_image_block_output_dir=\"extracted_data\",  # optional - only works when ``extract_image_block_to_payload=False`` . This is folder name where image/table saved. This folder created while executing this statement\n",
        "    )"
      ]
    },
    {
      "cell_type": "code",
      "execution_count": 10,
      "metadata": {
        "colab": {
          "base_uri": "https://localhost:8080/"
        },
        "id": "wPJQmmXtTky5",
        "outputId": "eb38c9e2-c1be-4f6c-ca67-57f9dcb84e69"
      },
      "outputs": [
        {
          "data": {
            "text/plain": [
              "[<unstructured.documents.elements.Text at 0x7a0ef9dcf2e0>,\n",
              " <unstructured.documents.elements.Header at 0x7a0ef78bfa60>,\n",
              " <unstructured.documents.elements.Text at 0x7a0ef9dc05e0>,\n",
              " <unstructured.documents.elements.Title at 0x7a0ef78bf8e0>,\n",
              " <unstructured.documents.elements.NarrativeText at 0x7a0ef78bf910>,\n",
              " <unstructured.documents.elements.NarrativeText at 0x7a0ef78beda0>,\n",
              " <unstructured.documents.elements.NarrativeText at 0x7a0ef78bf220>,\n",
              " <unstructured.documents.elements.Title at 0x7a0efac30100>,\n",
              " <unstructured.documents.elements.Title at 0x7a0ef78bee60>,\n",
              " <unstructured.documents.elements.NarrativeText at 0x7a0ef9dc00a0>,\n",
              " <unstructured.documents.elements.Title at 0x7a0ef9dc0700>,\n",
              " <unstructured.documents.elements.NarrativeText at 0x7a0ef9dc3880>,\n",
              " <unstructured.documents.elements.Image at 0x7a0ef9e39210>,\n",
              " <unstructured.documents.elements.NarrativeText at 0x7a0ef9e39bd0>,\n",
              " <unstructured.documents.elements.NarrativeText at 0x7a0ef9e380a0>,\n",
              " <unstructured.documents.elements.NarrativeText at 0x7a0ef9e389a0>,\n",
              " <unstructured.documents.elements.NarrativeText at 0x7a0ef9e3ba30>,\n",
              " <unstructured.documents.elements.NarrativeText at 0x7a0ef9e3aef0>,\n",
              " <unstructured.documents.elements.Title at 0x7a0ef9e3b6a0>,\n",
              " <unstructured.documents.elements.NarrativeText at 0x7a0ef9e3aa70>,\n",
              " <unstructured.documents.elements.NarrativeText at 0x7a0ef9e38ee0>,\n",
              " <unstructured.documents.elements.Footer at 0x7a0ef9e3a920>,\n",
              " <unstructured.documents.elements.NarrativeText at 0x7a0ef9e3bb20>,\n",
              " <unstructured.documents.elements.NarrativeText at 0x7a0ef9e3bac0>,\n",
              " <unstructured.documents.elements.Title at 0x7a0ef9e38610>,\n",
              " <unstructured.documents.elements.NarrativeText at 0x7a0ef9e3a200>,\n",
              " <unstructured.documents.elements.Formula at 0x7a0ef9e39db0>,\n",
              " <unstructured.documents.elements.NarrativeText at 0x7a0ef9e3a2c0>,\n",
              " <unstructured.documents.elements.Formula at 0x7a0ef9e396c0>,\n",
              " <unstructured.documents.elements.NarrativeText at 0x7a0ef9e39540>,\n",
              " <unstructured.documents.elements.Title at 0x7a0ef9e39120>,\n",
              " <unstructured.documents.elements.NarrativeText at 0x7a0ef9e39030>,\n",
              " <unstructured.documents.elements.Title at 0x7a0ef9eb9ae0>,\n",
              " <unstructured.documents.elements.Formula at 0x7a0ef9e3acb0>,\n",
              " <unstructured.documents.elements.NarrativeText at 0x7a0ef9e3b1f0>,\n",
              " <unstructured.documents.elements.Title at 0x7a0ef9e3ac80>,\n",
              " <unstructured.documents.elements.NarrativeText at 0x7a0ef9e3be20>,\n",
              " <unstructured.documents.elements.Title at 0x7a0ef9e3bf70>,\n",
              " <unstructured.documents.elements.NarrativeText at 0x7a0ef9e3bfd0>,\n",
              " <unstructured.documents.elements.Footer at 0x7a0ef9e3bf40>,\n",
              " <unstructured.documents.elements.NarrativeText at 0x7a0ef9e3a800>,\n",
              " <unstructured.documents.elements.Title at 0x7a0ef9e3b880>,\n",
              " <unstructured.documents.elements.NarrativeText at 0x7a0ef76617e0>,\n",
              " <unstructured.documents.elements.NarrativeText at 0x7a0ef9e3b910>,\n",
              " <unstructured.documents.elements.NarrativeText at 0x7a0ef9e3ae00>,\n",
              " <unstructured.documents.elements.Title at 0x7a0ef9e3bb50>,\n",
              " <unstructured.documents.elements.NarrativeText at 0x7a0ef9e39ae0>,\n",
              " <unstructured.documents.elements.Title at 0x7a0ef9e39930>,\n",
              " <unstructured.documents.elements.NarrativeText at 0x7a0ef9e38640>,\n",
              " <unstructured.documents.elements.Title at 0x7a0ef9e384f0>,\n",
              " <unstructured.documents.elements.NarrativeText at 0x7a0ef9e38460>,\n",
              " <unstructured.documents.elements.Text at 0x7a0ef76624d0>,\n",
              " <unstructured.documents.elements.NarrativeText at 0x7a0ef9e38520>,\n",
              " <unstructured.documents.elements.Title at 0x7a0ef9e3a410>,\n",
              " <unstructured.documents.elements.NarrativeText at 0x7a0ef9e3af20>,\n",
              " <unstructured.documents.elements.NarrativeText at 0x7a0ef9e3aaa0>,\n",
              " <unstructured.documents.elements.Title at 0x7a0ef9e38910>,\n",
              " <unstructured.documents.elements.NarrativeText at 0x7a0ef9e39750>,\n",
              " <unstructured.documents.elements.Title at 0x7a0ef9e3a560>,\n",
              " <unstructured.documents.elements.Title at 0x7a0ef76ee530>,\n",
              " <unstructured.documents.elements.NarrativeText at 0x7a0ef76ed7b0>,\n",
              " <unstructured.documents.elements.NarrativeText at 0x7a0ef76ec790>,\n",
              " <unstructured.documents.elements.Footer at 0x7a0ef76ed780>,\n",
              " <unstructured.documents.elements.FigureCaption at 0x7a0ef76eea10>,\n",
              " <unstructured.documents.elements.Title at 0x7a0ee8137be0>,\n",
              " <unstructured.documents.elements.Title at 0x7a0ee81361d0>,\n",
              " <unstructured.documents.elements.Title at 0x7a0ee81363b0>,\n",
              " <unstructured.documents.elements.Table at 0x7a0ef76edb10>,\n",
              " <unstructured.documents.elements.Title at 0x7a0ee8135b10>,\n",
              " <unstructured.documents.elements.Text at 0x7a0ee8135b40>,\n",
              " <unstructured.documents.elements.NarrativeText at 0x7a0ef76efd00>,\n",
              " <unstructured.documents.elements.Title at 0x7a0ef76efa00>,\n",
              " <unstructured.documents.elements.NarrativeText at 0x7a0ef76ee2c0>,\n",
              " <unstructured.documents.elements.Title at 0x7a0ef76ef760>,\n",
              " <unstructured.documents.elements.NarrativeText at 0x7a0ef76efdf0>,\n",
              " <unstructured.documents.elements.NarrativeText at 0x7a0ef76efcd0>,\n",
              " <unstructured.documents.elements.Title at 0x7a0ef76efb80>,\n",
              " <unstructured.documents.elements.NarrativeText at 0x7a0ef76ef1f0>,\n",
              " <unstructured.documents.elements.Text at 0x7a0ee81363e0>,\n",
              " <unstructured.documents.elements.Image at 0x7a0ef76ee650>,\n",
              " <unstructured.documents.elements.NarrativeText at 0x7a0ef76ef940>,\n",
              " <unstructured.documents.elements.NarrativeText at 0x7a0ef76efd30>,\n",
              " <unstructured.documents.elements.Table at 0x7a0ef76ef970>,\n",
              " <unstructured.documents.elements.NarrativeText at 0x7a0ef76ef4f0>,\n",
              " <unstructured.documents.elements.Title at 0x7a0ef76eec80>,\n",
              " <unstructured.documents.elements.NarrativeText at 0x7a0ef76eebf0>,\n",
              " <unstructured.documents.elements.NarrativeText at 0x7a0ef9fa2350>,\n",
              " <unstructured.documents.elements.NarrativeText at 0x7a0ef9fa1c60>,\n",
              " <unstructured.documents.elements.NarrativeText at 0x7a0ef9fa21d0>,\n",
              " <unstructured.documents.elements.Footer at 0x7a0ef9fa2860>,\n",
              " <unstructured.documents.elements.NarrativeText at 0x7a0ef9fa2bf0>,\n",
              " <unstructured.documents.elements.Title at 0x7a0ee8136410>,\n",
              " <unstructured.documents.elements.Table at 0x7a0ef7866230>,\n",
              " <unstructured.documents.elements.FigureCaption at 0x7a0ee83bdb10>,\n",
              " <unstructured.documents.elements.Table at 0x7a0ee83bdb70>,\n",
              " <unstructured.documents.elements.Title at 0x7a0ef78670d0>,\n",
              " <unstructured.documents.elements.NarrativeText at 0x7a0ee83bd630>,\n",
              " <unstructured.documents.elements.NarrativeText at 0x7a0ee83bdfc0>,\n",
              " <unstructured.documents.elements.Image at 0x7a0ee83bf8b0>,\n",
              " <unstructured.documents.elements.FigureCaption at 0x7a0ee83bd2a0>,\n",
              " <unstructured.documents.elements.Title at 0x7a0ee83bedd0>,\n",
              " <unstructured.documents.elements.NarrativeText at 0x7a0ee83bdc60>,\n",
              " <unstructured.documents.elements.Footer at 0x7a0ee83be920>,\n",
              " <unstructured.documents.elements.NarrativeText at 0x7a0ee83bdc30>,\n",
              " <unstructured.documents.elements.NarrativeText at 0x7a0ee83be0e0>,\n",
              " <unstructured.documents.elements.NarrativeText at 0x7a0ee83be9e0>,\n",
              " <unstructured.documents.elements.NarrativeText at 0x7a0ee83be170>,\n",
              " <unstructured.documents.elements.Title at 0x7a0ee83bd3f0>,\n",
              " <unstructured.documents.elements.NarrativeText at 0x7a0ee83be4a0>,\n",
              " <unstructured.documents.elements.Text at 0x7a0ef7865e70>,\n",
              " <unstructured.documents.elements.Title at 0x7a0ee83bdd50>,\n",
              " <unstructured.documents.elements.NarrativeText at 0x7a0ee83bf3a0>,\n",
              " <unstructured.documents.elements.NarrativeText at 0x7a0ee83bd660>,\n",
              " <unstructured.documents.elements.Title at 0x7a0ee83bc1c0>,\n",
              " <unstructured.documents.elements.NarrativeText at 0x7a0ee83bc580>,\n",
              " <unstructured.documents.elements.Title at 0x7a0ee83bdd20>,\n",
              " <unstructured.documents.elements.ListItem at 0x7a0ee83bfa60>,\n",
              " <unstructured.documents.elements.ListItem at 0x7a0ee83bcd60>,\n",
              " <unstructured.documents.elements.ListItem at 0x7a0ee83bc130>,\n",
              " <unstructured.documents.elements.ListItem at 0x7a0ee83bfe80>,\n",
              " <unstructured.documents.elements.ListItem at 0x7a0ee83bcf70>,\n",
              " <unstructured.documents.elements.ListItem at 0x7a0ee83bc910>,\n",
              " <unstructured.documents.elements.Footer at 0x7a0ee83bf940>,\n",
              " <unstructured.documents.elements.ListItem at 0x7a0ee83bc8e0>,\n",
              " <unstructured.documents.elements.ListItem at 0x7a0ee83bf190>,\n",
              " <unstructured.documents.elements.ListItem at 0x7a0ee83bfb50>,\n",
              " <unstructured.documents.elements.ListItem at 0x7a0ee83bd750>,\n",
              " <unstructured.documents.elements.ListItem at 0x7a0ee83bf850>,\n",
              " <unstructured.documents.elements.ListItem at 0x7a0ee83bf0a0>,\n",
              " <unstructured.documents.elements.ListItem at 0x7a0ee83bc550>,\n",
              " <unstructured.documents.elements.ListItem at 0x7a0ee83bf1f0>,\n",
              " <unstructured.documents.elements.ListItem at 0x7a0ee83beb00>,\n",
              " <unstructured.documents.elements.ListItem at 0x7a0ee83bd6f0>,\n",
              " <unstructured.documents.elements.ListItem at 0x7a0ee83bf6d0>,\n",
              " <unstructured.documents.elements.ListItem at 0x7a0ee83bf760>,\n",
              " <unstructured.documents.elements.ListItem at 0x7a0ee83bf460>,\n",
              " <unstructured.documents.elements.Footer at 0x7a0ee83be8f0>,\n",
              " <unstructured.documents.elements.ListItem at 0x7a0ee83bdcf0>,\n",
              " <unstructured.documents.elements.ListItem at 0x7a0ef9ed18d0>,\n",
              " <unstructured.documents.elements.ListItem at 0x7a0ef9ed2b30>,\n",
              " <unstructured.documents.elements.ListItem at 0x7a0ef9ed23b0>,\n",
              " <unstructured.documents.elements.ListItem at 0x7a0ef9ed3dc0>,\n",
              " <unstructured.documents.elements.ListItem at 0x7a0ef9ed38b0>,\n",
              " <unstructured.documents.elements.ListItem at 0x7a0ef9ed36a0>,\n",
              " <unstructured.documents.elements.ListItem at 0x7a0ef9ed3b20>,\n",
              " <unstructured.documents.elements.ListItem at 0x7a0ef9ed2c20>,\n",
              " <unstructured.documents.elements.ListItem at 0x7a0ef9ed2920>,\n",
              " <unstructured.documents.elements.ListItem at 0x7a0ef9ed03a0>,\n",
              " <unstructured.documents.elements.ListItem at 0x7a0ef9ed2050>,\n",
              " <unstructured.documents.elements.Footer at 0x7a0ef9ed1d80>,\n",
              " <unstructured.documents.elements.NarrativeText at 0x7a0ef9ed3eb0>,\n",
              " <unstructured.documents.elements.ListItem at 0x7a0ef9ed1150>,\n",
              " <unstructured.documents.elements.ListItem at 0x7a0ef9ed24a0>,\n",
              " <unstructured.documents.elements.ListItem at 0x7a0ef9ed1d20>,\n",
              " <unstructured.documents.elements.ListItem at 0x7a0ef9ed1cf0>,\n",
              " <unstructured.documents.elements.ListItem at 0x7a0ef9ed0b50>,\n",
              " <unstructured.documents.elements.ListItem at 0x7a0ef9ed0460>,\n",
              " <unstructured.documents.elements.ListItem at 0x7a0ef9ed0100>,\n",
              " <unstructured.documents.elements.ListItem at 0x7a0ef9ed0cd0>,\n",
              " <unstructured.documents.elements.ListItem at 0x7a0ef9ed0640>,\n",
              " <unstructured.documents.elements.ListItem at 0x7a0ef9ed1f60>,\n",
              " <unstructured.documents.elements.ListItem at 0x7a0ef9ed0d90>,\n",
              " <unstructured.documents.elements.ListItem at 0x7a0ef9ed0c10>,\n",
              " <unstructured.documents.elements.Footer at 0x7a0ef9ed0850>,\n",
              " <unstructured.documents.elements.NarrativeText at 0x7a0ef9ed0430>,\n",
              " <unstructured.documents.elements.ListItem at 0x7a0ef9ed3130>,\n",
              " <unstructured.documents.elements.ListItem at 0x7a0ef9ed39d0>,\n",
              " <unstructured.documents.elements.ListItem at 0x7a0ef9ed1510>,\n",
              " <unstructured.documents.elements.ListItem at 0x7a0ef9ed2710>,\n",
              " <unstructured.documents.elements.ListItem at 0x7a0ef9ed2350>,\n",
              " <unstructured.documents.elements.ListItem at 0x7a0ef9ed22f0>,\n",
              " <unstructured.documents.elements.ListItem at 0x7a0ef9ed1d50>,\n",
              " <unstructured.documents.elements.ListItem at 0x7a0ef9ed1210>,\n",
              " <unstructured.documents.elements.ListItem at 0x7a0ef9ed2410>,\n",
              " <unstructured.documents.elements.ListItem at 0x7a0ef9ed3580>,\n",
              " <unstructured.documents.elements.ListItem at 0x7a0ef9ed0be0>,\n",
              " <unstructured.documents.elements.ListItem at 0x7a0ef9ed13c0>,\n",
              " <unstructured.documents.elements.Text at 0x7a0ef7865ed0>,\n",
              " <unstructured.documents.elements.ListItem at 0x7a0ee8136050>,\n",
              " <unstructured.documents.elements.ListItem at 0x7a0ee8137d00>,\n",
              " <unstructured.documents.elements.ListItem at 0x7a0ee81356c0>,\n",
              " <unstructured.documents.elements.ListItem at 0x7a0ee8136aa0>,\n",
              " <unstructured.documents.elements.ListItem at 0x7a0ee8134490>,\n",
              " <unstructured.documents.elements.ListItem at 0x7a0ee8135900>,\n",
              " <unstructured.documents.elements.ListItem at 0x7a0ee8135750>,\n",
              " <unstructured.documents.elements.ListItem at 0x7a0ee81344c0>,\n",
              " <unstructured.documents.elements.ListItem at 0x7a0ee81357b0>,\n",
              " <unstructured.documents.elements.ListItem at 0x7a0ee81358a0>,\n",
              " <unstructured.documents.elements.Footer at 0x7a0ee8136e00>,\n",
              " <unstructured.documents.elements.ListItem at 0x7a0ee81362f0>,\n",
              " <unstructured.documents.elements.ListItem at 0x7a0ee8137910>,\n",
              " <unstructured.documents.elements.ListItem at 0x7a0ee81377c0>,\n",
              " <unstructured.documents.elements.Header at 0x7a0ee8134430>,\n",
              " <unstructured.documents.elements.Title at 0x7a0ee8135f60>,\n",
              " <unstructured.documents.elements.Title at 0x7a0ee8136e60>,\n",
              " <unstructured.documents.elements.NarrativeText at 0x7a0ee8136e30>,\n",
              " <unstructured.documents.elements.Title at 0x7a0ee8134160>,\n",
              " <unstructured.documents.elements.Image at 0x7a0ee8134190>,\n",
              " <unstructured.documents.elements.NarrativeText at 0x7a0ee8137700>,\n",
              " <unstructured.documents.elements.NarrativeText at 0x7a0ee8134910>,\n",
              " <unstructured.documents.elements.Title at 0x7a0ee8134ac0>,\n",
              " <unstructured.documents.elements.NarrativeText at 0x7a0ee8134c40>,\n",
              " <unstructured.documents.elements.NarrativeText at 0x7a0ee81376a0>,\n",
              " <unstructured.documents.elements.Footer at 0x7a0ee81375b0>,\n",
              " <unstructured.documents.elements.Title at 0x7a0ee8134eb0>,\n",
              " <unstructured.documents.elements.NarrativeText at 0x7a0ee8135180>,\n",
              " <unstructured.documents.elements.NarrativeText at 0x7a0ee81352a0>,\n",
              " <unstructured.documents.elements.NarrativeText at 0x7a0ee8135390>,\n",
              " <unstructured.documents.elements.Title at 0x7a0ee8134730>,\n",
              " <unstructured.documents.elements.NarrativeText at 0x7a0ee8136080>,\n",
              " <unstructured.documents.elements.Title at 0x7a0ee8135450>,\n",
              " <unstructured.documents.elements.NarrativeText at 0x7a0ee8137580>,\n",
              " <unstructured.documents.elements.Title at 0x7a0ee8136d40>,\n",
              " <unstructured.documents.elements.NarrativeText at 0x7a0ee8136530>,\n",
              " <unstructured.documents.elements.Footer at 0x7a0ee8137100>,\n",
              " <unstructured.documents.elements.FigureCaption at 0x7a0ee8136830>,\n",
              " <unstructured.documents.elements.Table at 0x7a0ee8135d20>,\n",
              " <unstructured.documents.elements.NarrativeText at 0x7a0ee8137280>,\n",
              " <unstructured.documents.elements.Title at 0x7a0ee8137970>,\n",
              " <unstructured.documents.elements.NarrativeText at 0x7a0ee8137f10>,\n",
              " <unstructured.documents.elements.Title at 0x7a0ee81341f0>,\n",
              " <unstructured.documents.elements.NarrativeText at 0x7a0ee8137850>,\n",
              " <unstructured.documents.elements.Header at 0x7a0ee8196c80>]"
            ]
          },
          "execution_count": 10,
          "metadata": {},
          "output_type": "execute_result"
        }
      ],
      "source": [
        "raw_pdf_elements"
      ]
    },
    {
      "cell_type": "markdown",
      "metadata": {
        "id": "I2dNy7hX-vDo"
      },
      "source": [
        "## **Append each element to sepearate list**"
      ]
    },
    {
      "cell_type": "markdown",
      "metadata": {
        "id": "7Jmd5o_3-5_p"
      },
      "source": [
        "###### Text realted elements"
      ]
    },
    {
      "cell_type": "code",
      "execution_count": 11,
      "metadata": {
        "id": "a9C9hfJtQ27C"
      },
      "outputs": [],
      "source": [
        "Header=[]\n",
        "Footer=[]\n",
        "Title=[]\n",
        "NarrativeText=[]\n",
        "Text=[]\n",
        "ListItem=[]\n",
        "for element in raw_pdf_elements:\n",
        "  if \"unstructured.documents.elements.Header\" in str(type(element)):\n",
        "            Header.append(str(element))\n",
        "  elif \"unstructured.documents.elements.Footer\" in str(type(element)):\n",
        "            Footer.append(str(element))\n",
        "  elif \"unstructured.documents.elements.Title\" in str(type(element)):\n",
        "            Title.append(str(element))\n",
        "  elif \"unstructured.documents.elements.NarrativeText\" in str(type(element)):\n",
        "            NarrativeText.append(str(element))\n",
        "  elif \"unstructured.documents.elements.Text\" in str(type(element)):\n",
        "            Text.append(str(element))\n",
        "  elif \"unstructured.documents.elements.ListItem\" in str(type(element)):\n",
        "            ListItem.append(str(element))\n"
      ]
    },
    {
      "cell_type": "markdown",
      "metadata": {
        "id": "1azghion-9QU"
      },
      "source": [
        "###### Image realted elements"
      ]
    },
    {
      "cell_type": "code",
      "execution_count": 12,
      "metadata": {
        "id": "0CIyaT9Ir0-J"
      },
      "outputs": [],
      "source": [
        "img=[]\n",
        "for element in raw_pdf_elements:\n",
        "  if \"unstructured.documents.elements.Image\" in str(type(element)):\n",
        "            img.append(str(element))"
      ]
    },
    {
      "cell_type": "markdown",
      "metadata": {
        "id": "cgw4i6Da-_2H"
      },
      "source": [
        "###### Table realted elements"
      ]
    },
    {
      "cell_type": "code",
      "execution_count": 13,
      "metadata": {
        "id": "rUal9rnMsyO8"
      },
      "outputs": [],
      "source": [
        "tab=[]\n",
        "for element in raw_pdf_elements:\n",
        "  if \"unstructured.documents.elements.Table\" in str(type(element)):\n",
        "            tab.append(str(element))"
      ]
    },
    {
      "cell_type": "code",
      "execution_count": 14,
      "metadata": {
        "colab": {
          "base_uri": "https://localhost:8080/",
          "height": 87
        },
        "id": "0rkKxzTws1kQ",
        "outputId": "b741c379-3f3d-426f-dd31-64d467d79e8e"
      },
      "outputs": [
        {
          "data": {
            "application/vnd.google.colaboratory.intrinsic+json": {
              "type": "string"
            },
            "text/plain": [
              "'Closed Book T5-11B [52] 34.5 T5-11B+SSM[52] 36.6 - - /50.1 37.4 /60.5 44.7 - - Model B-1 Label Acc. Open Book REALM [20] DPR [26] 40.4 / 41.5 57.9/ - - - 40.7 46.8 41.1 50.6 SotA BART - - 15.1 19.7 49.8* 49.9* 38.2 41.6 76.8 64.0 81.1 RAG-Token RAG-Seq. 44.1 55.2/66.1 45.5 50.0 44.5 56.8/68.0 45.2 52.2 RAG-Tok. 17.3 22.2 RAG-Seq. 14.7 21.4 40.1 40.8 41.5 44.2 72.5 89.5'"
            ]
          },
          "execution_count": 14,
          "metadata": {},
          "output_type": "execute_result"
        }
      ],
      "source": [
        "tab[0] # Sample 1st table extraction detail"
      ]
    },
    {
      "cell_type": "code",
      "execution_count": 15,
      "metadata": {
        "colab": {
          "base_uri": "https://localhost:8080/",
          "height": 122
        },
        "id": "ShGjDo0gsQLJ",
        "outputId": "50df4812-93e7-4577-c042-343ebbd7c2cc"
      },
      "outputs": [
        {
          "data": {
            "application/vnd.google.colaboratory.intrinsic+json": {
              "type": "string"
            },
            "text/plain": [
              "'@--- ee ee ee ee ee ee ee ee ee ee eee The middle ear includes End-to-End Backprop through q and pe the tympanic cavity and the three ossicles. (y) Define \"middle ear\" (x) Question Answering: Question Query Retriever py Document Generator pg “fnower Generation Index. (Non-Parametric) (Parametric) d(z) supports (y) Barack Obama was born in Hawaii. (x) q(x) Fact Verification: Fact Query Fact Verification: Label Generation The Divine This 14th century work Comedy (x) is divided into 3 Jeopardy Question Generation: Answer Query sections: \"Inferno\", \"purgatorio\" & \"Paradiso\" @) Question Generation'"
            ]
          },
          "execution_count": 15,
          "metadata": {},
          "output_type": "execute_result"
        }
      ],
      "source": [
        "img[0] # Sample 1st Image extraction detail"
      ]
    },
    {
      "cell_type": "markdown",
      "metadata": {
        "id": "U4jwhE23Ae7e"
      },
      "source": [
        "### **Example 2**\n",
        "- Uploaded **Yolo_doc.pdf** which has few more images"
      ]
    },
    {
      "cell_type": "code",
      "execution_count": 16,
      "metadata": {
        "id": "eB09aweaAoNh"
      },
      "outputs": [],
      "source": [
        "!mkdir data2"
      ]
    },
    {
      "cell_type": "code",
      "execution_count": 20,
      "metadata": {
        "id": "SrIboN8gqva2"
      },
      "outputs": [],
      "source": [
        "raw_pdf_elements2=partition_pdf(\n",
        "    filename=\"/content/data2/Yolo_Doc.pdf\",                  # mandatory\n",
        "    strategy=\"hi_res\",                                 # mandatory to use ``hi_res`` strategy\n",
        "    extract_images_in_pdf=True,                       # mandatory to set as ``True``\n",
        "    extract_image_block_types=[\"Image\",\"Table\"],          # optional\n",
        "    extract_image_block_to_payload=False,                  # optional\n",
        "    extract_image_block_output_dir=\"extracted_data2\",  # optional - only works when ``extract_image_block_to_payload=False``\n",
        "    )"
      ]
    },
    {
      "cell_type": "code",
      "execution_count": 21,
      "metadata": {
        "colab": {
          "base_uri": "https://localhost:8080/"
        },
        "id": "-ugHzV-gzlRl",
        "outputId": "3423bea9-ecd8-4ecd-f069-fa0454263bac"
      },
      "outputs": [
        {
          "data": {
            "text/plain": [
              "[<unstructured.documents.elements.Text at 0x7a1012128eb0>,\n",
              " <unstructured.documents.elements.Header at 0x7a0ee82278b0>,\n",
              " <unstructured.documents.elements.Text at 0x7a101212aad0>,\n",
              " <unstructured.documents.elements.Title at 0x7a0ee81475e0>,\n",
              " <unstructured.documents.elements.Text at 0x7a0ef9e3b7f0>,\n",
              " <unstructured.documents.elements.Title at 0x7a0ee83e0280>,\n",
              " <unstructured.documents.elements.NarrativeText at 0x7a0ee83e0d30>,\n",
              " <unstructured.documents.elements.Image at 0x7a0ee8147d00>,\n",
              " <unstructured.documents.elements.NarrativeText at 0x7a0ee8225ab0>,\n",
              " <unstructured.documents.elements.NarrativeText at 0x7a0ee8224c70>,\n",
              " <unstructured.documents.elements.NarrativeText at 0x7a0ee8225420>,\n",
              " <unstructured.documents.elements.NarrativeText at 0x7a0ee8227fa0>,\n",
              " <unstructured.documents.elements.Title at 0x7a0ee8227ca0>,\n",
              " <unstructured.documents.elements.NarrativeText at 0x7a0ee8224ac0>,\n",
              " <unstructured.documents.elements.NarrativeText at 0x7a0ef7896fe0>,\n",
              " <unstructured.documents.elements.NarrativeText at 0x7a0ee8226890>,\n",
              " <unstructured.documents.elements.NarrativeText at 0x7a0ee8227d00>,\n",
              " <unstructured.documents.elements.NarrativeText at 0x7a0ef7896680>,\n",
              " <unstructured.documents.elements.NarrativeText at 0x7a0ef7896560>,\n",
              " <unstructured.documents.elements.Footer at 0x7a0ef78965c0>,\n",
              " <unstructured.documents.elements.NarrativeText at 0x7a0ef7894940>,\n",
              " <unstructured.documents.elements.NarrativeText at 0x7a0ef7896470>,\n",
              " <unstructured.documents.elements.NarrativeText at 0x7a0ef7895ba0>,\n",
              " <unstructured.documents.elements.NarrativeText at 0x7a0ef78946d0>,\n",
              " <unstructured.documents.elements.Title at 0x7a0ef7894520>,\n",
              " <unstructured.documents.elements.NarrativeText at 0x7a0ef7895090>,\n",
              " <unstructured.documents.elements.NarrativeText at 0x7a0ef7895060>,\n",
              " <unstructured.documents.elements.NarrativeText at 0x7a0ef78956f0>,\n",
              " <unstructured.documents.elements.NarrativeText at 0x7a0ef78962f0>,\n",
              " <unstructured.documents.elements.NarrativeText at 0x7a0ef7895cc0>,\n",
              " <unstructured.documents.elements.NarrativeText at 0x7a0ef7897820>,\n",
              " <unstructured.documents.elements.NarrativeText at 0x7a0ef7894130>,\n",
              " <unstructured.documents.elements.Formula at 0x7a0ef7897490>,\n",
              " <unstructured.documents.elements.NarrativeText at 0x7a0ef78961a0>,\n",
              " <unstructured.documents.elements.Image at 0x7a0ef78969b0>,\n",
              " <unstructured.documents.elements.NarrativeText at 0x7a0ef7894cd0>,\n",
              " <unstructured.documents.elements.NarrativeText at 0x7a0ef7894e20>,\n",
              " <unstructured.documents.elements.Title at 0x7a0ef78950c0>,\n",
              " <unstructured.documents.elements.NarrativeText at 0x7a0ef78974f0>,\n",
              " <unstructured.documents.elements.NarrativeText at 0x7a0ef7894d00>,\n",
              " <unstructured.documents.elements.NarrativeText at 0x7a0ef7896bf0>,\n",
              " <unstructured.documents.elements.Title at 0x7a0ef9e39510>,\n",
              " <unstructured.documents.elements.Image at 0x7a0ef7894220>,\n",
              " <unstructured.documents.elements.FigureCaption at 0x7a0ef7897a60>,\n",
              " <unstructured.documents.elements.NarrativeText at 0x7a0ef78973a0>,\n",
              " <unstructured.documents.elements.Title at 0x7a0ef7897dc0>,\n",
              " <unstructured.documents.elements.NarrativeText at 0x7a0ef7894f40>,\n",
              " <unstructured.documents.elements.NarrativeText at 0x7a0ef7895960>,\n",
              " <unstructured.documents.elements.NarrativeText at 0x7a0ef7895c90>,\n",
              " <unstructured.documents.elements.NarrativeText at 0x7a0ef7894280>,\n",
              " <unstructured.documents.elements.Formula at 0x7a0ef78957e0>,\n",
              " <unstructured.documents.elements.NarrativeText at 0x7a0ef7894640>,\n",
              " <unstructured.documents.elements.NarrativeText at 0x7a0ef7897d00>,\n",
              " <unstructured.documents.elements.NarrativeText at 0x7a0ef78944c0>,\n",
              " <unstructured.documents.elements.NarrativeText at 0x7a0ef7895fc0>,\n",
              " <unstructured.documents.elements.NarrativeText at 0x7a0ef7896c80>,\n",
              " <unstructured.documents.elements.NarrativeText at 0x7a0ef7897640>,\n",
              " <unstructured.documents.elements.NarrativeText at 0x7a0ef78953f0>,\n",
              " <unstructured.documents.elements.Formula at 0x7a0ef78953c0>,\n",
              " <unstructured.documents.elements.NarrativeText at 0x7a0ed3e734c0>,\n",
              " <unstructured.documents.elements.NarrativeText at 0x7a0ed3e708b0>,\n",
              " <unstructured.documents.elements.NarrativeText at 0x7a0ed3e73370>,\n",
              " <unstructured.documents.elements.NarrativeText at 0x7a0ed3e73220>,\n",
              " <unstructured.documents.elements.NarrativeText at 0x7a0ed3e73940>,\n",
              " <unstructured.documents.elements.Title at 0x7a0ed3e73910>,\n",
              " <unstructured.documents.elements.NarrativeText at 0x7a0ed3e72a10>,\n",
              " <unstructured.documents.elements.NarrativeText at 0x7a0ed3e70dc0>,\n",
              " <unstructured.documents.elements.Text at 0x7a0ee83bf130>,\n",
              " <unstructured.documents.elements.NarrativeText at 0x7a0ef7895570>,\n",
              " <unstructured.documents.elements.Title at 0x7a0ef7896770>,\n",
              " <unstructured.documents.elements.NarrativeText at 0x7a0ed3e705b0>,\n",
              " <unstructured.documents.elements.NarrativeText at 0x7a0ed3e73970>,\n",
              " <unstructured.documents.elements.NarrativeText at 0x7a0ed3e73520>,\n",
              " <unstructured.documents.elements.Title at 0x7a0ed3e73820>,\n",
              " <unstructured.documents.elements.NarrativeText at 0x7a0ed3e73070>,\n",
              " <unstructured.documents.elements.NarrativeText at 0x7a0ed3e72f50>,\n",
              " <unstructured.documents.elements.NarrativeText at 0x7a0ed3e73100>,\n",
              " <unstructured.documents.elements.NarrativeText at 0x7a0ed3e71f30>,\n",
              " <unstructured.documents.elements.NarrativeText at 0x7a0ed3e72800>,\n",
              " <unstructured.documents.elements.NarrativeText at 0x7a0ed3e71840>,\n",
              " <unstructured.documents.elements.NarrativeText at 0x7a0ed3e716f0>,\n",
              " <unstructured.documents.elements.NarrativeText at 0x7a0ed3e71e40>,\n",
              " <unstructured.documents.elements.NarrativeText at 0x7a0ed3e700a0>,\n",
              " <unstructured.documents.elements.NarrativeText at 0x7a0ed3e70070>,\n",
              " <unstructured.documents.elements.NarrativeText at 0x7a0ed3e71d80>,\n",
              " <unstructured.documents.elements.NarrativeText at 0x7a0ed3e71f00>,\n",
              " <unstructured.documents.elements.NarrativeText at 0x7a0ed3e72830>,\n",
              " <unstructured.documents.elements.Title at 0x7a0ed3e727d0>,\n",
              " <unstructured.documents.elements.NarrativeText at 0x7a0ed3e71750>,\n",
              " <unstructured.documents.elements.Title at 0x7a0ed3e739a0>,\n",
              " <unstructured.documents.elements.NarrativeText at 0x7a0ed3e71b70>,\n",
              " <unstructured.documents.elements.NarrativeText at 0x7a0ed3e70f40>,\n",
              " <unstructured.documents.elements.NarrativeText at 0x7a0ed3e703a0>,\n",
              " <unstructured.documents.elements.NarrativeText at 0x7a0ed3e70fa0>,\n",
              " <unstructured.documents.elements.NarrativeText at 0x7a0ed3e71960>,\n",
              " <unstructured.documents.elements.Table at 0x7a0ed3e73490>,\n",
              " <unstructured.documents.elements.NarrativeText at 0x7a0ed3e71390>,\n",
              " <unstructured.documents.elements.NarrativeText at 0x7a0ef9e1bb20>,\n",
              " <unstructured.documents.elements.NarrativeText at 0x7a0ef9e1a980>,\n",
              " <unstructured.documents.elements.NarrativeText at 0x7a0ef9e1a830>,\n",
              " <unstructured.documents.elements.Title at 0x7a0ef9e18c40>,\n",
              " <unstructured.documents.elements.NarrativeText at 0x7a0ef9e1ab00>,\n",
              " <unstructured.documents.elements.NarrativeText at 0x7a0ef9e19660>,\n",
              " <unstructured.documents.elements.ListItem at 0x7a0ef9e19ae0>,\n",
              " <unstructured.documents.elements.ListItem at 0x7a0ef9e1a8c0>,\n",
              " <unstructured.documents.elements.ListItem at 0x7a0ef9e18e20>,\n",
              " <unstructured.documents.elements.Title at 0x7a0ee83be500>,\n",
              " <unstructured.documents.elements.Title at 0x7a0ee83bc730>,\n",
              " <unstructured.documents.elements.Image at 0x7a0ed3e73280>,\n",
              " <unstructured.documents.elements.FigureCaption at 0x7a0ed3e70c70>,\n",
              " <unstructured.documents.elements.ListItem at 0x7a0ed3e724d0>,\n",
              " <unstructured.documents.elements.ListItem at 0x7a0ef9e18700>,\n",
              " <unstructured.documents.elements.NarrativeText at 0x7a0ef9e1bf10>,\n",
              " <unstructured.documents.elements.NarrativeText at 0x7a0ef9e18040>,\n",
              " <unstructured.documents.elements.Title at 0x7a0ef9e18c70>,\n",
              " <unstructured.documents.elements.NarrativeText at 0x7a0ef9e195a0>,\n",
              " <unstructured.documents.elements.NarrativeText at 0x7a0ef9e19b40>,\n",
              " <unstructured.documents.elements.Table at 0x7a0ef9e18100>,\n",
              " <unstructured.documents.elements.NarrativeText at 0x7a0ef9e1bee0>,\n",
              " <unstructured.documents.elements.NarrativeText at 0x7a0ef9e1ac80>,\n",
              " <unstructured.documents.elements.NarrativeText at 0x7a0ef9e1ae60>,\n",
              " <unstructured.documents.elements.NarrativeText at 0x7a0ef9e18f10>,\n",
              " <unstructured.documents.elements.NarrativeText at 0x7a0ef9e183d0>,\n",
              " <unstructured.documents.elements.NarrativeText at 0x7a0ef9e1b670>,\n",
              " <unstructured.documents.elements.NarrativeText at 0x7a0ef9e19f30>,\n",
              " <unstructured.documents.elements.NarrativeText at 0x7a0ef9e1a5c0>,\n",
              " <unstructured.documents.elements.NarrativeText at 0x7a0ef9e198a0>,\n",
              " <unstructured.documents.elements.Title at 0x7a0ef9e19780>,\n",
              " <unstructured.documents.elements.NarrativeText at 0x7a0ef9e1ace0>,\n",
              " <unstructured.documents.elements.NarrativeText at 0x7a0ef9e1b2b0>,\n",
              " <unstructured.documents.elements.NarrativeText at 0x7a0ef9e1a3e0>,\n",
              " <unstructured.documents.elements.NarrativeText at 0x7a0ef9e18550>,\n",
              " <unstructured.documents.elements.Title at 0x7a0ef9e188e0>,\n",
              " <unstructured.documents.elements.Title at 0x7a0ef9e18a60>,\n",
              " <unstructured.documents.elements.NarrativeText at 0x7a0ef9e1be80>,\n",
              " <unstructured.documents.elements.NarrativeText at 0x7a0ef9e19150>,\n",
              " <unstructured.documents.elements.Image at 0x7a0ef9e196f0>,\n",
              " <unstructured.documents.elements.Table at 0x7a0ef9e19390>,\n",
              " <unstructured.documents.elements.FigureCaption at 0x7a0ef9e1a2f0>,\n",
              " <unstructured.documents.elements.NarrativeText at 0x7a0ef9e1b880>,\n",
              " <unstructured.documents.elements.FigureCaption at 0x7a0ef9e18220>,\n",
              " <unstructured.documents.elements.Image at 0x7a0ef9e191b0>,\n",
              " <unstructured.documents.elements.FigureCaption at 0x7a0ef9e1b070>,\n",
              " <unstructured.documents.elements.NarrativeText at 0x7a0ef9e19450>,\n",
              " <unstructured.documents.elements.NarrativeText at 0x7a0ef9e185e0>,\n",
              " <unstructured.documents.elements.NarrativeText at 0x7a0ef9e18130>,\n",
              " <unstructured.documents.elements.NarrativeText at 0x7a0ef9e924a0>,\n",
              " <unstructured.documents.elements.Title at 0x7a0ef9e91ae0>,\n",
              " <unstructured.documents.elements.NarrativeText at 0x7a0ef9e93c10>,\n",
              " <unstructured.documents.elements.NarrativeText at 0x7a0ef9e90250>,\n",
              " <unstructured.documents.elements.Title at 0x7a0ef9e903d0>,\n",
              " <unstructured.documents.elements.ListItem at 0x7a0ef9e93010>,\n",
              " <unstructured.documents.elements.ListItem at 0x7a0ef9e937f0>,\n",
              " <unstructured.documents.elements.ListItem at 0x7a0ef9e934f0>,\n",
              " <unstructured.documents.elements.ListItem at 0x7a0ef9e92350>,\n",
              " <unstructured.documents.elements.ListItem at 0x7a0ef9e93970>,\n",
              " <unstructured.documents.elements.ListItem at 0x7a0ef9e90280>,\n",
              " <unstructured.documents.elements.ListItem at 0x7a0ef9e93c70>,\n",
              " <unstructured.documents.elements.NarrativeText at 0x7a0ee83bee00>,\n",
              " <unstructured.documents.elements.ListItem at 0x7a0ef9e93d60>,\n",
              " <unstructured.documents.elements.ListItem at 0x7a0ef9e900a0>,\n",
              " <unstructured.documents.elements.ListItem at 0x7a0ef9e93b80>,\n",
              " <unstructured.documents.elements.ListItem at 0x7a0ef9e93820>,\n",
              " <unstructured.documents.elements.ListItem at 0x7a0ef9e91c60>,\n",
              " <unstructured.documents.elements.ListItem at 0x7a0ef779ba60>,\n",
              " <unstructured.documents.elements.ListItem at 0x7a0ef779b130>,\n",
              " <unstructured.documents.elements.ListItem at 0x7a0ef9e923e0>,\n",
              " <unstructured.documents.elements.ListItem at 0x7a0ef9e93b50>,\n",
              " <unstructured.documents.elements.ListItem at 0x7a0ef9e91e10>,\n",
              " <unstructured.documents.elements.ListItem at 0x7a0ef9e917e0>,\n",
              " <unstructured.documents.elements.ListItem at 0x7a0ef9e93ca0>,\n",
              " <unstructured.documents.elements.ListItem at 0x7a0ef9e93f10>,\n",
              " <unstructured.documents.elements.ListItem at 0x7a0ef9e935b0>,\n",
              " <unstructured.documents.elements.ListItem at 0x7a0ef9e93fa0>,\n",
              " <unstructured.documents.elements.ListItem at 0x7a0ef9e92e00>,\n",
              " <unstructured.documents.elements.ListItem at 0x7a0ef9e93130>,\n",
              " <unstructured.documents.elements.NarrativeText at 0x7a0ee83bc790>,\n",
              " <unstructured.documents.elements.NarrativeText at 0x7a0ee83bd690>,\n",
              " <unstructured.documents.elements.ListItem at 0x7a0ef9e91d80>,\n",
              " <unstructured.documents.elements.ListItem at 0x7a0ef7798850>,\n",
              " <unstructured.documents.elements.ListItem at 0x7a0ef779a770>,\n",
              " <unstructured.documents.elements.ListItem at 0x7a0ef779b2e0>,\n",
              " <unstructured.documents.elements.ListItem at 0x7a0ef779a710>,\n",
              " <unstructured.documents.elements.ListItem at 0x7a0ef779a530>,\n",
              " <unstructured.documents.elements.NarrativeText at 0x7a0ef9d49d20>,\n",
              " <unstructured.documents.elements.ListItem at 0x7a0ef779a170>,\n",
              " <unstructured.documents.elements.ListItem at 0x7a0ef779ad40>]"
            ]
          },
          "execution_count": 21,
          "metadata": {},
          "output_type": "execute_result"
        }
      ],
      "source": [
        "raw_pdf_elements2"
      ]
    },
    {
      "cell_type": "markdown",
      "metadata": {
        "id": "MbE0LmMHIKQ3"
      },
      "source": [
        "## **Append each element to sepearate list**"
      ]
    },
    {
      "cell_type": "markdown",
      "metadata": {
        "id": "hAGbHIR7H_XL"
      },
      "source": [
        "###### Table realted elements"
      ]
    },
    {
      "cell_type": "code",
      "execution_count": 22,
      "metadata": {
        "id": "XaFRVm2A0qOH"
      },
      "outputs": [],
      "source": [
        "Table=[]\n",
        "for element in raw_pdf_elements2:\n",
        "  if \"unstructured.documents.elements.Table\" in str(type(element)):\n",
        "            Table.append(str(element))"
      ]
    },
    {
      "cell_type": "code",
      "execution_count": 23,
      "metadata": {
        "colab": {
          "base_uri": "https://localhost:8080/",
          "height": 87
        },
        "id": "EutEm_Se1CWs",
        "outputId": "a3a29835-c722-4d32-b1ba-0793500e341a"
      },
      "outputs": [
        {
          "data": {
            "application/vnd.google.colaboratory.intrinsic+json": {
              "type": "string"
            },
            "text/plain": [
              "'Real-Time Detectors 100Hz DPM [31] 30Hz DPM [31] Fast YOLO YOLO Less Than Real-Time Fastest DPM [38] R-CNN Minus R [20] Fast R-CNN [14] Faster R-CNN VGG-16[28] Faster R-CNN ZF [28] YOLO VGG-16 Train mAP 16.0 2007 26.1 2007 52.7 2007+2012 63.4 2007+2012 2007 2007 2007+2012 2007+2012 2007+2012 2007+2012 30.4 53.5 70.0 73.2 62.1 66.4 FPS 100 30 155 45 15 6 0.5 7 18 21'"
            ]
          },
          "execution_count": 23,
          "metadata": {},
          "output_type": "execute_result"
        }
      ],
      "source": [
        "Table[0]"
      ]
    },
    {
      "cell_type": "markdown",
      "metadata": {
        "id": "f4-iM5FSIAuN"
      },
      "source": [
        "###### Text realted elements"
      ]
    },
    {
      "cell_type": "code",
      "execution_count": 24,
      "metadata": {
        "id": "da60xGmUfBLY"
      },
      "outputs": [],
      "source": [
        "Text=[]\n",
        "for element in raw_pdf_elements2:\n",
        "  if \"unstructured.documents.elements.NarrativeText\" in str(type(element)):\n",
        "            Text.append(str(element))"
      ]
    },
    {
      "cell_type": "code",
      "execution_count": 25,
      "metadata": {
        "colab": {
          "base_uri": "https://localhost:8080/",
          "height": 104
        },
        "id": "7TGpgQqdfdF1",
        "outputId": "9db22346-cd3d-4ecd-a3e4-063607fc02c0"
      },
      "outputs": [
        {
          "data": {
            "application/vnd.google.colaboratory.intrinsic+json": {
              "type": "string"
            },
            "text/plain": [
              "'We present YOLO, a new approach to object detection. Prior work on object detection repurposes classiﬁers to per- form detection. Instead, we frame object detection as a re- gression problem to spatially separated bounding boxes and associated class probabilities. A single neural network pre- dicts bounding boxes and class probabilities directly from full images in one evaluation. Since the whole detection pipeline is a single network, it can be optimized end-to-end directly on detection performance.'"
            ]
          },
          "execution_count": 25,
          "metadata": {},
          "output_type": "execute_result"
        }
      ],
      "source": [
        "Text[0]"
      ]
    },
    {
      "cell_type": "markdown",
      "metadata": {
        "id": "2Z2l6AoyIP9b"
      },
      "source": [
        "###### Image realted elements"
      ]
    },
    {
      "cell_type": "code",
      "execution_count": 26,
      "metadata": {
        "id": "qk39xLU1fGX_"
      },
      "outputs": [],
      "source": [
        "Image=[]\n",
        "for element in raw_pdf_elements2:\n",
        "  if \"unstructured.documents.elements.Image\" in str(type(element)):\n",
        "            Image.append(str(element))"
      ]
    },
    {
      "cell_type": "code",
      "execution_count": 27,
      "metadata": {
        "colab": {
          "base_uri": "https://localhost:8080/",
          "height": 35
        },
        "id": "d-Ybd_fKfqE2",
        "outputId": "fee24bc9-0550-48c5-e01a-0202736ef84a"
      },
      "outputs": [
        {
          "data": {
            "application/vnd.google.colaboratory.intrinsic+json": {
              "type": "string"
            },
            "text/plain": [
              "'1. Resize image. 2. Run convolutional network. 3. Non-max suppression.'"
            ]
          },
          "execution_count": 27,
          "metadata": {},
          "output_type": "execute_result"
        }
      ],
      "source": [
        "Image[0]"
      ]
    },
    {
      "cell_type": "markdown",
      "metadata": {
        "id": "bmDYxFPDIUjt"
      },
      "source": [
        "# **2. Start Summary(Convert to text) on each element(Text/Image/Table) Using Gemini Pro Vision Or OpenAI GPT4 Vision**\n",
        "\n",
        "- We dont have **gpt 4V** access, so using **Gemin pro V** Model below"
      ]
    },
    {
      "cell_type": "markdown",
      "metadata": {
        "id": "harMJATBPIJ5"
      },
      "source": [
        "> ERROR: pip's dependency resolver does not currently take into account all the packages that are installed. This behaviour is the source of the following dependency conflicts.\n",
        "spacy 3.7.4 requires typer<0.10.0,>=0.3.0, but you have typer 0.12.3 which is incompatible.\n",
        "weasel 0.3.4 requires typer<0.10.0,>=0.3.0, but you have typer 0.12.3 which is incompatible."
      ]
    },
    {
      "cell_type": "code",
      "execution_count": 28,
      "metadata": {
        "id": "3aAN7550PLHS"
      },
      "outputs": [],
      "source": [
        "!pip install typer==0.9.4 -q"
      ]
    },
    {
      "cell_type": "markdown",
      "metadata": {
        "id": "De8vg_3evCK3"
      },
      "source": [
        "- Install below pkg if we are running Google free Gemini Pro Vision Model"
      ]
    },
    {
      "cell_type": "code",
      "execution_count": 36,
      "metadata": {
        "colab": {
          "base_uri": "https://localhost:8080/"
        },
        "id": "lc4Wb7S5uwnA",
        "outputId": "978ff501-65fb-4652-b5bc-de53f67251ed"
      },
      "outputs": [
        {
          "name": "stdout",
          "output_type": "stream",
          "text": [
            "\u001b[2K     \u001b[90m━━━━━━━━━━━━━━━━━━━━━━━━━━━━━━━━━━━━━━━━\u001b[0m \u001b[32m55.8/55.8 kB\u001b[0m \u001b[31m2.4 MB/s\u001b[0m eta \u001b[36m0:00:00\u001b[0m\n",
            "\u001b[2K     \u001b[90m━━━━━━━━━━━━━━━━━━━━━━━━━━━━━━━━━━━━━━━━\u001b[0m \u001b[32m125.6/125.6 kB\u001b[0m \u001b[31m2.8 MB/s\u001b[0m eta \u001b[36m0:00:00\u001b[0m\n",
            "\u001b[2K     \u001b[90m━━━━━━━━━━━━━━━━━━━━━━━━━━━━━━━━━━━━━━━━\u001b[0m \u001b[32m67.9/67.9 kB\u001b[0m \u001b[31m8.1 MB/s\u001b[0m eta \u001b[36m0:00:00\u001b[0m\n",
            "\u001b[2K     \u001b[90m━━━━━━━━━━━━━━━━━━━━━━━━━━━━━━━━━━━━━━━━\u001b[0m \u001b[32m139.0/139.0 kB\u001b[0m \u001b[31m10.1 MB/s\u001b[0m eta \u001b[36m0:00:00\u001b[0m\n",
            "\u001b[?25h"
          ]
        }
      ],
      "source": [
        "!pip install langchain_core langchain chromadb langchain-google-genai langchain-google-vertexai -q"
      ]
    },
    {
      "cell_type": "markdown",
      "metadata": {
        "id": "THjsojnmu4NF"
      },
      "source": [
        "- Install below pkg if we are running Openai GPT Vision Model"
      ]
    },
    {
      "cell_type": "code",
      "execution_count": 37,
      "metadata": {
        "id": "DRqY6KQ41yZx"
      },
      "outputs": [],
      "source": [
        "#!pip install langchain_core langchain_openai langchain chromadb -q\n"
      ]
    },
    {
      "cell_type": "code",
      "execution_count": 39,
      "metadata": {
        "id": "mlZDRX9HgLBB"
      },
      "outputs": [],
      "source": [
        "from langchain_core.output_parsers import StrOutputParser\n",
        "from langchain_core.prompts import ChatPromptTemplate\n",
        "#from langchain_openai import ChatOpenAI\n",
        "\n",
        "from langchain_google_genai import ChatGoogleGenerativeAI\n",
        "#OR\n",
        "#from langchain_google_vertexai import ChatVertexAI"
      ]
    },
    {
      "cell_type": "markdown",
      "metadata": {
        "id": "PxiVeh1SjNFX"
      },
      "source": [
        "## **1. Get TABLE Summary by Prompt**"
      ]
    },
    {
      "cell_type": "markdown",
      "metadata": {
        "id": "AcW3YzsGQTge"
      },
      "source": [
        "#### Create Prompt"
      ]
    },
    {
      "cell_type": "code",
      "execution_count": 40,
      "metadata": {
        "id": "sCzuQvDJgXSH"
      },
      "outputs": [],
      "source": [
        "# Prompt\n",
        "prompt_text = \"\"\"You are an assistant tasked with summarizing tables for retrieval. \\\n",
        "    These summaries will be embedded and used to retrieve the raw table elements. \\\n",
        "    Give a concise summary of the table that is well optimized for retrieval. Table:{element} \"\"\""
      ]
    },
    {
      "cell_type": "code",
      "execution_count": 41,
      "metadata": {
        "id": "KEO6eO5E1E1E"
      },
      "outputs": [],
      "source": [
        "prompt = ChatPromptTemplate.from_template(prompt_text)"
      ]
    },
    {
      "cell_type": "markdown",
      "metadata": {
        "id": "XEkQEdLcvWyu"
      },
      "source": [
        "#### Connect to Gemini Pro Vision"
      ]
    },
    {
      "cell_type": "code",
      "execution_count": 46,
      "metadata": {
        "id": "XnM1VLLnvXOu"
      },
      "outputs": [],
      "source": [
        "import os\n",
        "from google.colab import userdata\n",
        "GOOGLE_API_KEY=userdata.get('GOOGLE_API_KEY')\n",
        "os.environ[\"GOOGLE_API_KEY\"] = GOOGLE_API_KEY\n",
        "\n",
        "# Initiate ChatOpenAI LLM\n",
        "model = ChatGoogleGenerativeAI(temperature=0, model=\"gemini-pro\") #Use  model=\"gpt-4\" mdel\n",
        "#model_vision = ChatGoogleGenerativeAI(temperature=0, model=\"gemini-pro-vision\") #Use  model=\"gpt-4\" mdel"
      ]
    },
    {
      "cell_type": "markdown",
      "metadata": {
        "id": "vPGVMDKoQZID"
      },
      "source": [
        "#### Connect to OpenAI GPT Vision model(If we have access)"
      ]
    },
    {
      "cell_type": "code",
      "execution_count": null,
      "metadata": {
        "id": "f1ZYHfpt2VP5"
      },
      "outputs": [],
      "source": [
        "# import os\n",
        "# from google.colab import userdata\n",
        "# OPENAI_API_TOKEN=userdata.get('OPENAI_API_KEY')\n",
        "# os.environ[\"OPENAI_API_KEY\"] = OPENAI_API_TOKEN\n",
        "\n",
        "# # Initiate ChatOpenAI LLM\n",
        "# model = ChatOpenAI(temperature=0, model=\"gpt-4\") #Use  model=\"gpt-4\" mdel"
      ]
    },
    {
      "cell_type": "markdown",
      "metadata": {
        "id": "eQgSgAhBP0_M"
      },
      "source": [
        "### Apply Chain to do table summary.\n",
        "- Each tables summary as list.\n",
        "- This lambda loop across each table and gets the summary"
      ]
    },
    {
      "cell_type": "code",
      "execution_count": 44,
      "metadata": {
        "colab": {
          "base_uri": "https://localhost:8080/"
        },
        "id": "F0nkoRllQsms",
        "outputId": "d71c67d1-df3e-4742-faa5-b9d5e5f3f06c"
      },
      "outputs": [
        {
          "data": {
            "text/plain": [
              "3"
            ]
          },
          "execution_count": 44,
          "metadata": {},
          "output_type": "execute_result"
        }
      ],
      "source": [
        "len(Table) #Means here we have len(Table) tables"
      ]
    },
    {
      "cell_type": "code",
      "execution_count": 47,
      "metadata": {
        "id": "a2Uc1yiU2UH1"
      },
      "outputs": [],
      "source": [
        "table_summaries = []\n",
        "\n",
        "# Table summary chain\n",
        "summarize_chain = {\"element\": lambda x: x} | prompt | model | StrOutputParser()\n",
        "\n",
        "#Apply Chain to do table summary. Each tables summary as list. \"max_concurrency\": 3 --> Means here we have 3 tables\n",
        "table_summaries = summarize_chain.batch(Table, {\"max_concurrency\": 3})"
      ]
    },
    {
      "cell_type": "code",
      "execution_count": 48,
      "metadata": {
        "colab": {
          "base_uri": "https://localhost:8080/"
        },
        "id": "lF7T14e525U0",
        "outputId": "fc79b912-c904-4deb-db67-098fd48b3c93"
      },
      "outputs": [
        {
          "data": {
            "text/plain": [
              "['**Real-Time Detectors**\\n\\n| Detector | Train mAP | FPS |\\n|---|---|---|\\n| 100Hz DPM | 16.0 | 100 |\\n| 30Hz DPM | 20.07 | 30 |\\n| Fast YOLO | 26.1 | 155 |\\n| YOLO | 52.7 | 45 |\\n| Less Than Real-Time DPM | 30.4 | 15 |\\n| R-CNN Minus R | 53.5 | 6 |\\n| Fast R-CNN | 70.0 | 0.5 |\\n| Faster R-CNN VGG-16 | 73.2 | 7 |\\n| Faster R-CNN ZF | 62.1 | 18 |\\n| YOLO VGG-16 | 66.4 | 21 |',\n",
              " '**Fast R-CNN Performance**\\n\\n| Model | mAP | Combined Gain |\\n|---|---|---|\\n| Fast R-CNN (2007 data) | 71.8 | - |\\n| Fast R-CNN (VGG-M) | 66.9 | 0.6 |\\n| Fast R-CNN (CaffeNet) | 59.2 | 0.3 |\\n| YOLO | 57.1 | 3.2 |\\n| Fast R-CNN (2007 data) + YOLO | 72.4 | - |\\n| Fast R-CNN (VGG-M) + YOLO | 72.4 | - |\\n| Fast R-CNN (CaffeNet) + YOLO | 72.1 | - |\\n| Fast R-CNN (2007 data) + Fast R-CNN (VGG-M) | 75.0 | - |',\n",
              " '**Object Detection Performance**\\n\\n| Model | VOC 2007 AP | Picasso AP Best F1 | People-Art AP |\\n|---|---|---|---|\\n| YOLO | 59.2 | 0.590 | 45 |\\n| R-CNN | 54.2 | 0.226 | 26 |\\n| DPM | 43.2 | 0.458 | 32 |\\n| Poselets | 36.5 | 0.271 | - |\\n| D&T | - | 0.051 | 1.9 |']"
            ]
          },
          "execution_count": 48,
          "metadata": {},
          "output_type": "execute_result"
        }
      ],
      "source": [
        "table_summaries"
      ]
    },
    {
      "cell_type": "code",
      "execution_count": 85,
      "metadata": {
        "colab": {
          "base_uri": "https://localhost:8080/",
          "height": 87
        },
        "id": "HRTBNTeJ6Emc",
        "outputId": "201c8148-010a-41bc-f549-ea190fa3ecf1"
      },
      "outputs": [
        {
          "data": {
            "application/vnd.google.colaboratory.intrinsic+json": {
              "type": "string"
            },
            "text/plain": [
              "'Real-Time Detectors 100Hz DPM [31] 30Hz DPM [31] Fast YOLO YOLO Less Than Real-Time Fastest DPM [38] R-CNN Minus R [20] Fast R-CNN [14] Faster R-CNN VGG-16[28] Faster R-CNN ZF [28] YOLO VGG-16 Train mAP 16.0 2007 26.1 2007 52.7 2007+2012 63.4 2007+2012 2007 2007 2007+2012 2007+2012 2007+2012 2007+2012 30.4 53.5 70.0 73.2 62.1 66.4 FPS 100 30 155 45 15 6 0.5 7 18 21'"
            ]
          },
          "execution_count": 85,
          "metadata": {},
          "output_type": "execute_result"
        }
      ],
      "source": [
        "Table[0] #Raw Table"
      ]
    },
    {
      "cell_type": "markdown",
      "metadata": {
        "id": "MS9B1A1cjIVp"
      },
      "source": [
        "## **2. Get TEXT Summary by Prompt**"
      ]
    },
    {
      "cell_type": "code",
      "execution_count": 49,
      "metadata": {
        "id": "asukHsbYiXGn"
      },
      "outputs": [],
      "source": [
        "# Prompt\n",
        "prompt_text = \"\"\"You are an assistant tasked with summarizing text for retrieval. \\\n",
        "    These summaries will be embedded and used to retrieve the raw text elements. \\\n",
        "    Give a concise summary of the table or text that is well optimized for retrieval.text: {element} \"\"\"\n"
      ]
    },
    {
      "cell_type": "code",
      "execution_count": 50,
      "metadata": {
        "id": "UQto_85fidC3"
      },
      "outputs": [],
      "source": [
        "prompt = ChatPromptTemplate.from_template(prompt_text)"
      ]
    },
    {
      "cell_type": "markdown",
      "metadata": {
        "id": "TemfJCQ2Rap0"
      },
      "source": [
        "### Apply Chain to do Text summary.\n",
        "- Each Text summary as list.\n",
        "- This lambda loop across each Text element and gets the summary"
      ]
    },
    {
      "cell_type": "code",
      "execution_count": 53,
      "metadata": {
        "colab": {
          "base_uri": "https://localhost:8080/"
        },
        "id": "d7F-TIw0itHn",
        "outputId": "9f959df7-377f-4a34-9ccc-9f473b375e05"
      },
      "outputs": [
        {
          "name": "stderr",
          "output_type": "stream",
          "text": [
            "WARNING:langchain_google_genai.chat_models:Retrying langchain_google_genai.chat_models._chat_with_retry.<locals>._chat_with_retry in 2.0 seconds as it raised ResourceExhausted: 429 Resource has been exhausted (e.g. check quota)..\n",
            "WARNING:langchain_google_genai.chat_models:Retrying langchain_google_genai.chat_models._chat_with_retry.<locals>._chat_with_retry in 2.0 seconds as it raised ResourceExhausted: 429 Resource has been exhausted (e.g. check quota)..\n",
            "WARNING:langchain_google_genai.chat_models:Retrying langchain_google_genai.chat_models._chat_with_retry.<locals>._chat_with_retry in 2.0 seconds as it raised ResourceExhausted: 429 Resource has been exhausted (e.g. check quota)..\n",
            "WARNING:langchain_google_genai.chat_models:Retrying langchain_google_genai.chat_models._chat_with_retry.<locals>._chat_with_retry in 2.0 seconds as it raised ResourceExhausted: 429 Resource has been exhausted (e.g. check quota)..\n",
            "WARNING:langchain_google_genai.chat_models:Retrying langchain_google_genai.chat_models._chat_with_retry.<locals>._chat_with_retry in 2.0 seconds as it raised ResourceExhausted: 429 Resource has been exhausted (e.g. check quota)..\n",
            "WARNING:langchain_google_genai.chat_models:Retrying langchain_google_genai.chat_models._chat_with_retry.<locals>._chat_with_retry in 2.0 seconds as it raised ResourceExhausted: 429 Resource has been exhausted (e.g. check quota)..\n",
            "WARNING:langchain_google_genai.chat_models:Retrying langchain_google_genai.chat_models._chat_with_retry.<locals>._chat_with_retry in 2.0 seconds as it raised ResourceExhausted: 429 Resource has been exhausted (e.g. check quota)..\n",
            "WARNING:langchain_google_genai.chat_models:Retrying langchain_google_genai.chat_models._chat_with_retry.<locals>._chat_with_retry in 2.0 seconds as it raised ResourceExhausted: 429 Resource has been exhausted (e.g. check quota)..\n",
            "WARNING:langchain_google_genai.chat_models:Retrying langchain_google_genai.chat_models._chat_with_retry.<locals>._chat_with_retry in 4.0 seconds as it raised ResourceExhausted: 429 Resource has been exhausted (e.g. check quota)..\n",
            "WARNING:langchain_google_genai.chat_models:Retrying langchain_google_genai.chat_models._chat_with_retry.<locals>._chat_with_retry in 2.0 seconds as it raised ResourceExhausted: 429 Resource has been exhausted (e.g. check quota)..\n",
            "WARNING:langchain_google_genai.chat_models:Retrying langchain_google_genai.chat_models._chat_with_retry.<locals>._chat_with_retry in 4.0 seconds as it raised ResourceExhausted: 429 Resource has been exhausted (e.g. check quota)..\n",
            "WARNING:langchain_google_genai.chat_models:Retrying langchain_google_genai.chat_models._chat_with_retry.<locals>._chat_with_retry in 4.0 seconds as it raised ResourceExhausted: 429 Resource has been exhausted (e.g. check quota)..\n",
            "WARNING:langchain_google_genai.chat_models:Retrying langchain_google_genai.chat_models._chat_with_retry.<locals>._chat_with_retry in 4.0 seconds as it raised ResourceExhausted: 429 Resource has been exhausted (e.g. check quota)..\n",
            "WARNING:langchain_google_genai.chat_models:Retrying langchain_google_genai.chat_models._chat_with_retry.<locals>._chat_with_retry in 4.0 seconds as it raised ResourceExhausted: 429 Resource has been exhausted (e.g. check quota)..\n",
            "WARNING:langchain_google_genai.chat_models:Retrying langchain_google_genai.chat_models._chat_with_retry.<locals>._chat_with_retry in 2.0 seconds as it raised ResourceExhausted: 429 Resource has been exhausted (e.g. check quota)..\n",
            "WARNING:langchain_google_genai.chat_models:Retrying langchain_google_genai.chat_models._chat_with_retry.<locals>._chat_with_retry in 2.0 seconds as it raised ResourceExhausted: 429 Resource has been exhausted (e.g. check quota)..\n",
            "WARNING:langchain_google_genai.chat_models:Retrying langchain_google_genai.chat_models._chat_with_retry.<locals>._chat_with_retry in 2.0 seconds as it raised ResourceExhausted: 429 Resource has been exhausted (e.g. check quota)..\n",
            "WARNING:langchain_google_genai.chat_models:Retrying langchain_google_genai.chat_models._chat_with_retry.<locals>._chat_with_retry in 2.0 seconds as it raised ResourceExhausted: 429 Resource has been exhausted (e.g. check quota)..\n",
            "WARNING:langchain_google_genai.chat_models:Retrying langchain_google_genai.chat_models._chat_with_retry.<locals>._chat_with_retry in 2.0 seconds as it raised ResourceExhausted: 429 Resource has been exhausted (e.g. check quota)..\n",
            "WARNING:langchain_google_genai.chat_models:Retrying langchain_google_genai.chat_models._chat_with_retry.<locals>._chat_with_retry in 4.0 seconds as it raised ResourceExhausted: 429 Resource has been exhausted (e.g. check quota)..\n",
            "WARNING:langchain_google_genai.chat_models:Retrying langchain_google_genai.chat_models._chat_with_retry.<locals>._chat_with_retry in 4.0 seconds as it raised ResourceExhausted: 429 Resource has been exhausted (e.g. check quota)..\n",
            "WARNING:langchain_google_genai.chat_models:Retrying langchain_google_genai.chat_models._chat_with_retry.<locals>._chat_with_retry in 4.0 seconds as it raised ResourceExhausted: 429 Resource has been exhausted (e.g. check quota)..\n",
            "WARNING:langchain_google_genai.chat_models:Retrying langchain_google_genai.chat_models._chat_with_retry.<locals>._chat_with_retry in 4.0 seconds as it raised ResourceExhausted: 429 Resource has been exhausted (e.g. check quota)..\n",
            "WARNING:langchain_google_genai.chat_models:Retrying langchain_google_genai.chat_models._chat_with_retry.<locals>._chat_with_retry in 4.0 seconds as it raised ResourceExhausted: 429 Resource has been exhausted (e.g. check quota)..\n",
            "WARNING:langchain_google_genai.chat_models:Retrying langchain_google_genai.chat_models._chat_with_retry.<locals>._chat_with_retry in 8.0 seconds as it raised ResourceExhausted: 429 Resource has been exhausted (e.g. check quota)..\n",
            "WARNING:langchain_google_genai.chat_models:Retrying langchain_google_genai.chat_models._chat_with_retry.<locals>._chat_with_retry in 8.0 seconds as it raised ResourceExhausted: 429 Resource has been exhausted (e.g. check quota)..\n",
            "WARNING:langchain_google_genai.chat_models:Retrying langchain_google_genai.chat_models._chat_with_retry.<locals>._chat_with_retry in 8.0 seconds as it raised ResourceExhausted: 429 Resource has been exhausted (e.g. check quota)..\n",
            "WARNING:langchain_google_genai.chat_models:Retrying langchain_google_genai.chat_models._chat_with_retry.<locals>._chat_with_retry in 8.0 seconds as it raised ResourceExhausted: 429 Resource has been exhausted (e.g. check quota)..\n",
            "WARNING:langchain_google_genai.chat_models:Retrying langchain_google_genai.chat_models._chat_with_retry.<locals>._chat_with_retry in 8.0 seconds as it raised ResourceExhausted: 429 Resource has been exhausted (e.g. check quota)..\n",
            "WARNING:langchain_google_genai.chat_models:Retrying langchain_google_genai.chat_models._chat_with_retry.<locals>._chat_with_retry in 16.0 seconds as it raised ResourceExhausted: 429 Quota exceeded for quota metric 'Generate Content API requests per minute' and limit 'GenerateContent request limit per minute for a region' of service 'generativelanguage.googleapis.com' for consumer 'project_number:1076611876398'. [reason: \"RATE_LIMIT_EXCEEDED\"\n",
            "domain: \"googleapis.com\"\n",
            "metadata {\n",
            "  key: \"consumer\"\n",
            "  value: \"projects/1076611876398\"\n",
            "}\n",
            "metadata {\n",
            "  key: \"quota_limit\"\n",
            "  value: \"GenerateContentRequestsPerMinutePerProjectPerRegion\"\n",
            "}\n",
            "metadata {\n",
            "  key: \"quota_limit_value\"\n",
            "  value: \"60\"\n",
            "}\n",
            "metadata {\n",
            "  key: \"quota_location\"\n",
            "  value: \"us-central2\"\n",
            "}\n",
            "metadata {\n",
            "  key: \"quota_metric\"\n",
            "  value: \"generativelanguage.googleapis.com/generate_content_requests\"\n",
            "}\n",
            "metadata {\n",
            "  key: \"service\"\n",
            "  value: \"generativelanguage.googleapis.com\"\n",
            "}\n",
            ", links {\n",
            "  description: \"Request a higher quota limit.\"\n",
            "  url: \"https://cloud.google.com/docs/quota#requesting_higher_quota\"\n",
            "}\n",
            "].\n",
            "WARNING:langchain_google_genai.chat_models:Retrying langchain_google_genai.chat_models._chat_with_retry.<locals>._chat_with_retry in 16.0 seconds as it raised ResourceExhausted: 429 Quota exceeded for quota metric 'Generate Content API requests per minute' and limit 'GenerateContent request limit per minute for a region' of service 'generativelanguage.googleapis.com' for consumer 'project_number:1076611876398'. [reason: \"RATE_LIMIT_EXCEEDED\"\n",
            "domain: \"googleapis.com\"\n",
            "metadata {\n",
            "  key: \"consumer\"\n",
            "  value: \"projects/1076611876398\"\n",
            "}\n",
            "metadata {\n",
            "  key: \"quota_limit\"\n",
            "  value: \"GenerateContentRequestsPerMinutePerProjectPerRegion\"\n",
            "}\n",
            "metadata {\n",
            "  key: \"quota_limit_value\"\n",
            "  value: \"60\"\n",
            "}\n",
            "metadata {\n",
            "  key: \"quota_location\"\n",
            "  value: \"us-central2\"\n",
            "}\n",
            "metadata {\n",
            "  key: \"quota_metric\"\n",
            "  value: \"generativelanguage.googleapis.com/generate_content_requests\"\n",
            "}\n",
            "metadata {\n",
            "  key: \"service\"\n",
            "  value: \"generativelanguage.googleapis.com\"\n",
            "}\n",
            ", links {\n",
            "  description: \"Request a higher quota limit.\"\n",
            "  url: \"https://cloud.google.com/docs/quota#requesting_higher_quota\"\n",
            "}\n",
            "].\n",
            "WARNING:langchain_google_genai.chat_models:Retrying langchain_google_genai.chat_models._chat_with_retry.<locals>._chat_with_retry in 16.0 seconds as it raised ResourceExhausted: 429 Quota exceeded for quota metric 'Generate Content API requests per minute' and limit 'GenerateContent request limit per minute for a region' of service 'generativelanguage.googleapis.com' for consumer 'project_number:1076611876398'. [reason: \"RATE_LIMIT_EXCEEDED\"\n",
            "domain: \"googleapis.com\"\n",
            "metadata {\n",
            "  key: \"consumer\"\n",
            "  value: \"projects/1076611876398\"\n",
            "}\n",
            "metadata {\n",
            "  key: \"quota_limit\"\n",
            "  value: \"GenerateContentRequestsPerMinutePerProjectPerRegion\"\n",
            "}\n",
            "metadata {\n",
            "  key: \"quota_limit_value\"\n",
            "  value: \"60\"\n",
            "}\n",
            "metadata {\n",
            "  key: \"quota_location\"\n",
            "  value: \"us-central2\"\n",
            "}\n",
            "metadata {\n",
            "  key: \"quota_metric\"\n",
            "  value: \"generativelanguage.googleapis.com/generate_content_requests\"\n",
            "}\n",
            "metadata {\n",
            "  key: \"service\"\n",
            "  value: \"generativelanguage.googleapis.com\"\n",
            "}\n",
            ", links {\n",
            "  description: \"Request a higher quota limit.\"\n",
            "  url: \"https://cloud.google.com/docs/quota#requesting_higher_quota\"\n",
            "}\n",
            "].\n",
            "WARNING:langchain_google_genai.chat_models:Retrying langchain_google_genai.chat_models._chat_with_retry.<locals>._chat_with_retry in 16.0 seconds as it raised ResourceExhausted: 429 Quota exceeded for quota metric 'Generate Content API requests per minute' and limit 'GenerateContent request limit per minute for a region' of service 'generativelanguage.googleapis.com' for consumer 'project_number:1076611876398'. [reason: \"RATE_LIMIT_EXCEEDED\"\n",
            "domain: \"googleapis.com\"\n",
            "metadata {\n",
            "  key: \"consumer\"\n",
            "  value: \"projects/1076611876398\"\n",
            "}\n",
            "metadata {\n",
            "  key: \"quota_limit\"\n",
            "  value: \"GenerateContentRequestsPerMinutePerProjectPerRegion\"\n",
            "}\n",
            "metadata {\n",
            "  key: \"quota_limit_value\"\n",
            "  value: \"60\"\n",
            "}\n",
            "metadata {\n",
            "  key: \"quota_location\"\n",
            "  value: \"us-central2\"\n",
            "}\n",
            "metadata {\n",
            "  key: \"quota_metric\"\n",
            "  value: \"generativelanguage.googleapis.com/generate_content_requests\"\n",
            "}\n",
            "metadata {\n",
            "  key: \"service\"\n",
            "  value: \"generativelanguage.googleapis.com\"\n",
            "}\n",
            ", links {\n",
            "  description: \"Request a higher quota limit.\"\n",
            "  url: \"https://cloud.google.com/docs/quota#requesting_higher_quota\"\n",
            "}\n",
            "].\n",
            "WARNING:langchain_google_genai.chat_models:Retrying langchain_google_genai.chat_models._chat_with_retry.<locals>._chat_with_retry in 16.0 seconds as it raised ResourceExhausted: 429 Quota exceeded for quota metric 'Generate Content API requests per minute' and limit 'GenerateContent request limit per minute for a region' of service 'generativelanguage.googleapis.com' for consumer 'project_number:1076611876398'. [reason: \"RATE_LIMIT_EXCEEDED\"\n",
            "domain: \"googleapis.com\"\n",
            "metadata {\n",
            "  key: \"consumer\"\n",
            "  value: \"projects/1076611876398\"\n",
            "}\n",
            "metadata {\n",
            "  key: \"quota_limit\"\n",
            "  value: \"GenerateContentRequestsPerMinutePerProjectPerRegion\"\n",
            "}\n",
            "metadata {\n",
            "  key: \"quota_limit_value\"\n",
            "  value: \"60\"\n",
            "}\n",
            "metadata {\n",
            "  key: \"quota_location\"\n",
            "  value: \"us-central2\"\n",
            "}\n",
            "metadata {\n",
            "  key: \"quota_metric\"\n",
            "  value: \"generativelanguage.googleapis.com/generate_content_requests\"\n",
            "}\n",
            "metadata {\n",
            "  key: \"service\"\n",
            "  value: \"generativelanguage.googleapis.com\"\n",
            "}\n",
            ", links {\n",
            "  description: \"Request a higher quota limit.\"\n",
            "  url: \"https://cloud.google.com/docs/quota#requesting_higher_quota\"\n",
            "}\n",
            "].\n",
            "WARNING:langchain_google_genai.chat_models:Retrying langchain_google_genai.chat_models._chat_with_retry.<locals>._chat_with_retry in 32.0 seconds as it raised ResourceExhausted: 429 Quota exceeded for quota metric 'Generate Content API requests per minute' and limit 'GenerateContent request limit per minute for a region' of service 'generativelanguage.googleapis.com' for consumer 'project_number:1076611876398'. [reason: \"RATE_LIMIT_EXCEEDED\"\n",
            "domain: \"googleapis.com\"\n",
            "metadata {\n",
            "  key: \"consumer\"\n",
            "  value: \"projects/1076611876398\"\n",
            "}\n",
            "metadata {\n",
            "  key: \"quota_limit\"\n",
            "  value: \"GenerateContentRequestsPerMinutePerProjectPerRegion\"\n",
            "}\n",
            "metadata {\n",
            "  key: \"quota_limit_value\"\n",
            "  value: \"60\"\n",
            "}\n",
            "metadata {\n",
            "  key: \"quota_location\"\n",
            "  value: \"us-central2\"\n",
            "}\n",
            "metadata {\n",
            "  key: \"quota_metric\"\n",
            "  value: \"generativelanguage.googleapis.com/generate_content_requests\"\n",
            "}\n",
            "metadata {\n",
            "  key: \"service\"\n",
            "  value: \"generativelanguage.googleapis.com\"\n",
            "}\n",
            ", links {\n",
            "  description: \"Request a higher quota limit.\"\n",
            "  url: \"https://cloud.google.com/docs/quota#requesting_higher_quota\"\n",
            "}\n",
            "].\n",
            "WARNING:langchain_google_genai.chat_models:Retrying langchain_google_genai.chat_models._chat_with_retry.<locals>._chat_with_retry in 32.0 seconds as it raised ResourceExhausted: 429 Quota exceeded for quota metric 'Generate Content API requests per minute' and limit 'GenerateContent request limit per minute for a region' of service 'generativelanguage.googleapis.com' for consumer 'project_number:1076611876398'. [reason: \"RATE_LIMIT_EXCEEDED\"\n",
            "domain: \"googleapis.com\"\n",
            "metadata {\n",
            "  key: \"consumer\"\n",
            "  value: \"projects/1076611876398\"\n",
            "}\n",
            "metadata {\n",
            "  key: \"quota_limit\"\n",
            "  value: \"GenerateContentRequestsPerMinutePerProjectPerRegion\"\n",
            "}\n",
            "metadata {\n",
            "  key: \"quota_limit_value\"\n",
            "  value: \"60\"\n",
            "}\n",
            "metadata {\n",
            "  key: \"quota_location\"\n",
            "  value: \"us-central2\"\n",
            "}\n",
            "metadata {\n",
            "  key: \"quota_metric\"\n",
            "  value: \"generativelanguage.googleapis.com/generate_content_requests\"\n",
            "}\n",
            "metadata {\n",
            "  key: \"service\"\n",
            "  value: \"generativelanguage.googleapis.com\"\n",
            "}\n",
            ", links {\n",
            "  description: \"Request a higher quota limit.\"\n",
            "  url: \"https://cloud.google.com/docs/quota#requesting_higher_quota\"\n",
            "}\n",
            "].\n",
            "WARNING:langchain_google_genai.chat_models:Retrying langchain_google_genai.chat_models._chat_with_retry.<locals>._chat_with_retry in 32.0 seconds as it raised ResourceExhausted: 429 Quota exceeded for quota metric 'Generate Content API requests per minute' and limit 'GenerateContent request limit per minute for a region' of service 'generativelanguage.googleapis.com' for consumer 'project_number:1076611876398'. [reason: \"RATE_LIMIT_EXCEEDED\"\n",
            "domain: \"googleapis.com\"\n",
            "metadata {\n",
            "  key: \"consumer\"\n",
            "  value: \"projects/1076611876398\"\n",
            "}\n",
            "metadata {\n",
            "  key: \"quota_limit\"\n",
            "  value: \"GenerateContentRequestsPerMinutePerProjectPerRegion\"\n",
            "}\n",
            "metadata {\n",
            "  key: \"quota_limit_value\"\n",
            "  value: \"60\"\n",
            "}\n",
            "metadata {\n",
            "  key: \"quota_location\"\n",
            "  value: \"us-central2\"\n",
            "}\n",
            "metadata {\n",
            "  key: \"quota_metric\"\n",
            "  value: \"generativelanguage.googleapis.com/generate_content_requests\"\n",
            "}\n",
            "metadata {\n",
            "  key: \"service\"\n",
            "  value: \"generativelanguage.googleapis.com\"\n",
            "}\n",
            ", links {\n",
            "  description: \"Request a higher quota limit.\"\n",
            "  url: \"https://cloud.google.com/docs/quota#requesting_higher_quota\"\n",
            "}\n",
            "].\n",
            "WARNING:langchain_google_genai.chat_models:Retrying langchain_google_genai.chat_models._chat_with_retry.<locals>._chat_with_retry in 32.0 seconds as it raised ResourceExhausted: 429 Quota exceeded for quota metric 'Generate Content API requests per minute' and limit 'GenerateContent request limit per minute for a region' of service 'generativelanguage.googleapis.com' for consumer 'project_number:1076611876398'. [reason: \"RATE_LIMIT_EXCEEDED\"\n",
            "domain: \"googleapis.com\"\n",
            "metadata {\n",
            "  key: \"consumer\"\n",
            "  value: \"projects/1076611876398\"\n",
            "}\n",
            "metadata {\n",
            "  key: \"quota_limit\"\n",
            "  value: \"GenerateContentRequestsPerMinutePerProjectPerRegion\"\n",
            "}\n",
            "metadata {\n",
            "  key: \"quota_limit_value\"\n",
            "  value: \"60\"\n",
            "}\n",
            "metadata {\n",
            "  key: \"quota_location\"\n",
            "  value: \"us-central2\"\n",
            "}\n",
            "metadata {\n",
            "  key: \"quota_metric\"\n",
            "  value: \"generativelanguage.googleapis.com/generate_content_requests\"\n",
            "}\n",
            "metadata {\n",
            "  key: \"service\"\n",
            "  value: \"generativelanguage.googleapis.com\"\n",
            "}\n",
            ", links {\n",
            "  description: \"Request a higher quota limit.\"\n",
            "  url: \"https://cloud.google.com/docs/quota#requesting_higher_quota\"\n",
            "}\n",
            "].\n",
            "WARNING:langchain_google_genai.chat_models:Retrying langchain_google_genai.chat_models._chat_with_retry.<locals>._chat_with_retry in 32.0 seconds as it raised ResourceExhausted: 429 Quota exceeded for quota metric 'Generate Content API requests per minute' and limit 'GenerateContent request limit per minute for a region' of service 'generativelanguage.googleapis.com' for consumer 'project_number:1076611876398'. [reason: \"RATE_LIMIT_EXCEEDED\"\n",
            "domain: \"googleapis.com\"\n",
            "metadata {\n",
            "  key: \"consumer\"\n",
            "  value: \"projects/1076611876398\"\n",
            "}\n",
            "metadata {\n",
            "  key: \"quota_limit\"\n",
            "  value: \"GenerateContentRequestsPerMinutePerProjectPerRegion\"\n",
            "}\n",
            "metadata {\n",
            "  key: \"quota_limit_value\"\n",
            "  value: \"60\"\n",
            "}\n",
            "metadata {\n",
            "  key: \"quota_location\"\n",
            "  value: \"us-central2\"\n",
            "}\n",
            "metadata {\n",
            "  key: \"quota_metric\"\n",
            "  value: \"generativelanguage.googleapis.com/generate_content_requests\"\n",
            "}\n",
            "metadata {\n",
            "  key: \"service\"\n",
            "  value: \"generativelanguage.googleapis.com\"\n",
            "}\n",
            ", links {\n",
            "  description: \"Request a higher quota limit.\"\n",
            "  url: \"https://cloud.google.com/docs/quota#requesting_higher_quota\"\n",
            "}\n",
            "].\n",
            "WARNING:langchain_google_genai.chat_models:Retrying langchain_google_genai.chat_models._chat_with_retry.<locals>._chat_with_retry in 60.0 seconds as it raised ResourceExhausted: 429 Quota exceeded for quota metric 'Generate Content API requests per minute' and limit 'GenerateContent request limit per minute for a region' of service 'generativelanguage.googleapis.com' for consumer 'project_number:1076611876398'. [reason: \"RATE_LIMIT_EXCEEDED\"\n",
            "domain: \"googleapis.com\"\n",
            "metadata {\n",
            "  key: \"consumer\"\n",
            "  value: \"projects/1076611876398\"\n",
            "}\n",
            "metadata {\n",
            "  key: \"quota_limit\"\n",
            "  value: \"GenerateContentRequestsPerMinutePerProjectPerRegion\"\n",
            "}\n",
            "metadata {\n",
            "  key: \"quota_limit_value\"\n",
            "  value: \"60\"\n",
            "}\n",
            "metadata {\n",
            "  key: \"quota_location\"\n",
            "  value: \"us-central2\"\n",
            "}\n",
            "metadata {\n",
            "  key: \"quota_metric\"\n",
            "  value: \"generativelanguage.googleapis.com/generate_content_requests\"\n",
            "}\n",
            "metadata {\n",
            "  key: \"service\"\n",
            "  value: \"generativelanguage.googleapis.com\"\n",
            "}\n",
            ", links {\n",
            "  description: \"Request a higher quota limit.\"\n",
            "  url: \"https://cloud.google.com/docs/quota#requesting_higher_quota\"\n",
            "}\n",
            "].\n",
            "WARNING:langchain_google_genai.chat_models:Retrying langchain_google_genai.chat_models._chat_with_retry.<locals>._chat_with_retry in 60.0 seconds as it raised ResourceExhausted: 429 Quota exceeded for quota metric 'Generate Content API requests per minute' and limit 'GenerateContent request limit per minute for a region' of service 'generativelanguage.googleapis.com' for consumer 'project_number:1076611876398'. [reason: \"RATE_LIMIT_EXCEEDED\"\n",
            "domain: \"googleapis.com\"\n",
            "metadata {\n",
            "  key: \"consumer\"\n",
            "  value: \"projects/1076611876398\"\n",
            "}\n",
            "metadata {\n",
            "  key: \"quota_limit\"\n",
            "  value: \"GenerateContentRequestsPerMinutePerProjectPerRegion\"\n",
            "}\n",
            "metadata {\n",
            "  key: \"quota_limit_value\"\n",
            "  value: \"60\"\n",
            "}\n",
            "metadata {\n",
            "  key: \"quota_location\"\n",
            "  value: \"us-central2\"\n",
            "}\n",
            "metadata {\n",
            "  key: \"quota_metric\"\n",
            "  value: \"generativelanguage.googleapis.com/generate_content_requests\"\n",
            "}\n",
            "metadata {\n",
            "  key: \"service\"\n",
            "  value: \"generativelanguage.googleapis.com\"\n",
            "}\n",
            ", links {\n",
            "  description: \"Request a higher quota limit.\"\n",
            "  url: \"https://cloud.google.com/docs/quota#requesting_higher_quota\"\n",
            "}\n",
            "].\n",
            "WARNING:langchain_google_genai.chat_models:Retrying langchain_google_genai.chat_models._chat_with_retry.<locals>._chat_with_retry in 60.0 seconds as it raised ResourceExhausted: 429 Quota exceeded for quota metric 'Generate Content API requests per minute' and limit 'GenerateContent request limit per minute for a region' of service 'generativelanguage.googleapis.com' for consumer 'project_number:1076611876398'. [reason: \"RATE_LIMIT_EXCEEDED\"\n",
            "domain: \"googleapis.com\"\n",
            "metadata {\n",
            "  key: \"consumer\"\n",
            "  value: \"projects/1076611876398\"\n",
            "}\n",
            "metadata {\n",
            "  key: \"quota_limit\"\n",
            "  value: \"GenerateContentRequestsPerMinutePerProjectPerRegion\"\n",
            "}\n",
            "metadata {\n",
            "  key: \"quota_limit_value\"\n",
            "  value: \"60\"\n",
            "}\n",
            "metadata {\n",
            "  key: \"quota_location\"\n",
            "  value: \"us-central2\"\n",
            "}\n",
            "metadata {\n",
            "  key: \"quota_metric\"\n",
            "  value: \"generativelanguage.googleapis.com/generate_content_requests\"\n",
            "}\n",
            "metadata {\n",
            "  key: \"service\"\n",
            "  value: \"generativelanguage.googleapis.com\"\n",
            "}\n",
            ", links {\n",
            "  description: \"Request a higher quota limit.\"\n",
            "  url: \"https://cloud.google.com/docs/quota#requesting_higher_quota\"\n",
            "}\n",
            "].\n",
            "WARNING:langchain_google_genai.chat_models:Retrying langchain_google_genai.chat_models._chat_with_retry.<locals>._chat_with_retry in 60.0 seconds as it raised ResourceExhausted: 429 Quota exceeded for quota metric 'Generate Content API requests per minute' and limit 'GenerateContent request limit per minute for a region' of service 'generativelanguage.googleapis.com' for consumer 'project_number:1076611876398'. [reason: \"RATE_LIMIT_EXCEEDED\"\n",
            "domain: \"googleapis.com\"\n",
            "metadata {\n",
            "  key: \"consumer\"\n",
            "  value: \"projects/1076611876398\"\n",
            "}\n",
            "metadata {\n",
            "  key: \"quota_limit\"\n",
            "  value: \"GenerateContentRequestsPerMinutePerProjectPerRegion\"\n",
            "}\n",
            "metadata {\n",
            "  key: \"quota_limit_value\"\n",
            "  value: \"60\"\n",
            "}\n",
            "metadata {\n",
            "  key: \"quota_location\"\n",
            "  value: \"us-central2\"\n",
            "}\n",
            "metadata {\n",
            "  key: \"quota_metric\"\n",
            "  value: \"generativelanguage.googleapis.com/generate_content_requests\"\n",
            "}\n",
            "metadata {\n",
            "  key: \"service\"\n",
            "  value: \"generativelanguage.googleapis.com\"\n",
            "}\n",
            ", links {\n",
            "  description: \"Request a higher quota limit.\"\n",
            "  url: \"https://cloud.google.com/docs/quota#requesting_higher_quota\"\n",
            "}\n",
            "].\n",
            "WARNING:langchain_google_genai.chat_models:Retrying langchain_google_genai.chat_models._chat_with_retry.<locals>._chat_with_retry in 60.0 seconds as it raised ResourceExhausted: 429 Quota exceeded for quota metric 'Generate Content API requests per minute' and limit 'GenerateContent request limit per minute for a region' of service 'generativelanguage.googleapis.com' for consumer 'project_number:1076611876398'. [reason: \"RATE_LIMIT_EXCEEDED\"\n",
            "domain: \"googleapis.com\"\n",
            "metadata {\n",
            "  key: \"consumer\"\n",
            "  value: \"projects/1076611876398\"\n",
            "}\n",
            "metadata {\n",
            "  key: \"quota_limit\"\n",
            "  value: \"GenerateContentRequestsPerMinutePerProjectPerRegion\"\n",
            "}\n",
            "metadata {\n",
            "  key: \"quota_limit_value\"\n",
            "  value: \"60\"\n",
            "}\n",
            "metadata {\n",
            "  key: \"quota_location\"\n",
            "  value: \"us-central2\"\n",
            "}\n",
            "metadata {\n",
            "  key: \"quota_metric\"\n",
            "  value: \"generativelanguage.googleapis.com/generate_content_requests\"\n",
            "}\n",
            "metadata {\n",
            "  key: \"service\"\n",
            "  value: \"generativelanguage.googleapis.com\"\n",
            "}\n",
            ", links {\n",
            "  description: \"Request a higher quota limit.\"\n",
            "  url: \"https://cloud.google.com/docs/quota#requesting_higher_quota\"\n",
            "}\n",
            "].\n",
            "WARNING:langchain_google_genai.chat_models:Retrying langchain_google_genai.chat_models._chat_with_retry.<locals>._chat_with_retry in 60.0 seconds as it raised ResourceExhausted: 429 Quota exceeded for quota metric 'Generate Content API requests per minute' and limit 'GenerateContent request limit per minute for a region' of service 'generativelanguage.googleapis.com' for consumer 'project_number:1076611876398'. [reason: \"RATE_LIMIT_EXCEEDED\"\n",
            "domain: \"googleapis.com\"\n",
            "metadata {\n",
            "  key: \"consumer\"\n",
            "  value: \"projects/1076611876398\"\n",
            "}\n",
            "metadata {\n",
            "  key: \"quota_limit\"\n",
            "  value: \"GenerateContentRequestsPerMinutePerProjectPerRegion\"\n",
            "}\n",
            "metadata {\n",
            "  key: \"quota_limit_value\"\n",
            "  value: \"60\"\n",
            "}\n",
            "metadata {\n",
            "  key: \"quota_location\"\n",
            "  value: \"us-central2\"\n",
            "}\n",
            "metadata {\n",
            "  key: \"quota_metric\"\n",
            "  value: \"generativelanguage.googleapis.com/generate_content_requests\"\n",
            "}\n",
            "metadata {\n",
            "  key: \"service\"\n",
            "  value: \"generativelanguage.googleapis.com\"\n",
            "}\n",
            ", links {\n",
            "  description: \"Request a higher quota limit.\"\n",
            "  url: \"https://cloud.google.com/docs/quota#requesting_higher_quota\"\n",
            "}\n",
            "].\n",
            "WARNING:langchain_google_genai.chat_models:Retrying langchain_google_genai.chat_models._chat_with_retry.<locals>._chat_with_retry in 60.0 seconds as it raised ResourceExhausted: 429 Quota exceeded for quota metric 'Generate Content API requests per minute' and limit 'GenerateContent request limit per minute for a region' of service 'generativelanguage.googleapis.com' for consumer 'project_number:1076611876398'. [reason: \"RATE_LIMIT_EXCEEDED\"\n",
            "domain: \"googleapis.com\"\n",
            "metadata {\n",
            "  key: \"consumer\"\n",
            "  value: \"projects/1076611876398\"\n",
            "}\n",
            "metadata {\n",
            "  key: \"quota_limit\"\n",
            "  value: \"GenerateContentRequestsPerMinutePerProjectPerRegion\"\n",
            "}\n",
            "metadata {\n",
            "  key: \"quota_limit_value\"\n",
            "  value: \"60\"\n",
            "}\n",
            "metadata {\n",
            "  key: \"quota_location\"\n",
            "  value: \"us-central2\"\n",
            "}\n",
            "metadata {\n",
            "  key: \"quota_metric\"\n",
            "  value: \"generativelanguage.googleapis.com/generate_content_requests\"\n",
            "}\n",
            "metadata {\n",
            "  key: \"service\"\n",
            "  value: \"generativelanguage.googleapis.com\"\n",
            "}\n",
            ", links {\n",
            "  description: \"Request a higher quota limit.\"\n",
            "  url: \"https://cloud.google.com/docs/quota#requesting_higher_quota\"\n",
            "}\n",
            "].\n",
            "WARNING:langchain_google_genai.chat_models:Retrying langchain_google_genai.chat_models._chat_with_retry.<locals>._chat_with_retry in 60.0 seconds as it raised ResourceExhausted: 429 Quota exceeded for quota metric 'Generate Content API requests per minute' and limit 'GenerateContent request limit per minute for a region' of service 'generativelanguage.googleapis.com' for consumer 'project_number:1076611876398'. [reason: \"RATE_LIMIT_EXCEEDED\"\n",
            "domain: \"googleapis.com\"\n",
            "metadata {\n",
            "  key: \"consumer\"\n",
            "  value: \"projects/1076611876398\"\n",
            "}\n",
            "metadata {\n",
            "  key: \"quota_limit\"\n",
            "  value: \"GenerateContentRequestsPerMinutePerProjectPerRegion\"\n",
            "}\n",
            "metadata {\n",
            "  key: \"quota_limit_value\"\n",
            "  value: \"60\"\n",
            "}\n",
            "metadata {\n",
            "  key: \"quota_location\"\n",
            "  value: \"us-central2\"\n",
            "}\n",
            "metadata {\n",
            "  key: \"quota_metric\"\n",
            "  value: \"generativelanguage.googleapis.com/generate_content_requests\"\n",
            "}\n",
            "metadata {\n",
            "  key: \"service\"\n",
            "  value: \"generativelanguage.googleapis.com\"\n",
            "}\n",
            ", links {\n",
            "  description: \"Request a higher quota limit.\"\n",
            "  url: \"https://cloud.google.com/docs/quota#requesting_higher_quota\"\n",
            "}\n",
            "].\n",
            "WARNING:langchain_google_genai.chat_models:Retrying langchain_google_genai.chat_models._chat_with_retry.<locals>._chat_with_retry in 60.0 seconds as it raised ResourceExhausted: 429 Quota exceeded for quota metric 'Generate Content API requests per minute' and limit 'GenerateContent request limit per minute for a region' of service 'generativelanguage.googleapis.com' for consumer 'project_number:1076611876398'. [reason: \"RATE_LIMIT_EXCEEDED\"\n",
            "domain: \"googleapis.com\"\n",
            "metadata {\n",
            "  key: \"consumer\"\n",
            "  value: \"projects/1076611876398\"\n",
            "}\n",
            "metadata {\n",
            "  key: \"quota_limit\"\n",
            "  value: \"GenerateContentRequestsPerMinutePerProjectPerRegion\"\n",
            "}\n",
            "metadata {\n",
            "  key: \"quota_limit_value\"\n",
            "  value: \"60\"\n",
            "}\n",
            "metadata {\n",
            "  key: \"quota_location\"\n",
            "  value: \"us-central2\"\n",
            "}\n",
            "metadata {\n",
            "  key: \"quota_metric\"\n",
            "  value: \"generativelanguage.googleapis.com/generate_content_requests\"\n",
            "}\n",
            "metadata {\n",
            "  key: \"service\"\n",
            "  value: \"generativelanguage.googleapis.com\"\n",
            "}\n",
            ", links {\n",
            "  description: \"Request a higher quota limit.\"\n",
            "  url: \"https://cloud.google.com/docs/quota#requesting_higher_quota\"\n",
            "}\n",
            "].\n",
            "WARNING:langchain_google_genai.chat_models:Retrying langchain_google_genai.chat_models._chat_with_retry.<locals>._chat_with_retry in 60.0 seconds as it raised ResourceExhausted: 429 Quota exceeded for quota metric 'Generate Content API requests per minute' and limit 'GenerateContent request limit per minute for a region' of service 'generativelanguage.googleapis.com' for consumer 'project_number:1076611876398'. [reason: \"RATE_LIMIT_EXCEEDED\"\n",
            "domain: \"googleapis.com\"\n",
            "metadata {\n",
            "  key: \"consumer\"\n",
            "  value: \"projects/1076611876398\"\n",
            "}\n",
            "metadata {\n",
            "  key: \"quota_limit\"\n",
            "  value: \"GenerateContentRequestsPerMinutePerProjectPerRegion\"\n",
            "}\n",
            "metadata {\n",
            "  key: \"quota_limit_value\"\n",
            "  value: \"60\"\n",
            "}\n",
            "metadata {\n",
            "  key: \"quota_location\"\n",
            "  value: \"us-central2\"\n",
            "}\n",
            "metadata {\n",
            "  key: \"quota_metric\"\n",
            "  value: \"generativelanguage.googleapis.com/generate_content_requests\"\n",
            "}\n",
            "metadata {\n",
            "  key: \"service\"\n",
            "  value: \"generativelanguage.googleapis.com\"\n",
            "}\n",
            ", links {\n",
            "  description: \"Request a higher quota limit.\"\n",
            "  url: \"https://cloud.google.com/docs/quota#requesting_higher_quota\"\n",
            "}\n",
            "].\n",
            "WARNING:langchain_google_genai.chat_models:Retrying langchain_google_genai.chat_models._chat_with_retry.<locals>._chat_with_retry in 2.0 seconds as it raised ResourceExhausted: 429 Resource has been exhausted (e.g. check quota)..\n",
            "WARNING:langchain_google_genai.chat_models:Retrying langchain_google_genai.chat_models._chat_with_retry.<locals>._chat_with_retry in 2.0 seconds as it raised ResourceExhausted: 429 Resource has been exhausted (e.g. check quota)..\n",
            "WARNING:langchain_google_genai.chat_models:Retrying langchain_google_genai.chat_models._chat_with_retry.<locals>._chat_with_retry in 2.0 seconds as it raised ResourceExhausted: 429 Resource has been exhausted (e.g. check quota)..\n",
            "WARNING:langchain_google_genai.chat_models:Retrying langchain_google_genai.chat_models._chat_with_retry.<locals>._chat_with_retry in 2.0 seconds as it raised ResourceExhausted: 429 Resource has been exhausted (e.g. check quota)..\n",
            "WARNING:langchain_google_genai.chat_models:Retrying langchain_google_genai.chat_models._chat_with_retry.<locals>._chat_with_retry in 2.0 seconds as it raised ResourceExhausted: 429 Resource has been exhausted (e.g. check quota)..\n",
            "WARNING:langchain_google_genai.chat_models:Retrying langchain_google_genai.chat_models._chat_with_retry.<locals>._chat_with_retry in 4.0 seconds as it raised ResourceExhausted: 429 Resource has been exhausted (e.g. check quota)..\n",
            "WARNING:langchain_google_genai.chat_models:Retrying langchain_google_genai.chat_models._chat_with_retry.<locals>._chat_with_retry in 4.0 seconds as it raised ResourceExhausted: 429 Resource has been exhausted (e.g. check quota)..\n",
            "WARNING:langchain_google_genai.chat_models:Retrying langchain_google_genai.chat_models._chat_with_retry.<locals>._chat_with_retry in 4.0 seconds as it raised ResourceExhausted: 429 Resource has been exhausted (e.g. check quota)..\n",
            "WARNING:langchain_google_genai.chat_models:Retrying langchain_google_genai.chat_models._chat_with_retry.<locals>._chat_with_retry in 4.0 seconds as it raised ResourceExhausted: 429 Resource has been exhausted (e.g. check quota)..\n",
            "WARNING:langchain_google_genai.chat_models:Retrying langchain_google_genai.chat_models._chat_with_retry.<locals>._chat_with_retry in 4.0 seconds as it raised ResourceExhausted: 429 Resource has been exhausted (e.g. check quota)..\n",
            "WARNING:langchain_google_genai.chat_models:Retrying langchain_google_genai.chat_models._chat_with_retry.<locals>._chat_with_retry in 2.0 seconds as it raised ResourceExhausted: 429 Resource has been exhausted (e.g. check quota)..\n",
            "WARNING:langchain_google_genai.chat_models:Retrying langchain_google_genai.chat_models._chat_with_retry.<locals>._chat_with_retry in 2.0 seconds as it raised ResourceExhausted: 429 Resource has been exhausted (e.g. check quota)..\n",
            "WARNING:langchain_google_genai.chat_models:Retrying langchain_google_genai.chat_models._chat_with_retry.<locals>._chat_with_retry in 2.0 seconds as it raised ResourceExhausted: 429 Resource has been exhausted (e.g. check quota)..\n",
            "WARNING:langchain_google_genai.chat_models:Retrying langchain_google_genai.chat_models._chat_with_retry.<locals>._chat_with_retry in 2.0 seconds as it raised ResourceExhausted: 429 Resource has been exhausted (e.g. check quota)..\n",
            "WARNING:langchain_google_genai.chat_models:Retrying langchain_google_genai.chat_models._chat_with_retry.<locals>._chat_with_retry in 4.0 seconds as it raised ResourceExhausted: 429 Resource has been exhausted (e.g. check quota)..\n",
            "WARNING:langchain_google_genai.chat_models:Retrying langchain_google_genai.chat_models._chat_with_retry.<locals>._chat_with_retry in 4.0 seconds as it raised ResourceExhausted: 429 Resource has been exhausted (e.g. check quota)..\n",
            "WARNING:langchain_google_genai.chat_models:Retrying langchain_google_genai.chat_models._chat_with_retry.<locals>._chat_with_retry in 4.0 seconds as it raised ResourceExhausted: 429 Resource has been exhausted (e.g. check quota)..\n",
            "WARNING:langchain_google_genai.chat_models:Retrying langchain_google_genai.chat_models._chat_with_retry.<locals>._chat_with_retry in 4.0 seconds as it raised ResourceExhausted: 429 Resource has been exhausted (e.g. check quota)..\n",
            "WARNING:langchain_google_genai.chat_models:Retrying langchain_google_genai.chat_models._chat_with_retry.<locals>._chat_with_retry in 2.0 seconds as it raised ResourceExhausted: 429 Resource has been exhausted (e.g. check quota)..\n",
            "WARNING:langchain_google_genai.chat_models:Retrying langchain_google_genai.chat_models._chat_with_retry.<locals>._chat_with_retry in 8.0 seconds as it raised ResourceExhausted: 429 Resource has been exhausted (e.g. check quota)..\n",
            "WARNING:langchain_google_genai.chat_models:Retrying langchain_google_genai.chat_models._chat_with_retry.<locals>._chat_with_retry in 8.0 seconds as it raised ResourceExhausted: 429 Resource has been exhausted (e.g. check quota)..\n",
            "WARNING:langchain_google_genai.chat_models:Retrying langchain_google_genai.chat_models._chat_with_retry.<locals>._chat_with_retry in 8.0 seconds as it raised ResourceExhausted: 429 Resource has been exhausted (e.g. check quota)..\n",
            "WARNING:langchain_google_genai.chat_models:Retrying langchain_google_genai.chat_models._chat_with_retry.<locals>._chat_with_retry in 8.0 seconds as it raised ResourceExhausted: 429 Resource has been exhausted (e.g. check quota)..\n",
            "WARNING:langchain_google_genai.chat_models:Retrying langchain_google_genai.chat_models._chat_with_retry.<locals>._chat_with_retry in 4.0 seconds as it raised ResourceExhausted: 429 Resource has been exhausted (e.g. check quota)..\n",
            "WARNING:langchain_google_genai.chat_models:Retrying langchain_google_genai.chat_models._chat_with_retry.<locals>._chat_with_retry in 8.0 seconds as it raised ResourceExhausted: 429 Resource has been exhausted (e.g. check quota)..\n",
            "WARNING:langchain_google_genai.chat_models:Retrying langchain_google_genai.chat_models._chat_with_retry.<locals>._chat_with_retry in 16.0 seconds as it raised ResourceExhausted: 429 Resource has been exhausted (e.g. check quota)..\n",
            "WARNING:langchain_google_genai.chat_models:Retrying langchain_google_genai.chat_models._chat_with_retry.<locals>._chat_with_retry in 16.0 seconds as it raised ResourceExhausted: 429 Resource has been exhausted (e.g. check quota)..\n",
            "WARNING:langchain_google_genai.chat_models:Retrying langchain_google_genai.chat_models._chat_with_retry.<locals>._chat_with_retry in 16.0 seconds as it raised ResourceExhausted: 429 Quota exceeded for quota metric 'Generate Content API requests per minute' and limit 'GenerateContent request limit per minute for a region' of service 'generativelanguage.googleapis.com' for consumer 'project_number:1076611876398'. [reason: \"RATE_LIMIT_EXCEEDED\"\n",
            "domain: \"googleapis.com\"\n",
            "metadata {\n",
            "  key: \"consumer\"\n",
            "  value: \"projects/1076611876398\"\n",
            "}\n",
            "metadata {\n",
            "  key: \"quota_limit\"\n",
            "  value: \"GenerateContentRequestsPerMinutePerProjectPerRegion\"\n",
            "}\n",
            "metadata {\n",
            "  key: \"quota_limit_value\"\n",
            "  value: \"60\"\n",
            "}\n",
            "metadata {\n",
            "  key: \"quota_location\"\n",
            "  value: \"us-central2\"\n",
            "}\n",
            "metadata {\n",
            "  key: \"quota_metric\"\n",
            "  value: \"generativelanguage.googleapis.com/generate_content_requests\"\n",
            "}\n",
            "metadata {\n",
            "  key: \"service\"\n",
            "  value: \"generativelanguage.googleapis.com\"\n",
            "}\n",
            ", links {\n",
            "  description: \"Request a higher quota limit.\"\n",
            "  url: \"https://cloud.google.com/docs/quota#requesting_higher_quota\"\n",
            "}\n",
            "].\n",
            "WARNING:langchain_google_genai.chat_models:Retrying langchain_google_genai.chat_models._chat_with_retry.<locals>._chat_with_retry in 16.0 seconds as it raised ResourceExhausted: 429 Quota exceeded for quota metric 'Generate Content API requests per minute' and limit 'GenerateContent request limit per minute for a region' of service 'generativelanguage.googleapis.com' for consumer 'project_number:1076611876398'. [reason: \"RATE_LIMIT_EXCEEDED\"\n",
            "domain: \"googleapis.com\"\n",
            "metadata {\n",
            "  key: \"consumer\"\n",
            "  value: \"projects/1076611876398\"\n",
            "}\n",
            "metadata {\n",
            "  key: \"quota_limit\"\n",
            "  value: \"GenerateContentRequestsPerMinutePerProjectPerRegion\"\n",
            "}\n",
            "metadata {\n",
            "  key: \"quota_limit_value\"\n",
            "  value: \"60\"\n",
            "}\n",
            "metadata {\n",
            "  key: \"quota_location\"\n",
            "  value: \"us-central2\"\n",
            "}\n",
            "metadata {\n",
            "  key: \"quota_metric\"\n",
            "  value: \"generativelanguage.googleapis.com/generate_content_requests\"\n",
            "}\n",
            "metadata {\n",
            "  key: \"service\"\n",
            "  value: \"generativelanguage.googleapis.com\"\n",
            "}\n",
            ", links {\n",
            "  description: \"Request a higher quota limit.\"\n",
            "  url: \"https://cloud.google.com/docs/quota#requesting_higher_quota\"\n",
            "}\n",
            "].\n",
            "WARNING:langchain_google_genai.chat_models:Retrying langchain_google_genai.chat_models._chat_with_retry.<locals>._chat_with_retry in 16.0 seconds as it raised ResourceExhausted: 429 Quota exceeded for quota metric 'Generate Content API requests per minute' and limit 'GenerateContent request limit per minute for a region' of service 'generativelanguage.googleapis.com' for consumer 'project_number:1076611876398'. [reason: \"RATE_LIMIT_EXCEEDED\"\n",
            "domain: \"googleapis.com\"\n",
            "metadata {\n",
            "  key: \"consumer\"\n",
            "  value: \"projects/1076611876398\"\n",
            "}\n",
            "metadata {\n",
            "  key: \"quota_limit\"\n",
            "  value: \"GenerateContentRequestsPerMinutePerProjectPerRegion\"\n",
            "}\n",
            "metadata {\n",
            "  key: \"quota_limit_value\"\n",
            "  value: \"60\"\n",
            "}\n",
            "metadata {\n",
            "  key: \"quota_location\"\n",
            "  value: \"us-central2\"\n",
            "}\n",
            "metadata {\n",
            "  key: \"quota_metric\"\n",
            "  value: \"generativelanguage.googleapis.com/generate_content_requests\"\n",
            "}\n",
            "metadata {\n",
            "  key: \"service\"\n",
            "  value: \"generativelanguage.googleapis.com\"\n",
            "}\n",
            ", links {\n",
            "  description: \"Request a higher quota limit.\"\n",
            "  url: \"https://cloud.google.com/docs/quota#requesting_higher_quota\"\n",
            "}\n",
            "].\n",
            "WARNING:langchain_google_genai.chat_models:Retrying langchain_google_genai.chat_models._chat_with_retry.<locals>._chat_with_retry in 32.0 seconds as it raised ResourceExhausted: 429 Quota exceeded for quota metric 'Generate Content API requests per minute' and limit 'GenerateContent request limit per minute for a region' of service 'generativelanguage.googleapis.com' for consumer 'project_number:1076611876398'. [reason: \"RATE_LIMIT_EXCEEDED\"\n",
            "domain: \"googleapis.com\"\n",
            "metadata {\n",
            "  key: \"consumer\"\n",
            "  value: \"projects/1076611876398\"\n",
            "}\n",
            "metadata {\n",
            "  key: \"quota_limit\"\n",
            "  value: \"GenerateContentRequestsPerMinutePerProjectPerRegion\"\n",
            "}\n",
            "metadata {\n",
            "  key: \"quota_limit_value\"\n",
            "  value: \"60\"\n",
            "}\n",
            "metadata {\n",
            "  key: \"quota_location\"\n",
            "  value: \"us-central2\"\n",
            "}\n",
            "metadata {\n",
            "  key: \"quota_metric\"\n",
            "  value: \"generativelanguage.googleapis.com/generate_content_requests\"\n",
            "}\n",
            "metadata {\n",
            "  key: \"service\"\n",
            "  value: \"generativelanguage.googleapis.com\"\n",
            "}\n",
            ", links {\n",
            "  description: \"Request a higher quota limit.\"\n",
            "  url: \"https://cloud.google.com/docs/quota#requesting_higher_quota\"\n",
            "}\n",
            "].\n",
            "WARNING:langchain_google_genai.chat_models:Retrying langchain_google_genai.chat_models._chat_with_retry.<locals>._chat_with_retry in 32.0 seconds as it raised ResourceExhausted: 429 Quota exceeded for quota metric 'Generate Content API requests per minute' and limit 'GenerateContent request limit per minute for a region' of service 'generativelanguage.googleapis.com' for consumer 'project_number:1076611876398'. [reason: \"RATE_LIMIT_EXCEEDED\"\n",
            "domain: \"googleapis.com\"\n",
            "metadata {\n",
            "  key: \"consumer\"\n",
            "  value: \"projects/1076611876398\"\n",
            "}\n",
            "metadata {\n",
            "  key: \"quota_limit\"\n",
            "  value: \"GenerateContentRequestsPerMinutePerProjectPerRegion\"\n",
            "}\n",
            "metadata {\n",
            "  key: \"quota_limit_value\"\n",
            "  value: \"60\"\n",
            "}\n",
            "metadata {\n",
            "  key: \"quota_location\"\n",
            "  value: \"us-central2\"\n",
            "}\n",
            "metadata {\n",
            "  key: \"quota_metric\"\n",
            "  value: \"generativelanguage.googleapis.com/generate_content_requests\"\n",
            "}\n",
            "metadata {\n",
            "  key: \"service\"\n",
            "  value: \"generativelanguage.googleapis.com\"\n",
            "}\n",
            ", links {\n",
            "  description: \"Request a higher quota limit.\"\n",
            "  url: \"https://cloud.google.com/docs/quota#requesting_higher_quota\"\n",
            "}\n",
            "].\n",
            "WARNING:langchain_google_genai.chat_models:Retrying langchain_google_genai.chat_models._chat_with_retry.<locals>._chat_with_retry in 32.0 seconds as it raised ResourceExhausted: 429 Quota exceeded for quota metric 'Generate Content API requests per minute' and limit 'GenerateContent request limit per minute for a region' of service 'generativelanguage.googleapis.com' for consumer 'project_number:1076611876398'. [reason: \"RATE_LIMIT_EXCEEDED\"\n",
            "domain: \"googleapis.com\"\n",
            "metadata {\n",
            "  key: \"consumer\"\n",
            "  value: \"projects/1076611876398\"\n",
            "}\n",
            "metadata {\n",
            "  key: \"quota_limit\"\n",
            "  value: \"GenerateContentRequestsPerMinutePerProjectPerRegion\"\n",
            "}\n",
            "metadata {\n",
            "  key: \"quota_limit_value\"\n",
            "  value: \"60\"\n",
            "}\n",
            "metadata {\n",
            "  key: \"quota_location\"\n",
            "  value: \"us-central2\"\n",
            "}\n",
            "metadata {\n",
            "  key: \"quota_metric\"\n",
            "  value: \"generativelanguage.googleapis.com/generate_content_requests\"\n",
            "}\n",
            "metadata {\n",
            "  key: \"service\"\n",
            "  value: \"generativelanguage.googleapis.com\"\n",
            "}\n",
            ", links {\n",
            "  description: \"Request a higher quota limit.\"\n",
            "  url: \"https://cloud.google.com/docs/quota#requesting_higher_quota\"\n",
            "}\n",
            "].\n",
            "WARNING:langchain_google_genai.chat_models:Retrying langchain_google_genai.chat_models._chat_with_retry.<locals>._chat_with_retry in 32.0 seconds as it raised ResourceExhausted: 429 Quota exceeded for quota metric 'Generate Content API requests per minute' and limit 'GenerateContent request limit per minute for a region' of service 'generativelanguage.googleapis.com' for consumer 'project_number:1076611876398'. [reason: \"RATE_LIMIT_EXCEEDED\"\n",
            "domain: \"googleapis.com\"\n",
            "metadata {\n",
            "  key: \"consumer\"\n",
            "  value: \"projects/1076611876398\"\n",
            "}\n",
            "metadata {\n",
            "  key: \"quota_limit\"\n",
            "  value: \"GenerateContentRequestsPerMinutePerProjectPerRegion\"\n",
            "}\n",
            "metadata {\n",
            "  key: \"quota_limit_value\"\n",
            "  value: \"60\"\n",
            "}\n",
            "metadata {\n",
            "  key: \"quota_location\"\n",
            "  value: \"us-central2\"\n",
            "}\n",
            "metadata {\n",
            "  key: \"quota_metric\"\n",
            "  value: \"generativelanguage.googleapis.com/generate_content_requests\"\n",
            "}\n",
            "metadata {\n",
            "  key: \"service\"\n",
            "  value: \"generativelanguage.googleapis.com\"\n",
            "}\n",
            ", links {\n",
            "  description: \"Request a higher quota limit.\"\n",
            "  url: \"https://cloud.google.com/docs/quota#requesting_higher_quota\"\n",
            "}\n",
            "].\n",
            "WARNING:langchain_google_genai.chat_models:Retrying langchain_google_genai.chat_models._chat_with_retry.<locals>._chat_with_retry in 32.0 seconds as it raised ResourceExhausted: 429 Quota exceeded for quota metric 'Generate Content API requests per minute' and limit 'GenerateContent request limit per minute for a region' of service 'generativelanguage.googleapis.com' for consumer 'project_number:1076611876398'. [reason: \"RATE_LIMIT_EXCEEDED\"\n",
            "domain: \"googleapis.com\"\n",
            "metadata {\n",
            "  key: \"consumer\"\n",
            "  value: \"projects/1076611876398\"\n",
            "}\n",
            "metadata {\n",
            "  key: \"quota_limit\"\n",
            "  value: \"GenerateContentRequestsPerMinutePerProjectPerRegion\"\n",
            "}\n",
            "metadata {\n",
            "  key: \"quota_limit_value\"\n",
            "  value: \"60\"\n",
            "}\n",
            "metadata {\n",
            "  key: \"quota_location\"\n",
            "  value: \"us-central2\"\n",
            "}\n",
            "metadata {\n",
            "  key: \"quota_metric\"\n",
            "  value: \"generativelanguage.googleapis.com/generate_content_requests\"\n",
            "}\n",
            "metadata {\n",
            "  key: \"service\"\n",
            "  value: \"generativelanguage.googleapis.com\"\n",
            "}\n",
            ", links {\n",
            "  description: \"Request a higher quota limit.\"\n",
            "  url: \"https://cloud.google.com/docs/quota#requesting_higher_quota\"\n",
            "}\n",
            "].\n",
            "WARNING:langchain_google_genai.chat_models:Retrying langchain_google_genai.chat_models._chat_with_retry.<locals>._chat_with_retry in 60.0 seconds as it raised ResourceExhausted: 429 Quota exceeded for quota metric 'Generate Content API requests per minute' and limit 'GenerateContent request limit per minute for a region' of service 'generativelanguage.googleapis.com' for consumer 'project_number:1076611876398'. [reason: \"RATE_LIMIT_EXCEEDED\"\n",
            "domain: \"googleapis.com\"\n",
            "metadata {\n",
            "  key: \"consumer\"\n",
            "  value: \"projects/1076611876398\"\n",
            "}\n",
            "metadata {\n",
            "  key: \"quota_limit\"\n",
            "  value: \"GenerateContentRequestsPerMinutePerProjectPerRegion\"\n",
            "}\n",
            "metadata {\n",
            "  key: \"quota_limit_value\"\n",
            "  value: \"60\"\n",
            "}\n",
            "metadata {\n",
            "  key: \"quota_location\"\n",
            "  value: \"us-central2\"\n",
            "}\n",
            "metadata {\n",
            "  key: \"quota_metric\"\n",
            "  value: \"generativelanguage.googleapis.com/generate_content_requests\"\n",
            "}\n",
            "metadata {\n",
            "  key: \"service\"\n",
            "  value: \"generativelanguage.googleapis.com\"\n",
            "}\n",
            ", links {\n",
            "  description: \"Request a higher quota limit.\"\n",
            "  url: \"https://cloud.google.com/docs/quota#requesting_higher_quota\"\n",
            "}\n",
            "].\n"
          ]
        }
      ],
      "source": [
        "# Initialize empty summaries\n",
        "text_summaries = []\n",
        "\n",
        "# Text summary chain\n",
        "#model = ChatOpenAI(temperature=0, model=\"gpt-4\") #OPENAI Model which supports both text image\n",
        "summarize_chain = {\"element\": lambda x: x} | prompt | model | StrOutputParser() #model_vision\n",
        "\n",
        "#Apply Chain to do table Text. Each Text summary as list.\n",
        "text_summaries = summarize_chain.batch(Text, {\"max_concurrency\": 5})  # Not sure why here \"max_concurrency\": 5, we have more than 5 text chunk"
      ]
    },
    {
      "cell_type": "code",
      "execution_count": 55,
      "metadata": {
        "colab": {
          "base_uri": "https://localhost:8080/",
          "height": 104
        },
        "id": "mF-rjDzrfXCW",
        "outputId": "17176744-5708-46d8-bf00-81e9c88a41d5"
      },
      "outputs": [
        {
          "data": {
            "application/vnd.google.colaboratory.intrinsic+json": {
              "type": "string"
            },
            "text/plain": [
              "'YOLO (You Only Look Once) is a novel object detection approach that formulates detection as a regression problem for spatially separated bounding boxes and class probabilities. Unlike prior methods that repurpose classifiers for detection, YOLO employs a single neural network to predict bounding boxes and class probabilities directly from full images in a single evaluation. This end-to-end optimization on detection performance enhances the accuracy of the detection pipeline.'"
            ]
          },
          "execution_count": 55,
          "metadata": {},
          "output_type": "execute_result"
        }
      ],
      "source": [
        "text_summaries[0]"
      ]
    },
    {
      "cell_type": "code",
      "execution_count": 84,
      "metadata": {
        "colab": {
          "base_uri": "https://localhost:8080/",
          "height": 104
        },
        "id": "IZObXLS752tf",
        "outputId": "7621ba2b-1164-4c4d-c47a-b783cf6c4e2f"
      },
      "outputs": [
        {
          "data": {
            "application/vnd.google.colaboratory.intrinsic+json": {
              "type": "string"
            },
            "text/plain": [
              "'We present YOLO, a new approach to object detection. Prior work on object detection repurposes classiﬁers to per- form detection. Instead, we frame object detection as a re- gression problem to spatially separated bounding boxes and associated class probabilities. A single neural network pre- dicts bounding boxes and class probabilities directly from full images in one evaluation. Since the whole detection pipeline is a single network, it can be optimized end-to-end directly on detection performance.'"
            ]
          },
          "execution_count": 84,
          "metadata": {},
          "output_type": "execute_result"
        }
      ],
      "source": [
        "Text[0] #Raw Text"
      ]
    },
    {
      "cell_type": "markdown",
      "metadata": {
        "id": "4z2ukjxCjRKn"
      },
      "source": [
        "## **3. Get IMAGE Summary by Prompt**\n",
        "- Here we use GPT Vision model to read image and get text O/P as summary"
      ]
    },
    {
      "cell_type": "code",
      "execution_count": 56,
      "metadata": {
        "id": "DMd67jCQ-AQa"
      },
      "outputs": [],
      "source": [
        "import base64\n",
        "import os\n",
        "from langchain_core.messages import HumanMessage"
      ]
    },
    {
      "cell_type": "markdown",
      "metadata": {
        "id": "m4Ix5zNkSAei"
      },
      "source": [
        "### Encode the image as base64"
      ]
    },
    {
      "cell_type": "code",
      "execution_count": 57,
      "metadata": {
        "id": "9Azy9eQZ-DvK"
      },
      "outputs": [],
      "source": [
        "def encode_image(image_path):\n",
        "    \"\"\"Getting the base64 string\"\"\"\n",
        "    with open(image_path, \"rb\") as image_file:\n",
        "        return base64.b64encode(image_file.read()).decode(\"utf-8\")"
      ]
    },
    {
      "cell_type": "markdown",
      "metadata": {
        "id": "7aP1gde9SFJE"
      },
      "source": [
        "### Apply the image summary by **gpt-4-vision-preview or Gemini Pro Vision Model**"
      ]
    },
    {
      "cell_type": "code",
      "execution_count": 59,
      "metadata": {
        "id": "RKM8O7QZ-HMK"
      },
      "outputs": [],
      "source": [
        "def image_summarize(img_base64, prompt):\n",
        "    \"\"\"Make image summary\"\"\"\n",
        "    #chat = ChatOpenAI(model=\"gpt-4-vision-preview\", max_tokens=1024)  #Openai vison model\n",
        "    chat = ChatGoogleGenerativeAI(temperature=0, model=\"gemini-pro-vision\")\n",
        "\n",
        "    msg = chat.invoke(\n",
        "        [\n",
        "            HumanMessage(\n",
        "                content=[\n",
        "                    {\"type\": \"text\", \"text\": prompt},\n",
        "                    {\n",
        "                        \"type\": \"image_url\",\n",
        "                        \"image_url\": {\"url\": f\"data:image/jpeg;base64,{img_base64}\"},\n",
        "                    },\n",
        "                ]\n",
        "            )\n",
        "        ]\n",
        "    )\n",
        "    return msg.content"
      ]
    },
    {
      "cell_type": "markdown",
      "metadata": {
        "id": "vR_u--yu231y"
      },
      "source": [
        "https://github.com/langchain-ai/langchain/blob/master/cookbook/Multi_modal_RAG.ipynb"
      ]
    },
    {
      "cell_type": "markdown",
      "metadata": {
        "id": "qnv1Jjf-SVPE"
      },
      "source": [
        "### Combined function calls image encoder and image sumarizer with prompt"
      ]
    },
    {
      "cell_type": "code",
      "execution_count": 60,
      "metadata": {
        "id": "qytxMFVq-MUF"
      },
      "outputs": [],
      "source": [
        "def generate_img_summaries(path):\n",
        "    \"\"\"\n",
        "    Generate summaries and base64 encoded strings for images\n",
        "    path: Path to list of .jpg files extracted by Unstructured\n",
        "    \"\"\"\n",
        "\n",
        "    # Store base64 encoded images\n",
        "    img_base64_list = []\n",
        "\n",
        "    # Store image summaries\n",
        "    image_summaries = []\n",
        "\n",
        "    # Prompt\n",
        "    prompt = \"\"\"You are an assistant tasked with summarizing images for retrieval. \\\n",
        "    These summaries will be embedded and used to retrieve the raw image. \\\n",
        "    Give a concise summary of the image that is well optimized for retrieval.\"\"\"\n",
        "\n",
        "    # Apply to images\n",
        "    for img_file in sorted(os.listdir(path)):\n",
        "        if img_file.endswith(\".jpg\"):\n",
        "            img_path = os.path.join(path, img_file)\n",
        "            base64_image = encode_image(img_path)\n",
        "            #Append base64 of all images\n",
        "            img_base64_list.append(base64_image)\n",
        "            #Append Summary info of all images\n",
        "            image_summaries.append(image_summarize(base64_image, prompt))\n",
        "\n",
        "\n",
        "    return img_base64_list, image_summaries"
      ]
    },
    {
      "cell_type": "code",
      "execution_count": 61,
      "metadata": {
        "id": "ZzyqftLY-Ofi"
      },
      "outputs": [],
      "source": [
        "#Image folder, where extracted images are saved\n",
        "fpath=\"/content/extracted_data2/\""
      ]
    },
    {
      "cell_type": "code",
      "execution_count": 62,
      "metadata": {
        "id": "gybx1HDu99Gu"
      },
      "outputs": [],
      "source": [
        "# Image summaries with base64 info\n",
        "img_base64_list, image_summaries = generate_img_summaries(fpath)"
      ]
    },
    {
      "cell_type": "code",
      "execution_count": 63,
      "metadata": {
        "colab": {
          "base_uri": "https://localhost:8080/",
          "height": 70
        },
        "id": "XQ2NVyJW-RZH",
        "outputId": "0f813d1d-c57f-4457-b491-b34f766a144c"
      },
      "outputs": [
        {
          "data": {
            "application/vnd.google.colaboratory.intrinsic+json": {
              "type": "string"
            },
            "text/plain": [
              "' The image shows a person walking two dogs on a leash. There are also two horses in the background. The image is taken from a distance, and the people and animals are small in the frame. The image is clear and bright, and the colors are vivid.'"
            ]
          },
          "execution_count": 63,
          "metadata": {},
          "output_type": "execute_result"
        }
      ],
      "source": [
        "image_summaries[0]"
      ]
    },
    {
      "cell_type": "code",
      "execution_count": 64,
      "metadata": {
        "colab": {
          "base_uri": "https://localhost:8080/",
          "height": 191
        },
        "id": "JrqixR6qvUm_",
        "outputId": "c7f39628-775c-4d63-a3cf-38a7feb31d43"
      },
      "outputs": [
        {
          "data": {
            "application/vnd.google.colaboratory.intrinsic+json": {
              "type": "string"
            },
            "text/plain": [
              "'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'"
            ]
          },
          "execution_count": 64,
          "metadata": {},
          "output_type": "execute_result"
        }
      ],
      "source": [
        "img_base64_list[0]"
      ]
    },
    {
      "cell_type": "markdown",
      "metadata": {
        "id": "AUWQu5hhLTXO"
      },
      "source": [
        "![image.png](data:image/png;base64,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)"
      ]
    },
    {
      "cell_type": "markdown",
      "metadata": {
        "id": "afOqMhtQkeS2"
      },
      "source": [
        "# **3. Creating VectorDB and MultiVector Retriever**\n",
        "- Here **Index** created on **summarized Text/Table/Image data** to Vector DB **Chroma**\n",
        "- Then use Langchain **MultiVectorRetriever** to retrive the context of text and image"
      ]
    },
    {
      "cell_type": "code",
      "execution_count": 65,
      "metadata": {
        "id": "XYKpk0EV-mPc"
      },
      "outputs": [],
      "source": [
        "import uuid\n",
        "\n",
        "from langchain.retrievers.multi_vector import MultiVectorRetriever\n",
        "from langchain.storage import InMemoryStore\n",
        "from langchain_community.vectorstores import Chroma\n",
        "from langchain_core.documents import Document\n",
        "from langchain_openai import OpenAIEmbeddings"
      ]
    },
    {
      "cell_type": "markdown",
      "metadata": {
        "id": "70Lgz-591Sp8"
      },
      "source": [
        "##Function: Create retriever that indexes summaries, but returns raw images or texts"
      ]
    },
    {
      "cell_type": "code",
      "execution_count": 68,
      "metadata": {
        "id": "kG-bGuWp4o_e"
      },
      "outputs": [],
      "source": [
        "def create_multi_vector_retriever(vectorstore, text_summaries, texts, table_summaries, tables, image_summaries, images):\n",
        "    \"\"\"\n",
        "    Create retriever that indexes summaries, but returns raw images or texts\n",
        "\n",
        "    vectorstore: Initiated ChromaDB Vectore store\n",
        "    text_summaries: Text summmary\n",
        "    Text: Raw Text content\n",
        "    table_summaries: Table  summmary\n",
        "    Table : Raw Table content\n",
        "    image_summaries: Image summmary\n",
        "    img_base64_list : Raw Image content\n",
        "    \"\"\"\n",
        "\n",
        "    # Initialize the storage layer\n",
        "    store = InMemoryStore()\n",
        "    id_key = \"doc_id\"\n",
        "\n",
        "    # Create the multi-vector retriever- Defining retrival object\n",
        "    retriever = MultiVectorRetriever(\n",
        "        vectorstore=vectorstore,\n",
        "        docstore=store,\n",
        "        id_key=id_key,\n",
        "    )\n",
        "\n",
        "\n",
        "    # Helper function to add documents to the vectorstore and docstore\n",
        "    # Here it creates blank retriver and adds all emebedding info one by one on Image,Text,Table data\n",
        "    def add_documents(retriever, doc_summaries, doc_contents):\n",
        "      \"\"\"\n",
        "      retriever: This is retriver function holdes MultiVectorRetriever with vectorestore/index pointing\n",
        "      doc_summaries: Document summary\n",
        "      doc_contents: Document Raw Content\n",
        "      \"\"\"\n",
        "\n",
        "      doc_ids = [str(uuid.uuid4()) for _ in doc_contents]\n",
        "\n",
        "      #It creates Document format with page_content as summary, and metadata info with unique doc id\n",
        "      summary_docs = [\n",
        "              Document(page_content=s, metadata={id_key: doc_ids[i]})\n",
        "              for i, s in enumerate(doc_summaries)\n",
        "          ]\n",
        "\n",
        "\n",
        "      retriever.vectorstore.add_documents(summary_docs)   #Embeds and creats index for summary and adds to vectore db\n",
        "      retriever.docstore.mset(list(zip(doc_ids, doc_contents))) #It attaches metadata info of that summary(id and raw content)\n",
        "\n",
        "      # Add texts, tables, and images\n",
        "      # Check that text_summaries is not empty before adding\n",
        "      if text_summaries:\n",
        "          add_documents(retriever, text_summaries, texts) #Embeds and creats index for text_summaries and adds texts and embedding to vectore db\n",
        "      # Check that table_summaries is not empty before adding\n",
        "      if table_summaries:\n",
        "          add_documents(retriever, table_summaries, tab)  #Embeds and creats index for table_summaries and adds tables and embedding to vectore db\n",
        "      # Check that image_summaries is not empty before adding\n",
        "      if image_summaries:\n",
        "          add_documents(retriever, image_summaries, img) #Embeds and creats index for image_summaries and adds img and embedding to vectore db\n",
        "\n",
        "    return retriever  # Returns final cmpletely embedded retriver obj\n"
      ]
    },
    {
      "cell_type": "markdown",
      "metadata": {
        "id": "Au1SWIHazaBF"
      },
      "source": [
        "## Create Chroma vectore db in memory with name - mm_rag by passing OpenAIEmbeddings() or Gemini Embedding"
      ]
    },
    {
      "cell_type": "markdown",
      "metadata": {
        "id": "J2ez4NaFz6K-"
      },
      "source": [
        "### Invoke Gemini Embedding\n"
      ]
    },
    {
      "cell_type": "code",
      "execution_count": 70,
      "metadata": {
        "colab": {
          "base_uri": "https://localhost:8080/"
        },
        "id": "fYdeBPtYz-WF",
        "outputId": "58e5efb0-44ef-4720-b8b9-178131ce519e"
      },
      "outputs": [
        {
          "data": {
            "text/plain": [
              "[0.05636945,\n",
              " 0.0048285457,\n",
              " -0.0762591,\n",
              " -0.023642512,\n",
              " 0.05329321,\n",
              " 0.016581405,\n",
              " 0.0091215875,\n",
              " -0.024947558,\n",
              " 0.007700752,\n",
              " 0.033625674]"
            ]
          },
          "execution_count": 70,
          "metadata": {},
          "output_type": "execute_result"
        }
      ],
      "source": [
        "from langchain_google_genai import GoogleGenerativeAIEmbeddings\n",
        "embeddings = GoogleGenerativeAIEmbeddings(model=\"models/embedding-001\")\n",
        "embeddings.embed_query(\"hello, world!\")[:10]"
      ]
    },
    {
      "cell_type": "markdown",
      "metadata": {
        "id": "_IlZ4jh73rbQ"
      },
      "source": [
        "### Create CHROMA Vectoredb by passing Gemini Embedding"
      ]
    },
    {
      "cell_type": "code",
      "execution_count": 71,
      "metadata": {
        "id": "4--RJbDNzW9s"
      },
      "outputs": [],
      "source": [
        "# Pass OpenAI embedding\n",
        "# vectorstore = Chroma(\n",
        "#     collection_name=\"mm_rag\", embedding_function=OpenAIEmbeddings()\n",
        "# )\n",
        "\n",
        "# Pass Gemini embedding\n",
        "vectorstore = Chroma(\n",
        "    collection_name=\"mm_rag\", embedding_function=embeddings\n",
        ")"
      ]
    },
    {
      "cell_type": "markdown",
      "metadata": {
        "id": "cG2TLck-32s0"
      },
      "source": [
        "### Create retrival - **retriever_multi_vector_img**\n",
        "- It executes above function - **create_multi_vector_retriever**, it applies embedding and creates final retrival"
      ]
    },
    {
      "cell_type": "code",
      "execution_count": 72,
      "metadata": {
        "id": "8cSLLYRv3-H-"
      },
      "outputs": [],
      "source": [
        "# Create retriever\n",
        "retriever_multi_vector_img = create_multi_vector_retriever(\n",
        "    vectorstore,\n",
        "    text_summaries,\n",
        "    Text,\n",
        "    table_summaries,\n",
        "    Table,\n",
        "    image_summaries,\n",
        "    img_base64_list,\n",
        ")"
      ]
    },
    {
      "cell_type": "code",
      "execution_count": 73,
      "metadata": {
        "colab": {
          "base_uri": "https://localhost:8080/"
        },
        "id": "GaYHuuAbbpUi",
        "outputId": "22ee2a99-dad8-4c23-ea5e-c6d75eabc54a"
      },
      "outputs": [
        {
          "data": {
            "text/plain": [
              "MultiVectorRetriever(vectorstore=<langchain_community.vectorstores.chroma.Chroma object at 0x7a0ec85b64a0>, docstore=<langchain_core.stores.InMemoryBaseStore object at 0x7a0ec0443a00>)"
            ]
          },
          "execution_count": 73,
          "metadata": {},
          "output_type": "execute_result"
        }
      ],
      "source": [
        "retriever_multi_vector_img"
      ]
    },
    {
      "cell_type": "markdown",
      "metadata": {
        "id": "ddHWhHdW4NNs"
      },
      "source": [
        "### Display Image by its base64 value - plt_img_base64"
      ]
    },
    {
      "cell_type": "code",
      "execution_count": 75,
      "metadata": {
        "id": "E2fm4STH8MyY"
      },
      "outputs": [],
      "source": [
        "import io\n",
        "import re\n",
        "\n",
        "from IPython.display import HTML, display\n",
        "from PIL import Image"
      ]
    },
    {
      "cell_type": "code",
      "execution_count": 76,
      "metadata": {
        "id": "JOts0DUa8NVd"
      },
      "outputs": [],
      "source": [
        "def plt_img_base64(img_base64):\n",
        "    \"\"\"Disply base64 encoded string as image\"\"\"\n",
        "    # Create an HTML img tag with the base64 string as the source\n",
        "    image_html = f'<img src=\"data:image/jpeg;base64,{img_base64}\" />'\n",
        "    # Display the image by rendering the HTML\n",
        "    display(HTML(image_html))\n"
      ]
    },
    {
      "cell_type": "code",
      "execution_count": 77,
      "metadata": {
        "colab": {
          "base_uri": "https://localhost:8080/",
          "height": 153
        },
        "id": "Eb2_22-aoGSB",
        "outputId": "a3507407-1fcc-4b59-9b04-6a1c62c614e1"
      },
      "outputs": [
        {
          "data": {
            "text/html": [
              "<img src=\"data:image/jpeg;base64,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\" />"
            ],
            "text/plain": [
              "<IPython.core.display.HTML object>"
            ]
          },
          "metadata": {},
          "output_type": "display_data"
        }
      ],
      "source": [
        "plt_img_base64(img_base64_list[0])"
      ]
    },
    {
      "cell_type": "code",
      "execution_count": 78,
      "metadata": {
        "colab": {
          "base_uri": "https://localhost:8080/",
          "height": 35
        },
        "id": "aYaHWDneBWF2",
        "outputId": "40222f63-b3f1-4d36-b50f-9f36d4bf6dc3"
      },
      "outputs": [
        {
          "data": {
            "application/vnd.google.colaboratory.intrinsic+json": {
              "type": "string"
            },
            "text/plain": [
              "' The image shows a dog and a bicycle. The dog is in front of the bicycle. The bicycle is behind the dog.'"
            ]
          },
          "execution_count": 78,
          "metadata": {},
          "output_type": "execute_result"
        }
      ],
      "source": [
        "image_summaries[1]"
      ]
    },
    {
      "cell_type": "markdown",
      "metadata": {
        "id": "A_f2luTn47GE"
      },
      "source": [
        "# **4. Create Final RAG**"
      ]
    },
    {
      "cell_type": "markdown",
      "metadata": {
        "id": "wXaa1y6j4_-b"
      },
      "source": [
        "## Create set of function to process Image"
      ]
    },
    {
      "cell_type": "markdown",
      "metadata": {
        "id": "XWkIXA4S5JDw"
      },
      "source": [
        "- Check if the string looks like base64\""
      ]
    },
    {
      "cell_type": "code",
      "execution_count": 79,
      "metadata": {
        "id": "8xHdKk5U8u5B"
      },
      "outputs": [],
      "source": [
        "def looks_like_base64(sb):\n",
        "    \"\"\"Check if the string looks like base64\"\"\"\n",
        "    return re.match(\"^[A-Za-z0-9+/]+[=]{0,2}$\", sb) is not None\n"
      ]
    },
    {
      "cell_type": "markdown",
      "metadata": {
        "id": "-psQV9xy5MmG"
      },
      "source": [
        " - Check if the base64 data is an **image** by looking at the start of the data else its **Table**"
      ]
    },
    {
      "cell_type": "code",
      "execution_count": 80,
      "metadata": {
        "id": "1ozW0Yir8wux"
      },
      "outputs": [],
      "source": [
        "def is_image_data(b64data):\n",
        "    \"\"\"\n",
        "    Check if the base64 data is an image by looking at the start of the data\n",
        "    \"\"\"\n",
        "    image_signatures = {\n",
        "        b\"\\xFF\\xD8\\xFF\": \"jpg\",\n",
        "        b\"\\x89\\x50\\x4E\\x47\\x0D\\x0A\\x1A\\x0A\": \"png\",\n",
        "        b\"\\x47\\x49\\x46\\x38\": \"gif\",\n",
        "        b\"\\x52\\x49\\x46\\x46\": \"webp\",\n",
        "    }\n",
        "    try:\n",
        "        header = base64.b64decode(b64data)[:8]  # Decode and get the first 8 bytes\n",
        "        for sig, format in image_signatures.items():\n",
        "            if header.startswith(sig):\n",
        "                return True\n",
        "        return False\n",
        "    except Exception:\n",
        "        return False"
      ]
    },
    {
      "cell_type": "markdown",
      "metadata": {
        "id": "jnCbZKBq6bj0"
      },
      "source": [
        "- Resize an image encoded as a Base64 string"
      ]
    },
    {
      "cell_type": "code",
      "execution_count": 81,
      "metadata": {
        "id": "W_NbnR5B8zCa"
      },
      "outputs": [],
      "source": [
        "def resize_base64_image(base64_string, size=(128, 128)):\n",
        "    \"\"\"\n",
        "    Resize an image encoded as a Base64 string\n",
        "    \"\"\"\n",
        "    # Decode the Base64 string\n",
        "    img_data = base64.b64decode(base64_string)\n",
        "    img = Image.open(io.BytesIO(img_data))\n",
        "\n",
        "    # Resize the image\n",
        "    resized_img = img.resize(size, Image.LANCZOS)\n",
        "\n",
        "    # Save the resized image to a bytes buffer\n",
        "    buffered = io.BytesIO()\n",
        "    resized_img.save(buffered, format=img.format)\n",
        "\n",
        "    # Encode the resized image to Base64\n",
        "    return base64.b64encode(buffered.getvalue()).decode(\"utf-8\")"
      ]
    },
    {
      "cell_type": "markdown",
      "metadata": {
        "id": "a9w8vTpR6dQt"
      },
      "source": [
        "## split_image_text_types  - Retrive's I/P Q\n",
        "- This splits Input as Image or text before passing into Retriver(Chroma db for retrival)"
      ]
    },
    {
      "cell_type": "code",
      "execution_count": 86,
      "metadata": {
        "id": "sitteApG81AA"
      },
      "outputs": [],
      "source": [
        "def split_image_text_types(docs):\n",
        "    \"\"\"\n",
        "    Split base64-encoded images and texts\n",
        "    \"\"\"\n",
        "    b64_images = []\n",
        "    texts = []\n",
        "\n",
        "    for doc in docs:\n",
        "        # Check if the document is of type Document and extract page_content if so\n",
        "        if isinstance(doc, Document):\n",
        "            doc = doc.page_content\n",
        "        if looks_like_base64(doc) and is_image_data(doc):\n",
        "            doc = resize_base64_image(doc, size=(1300, 600))\n",
        "            b64_images.append(doc)\n",
        "        else:\n",
        "            texts.append(doc)\n",
        "\n",
        "    return {\"images\": b64_images, \"texts\": texts}"
      ]
    },
    {
      "cell_type": "markdown",
      "metadata": {
        "id": "ZtQzpEv36zDc"
      },
      "source": [
        "## img_prompt_func - LLM's feeding I/P Context\n",
        "- This joins Image and text O/P from Retriver(Chroma db for retrival) before passing to final LLM"
      ]
    },
    {
      "cell_type": "code",
      "execution_count": 87,
      "metadata": {
        "id": "3q0i4U_n88IZ"
      },
      "outputs": [],
      "source": [
        "def img_prompt_func(data_dict):\n",
        "    \"\"\"\n",
        "    Join the context into a single string\n",
        "    This joins Image and text O/P from Retriver(Chroma db for retrival) before passing to final LLM\n",
        "\n",
        "    data_dict: This is Chroma DB retrived context holds text+Image\n",
        "\n",
        "    \"\"\"\n",
        "    #print(data_dict)\n",
        "    # 1. Here Text contents are joined and saved as single string- formatted_texts\n",
        "    formatted_texts = \"\\n\".join(data_dict[\"context\"][\"texts\"])\n",
        "    messages = []\n",
        "\n",
        "    # Adding image(s) to the messages if present\n",
        "    # 2. Here for images contents are appended with image_url\n",
        "    if data_dict[\"context\"][\"images\"]:\n",
        "        for image in data_dict[\"context\"][\"images\"]:\n",
        "            image_message = {\n",
        "                \"type\": \"image_url\",\n",
        "                \"image_url\": {\"url\": f\"data:image/jpeg;base64,{image}\"},\n",
        "            }\n",
        "            messages.append(image_message)\n",
        "\n",
        "    # Adding the text for analysis\n",
        "    # 3. This is another Prompt using \"formatted_texts\" of 1st step and creates final text_message\n",
        "    text_message = {\n",
        "        \"type\": \"text\",\n",
        "        \"text\": (\n",
        "            \"You are a helpful assistant.\\n\"\n",
        "            \"You will be given a mixed info(s) .\\n\"\n",
        "            \"Use this information to provide relevant information to the user question. \\n\"\n",
        "            f\"User-provided question: {data_dict['question']}\\n\\n\"\n",
        "            \"Text and / or tables:\\n\"\n",
        "            f\"{formatted_texts}\"\n",
        "        ),\n",
        "    }\n",
        "\n",
        "    # 4. text_message are appended to Image\n",
        "    messages.append(text_message)\n",
        "\n",
        "    return [HumanMessage(content=messages)] # Pass this consolidated retrived O/P to Final LLM"
      ]
    },
    {
      "cell_type": "markdown",
      "metadata": {
        "id": "3caS5ikB87HD"
      },
      "source": [
        "## Create final MultiModal RAG"
      ]
    },
    {
      "cell_type": "code",
      "execution_count": 89,
      "metadata": {
        "id": "fK7NdBN9TXbN"
      },
      "outputs": [],
      "source": [
        "from langchain_core.runnables import RunnableLambda, RunnablePassthrough\n",
        "# RunnableLambda - This is like python's apply function/lambda , which allows to call function"
      ]
    },
    {
      "cell_type": "code",
      "execution_count": 90,
      "metadata": {
        "id": "1Hg65Azq8-La"
      },
      "outputs": [],
      "source": [
        "def multi_modal_rag_chain(retriever):\n",
        "    \"\"\"\n",
        "    Multi-modal RAG chain\n",
        "    \"\"\"\n",
        "\n",
        "    # Multi-modal LLM - OPENAI gpt-4-vision-preview\n",
        "    #model = ChatOpenAI(temperature=0, model=\"gpt-4-vision-preview\", max_tokens=1024)\n",
        "    model = ChatGoogleGenerativeAI(model=\"gemini-pro\")\n",
        "\n",
        "\n",
        "    # RAG pipeline\n",
        "    chain = (\n",
        "        {\n",
        "            \"context\": retriever | RunnableLambda(split_image_text_types), #User Q passed to split_image_text_types and passed to retriver\n",
        "            \"question\": RunnablePassthrough(), #User Q\n",
        "        }\n",
        "        | RunnableLambda(img_prompt_func) #Retrivers O/P passed to img_prompt_func,  This joins Image and text O/P from Retriver(Chroma db for retrival) before passing to final LLM\n",
        "        | model  #MultiModal either GPT 4 vision or Gemini pro vision\n",
        "        | StrOutputParser()\n",
        "    )\n",
        "\n",
        "    return chain"
      ]
    },
    {
      "cell_type": "code",
      "execution_count": 91,
      "metadata": {
        "id": "hvyZkjqa9AHZ"
      },
      "outputs": [],
      "source": [
        "# Create RAG chain\n",
        "chain_multimodal_rag = multi_modal_rag_chain(retriever_multi_vector_img)"
      ]
    },
    {
      "cell_type": "code",
      "execution_count": 92,
      "metadata": {
        "colab": {
          "base_uri": "https://localhost:8080/"
        },
        "id": "y1N9ONMPCW-h",
        "outputId": "bd14826f-e2ea-4e1b-dcb3-31b59147afe6"
      },
      "outputs": [
        {
          "data": {
            "text/plain": [
              "{\n",
              "  context: MultiVectorRetriever(vectorstore=<langchain_community.vectorstores.chroma.Chroma object at 0x7a0ec85b64a0>, docstore=<langchain_core.stores.InMemoryBaseStore object at 0x7a0ec0443a00>)\n",
              "           | RunnableLambda(split_image_text_types),\n",
              "  question: RunnablePassthrough()\n",
              "}\n",
              "| RunnableLambda(img_prompt_func)\n",
              "| ChatGoogleGenerativeAI(model='gemini-pro', client=genai.GenerativeModel(\n",
              "      model_name='models/gemini-pro',\n",
              "      generation_config={},\n",
              "      safety_settings={},\n",
              "      tools=None,\n",
              "      system_instruction=None,\n",
              "  ))\n",
              "| StrOutputParser()"
            ]
          },
          "execution_count": 92,
          "metadata": {},
          "output_type": "execute_result"
        }
      ],
      "source": [
        "chain_multimodal_rag"
      ]
    },
    {
      "cell_type": "markdown",
      "metadata": {
        "id": "9H1zhRDa7zpD"
      },
      "source": [
        "# **5.1 Validate the Retriver**"
      ]
    },
    {
      "cell_type": "code",
      "execution_count": 93,
      "metadata": {
        "id": "FmStvDLddInz"
      },
      "outputs": [],
      "source": [
        "# Check retrieval\n",
        "#query = \"Why We combine a pre-trained retriever (Query Encoder + Document Index) with a pre-trained seq2seq model (Generator) and fine-tune end-to-end?\"\n",
        "query = \"Explain Unified Detection\"\n",
        "docs = retriever_multi_vector_img.invoke(query)\n",
        "\n"
      ]
    },
    {
      "cell_type": "code",
      "execution_count": 94,
      "metadata": {
        "colab": {
          "base_uri": "https://localhost:8080/"
        },
        "id": "QujmCVbHlyFg",
        "outputId": "6e89329c-b3c3-4795-ce1d-68c691a597da"
      },
      "outputs": [
        {
          "data": {
            "text/plain": [
              "[]"
            ]
          },
          "execution_count": 94,
          "metadata": {},
          "output_type": "execute_result"
        }
      ],
      "source": [
        "docs"
      ]
    },
    {
      "cell_type": "code",
      "execution_count": 95,
      "metadata": {
        "id": "dOPXJDfUC3BI"
      },
      "outputs": [],
      "source": [
        "# query=\"Open-Domain QA Test Scores. For TQA,\\\n",
        "# left column uses the standard test set for Open-\\\n",
        "# Domain QA, right column uses the TQA-Wiki\\\n",
        "# test set. See Appendix D for further details.\"\n",
        "query=\"Explain Yolo\""
      ]
    },
    {
      "cell_type": "code",
      "execution_count": 96,
      "metadata": {
        "id": "H1YaG7QYTrFV"
      },
      "outputs": [],
      "source": [
        "docs = retriever_multi_vector_img.invoke(query)"
      ]
    },
    {
      "cell_type": "code",
      "execution_count": 97,
      "metadata": {
        "colab": {
          "base_uri": "https://localhost:8080/"
        },
        "id": "NXt_JE33TsyC",
        "outputId": "8e4b03d2-a68e-4219-874a-3a0c4467f192"
      },
      "outputs": [
        {
          "data": {
            "text/plain": [
              "[]"
            ]
          },
          "execution_count": 97,
          "metadata": {},
          "output_type": "execute_result"
        }
      ],
      "source": [
        "docs"
      ]
    },
    {
      "cell_type": "code",
      "execution_count": 110,
      "metadata": {
        "id": "OtspMKwyDr5p"
      },
      "outputs": [],
      "source": [
        "query=\"Combining Fast R-CNN and YOLO\""
      ]
    },
    {
      "cell_type": "code",
      "execution_count": 111,
      "metadata": {
        "colab": {
          "base_uri": "https://localhost:8080/"
        },
        "id": "J6RFUzOgC9Nn",
        "outputId": "b49632fb-3f64-4202-af1b-5420c5f16d16"
      },
      "outputs": [
        {
          "data": {
            "text/plain": [
              "[]"
            ]
          },
          "execution_count": 111,
          "metadata": {},
          "output_type": "execute_result"
        }
      ],
      "source": [
        "retriever_multi_vector_img.invoke(query)"
      ]
    },
    {
      "cell_type": "code",
      "execution_count": 112,
      "metadata": {
        "colab": {
          "base_uri": "https://localhost:8080/"
        },
        "id": "AWXgsd1t_QTg",
        "outputId": "367f9cf3-e75a-4ca3-e752-c59c340b671f"
      },
      "outputs": [
        {
          "data": {
            "text/plain": [
              "MultiVectorRetriever(vectorstore=<langchain_community.vectorstores.chroma.Chroma object at 0x7a0ec85b64a0>, docstore=<langchain_core.stores.InMemoryBaseStore object at 0x7a0ec0443a00>)"
            ]
          },
          "execution_count": 112,
          "metadata": {},
          "output_type": "execute_result"
        }
      ],
      "source": [
        "retriever_multi_vector_img"
      ]
    },
    {
      "cell_type": "code",
      "execution_count": 100,
      "metadata": {
        "colab": {
          "base_uri": "https://localhost:8080/",
          "height": 37
        },
        "id": "2HkKxemH9GHg",
        "outputId": "e07a967f-c396-4a49-f8c1-5edeba48c0b6"
      },
      "outputs": [
        {
          "data": {
            "text/html": [
              "<img src=\"data:image/jpeg;base64,[]\" />"
            ],
            "text/plain": [
              "<IPython.core.display.HTML object>"
            ]
          },
          "metadata": {},
          "output_type": "display_data"
        }
      ],
      "source": [
        "# We get back relevant images\n",
        "plt_img_base64(docs)"
      ]
    },
    {
      "cell_type": "markdown",
      "metadata": {
        "id": "p0F8kQmMBhdS"
      },
      "source": [
        "# **5.2 Validate the Final RAG Chain**"
      ]
    },
    {
      "cell_type": "code",
      "execution_count": 108,
      "metadata": {
        "id": "PhhTb937EDJ5"
      },
      "outputs": [],
      "source": [
        "# query=\"can you explain me this Left: NQ performance as more documents are retrieved. Center: Retrieval recall performance\\\n",
        "# in NQ. Right: MS-MARCO Bleu-1 and Rouge-L as more documents are retrieved.\"\n",
        "# query=\"Explain Unified Detection\"\n",
        "query=\"Combining Fast R-CNN and YOLO\""
      ]
    },
    {
      "cell_type": "code",
      "execution_count": 109,
      "metadata": {
        "colab": {
          "base_uri": "https://localhost:8080/",
          "height": 243
        },
        "id": "p-UCCbX9-piN",
        "outputId": "e7ba856e-69b4-4128-bba8-1fbc42c9a029"
      },
      "outputs": [
        {
          "data": {
            "application/vnd.google.colaboratory.intrinsic+json": {
              "type": "string"
            },
            "text/plain": [
              "'**Combining Fast R-CNN and YOLO**\\n\\nFast R-CNN and YOLO are two popular object detection algorithms. Fast R-CNN is a region-based object detection algorithm, while YOLO is a single-shot object detection algorithm.\\n\\nCombining Fast R-CNN and YOLO can improve the accuracy and speed of object detection. Fast R-CNN is more accurate than YOLO, but it is also slower. YOLO is faster than Fast R-CNN, but it is less accurate. By combining the two algorithms, it is possible to achieve both high accuracy and speed.\\n\\nThere are several ways to combine Fast R-CNN and YOLO. One way is to use the output of Fast R-CNN to generate the input for YOLO. This approach can improve the accuracy of YOLO, as it can use the more accurate bounding boxes generated by Fast R-CNN.\\n\\nAnother way to combine Fast R-CNN and YOLO is to use the two algorithms in parallel. This approach can improve the speed of object detection, as it can use the faster YOLO algorithm to detect objects in the image. The output of YOLO can then be used to generate the input for Fast R-CNN, which can then be used to refine the object detections.\\n\\nCombining Fast R-CNN and YOLO is a promising approach to improving the accuracy and speed of object detection. There are several ways to combine the two algorithms, and the best approach will depend on the specific application.'"
            ]
          },
          "execution_count": 109,
          "metadata": {},
          "output_type": "execute_result"
        }
      ],
      "source": [
        "# Run RAG chain\n",
        "chain_multimodal_rag.invoke(query)"
      ]
    },
    {
      "cell_type": "code",
      "execution_count": 113,
      "metadata": {
        "id": "RRTcmOhnHBiE"
      },
      "outputs": [],
      "source": [
        "query1=\"Explain Yolo with Image\""
      ]
    },
    {
      "cell_type": "code",
      "execution_count": 114,
      "metadata": {
        "colab": {
          "base_uri": "https://localhost:8080/",
          "height": 278
        },
        "id": "mi4Se2uP9NCc",
        "outputId": "c6159a74-4781-4d71-9ddf-20368da2fbfd"
      },
      "outputs": [
        {
          "data": {
            "application/vnd.google.colaboratory.intrinsic+json": {
              "type": "string"
            },
            "text/plain": [
              "'**What is YOLO?**\\n\\nYOLO (You Only Look Once) is a real-time object detection algorithm that has become popular due to its speed and accuracy. It was developed by Joseph Redmon and Ali Farhadi at the University of Washington in 2015.\\n\\n**How does YOLO work?**\\n\\nYOLO divides the input image into a grid of cells. Each cell is responsible for predicting the presence of an object and its bounding box. The algorithm then uses a single convolutional neural network (CNN) to process the entire image at once, making it very fast.\\n\\n**Advantages of YOLO:**\\n\\n* **Speed:** YOLO is one of the fastest object detection algorithms, making it suitable for real-time applications.\\n* **Accuracy:** YOLO is also highly accurate, achieving state-of-the-art results on many object detection benchmarks.\\n* **Simplicity:** YOLO is relatively simple to implement and train, compared to other object detection algorithms.\\n\\n**Applications of YOLO:**\\n\\nYOLO has a wide range of applications, including:\\n\\n* **Object detection:** Identifying and locating objects in images and videos.\\n* **Self-driving cars:** Detecting obstacles and other vehicles on the road.\\n* **Security:** Monitoring for suspicious activity and identifying potential threats.\\n* **Healthcare:** Detecting diseases and abnormalities in medical images.\\n\\n**Image of YOLO in action:**\\n\\n[Image of YOLO detecting objects in an image]\\n\\n**Example:**\\n\\nThe following image shows YOLO detecting objects in a street scene. The algorithm has identified a person, a car, and a traffic light.\\n\\n[Image of YOLO detecting objects in a street scene]'"
            ]
          },
          "execution_count": 114,
          "metadata": {},
          "output_type": "execute_result"
        }
      ],
      "source": [
        "# Run RAG chain\n",
        "chain_multimodal_rag.invoke(query1)"
      ]
    },
    {
      "cell_type": "code",
      "execution_count": 115,
      "metadata": {
        "colab": {
          "base_uri": "https://localhost:8080/",
          "height": 52
        },
        "id": "fM6Iv8cx_zgr",
        "outputId": "d437be8e-572a-4ce6-f0ba-d4f4d59ad8e7"
      },
      "outputs": [
        {
          "data": {
            "application/vnd.google.colaboratory.intrinsic+json": {
              "type": "string"
            },
            "text/plain": [
              "'The provided context does not mention anything about 100Hz DPM mAP value, so I cannot extract the requested data from the provided context.'"
            ]
          },
          "execution_count": 115,
          "metadata": {},
          "output_type": "execute_result"
        }
      ],
      "source": [
        "query2=\"What is 100Hz DPM mAP value\"\n",
        "# Run RAG chain\n",
        "chain_multimodal_rag.invoke(query2)"
      ]
    },
    {
      "cell_type": "markdown",
      "metadata": {
        "id": "2SQDf7xR-xdD"
      },
      "source": [
        "# **END**"
      ]
    }
  ],
  "metadata": {
    "accelerator": "GPU",
    "colab": {
      "gpuType": "T4",
      "provenance": [],
      "toc_visible": true
    },
    "kernelspec": {
      "display_name": "Python 3",
      "name": "python3"
    },
    "language_info": {
      "name": "python"
    },
    "widgets": {
      "application/vnd.jupyter.widget-state+json": {
        "1834aac97ce04cb4b626ed4e2f1de570": {
          "model_module": "@jupyter-widgets/controls",
          "model_module_version": "1.5.0",
          "model_name": "HBoxModel",
          "state": {
            "_dom_classes": [],
            "_model_module": "@jupyter-widgets/controls",
            "_model_module_version": "1.5.0",
            "_model_name": "HBoxModel",
            "_view_count": null,
            "_view_module": "@jupyter-widgets/controls",
            "_view_module_version": "1.5.0",
            "_view_name": "HBoxView",
            "box_style": "",
            "children": [
              "IPY_MODEL_798d03b917de4270a7e4f6dd627b2710",
              "IPY_MODEL_909488fc95f549c89df6f18e8b95b799",
              "IPY_MODEL_a6712976bebf495d9e15bfcf4a91771d"
            ],
            "layout": "IPY_MODEL_890701cd6e844815be18dd61f9fb0106"
          }
        },
        "619cef414d3248468fb6799ae81be42b": {
          "model_module": "@jupyter-widgets/controls",
          "model_module_version": "1.5.0",
          "model_name": "DescriptionStyleModel",
          "state": {
            "_model_module": "@jupyter-widgets/controls",
            "_model_module_version": "1.5.0",
            "_model_name": "DescriptionStyleModel",
            "_view_count": null,
            "_view_module": "@jupyter-widgets/base",
            "_view_module_version": "1.2.0",
            "_view_name": "StyleView",
            "description_width": ""
          }
        },
        "798d03b917de4270a7e4f6dd627b2710": {
          "model_module": "@jupyter-widgets/controls",
          "model_module_version": "1.5.0",
          "model_name": "HTMLModel",
          "state": {
            "_dom_classes": [],
            "_model_module": "@jupyter-widgets/controls",
            "_model_module_version": "1.5.0",
            "_model_name": "HTMLModel",
            "_view_count": null,
            "_view_module": "@jupyter-widgets/controls",
            "_view_module_version": "1.5.0",
            "_view_name": "HTMLView",
            "description": "",
            "description_tooltip": null,
            "layout": "IPY_MODEL_b564c9430ed849feadb114083b649d37",
            "placeholder": "​",
            "style": "IPY_MODEL_d050e524c37f43a2a33bf8197bed88ef",
            "value": "yolox_l0.05.onnx: 100%"
          }
        },
        "7b01829b2e6847c0a171d68d386de430": {
          "model_module": "@jupyter-widgets/base",
          "model_module_version": "1.2.0",
          "model_name": "LayoutModel",
          "state": {
            "_model_module": "@jupyter-widgets/base",
            "_model_module_version": "1.2.0",
            "_model_name": "LayoutModel",
            "_view_count": null,
            "_view_module": "@jupyter-widgets/base",
            "_view_module_version": "1.2.0",
            "_view_name": "LayoutView",
            "align_content": null,
            "align_items": null,
            "align_self": null,
            "border": null,
            "bottom": null,
            "display": null,
            "flex": null,
            "flex_flow": null,
            "grid_area": null,
            "grid_auto_columns": null,
            "grid_auto_flow": null,
            "grid_auto_rows": null,
            "grid_column": null,
            "grid_gap": null,
            "grid_row": null,
            "grid_template_areas": null,
            "grid_template_columns": null,
            "grid_template_rows": null,
            "height": null,
            "justify_content": null,
            "justify_items": null,
            "left": null,
            "margin": null,
            "max_height": null,
            "max_width": null,
            "min_height": null,
            "min_width": null,
            "object_fit": null,
            "object_position": null,
            "order": null,
            "overflow": null,
            "overflow_x": null,
            "overflow_y": null,
            "padding": null,
            "right": null,
            "top": null,
            "visibility": null,
            "width": null
          }
        },
        "890701cd6e844815be18dd61f9fb0106": {
          "model_module": "@jupyter-widgets/base",
          "model_module_version": "1.2.0",
          "model_name": "LayoutModel",
          "state": {
            "_model_module": "@jupyter-widgets/base",
            "_model_module_version": "1.2.0",
            "_model_name": "LayoutModel",
            "_view_count": null,
            "_view_module": "@jupyter-widgets/base",
            "_view_module_version": "1.2.0",
            "_view_name": "LayoutView",
            "align_content": null,
            "align_items": null,
            "align_self": null,
            "border": null,
            "bottom": null,
            "display": null,
            "flex": null,
            "flex_flow": null,
            "grid_area": null,
            "grid_auto_columns": null,
            "grid_auto_flow": null,
            "grid_auto_rows": null,
            "grid_column": null,
            "grid_gap": null,
            "grid_row": null,
            "grid_template_areas": null,
            "grid_template_columns": null,
            "grid_template_rows": null,
            "height": null,
            "justify_content": null,
            "justify_items": null,
            "left": null,
            "margin": null,
            "max_height": null,
            "max_width": null,
            "min_height": null,
            "min_width": null,
            "object_fit": null,
            "object_position": null,
            "order": null,
            "overflow": null,
            "overflow_x": null,
            "overflow_y": null,
            "padding": null,
            "right": null,
            "top": null,
            "visibility": null,
            "width": null
          }
        },
        "8d8c951cf0d84e049973bf22b07b0c1a": {
          "model_module": "@jupyter-widgets/controls",
          "model_module_version": "1.5.0",
          "model_name": "ProgressStyleModel",
          "state": {
            "_model_module": "@jupyter-widgets/controls",
            "_model_module_version": "1.5.0",
            "_model_name": "ProgressStyleModel",
            "_view_count": null,
            "_view_module": "@jupyter-widgets/base",
            "_view_module_version": "1.2.0",
            "_view_name": "StyleView",
            "bar_color": null,
            "description_width": ""
          }
        },
        "909488fc95f549c89df6f18e8b95b799": {
          "model_module": "@jupyter-widgets/controls",
          "model_module_version": "1.5.0",
          "model_name": "FloatProgressModel",
          "state": {
            "_dom_classes": [],
            "_model_module": "@jupyter-widgets/controls",
            "_model_module_version": "1.5.0",
            "_model_name": "FloatProgressModel",
            "_view_count": null,
            "_view_module": "@jupyter-widgets/controls",
            "_view_module_version": "1.5.0",
            "_view_name": "ProgressView",
            "bar_style": "success",
            "description": "",
            "description_tooltip": null,
            "layout": "IPY_MODEL_7b01829b2e6847c0a171d68d386de430",
            "max": 216625723,
            "min": 0,
            "orientation": "horizontal",
            "style": "IPY_MODEL_8d8c951cf0d84e049973bf22b07b0c1a",
            "value": 216625723
          }
        },
        "a6712976bebf495d9e15bfcf4a91771d": {
          "model_module": "@jupyter-widgets/controls",
          "model_module_version": "1.5.0",
          "model_name": "HTMLModel",
          "state": {
            "_dom_classes": [],
            "_model_module": "@jupyter-widgets/controls",
            "_model_module_version": "1.5.0",
            "_model_name": "HTMLModel",
            "_view_count": null,
            "_view_module": "@jupyter-widgets/controls",
            "_view_module_version": "1.5.0",
            "_view_name": "HTMLView",
            "description": "",
            "description_tooltip": null,
            "layout": "IPY_MODEL_c6026969cf294700a81824012be522b3",
            "placeholder": "​",
            "style": "IPY_MODEL_619cef414d3248468fb6799ae81be42b",
            "value": " 217M/217M [00:01&lt;00:00, 173MB/s]"
          }
        },
        "b564c9430ed849feadb114083b649d37": {
          "model_module": "@jupyter-widgets/base",
          "model_module_version": "1.2.0",
          "model_name": "LayoutModel",
          "state": {
            "_model_module": "@jupyter-widgets/base",
            "_model_module_version": "1.2.0",
            "_model_name": "LayoutModel",
            "_view_count": null,
            "_view_module": "@jupyter-widgets/base",
            "_view_module_version": "1.2.0",
            "_view_name": "LayoutView",
            "align_content": null,
            "align_items": null,
            "align_self": null,
            "border": null,
            "bottom": null,
            "display": null,
            "flex": null,
            "flex_flow": null,
            "grid_area": null,
            "grid_auto_columns": null,
            "grid_auto_flow": null,
            "grid_auto_rows": null,
            "grid_column": null,
            "grid_gap": null,
            "grid_row": null,
            "grid_template_areas": null,
            "grid_template_columns": null,
            "grid_template_rows": null,
            "height": null,
            "justify_content": null,
            "justify_items": null,
            "left": null,
            "margin": null,
            "max_height": null,
            "max_width": null,
            "min_height": null,
            "min_width": null,
            "object_fit": null,
            "object_position": null,
            "order": null,
            "overflow": null,
            "overflow_x": null,
            "overflow_y": null,
            "padding": null,
            "right": null,
            "top": null,
            "visibility": null,
            "width": null
          }
        },
        "c6026969cf294700a81824012be522b3": {
          "model_module": "@jupyter-widgets/base",
          "model_module_version": "1.2.0",
          "model_name": "LayoutModel",
          "state": {
            "_model_module": "@jupyter-widgets/base",
            "_model_module_version": "1.2.0",
            "_model_name": "LayoutModel",
            "_view_count": null,
            "_view_module": "@jupyter-widgets/base",
            "_view_module_version": "1.2.0",
            "_view_name": "LayoutView",
            "align_content": null,
            "align_items": null,
            "align_self": null,
            "border": null,
            "bottom": null,
            "display": null,
            "flex": null,
            "flex_flow": null,
            "grid_area": null,
            "grid_auto_columns": null,
            "grid_auto_flow": null,
            "grid_auto_rows": null,
            "grid_column": null,
            "grid_gap": null,
            "grid_row": null,
            "grid_template_areas": null,
            "grid_template_columns": null,
            "grid_template_rows": null,
            "height": null,
            "justify_content": null,
            "justify_items": null,
            "left": null,
            "margin": null,
            "max_height": null,
            "max_width": null,
            "min_height": null,
            "min_width": null,
            "object_fit": null,
            "object_position": null,
            "order": null,
            "overflow": null,
            "overflow_x": null,
            "overflow_y": null,
            "padding": null,
            "right": null,
            "top": null,
            "visibility": null,
            "width": null
          }
        },
        "d050e524c37f43a2a33bf8197bed88ef": {
          "model_module": "@jupyter-widgets/controls",
          "model_module_version": "1.5.0",
          "model_name": "DescriptionStyleModel",
          "state": {
            "_model_module": "@jupyter-widgets/controls",
            "_model_module_version": "1.5.0",
            "_model_name": "DescriptionStyleModel",
            "_view_count": null,
            "_view_module": "@jupyter-widgets/base",
            "_view_module_version": "1.2.0",
            "_view_name": "StyleView",
            "description_width": ""
          }
        }
      }
    }
  },
  "nbformat": 4,
  "nbformat_minor": 0
}
