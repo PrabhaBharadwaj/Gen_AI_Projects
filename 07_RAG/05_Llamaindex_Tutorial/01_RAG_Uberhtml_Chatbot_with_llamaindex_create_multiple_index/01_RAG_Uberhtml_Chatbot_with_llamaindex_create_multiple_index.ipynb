{
  "nbformat": 4,
  "nbformat_minor": 0,
  "metadata": {
    "colab": {
      "provenance": [],
      "toc_visible": true,
      "gpuType": "T4"
    },
    "kernelspec": {
      "name": "python3",
      "display_name": "Python 3"
    },
    "language_info": {
      "name": "python"
    },
    "widgets": {
      "application/vnd.jupyter.widget-state+json": {
        "6a89d391317b42cbb66f6497ed0d687a": {
          "model_module": "@jupyter-widgets/controls",
          "model_name": "HBoxModel",
          "model_module_version": "1.5.0",
          "state": {
            "_dom_classes": [],
            "_model_module": "@jupyter-widgets/controls",
            "_model_module_version": "1.5.0",
            "_model_name": "HBoxModel",
            "_view_count": null,
            "_view_module": "@jupyter-widgets/controls",
            "_view_module_version": "1.5.0",
            "_view_name": "HBoxView",
            "box_style": "",
            "children": [
              "IPY_MODEL_e3ed8460916d42478df943829a6a290a",
              "IPY_MODEL_805785f6225c4dd2a846730899e78a7d",
              "IPY_MODEL_1a26e83fa42e490992e832ebdb79a319"
            ],
            "layout": "IPY_MODEL_2abb2f4bd7d54f11bb5f657483047a21"
          }
        },
        "e3ed8460916d42478df943829a6a290a": {
          "model_module": "@jupyter-widgets/controls",
          "model_name": "HTMLModel",
          "model_module_version": "1.5.0",
          "state": {
            "_dom_classes": [],
            "_model_module": "@jupyter-widgets/controls",
            "_model_module_version": "1.5.0",
            "_model_name": "HTMLModel",
            "_view_count": null,
            "_view_module": "@jupyter-widgets/controls",
            "_view_module_version": "1.5.0",
            "_view_name": "HTMLView",
            "description": "",
            "description_tooltip": null,
            "layout": "IPY_MODEL_71d8d739cbdb45a7810d416c9f533c7c",
            "placeholder": "​",
            "style": "IPY_MODEL_5076772e4c8c4caa98ea9fb116b36712",
            "value": "modules.json: 100%"
          }
        },
        "805785f6225c4dd2a846730899e78a7d": {
          "model_module": "@jupyter-widgets/controls",
          "model_name": "FloatProgressModel",
          "model_module_version": "1.5.0",
          "state": {
            "_dom_classes": [],
            "_model_module": "@jupyter-widgets/controls",
            "_model_module_version": "1.5.0",
            "_model_name": "FloatProgressModel",
            "_view_count": null,
            "_view_module": "@jupyter-widgets/controls",
            "_view_module_version": "1.5.0",
            "_view_name": "ProgressView",
            "bar_style": "success",
            "description": "",
            "description_tooltip": null,
            "layout": "IPY_MODEL_0819d7186d8541389f2b7e06f8a3c987",
            "max": 349,
            "min": 0,
            "orientation": "horizontal",
            "style": "IPY_MODEL_c253a34ae4d34cd59541fccd935d4285",
            "value": 349
          }
        },
        "1a26e83fa42e490992e832ebdb79a319": {
          "model_module": "@jupyter-widgets/controls",
          "model_name": "HTMLModel",
          "model_module_version": "1.5.0",
          "state": {
            "_dom_classes": [],
            "_model_module": "@jupyter-widgets/controls",
            "_model_module_version": "1.5.0",
            "_model_name": "HTMLModel",
            "_view_count": null,
            "_view_module": "@jupyter-widgets/controls",
            "_view_module_version": "1.5.0",
            "_view_name": "HTMLView",
            "description": "",
            "description_tooltip": null,
            "layout": "IPY_MODEL_6b063750dd424e43a06cd14405297b68",
            "placeholder": "​",
            "style": "IPY_MODEL_f16c345db8d8449c99fde2919932a52e",
            "value": " 349/349 [00:00&lt;00:00, 12.9kB/s]"
          }
        },
        "2abb2f4bd7d54f11bb5f657483047a21": {
          "model_module": "@jupyter-widgets/base",
          "model_name": "LayoutModel",
          "model_module_version": "1.2.0",
          "state": {
            "_model_module": "@jupyter-widgets/base",
            "_model_module_version": "1.2.0",
            "_model_name": "LayoutModel",
            "_view_count": null,
            "_view_module": "@jupyter-widgets/base",
            "_view_module_version": "1.2.0",
            "_view_name": "LayoutView",
            "align_content": null,
            "align_items": null,
            "align_self": null,
            "border": null,
            "bottom": null,
            "display": null,
            "flex": null,
            "flex_flow": null,
            "grid_area": null,
            "grid_auto_columns": null,
            "grid_auto_flow": null,
            "grid_auto_rows": null,
            "grid_column": null,
            "grid_gap": null,
            "grid_row": null,
            "grid_template_areas": null,
            "grid_template_columns": null,
            "grid_template_rows": null,
            "height": null,
            "justify_content": null,
            "justify_items": null,
            "left": null,
            "margin": null,
            "max_height": null,
            "max_width": null,
            "min_height": null,
            "min_width": null,
            "object_fit": null,
            "object_position": null,
            "order": null,
            "overflow": null,
            "overflow_x": null,
            "overflow_y": null,
            "padding": null,
            "right": null,
            "top": null,
            "visibility": null,
            "width": null
          }
        },
        "71d8d739cbdb45a7810d416c9f533c7c": {
          "model_module": "@jupyter-widgets/base",
          "model_name": "LayoutModel",
          "model_module_version": "1.2.0",
          "state": {
            "_model_module": "@jupyter-widgets/base",
            "_model_module_version": "1.2.0",
            "_model_name": "LayoutModel",
            "_view_count": null,
            "_view_module": "@jupyter-widgets/base",
            "_view_module_version": "1.2.0",
            "_view_name": "LayoutView",
            "align_content": null,
            "align_items": null,
            "align_self": null,
            "border": null,
            "bottom": null,
            "display": null,
            "flex": null,
            "flex_flow": null,
            "grid_area": null,
            "grid_auto_columns": null,
            "grid_auto_flow": null,
            "grid_auto_rows": null,
            "grid_column": null,
            "grid_gap": null,
            "grid_row": null,
            "grid_template_areas": null,
            "grid_template_columns": null,
            "grid_template_rows": null,
            "height": null,
            "justify_content": null,
            "justify_items": null,
            "left": null,
            "margin": null,
            "max_height": null,
            "max_width": null,
            "min_height": null,
            "min_width": null,
            "object_fit": null,
            "object_position": null,
            "order": null,
            "overflow": null,
            "overflow_x": null,
            "overflow_y": null,
            "padding": null,
            "right": null,
            "top": null,
            "visibility": null,
            "width": null
          }
        },
        "5076772e4c8c4caa98ea9fb116b36712": {
          "model_module": "@jupyter-widgets/controls",
          "model_name": "DescriptionStyleModel",
          "model_module_version": "1.5.0",
          "state": {
            "_model_module": "@jupyter-widgets/controls",
            "_model_module_version": "1.5.0",
            "_model_name": "DescriptionStyleModel",
            "_view_count": null,
            "_view_module": "@jupyter-widgets/base",
            "_view_module_version": "1.2.0",
            "_view_name": "StyleView",
            "description_width": ""
          }
        },
        "0819d7186d8541389f2b7e06f8a3c987": {
          "model_module": "@jupyter-widgets/base",
          "model_name": "LayoutModel",
          "model_module_version": "1.2.0",
          "state": {
            "_model_module": "@jupyter-widgets/base",
            "_model_module_version": "1.2.0",
            "_model_name": "LayoutModel",
            "_view_count": null,
            "_view_module": "@jupyter-widgets/base",
            "_view_module_version": "1.2.0",
            "_view_name": "LayoutView",
            "align_content": null,
            "align_items": null,
            "align_self": null,
            "border": null,
            "bottom": null,
            "display": null,
            "flex": null,
            "flex_flow": null,
            "grid_area": null,
            "grid_auto_columns": null,
            "grid_auto_flow": null,
            "grid_auto_rows": null,
            "grid_column": null,
            "grid_gap": null,
            "grid_row": null,
            "grid_template_areas": null,
            "grid_template_columns": null,
            "grid_template_rows": null,
            "height": null,
            "justify_content": null,
            "justify_items": null,
            "left": null,
            "margin": null,
            "max_height": null,
            "max_width": null,
            "min_height": null,
            "min_width": null,
            "object_fit": null,
            "object_position": null,
            "order": null,
            "overflow": null,
            "overflow_x": null,
            "overflow_y": null,
            "padding": null,
            "right": null,
            "top": null,
            "visibility": null,
            "width": null
          }
        },
        "c253a34ae4d34cd59541fccd935d4285": {
          "model_module": "@jupyter-widgets/controls",
          "model_name": "ProgressStyleModel",
          "model_module_version": "1.5.0",
          "state": {
            "_model_module": "@jupyter-widgets/controls",
            "_model_module_version": "1.5.0",
            "_model_name": "ProgressStyleModel",
            "_view_count": null,
            "_view_module": "@jupyter-widgets/base",
            "_view_module_version": "1.2.0",
            "_view_name": "StyleView",
            "bar_color": null,
            "description_width": ""
          }
        },
        "6b063750dd424e43a06cd14405297b68": {
          "model_module": "@jupyter-widgets/base",
          "model_name": "LayoutModel",
          "model_module_version": "1.2.0",
          "state": {
            "_model_module": "@jupyter-widgets/base",
            "_model_module_version": "1.2.0",
            "_model_name": "LayoutModel",
            "_view_count": null,
            "_view_module": "@jupyter-widgets/base",
            "_view_module_version": "1.2.0",
            "_view_name": "LayoutView",
            "align_content": null,
            "align_items": null,
            "align_self": null,
            "border": null,
            "bottom": null,
            "display": null,
            "flex": null,
            "flex_flow": null,
            "grid_area": null,
            "grid_auto_columns": null,
            "grid_auto_flow": null,
            "grid_auto_rows": null,
            "grid_column": null,
            "grid_gap": null,
            "grid_row": null,
            "grid_template_areas": null,
            "grid_template_columns": null,
            "grid_template_rows": null,
            "height": null,
            "justify_content": null,
            "justify_items": null,
            "left": null,
            "margin": null,
            "max_height": null,
            "max_width": null,
            "min_height": null,
            "min_width": null,
            "object_fit": null,
            "object_position": null,
            "order": null,
            "overflow": null,
            "overflow_x": null,
            "overflow_y": null,
            "padding": null,
            "right": null,
            "top": null,
            "visibility": null,
            "width": null
          }
        },
        "f16c345db8d8449c99fde2919932a52e": {
          "model_module": "@jupyter-widgets/controls",
          "model_name": "DescriptionStyleModel",
          "model_module_version": "1.5.0",
          "state": {
            "_model_module": "@jupyter-widgets/controls",
            "_model_module_version": "1.5.0",
            "_model_name": "DescriptionStyleModel",
            "_view_count": null,
            "_view_module": "@jupyter-widgets/base",
            "_view_module_version": "1.2.0",
            "_view_name": "StyleView",
            "description_width": ""
          }
        },
        "449e017ca4d24727b50b35b60d5ff271": {
          "model_module": "@jupyter-widgets/controls",
          "model_name": "HBoxModel",
          "model_module_version": "1.5.0",
          "state": {
            "_dom_classes": [],
            "_model_module": "@jupyter-widgets/controls",
            "_model_module_version": "1.5.0",
            "_model_name": "HBoxModel",
            "_view_count": null,
            "_view_module": "@jupyter-widgets/controls",
            "_view_module_version": "1.5.0",
            "_view_name": "HBoxView",
            "box_style": "",
            "children": [
              "IPY_MODEL_749b62f73799412da4ed6df1ef1f4142",
              "IPY_MODEL_1c5840e067844daab32173efc4a2acc9",
              "IPY_MODEL_d620d7fe86a249139a90f01ea55eec4c"
            ],
            "layout": "IPY_MODEL_59f5528355a94f13a43f201af86d14da"
          }
        },
        "749b62f73799412da4ed6df1ef1f4142": {
          "model_module": "@jupyter-widgets/controls",
          "model_name": "HTMLModel",
          "model_module_version": "1.5.0",
          "state": {
            "_dom_classes": [],
            "_model_module": "@jupyter-widgets/controls",
            "_model_module_version": "1.5.0",
            "_model_name": "HTMLModel",
            "_view_count": null,
            "_view_module": "@jupyter-widgets/controls",
            "_view_module_version": "1.5.0",
            "_view_name": "HTMLView",
            "description": "",
            "description_tooltip": null,
            "layout": "IPY_MODEL_43734e048a924f928e83f6fcc9e5eca1",
            "placeholder": "​",
            "style": "IPY_MODEL_182fd28d1ea343759bace2c551eb6534",
            "value": "config_sentence_transformers.json: 100%"
          }
        },
        "1c5840e067844daab32173efc4a2acc9": {
          "model_module": "@jupyter-widgets/controls",
          "model_name": "FloatProgressModel",
          "model_module_version": "1.5.0",
          "state": {
            "_dom_classes": [],
            "_model_module": "@jupyter-widgets/controls",
            "_model_module_version": "1.5.0",
            "_model_name": "FloatProgressModel",
            "_view_count": null,
            "_view_module": "@jupyter-widgets/controls",
            "_view_module_version": "1.5.0",
            "_view_name": "ProgressView",
            "bar_style": "success",
            "description": "",
            "description_tooltip": null,
            "layout": "IPY_MODEL_1b33a805fb2e46559412defe0db909a1",
            "max": 116,
            "min": 0,
            "orientation": "horizontal",
            "style": "IPY_MODEL_f332857614f54a27aa1e0a17ce9bf014",
            "value": 116
          }
        },
        "d620d7fe86a249139a90f01ea55eec4c": {
          "model_module": "@jupyter-widgets/controls",
          "model_name": "HTMLModel",
          "model_module_version": "1.5.0",
          "state": {
            "_dom_classes": [],
            "_model_module": "@jupyter-widgets/controls",
            "_model_module_version": "1.5.0",
            "_model_name": "HTMLModel",
            "_view_count": null,
            "_view_module": "@jupyter-widgets/controls",
            "_view_module_version": "1.5.0",
            "_view_name": "HTMLView",
            "description": "",
            "description_tooltip": null,
            "layout": "IPY_MODEL_994946bf77294db8a37f90f9590f50c3",
            "placeholder": "​",
            "style": "IPY_MODEL_9ab715d48acb4751aa19292ce1315da4",
            "value": " 116/116 [00:00&lt;00:00, 1.21kB/s]"
          }
        },
        "59f5528355a94f13a43f201af86d14da": {
          "model_module": "@jupyter-widgets/base",
          "model_name": "LayoutModel",
          "model_module_version": "1.2.0",
          "state": {
            "_model_module": "@jupyter-widgets/base",
            "_model_module_version": "1.2.0",
            "_model_name": "LayoutModel",
            "_view_count": null,
            "_view_module": "@jupyter-widgets/base",
            "_view_module_version": "1.2.0",
            "_view_name": "LayoutView",
            "align_content": null,
            "align_items": null,
            "align_self": null,
            "border": null,
            "bottom": null,
            "display": null,
            "flex": null,
            "flex_flow": null,
            "grid_area": null,
            "grid_auto_columns": null,
            "grid_auto_flow": null,
            "grid_auto_rows": null,
            "grid_column": null,
            "grid_gap": null,
            "grid_row": null,
            "grid_template_areas": null,
            "grid_template_columns": null,
            "grid_template_rows": null,
            "height": null,
            "justify_content": null,
            "justify_items": null,
            "left": null,
            "margin": null,
            "max_height": null,
            "max_width": null,
            "min_height": null,
            "min_width": null,
            "object_fit": null,
            "object_position": null,
            "order": null,
            "overflow": null,
            "overflow_x": null,
            "overflow_y": null,
            "padding": null,
            "right": null,
            "top": null,
            "visibility": null,
            "width": null
          }
        },
        "43734e048a924f928e83f6fcc9e5eca1": {
          "model_module": "@jupyter-widgets/base",
          "model_name": "LayoutModel",
          "model_module_version": "1.2.0",
          "state": {
            "_model_module": "@jupyter-widgets/base",
            "_model_module_version": "1.2.0",
            "_model_name": "LayoutModel",
            "_view_count": null,
            "_view_module": "@jupyter-widgets/base",
            "_view_module_version": "1.2.0",
            "_view_name": "LayoutView",
            "align_content": null,
            "align_items": null,
            "align_self": null,
            "border": null,
            "bottom": null,
            "display": null,
            "flex": null,
            "flex_flow": null,
            "grid_area": null,
            "grid_auto_columns": null,
            "grid_auto_flow": null,
            "grid_auto_rows": null,
            "grid_column": null,
            "grid_gap": null,
            "grid_row": null,
            "grid_template_areas": null,
            "grid_template_columns": null,
            "grid_template_rows": null,
            "height": null,
            "justify_content": null,
            "justify_items": null,
            "left": null,
            "margin": null,
            "max_height": null,
            "max_width": null,
            "min_height": null,
            "min_width": null,
            "object_fit": null,
            "object_position": null,
            "order": null,
            "overflow": null,
            "overflow_x": null,
            "overflow_y": null,
            "padding": null,
            "right": null,
            "top": null,
            "visibility": null,
            "width": null
          }
        },
        "182fd28d1ea343759bace2c551eb6534": {
          "model_module": "@jupyter-widgets/controls",
          "model_name": "DescriptionStyleModel",
          "model_module_version": "1.5.0",
          "state": {
            "_model_module": "@jupyter-widgets/controls",
            "_model_module_version": "1.5.0",
            "_model_name": "DescriptionStyleModel",
            "_view_count": null,
            "_view_module": "@jupyter-widgets/base",
            "_view_module_version": "1.2.0",
            "_view_name": "StyleView",
            "description_width": ""
          }
        },
        "1b33a805fb2e46559412defe0db909a1": {
          "model_module": "@jupyter-widgets/base",
          "model_name": "LayoutModel",
          "model_module_version": "1.2.0",
          "state": {
            "_model_module": "@jupyter-widgets/base",
            "_model_module_version": "1.2.0",
            "_model_name": "LayoutModel",
            "_view_count": null,
            "_view_module": "@jupyter-widgets/base",
            "_view_module_version": "1.2.0",
            "_view_name": "LayoutView",
            "align_content": null,
            "align_items": null,
            "align_self": null,
            "border": null,
            "bottom": null,
            "display": null,
            "flex": null,
            "flex_flow": null,
            "grid_area": null,
            "grid_auto_columns": null,
            "grid_auto_flow": null,
            "grid_auto_rows": null,
            "grid_column": null,
            "grid_gap": null,
            "grid_row": null,
            "grid_template_areas": null,
            "grid_template_columns": null,
            "grid_template_rows": null,
            "height": null,
            "justify_content": null,
            "justify_items": null,
            "left": null,
            "margin": null,
            "max_height": null,
            "max_width": null,
            "min_height": null,
            "min_width": null,
            "object_fit": null,
            "object_position": null,
            "order": null,
            "overflow": null,
            "overflow_x": null,
            "overflow_y": null,
            "padding": null,
            "right": null,
            "top": null,
            "visibility": null,
            "width": null
          }
        },
        "f332857614f54a27aa1e0a17ce9bf014": {
          "model_module": "@jupyter-widgets/controls",
          "model_name": "ProgressStyleModel",
          "model_module_version": "1.5.0",
          "state": {
            "_model_module": "@jupyter-widgets/controls",
            "_model_module_version": "1.5.0",
            "_model_name": "ProgressStyleModel",
            "_view_count": null,
            "_view_module": "@jupyter-widgets/base",
            "_view_module_version": "1.2.0",
            "_view_name": "StyleView",
            "bar_color": null,
            "description_width": ""
          }
        },
        "994946bf77294db8a37f90f9590f50c3": {
          "model_module": "@jupyter-widgets/base",
          "model_name": "LayoutModel",
          "model_module_version": "1.2.0",
          "state": {
            "_model_module": "@jupyter-widgets/base",
            "_model_module_version": "1.2.0",
            "_model_name": "LayoutModel",
            "_view_count": null,
            "_view_module": "@jupyter-widgets/base",
            "_view_module_version": "1.2.0",
            "_view_name": "LayoutView",
            "align_content": null,
            "align_items": null,
            "align_self": null,
            "border": null,
            "bottom": null,
            "display": null,
            "flex": null,
            "flex_flow": null,
            "grid_area": null,
            "grid_auto_columns": null,
            "grid_auto_flow": null,
            "grid_auto_rows": null,
            "grid_column": null,
            "grid_gap": null,
            "grid_row": null,
            "grid_template_areas": null,
            "grid_template_columns": null,
            "grid_template_rows": null,
            "height": null,
            "justify_content": null,
            "justify_items": null,
            "left": null,
            "margin": null,
            "max_height": null,
            "max_width": null,
            "min_height": null,
            "min_width": null,
            "object_fit": null,
            "object_position": null,
            "order": null,
            "overflow": null,
            "overflow_x": null,
            "overflow_y": null,
            "padding": null,
            "right": null,
            "top": null,
            "visibility": null,
            "width": null
          }
        },
        "9ab715d48acb4751aa19292ce1315da4": {
          "model_module": "@jupyter-widgets/controls",
          "model_name": "DescriptionStyleModel",
          "model_module_version": "1.5.0",
          "state": {
            "_model_module": "@jupyter-widgets/controls",
            "_model_module_version": "1.5.0",
            "_model_name": "DescriptionStyleModel",
            "_view_count": null,
            "_view_module": "@jupyter-widgets/base",
            "_view_module_version": "1.2.0",
            "_view_name": "StyleView",
            "description_width": ""
          }
        },
        "19c81e81ea774539b349a90cb57f7697": {
          "model_module": "@jupyter-widgets/controls",
          "model_name": "HBoxModel",
          "model_module_version": "1.5.0",
          "state": {
            "_dom_classes": [],
            "_model_module": "@jupyter-widgets/controls",
            "_model_module_version": "1.5.0",
            "_model_name": "HBoxModel",
            "_view_count": null,
            "_view_module": "@jupyter-widgets/controls",
            "_view_module_version": "1.5.0",
            "_view_name": "HBoxView",
            "box_style": "",
            "children": [
              "IPY_MODEL_7348df49b7664f4994e26f3e04e25163",
              "IPY_MODEL_a5f5559c250f427cbc1c5e1275bbf1bd",
              "IPY_MODEL_5f5c9a1cb8144c58968c59b1e407ee07"
            ],
            "layout": "IPY_MODEL_d1fc61387c8e4dc480453196ac7192bc"
          }
        },
        "7348df49b7664f4994e26f3e04e25163": {
          "model_module": "@jupyter-widgets/controls",
          "model_name": "HTMLModel",
          "model_module_version": "1.5.0",
          "state": {
            "_dom_classes": [],
            "_model_module": "@jupyter-widgets/controls",
            "_model_module_version": "1.5.0",
            "_model_name": "HTMLModel",
            "_view_count": null,
            "_view_module": "@jupyter-widgets/controls",
            "_view_module_version": "1.5.0",
            "_view_name": "HTMLView",
            "description": "",
            "description_tooltip": null,
            "layout": "IPY_MODEL_b5e0271d094a42fb9cc634e5d269420d",
            "placeholder": "​",
            "style": "IPY_MODEL_9d7510d0bb634f4fbb7b55e4aa8acb93",
            "value": "README.md: 100%"
          }
        },
        "a5f5559c250f427cbc1c5e1275bbf1bd": {
          "model_module": "@jupyter-widgets/controls",
          "model_name": "FloatProgressModel",
          "model_module_version": "1.5.0",
          "state": {
            "_dom_classes": [],
            "_model_module": "@jupyter-widgets/controls",
            "_model_module_version": "1.5.0",
            "_model_name": "FloatProgressModel",
            "_view_count": null,
            "_view_module": "@jupyter-widgets/controls",
            "_view_module_version": "1.5.0",
            "_view_name": "ProgressView",
            "bar_style": "success",
            "description": "",
            "description_tooltip": null,
            "layout": "IPY_MODEL_3c2bdead766f4bcabf8e4cec272c6c25",
            "max": 10621,
            "min": 0,
            "orientation": "horizontal",
            "style": "IPY_MODEL_05471bfddd0d43db96fbe17754c027eb",
            "value": 10621
          }
        },
        "5f5c9a1cb8144c58968c59b1e407ee07": {
          "model_module": "@jupyter-widgets/controls",
          "model_name": "HTMLModel",
          "model_module_version": "1.5.0",
          "state": {
            "_dom_classes": [],
            "_model_module": "@jupyter-widgets/controls",
            "_model_module_version": "1.5.0",
            "_model_name": "HTMLModel",
            "_view_count": null,
            "_view_module": "@jupyter-widgets/controls",
            "_view_module_version": "1.5.0",
            "_view_name": "HTMLView",
            "description": "",
            "description_tooltip": null,
            "layout": "IPY_MODEL_01afbe84e34749e38d5544b5ce84688c",
            "placeholder": "​",
            "style": "IPY_MODEL_fb7655f679474bd1b5e5a75574d4123e",
            "value": " 10.6k/10.6k [00:00&lt;00:00, 263kB/s]"
          }
        },
        "d1fc61387c8e4dc480453196ac7192bc": {
          "model_module": "@jupyter-widgets/base",
          "model_name": "LayoutModel",
          "model_module_version": "1.2.0",
          "state": {
            "_model_module": "@jupyter-widgets/base",
            "_model_module_version": "1.2.0",
            "_model_name": "LayoutModel",
            "_view_count": null,
            "_view_module": "@jupyter-widgets/base",
            "_view_module_version": "1.2.0",
            "_view_name": "LayoutView",
            "align_content": null,
            "align_items": null,
            "align_self": null,
            "border": null,
            "bottom": null,
            "display": null,
            "flex": null,
            "flex_flow": null,
            "grid_area": null,
            "grid_auto_columns": null,
            "grid_auto_flow": null,
            "grid_auto_rows": null,
            "grid_column": null,
            "grid_gap": null,
            "grid_row": null,
            "grid_template_areas": null,
            "grid_template_columns": null,
            "grid_template_rows": null,
            "height": null,
            "justify_content": null,
            "justify_items": null,
            "left": null,
            "margin": null,
            "max_height": null,
            "max_width": null,
            "min_height": null,
            "min_width": null,
            "object_fit": null,
            "object_position": null,
            "order": null,
            "overflow": null,
            "overflow_x": null,
            "overflow_y": null,
            "padding": null,
            "right": null,
            "top": null,
            "visibility": null,
            "width": null
          }
        },
        "b5e0271d094a42fb9cc634e5d269420d": {
          "model_module": "@jupyter-widgets/base",
          "model_name": "LayoutModel",
          "model_module_version": "1.2.0",
          "state": {
            "_model_module": "@jupyter-widgets/base",
            "_model_module_version": "1.2.0",
            "_model_name": "LayoutModel",
            "_view_count": null,
            "_view_module": "@jupyter-widgets/base",
            "_view_module_version": "1.2.0",
            "_view_name": "LayoutView",
            "align_content": null,
            "align_items": null,
            "align_self": null,
            "border": null,
            "bottom": null,
            "display": null,
            "flex": null,
            "flex_flow": null,
            "grid_area": null,
            "grid_auto_columns": null,
            "grid_auto_flow": null,
            "grid_auto_rows": null,
            "grid_column": null,
            "grid_gap": null,
            "grid_row": null,
            "grid_template_areas": null,
            "grid_template_columns": null,
            "grid_template_rows": null,
            "height": null,
            "justify_content": null,
            "justify_items": null,
            "left": null,
            "margin": null,
            "max_height": null,
            "max_width": null,
            "min_height": null,
            "min_width": null,
            "object_fit": null,
            "object_position": null,
            "order": null,
            "overflow": null,
            "overflow_x": null,
            "overflow_y": null,
            "padding": null,
            "right": null,
            "top": null,
            "visibility": null,
            "width": null
          }
        },
        "9d7510d0bb634f4fbb7b55e4aa8acb93": {
          "model_module": "@jupyter-widgets/controls",
          "model_name": "DescriptionStyleModel",
          "model_module_version": "1.5.0",
          "state": {
            "_model_module": "@jupyter-widgets/controls",
            "_model_module_version": "1.5.0",
            "_model_name": "DescriptionStyleModel",
            "_view_count": null,
            "_view_module": "@jupyter-widgets/base",
            "_view_module_version": "1.2.0",
            "_view_name": "StyleView",
            "description_width": ""
          }
        },
        "3c2bdead766f4bcabf8e4cec272c6c25": {
          "model_module": "@jupyter-widgets/base",
          "model_name": "LayoutModel",
          "model_module_version": "1.2.0",
          "state": {
            "_model_module": "@jupyter-widgets/base",
            "_model_module_version": "1.2.0",
            "_model_name": "LayoutModel",
            "_view_count": null,
            "_view_module": "@jupyter-widgets/base",
            "_view_module_version": "1.2.0",
            "_view_name": "LayoutView",
            "align_content": null,
            "align_items": null,
            "align_self": null,
            "border": null,
            "bottom": null,
            "display": null,
            "flex": null,
            "flex_flow": null,
            "grid_area": null,
            "grid_auto_columns": null,
            "grid_auto_flow": null,
            "grid_auto_rows": null,
            "grid_column": null,
            "grid_gap": null,
            "grid_row": null,
            "grid_template_areas": null,
            "grid_template_columns": null,
            "grid_template_rows": null,
            "height": null,
            "justify_content": null,
            "justify_items": null,
            "left": null,
            "margin": null,
            "max_height": null,
            "max_width": null,
            "min_height": null,
            "min_width": null,
            "object_fit": null,
            "object_position": null,
            "order": null,
            "overflow": null,
            "overflow_x": null,
            "overflow_y": null,
            "padding": null,
            "right": null,
            "top": null,
            "visibility": null,
            "width": null
          }
        },
        "05471bfddd0d43db96fbe17754c027eb": {
          "model_module": "@jupyter-widgets/controls",
          "model_name": "ProgressStyleModel",
          "model_module_version": "1.5.0",
          "state": {
            "_model_module": "@jupyter-widgets/controls",
            "_model_module_version": "1.5.0",
            "_model_name": "ProgressStyleModel",
            "_view_count": null,
            "_view_module": "@jupyter-widgets/base",
            "_view_module_version": "1.2.0",
            "_view_name": "StyleView",
            "bar_color": null,
            "description_width": ""
          }
        },
        "01afbe84e34749e38d5544b5ce84688c": {
          "model_module": "@jupyter-widgets/base",
          "model_name": "LayoutModel",
          "model_module_version": "1.2.0",
          "state": {
            "_model_module": "@jupyter-widgets/base",
            "_model_module_version": "1.2.0",
            "_model_name": "LayoutModel",
            "_view_count": null,
            "_view_module": "@jupyter-widgets/base",
            "_view_module_version": "1.2.0",
            "_view_name": "LayoutView",
            "align_content": null,
            "align_items": null,
            "align_self": null,
            "border": null,
            "bottom": null,
            "display": null,
            "flex": null,
            "flex_flow": null,
            "grid_area": null,
            "grid_auto_columns": null,
            "grid_auto_flow": null,
            "grid_auto_rows": null,
            "grid_column": null,
            "grid_gap": null,
            "grid_row": null,
            "grid_template_areas": null,
            "grid_template_columns": null,
            "grid_template_rows": null,
            "height": null,
            "justify_content": null,
            "justify_items": null,
            "left": null,
            "margin": null,
            "max_height": null,
            "max_width": null,
            "min_height": null,
            "min_width": null,
            "object_fit": null,
            "object_position": null,
            "order": null,
            "overflow": null,
            "overflow_x": null,
            "overflow_y": null,
            "padding": null,
            "right": null,
            "top": null,
            "visibility": null,
            "width": null
          }
        },
        "fb7655f679474bd1b5e5a75574d4123e": {
          "model_module": "@jupyter-widgets/controls",
          "model_name": "DescriptionStyleModel",
          "model_module_version": "1.5.0",
          "state": {
            "_model_module": "@jupyter-widgets/controls",
            "_model_module_version": "1.5.0",
            "_model_name": "DescriptionStyleModel",
            "_view_count": null,
            "_view_module": "@jupyter-widgets/base",
            "_view_module_version": "1.2.0",
            "_view_name": "StyleView",
            "description_width": ""
          }
        },
        "a5ce60e4d41745d7b499dead102ac22d": {
          "model_module": "@jupyter-widgets/controls",
          "model_name": "HBoxModel",
          "model_module_version": "1.5.0",
          "state": {
            "_dom_classes": [],
            "_model_module": "@jupyter-widgets/controls",
            "_model_module_version": "1.5.0",
            "_model_name": "HBoxModel",
            "_view_count": null,
            "_view_module": "@jupyter-widgets/controls",
            "_view_module_version": "1.5.0",
            "_view_name": "HBoxView",
            "box_style": "",
            "children": [
              "IPY_MODEL_643c897bccdf4971a05bdb4be282dcae",
              "IPY_MODEL_6dc074a9d9f842efab555d4295d8f245",
              "IPY_MODEL_73864e31fa2c4a2a9129304fa7f74a92"
            ],
            "layout": "IPY_MODEL_4201fde29d9542c2ad193baed40ccc71"
          }
        },
        "643c897bccdf4971a05bdb4be282dcae": {
          "model_module": "@jupyter-widgets/controls",
          "model_name": "HTMLModel",
          "model_module_version": "1.5.0",
          "state": {
            "_dom_classes": [],
            "_model_module": "@jupyter-widgets/controls",
            "_model_module_version": "1.5.0",
            "_model_name": "HTMLModel",
            "_view_count": null,
            "_view_module": "@jupyter-widgets/controls",
            "_view_module_version": "1.5.0",
            "_view_name": "HTMLView",
            "description": "",
            "description_tooltip": null,
            "layout": "IPY_MODEL_adf5bed186c84865ad37607121c693df",
            "placeholder": "​",
            "style": "IPY_MODEL_e9b328cc118841a7becc1abcde8d3ad8",
            "value": "sentence_bert_config.json: 100%"
          }
        },
        "6dc074a9d9f842efab555d4295d8f245": {
          "model_module": "@jupyter-widgets/controls",
          "model_name": "FloatProgressModel",
          "model_module_version": "1.5.0",
          "state": {
            "_dom_classes": [],
            "_model_module": "@jupyter-widgets/controls",
            "_model_module_version": "1.5.0",
            "_model_name": "FloatProgressModel",
            "_view_count": null,
            "_view_module": "@jupyter-widgets/controls",
            "_view_module_version": "1.5.0",
            "_view_name": "ProgressView",
            "bar_style": "success",
            "description": "",
            "description_tooltip": null,
            "layout": "IPY_MODEL_9b7711615d5f472fad80b8b18a752ff4",
            "max": 53,
            "min": 0,
            "orientation": "horizontal",
            "style": "IPY_MODEL_962ad0c3174046eaa6038b655e3e0b2e",
            "value": 53
          }
        },
        "73864e31fa2c4a2a9129304fa7f74a92": {
          "model_module": "@jupyter-widgets/controls",
          "model_name": "HTMLModel",
          "model_module_version": "1.5.0",
          "state": {
            "_dom_classes": [],
            "_model_module": "@jupyter-widgets/controls",
            "_model_module_version": "1.5.0",
            "_model_name": "HTMLModel",
            "_view_count": null,
            "_view_module": "@jupyter-widgets/controls",
            "_view_module_version": "1.5.0",
            "_view_name": "HTMLView",
            "description": "",
            "description_tooltip": null,
            "layout": "IPY_MODEL_8c73a01b799b42c59423731dc774c32e",
            "placeholder": "​",
            "style": "IPY_MODEL_ec821f6b795a41cabffef62c886c85ca",
            "value": " 53.0/53.0 [00:00&lt;00:00, 2.21kB/s]"
          }
        },
        "4201fde29d9542c2ad193baed40ccc71": {
          "model_module": "@jupyter-widgets/base",
          "model_name": "LayoutModel",
          "model_module_version": "1.2.0",
          "state": {
            "_model_module": "@jupyter-widgets/base",
            "_model_module_version": "1.2.0",
            "_model_name": "LayoutModel",
            "_view_count": null,
            "_view_module": "@jupyter-widgets/base",
            "_view_module_version": "1.2.0",
            "_view_name": "LayoutView",
            "align_content": null,
            "align_items": null,
            "align_self": null,
            "border": null,
            "bottom": null,
            "display": null,
            "flex": null,
            "flex_flow": null,
            "grid_area": null,
            "grid_auto_columns": null,
            "grid_auto_flow": null,
            "grid_auto_rows": null,
            "grid_column": null,
            "grid_gap": null,
            "grid_row": null,
            "grid_template_areas": null,
            "grid_template_columns": null,
            "grid_template_rows": null,
            "height": null,
            "justify_content": null,
            "justify_items": null,
            "left": null,
            "margin": null,
            "max_height": null,
            "max_width": null,
            "min_height": null,
            "min_width": null,
            "object_fit": null,
            "object_position": null,
            "order": null,
            "overflow": null,
            "overflow_x": null,
            "overflow_y": null,
            "padding": null,
            "right": null,
            "top": null,
            "visibility": null,
            "width": null
          }
        },
        "adf5bed186c84865ad37607121c693df": {
          "model_module": "@jupyter-widgets/base",
          "model_name": "LayoutModel",
          "model_module_version": "1.2.0",
          "state": {
            "_model_module": "@jupyter-widgets/base",
            "_model_module_version": "1.2.0",
            "_model_name": "LayoutModel",
            "_view_count": null,
            "_view_module": "@jupyter-widgets/base",
            "_view_module_version": "1.2.0",
            "_view_name": "LayoutView",
            "align_content": null,
            "align_items": null,
            "align_self": null,
            "border": null,
            "bottom": null,
            "display": null,
            "flex": null,
            "flex_flow": null,
            "grid_area": null,
            "grid_auto_columns": null,
            "grid_auto_flow": null,
            "grid_auto_rows": null,
            "grid_column": null,
            "grid_gap": null,
            "grid_row": null,
            "grid_template_areas": null,
            "grid_template_columns": null,
            "grid_template_rows": null,
            "height": null,
            "justify_content": null,
            "justify_items": null,
            "left": null,
            "margin": null,
            "max_height": null,
            "max_width": null,
            "min_height": null,
            "min_width": null,
            "object_fit": null,
            "object_position": null,
            "order": null,
            "overflow": null,
            "overflow_x": null,
            "overflow_y": null,
            "padding": null,
            "right": null,
            "top": null,
            "visibility": null,
            "width": null
          }
        },
        "e9b328cc118841a7becc1abcde8d3ad8": {
          "model_module": "@jupyter-widgets/controls",
          "model_name": "DescriptionStyleModel",
          "model_module_version": "1.5.0",
          "state": {
            "_model_module": "@jupyter-widgets/controls",
            "_model_module_version": "1.5.0",
            "_model_name": "DescriptionStyleModel",
            "_view_count": null,
            "_view_module": "@jupyter-widgets/base",
            "_view_module_version": "1.2.0",
            "_view_name": "StyleView",
            "description_width": ""
          }
        },
        "9b7711615d5f472fad80b8b18a752ff4": {
          "model_module": "@jupyter-widgets/base",
          "model_name": "LayoutModel",
          "model_module_version": "1.2.0",
          "state": {
            "_model_module": "@jupyter-widgets/base",
            "_model_module_version": "1.2.0",
            "_model_name": "LayoutModel",
            "_view_count": null,
            "_view_module": "@jupyter-widgets/base",
            "_view_module_version": "1.2.0",
            "_view_name": "LayoutView",
            "align_content": null,
            "align_items": null,
            "align_self": null,
            "border": null,
            "bottom": null,
            "display": null,
            "flex": null,
            "flex_flow": null,
            "grid_area": null,
            "grid_auto_columns": null,
            "grid_auto_flow": null,
            "grid_auto_rows": null,
            "grid_column": null,
            "grid_gap": null,
            "grid_row": null,
            "grid_template_areas": null,
            "grid_template_columns": null,
            "grid_template_rows": null,
            "height": null,
            "justify_content": null,
            "justify_items": null,
            "left": null,
            "margin": null,
            "max_height": null,
            "max_width": null,
            "min_height": null,
            "min_width": null,
            "object_fit": null,
            "object_position": null,
            "order": null,
            "overflow": null,
            "overflow_x": null,
            "overflow_y": null,
            "padding": null,
            "right": null,
            "top": null,
            "visibility": null,
            "width": null
          }
        },
        "962ad0c3174046eaa6038b655e3e0b2e": {
          "model_module": "@jupyter-widgets/controls",
          "model_name": "ProgressStyleModel",
          "model_module_version": "1.5.0",
          "state": {
            "_model_module": "@jupyter-widgets/controls",
            "_model_module_version": "1.5.0",
            "_model_name": "ProgressStyleModel",
            "_view_count": null,
            "_view_module": "@jupyter-widgets/base",
            "_view_module_version": "1.2.0",
            "_view_name": "StyleView",
            "bar_color": null,
            "description_width": ""
          }
        },
        "8c73a01b799b42c59423731dc774c32e": {
          "model_module": "@jupyter-widgets/base",
          "model_name": "LayoutModel",
          "model_module_version": "1.2.0",
          "state": {
            "_model_module": "@jupyter-widgets/base",
            "_model_module_version": "1.2.0",
            "_model_name": "LayoutModel",
            "_view_count": null,
            "_view_module": "@jupyter-widgets/base",
            "_view_module_version": "1.2.0",
            "_view_name": "LayoutView",
            "align_content": null,
            "align_items": null,
            "align_self": null,
            "border": null,
            "bottom": null,
            "display": null,
            "flex": null,
            "flex_flow": null,
            "grid_area": null,
            "grid_auto_columns": null,
            "grid_auto_flow": null,
            "grid_auto_rows": null,
            "grid_column": null,
            "grid_gap": null,
            "grid_row": null,
            "grid_template_areas": null,
            "grid_template_columns": null,
            "grid_template_rows": null,
            "height": null,
            "justify_content": null,
            "justify_items": null,
            "left": null,
            "margin": null,
            "max_height": null,
            "max_width": null,
            "min_height": null,
            "min_width": null,
            "object_fit": null,
            "object_position": null,
            "order": null,
            "overflow": null,
            "overflow_x": null,
            "overflow_y": null,
            "padding": null,
            "right": null,
            "top": null,
            "visibility": null,
            "width": null
          }
        },
        "ec821f6b795a41cabffef62c886c85ca": {
          "model_module": "@jupyter-widgets/controls",
          "model_name": "DescriptionStyleModel",
          "model_module_version": "1.5.0",
          "state": {
            "_model_module": "@jupyter-widgets/controls",
            "_model_module_version": "1.5.0",
            "_model_name": "DescriptionStyleModel",
            "_view_count": null,
            "_view_module": "@jupyter-widgets/base",
            "_view_module_version": "1.2.0",
            "_view_name": "StyleView",
            "description_width": ""
          }
        },
        "b1f40ae4270b4624bbfc546c287bc4b4": {
          "model_module": "@jupyter-widgets/controls",
          "model_name": "HBoxModel",
          "model_module_version": "1.5.0",
          "state": {
            "_dom_classes": [],
            "_model_module": "@jupyter-widgets/controls",
            "_model_module_version": "1.5.0",
            "_model_name": "HBoxModel",
            "_view_count": null,
            "_view_module": "@jupyter-widgets/controls",
            "_view_module_version": "1.5.0",
            "_view_name": "HBoxView",
            "box_style": "",
            "children": [
              "IPY_MODEL_0f1f9f4b046e4ab48465986f7af297c7",
              "IPY_MODEL_e77dc123cc6148179b1fb36e5ef3144a",
              "IPY_MODEL_1e9679dba55d4fd4b459d2efd5f36de1"
            ],
            "layout": "IPY_MODEL_4048a1e8a5b94465830dafbb7dc92095"
          }
        },
        "0f1f9f4b046e4ab48465986f7af297c7": {
          "model_module": "@jupyter-widgets/controls",
          "model_name": "HTMLModel",
          "model_module_version": "1.5.0",
          "state": {
            "_dom_classes": [],
            "_model_module": "@jupyter-widgets/controls",
            "_model_module_version": "1.5.0",
            "_model_name": "HTMLModel",
            "_view_count": null,
            "_view_module": "@jupyter-widgets/controls",
            "_view_module_version": "1.5.0",
            "_view_name": "HTMLView",
            "description": "",
            "description_tooltip": null,
            "layout": "IPY_MODEL_f900a0f948484cd997538728a4d1e1cf",
            "placeholder": "​",
            "style": "IPY_MODEL_e5c2fd6c7ce140e7b3c21a9e6b2d746e",
            "value": "config.json: 100%"
          }
        },
        "e77dc123cc6148179b1fb36e5ef3144a": {
          "model_module": "@jupyter-widgets/controls",
          "model_name": "FloatProgressModel",
          "model_module_version": "1.5.0",
          "state": {
            "_dom_classes": [],
            "_model_module": "@jupyter-widgets/controls",
            "_model_module_version": "1.5.0",
            "_model_name": "FloatProgressModel",
            "_view_count": null,
            "_view_module": "@jupyter-widgets/controls",
            "_view_module_version": "1.5.0",
            "_view_name": "ProgressView",
            "bar_style": "success",
            "description": "",
            "description_tooltip": null,
            "layout": "IPY_MODEL_ea8b08d166454783a3cd16d99ea8ef91",
            "max": 571,
            "min": 0,
            "orientation": "horizontal",
            "style": "IPY_MODEL_0d4dbf3560524fb89e6d00625a65aae2",
            "value": 571
          }
        },
        "1e9679dba55d4fd4b459d2efd5f36de1": {
          "model_module": "@jupyter-widgets/controls",
          "model_name": "HTMLModel",
          "model_module_version": "1.5.0",
          "state": {
            "_dom_classes": [],
            "_model_module": "@jupyter-widgets/controls",
            "_model_module_version": "1.5.0",
            "_model_name": "HTMLModel",
            "_view_count": null,
            "_view_module": "@jupyter-widgets/controls",
            "_view_module_version": "1.5.0",
            "_view_name": "HTMLView",
            "description": "",
            "description_tooltip": null,
            "layout": "IPY_MODEL_e9d9489a414c40aaa19de08c331932a5",
            "placeholder": "​",
            "style": "IPY_MODEL_d43a24e6ed10477d99aa0ecf8c68b897",
            "value": " 571/571 [00:00&lt;00:00, 21.8kB/s]"
          }
        },
        "4048a1e8a5b94465830dafbb7dc92095": {
          "model_module": "@jupyter-widgets/base",
          "model_name": "LayoutModel",
          "model_module_version": "1.2.0",
          "state": {
            "_model_module": "@jupyter-widgets/base",
            "_model_module_version": "1.2.0",
            "_model_name": "LayoutModel",
            "_view_count": null,
            "_view_module": "@jupyter-widgets/base",
            "_view_module_version": "1.2.0",
            "_view_name": "LayoutView",
            "align_content": null,
            "align_items": null,
            "align_self": null,
            "border": null,
            "bottom": null,
            "display": null,
            "flex": null,
            "flex_flow": null,
            "grid_area": null,
            "grid_auto_columns": null,
            "grid_auto_flow": null,
            "grid_auto_rows": null,
            "grid_column": null,
            "grid_gap": null,
            "grid_row": null,
            "grid_template_areas": null,
            "grid_template_columns": null,
            "grid_template_rows": null,
            "height": null,
            "justify_content": null,
            "justify_items": null,
            "left": null,
            "margin": null,
            "max_height": null,
            "max_width": null,
            "min_height": null,
            "min_width": null,
            "object_fit": null,
            "object_position": null,
            "order": null,
            "overflow": null,
            "overflow_x": null,
            "overflow_y": null,
            "padding": null,
            "right": null,
            "top": null,
            "visibility": null,
            "width": null
          }
        },
        "f900a0f948484cd997538728a4d1e1cf": {
          "model_module": "@jupyter-widgets/base",
          "model_name": "LayoutModel",
          "model_module_version": "1.2.0",
          "state": {
            "_model_module": "@jupyter-widgets/base",
            "_model_module_version": "1.2.0",
            "_model_name": "LayoutModel",
            "_view_count": null,
            "_view_module": "@jupyter-widgets/base",
            "_view_module_version": "1.2.0",
            "_view_name": "LayoutView",
            "align_content": null,
            "align_items": null,
            "align_self": null,
            "border": null,
            "bottom": null,
            "display": null,
            "flex": null,
            "flex_flow": null,
            "grid_area": null,
            "grid_auto_columns": null,
            "grid_auto_flow": null,
            "grid_auto_rows": null,
            "grid_column": null,
            "grid_gap": null,
            "grid_row": null,
            "grid_template_areas": null,
            "grid_template_columns": null,
            "grid_template_rows": null,
            "height": null,
            "justify_content": null,
            "justify_items": null,
            "left": null,
            "margin": null,
            "max_height": null,
            "max_width": null,
            "min_height": null,
            "min_width": null,
            "object_fit": null,
            "object_position": null,
            "order": null,
            "overflow": null,
            "overflow_x": null,
            "overflow_y": null,
            "padding": null,
            "right": null,
            "top": null,
            "visibility": null,
            "width": null
          }
        },
        "e5c2fd6c7ce140e7b3c21a9e6b2d746e": {
          "model_module": "@jupyter-widgets/controls",
          "model_name": "DescriptionStyleModel",
          "model_module_version": "1.5.0",
          "state": {
            "_model_module": "@jupyter-widgets/controls",
            "_model_module_version": "1.5.0",
            "_model_name": "DescriptionStyleModel",
            "_view_count": null,
            "_view_module": "@jupyter-widgets/base",
            "_view_module_version": "1.2.0",
            "_view_name": "StyleView",
            "description_width": ""
          }
        },
        "ea8b08d166454783a3cd16d99ea8ef91": {
          "model_module": "@jupyter-widgets/base",
          "model_name": "LayoutModel",
          "model_module_version": "1.2.0",
          "state": {
            "_model_module": "@jupyter-widgets/base",
            "_model_module_version": "1.2.0",
            "_model_name": "LayoutModel",
            "_view_count": null,
            "_view_module": "@jupyter-widgets/base",
            "_view_module_version": "1.2.0",
            "_view_name": "LayoutView",
            "align_content": null,
            "align_items": null,
            "align_self": null,
            "border": null,
            "bottom": null,
            "display": null,
            "flex": null,
            "flex_flow": null,
            "grid_area": null,
            "grid_auto_columns": null,
            "grid_auto_flow": null,
            "grid_auto_rows": null,
            "grid_column": null,
            "grid_gap": null,
            "grid_row": null,
            "grid_template_areas": null,
            "grid_template_columns": null,
            "grid_template_rows": null,
            "height": null,
            "justify_content": null,
            "justify_items": null,
            "left": null,
            "margin": null,
            "max_height": null,
            "max_width": null,
            "min_height": null,
            "min_width": null,
            "object_fit": null,
            "object_position": null,
            "order": null,
            "overflow": null,
            "overflow_x": null,
            "overflow_y": null,
            "padding": null,
            "right": null,
            "top": null,
            "visibility": null,
            "width": null
          }
        },
        "0d4dbf3560524fb89e6d00625a65aae2": {
          "model_module": "@jupyter-widgets/controls",
          "model_name": "ProgressStyleModel",
          "model_module_version": "1.5.0",
          "state": {
            "_model_module": "@jupyter-widgets/controls",
            "_model_module_version": "1.5.0",
            "_model_name": "ProgressStyleModel",
            "_view_count": null,
            "_view_module": "@jupyter-widgets/base",
            "_view_module_version": "1.2.0",
            "_view_name": "StyleView",
            "bar_color": null,
            "description_width": ""
          }
        },
        "e9d9489a414c40aaa19de08c331932a5": {
          "model_module": "@jupyter-widgets/base",
          "model_name": "LayoutModel",
          "model_module_version": "1.2.0",
          "state": {
            "_model_module": "@jupyter-widgets/base",
            "_model_module_version": "1.2.0",
            "_model_name": "LayoutModel",
            "_view_count": null,
            "_view_module": "@jupyter-widgets/base",
            "_view_module_version": "1.2.0",
            "_view_name": "LayoutView",
            "align_content": null,
            "align_items": null,
            "align_self": null,
            "border": null,
            "bottom": null,
            "display": null,
            "flex": null,
            "flex_flow": null,
            "grid_area": null,
            "grid_auto_columns": null,
            "grid_auto_flow": null,
            "grid_auto_rows": null,
            "grid_column": null,
            "grid_gap": null,
            "grid_row": null,
            "grid_template_areas": null,
            "grid_template_columns": null,
            "grid_template_rows": null,
            "height": null,
            "justify_content": null,
            "justify_items": null,
            "left": null,
            "margin": null,
            "max_height": null,
            "max_width": null,
            "min_height": null,
            "min_width": null,
            "object_fit": null,
            "object_position": null,
            "order": null,
            "overflow": null,
            "overflow_x": null,
            "overflow_y": null,
            "padding": null,
            "right": null,
            "top": null,
            "visibility": null,
            "width": null
          }
        },
        "d43a24e6ed10477d99aa0ecf8c68b897": {
          "model_module": "@jupyter-widgets/controls",
          "model_name": "DescriptionStyleModel",
          "model_module_version": "1.5.0",
          "state": {
            "_model_module": "@jupyter-widgets/controls",
            "_model_module_version": "1.5.0",
            "_model_name": "DescriptionStyleModel",
            "_view_count": null,
            "_view_module": "@jupyter-widgets/base",
            "_view_module_version": "1.2.0",
            "_view_name": "StyleView",
            "description_width": ""
          }
        },
        "7d76b77e04584590b2fbf17eb9c11eaa": {
          "model_module": "@jupyter-widgets/controls",
          "model_name": "HBoxModel",
          "model_module_version": "1.5.0",
          "state": {
            "_dom_classes": [],
            "_model_module": "@jupyter-widgets/controls",
            "_model_module_version": "1.5.0",
            "_model_name": "HBoxModel",
            "_view_count": null,
            "_view_module": "@jupyter-widgets/controls",
            "_view_module_version": "1.5.0",
            "_view_name": "HBoxView",
            "box_style": "",
            "children": [
              "IPY_MODEL_4d270a14e7e6471caa6bc37a3f5e1177",
              "IPY_MODEL_75cc3017db2c49399ab2b7d0e8e441c4",
              "IPY_MODEL_96c369292e2d42f1ba40163926b30938"
            ],
            "layout": "IPY_MODEL_c657e19230064726ba2872cef5d69e23"
          }
        },
        "4d270a14e7e6471caa6bc37a3f5e1177": {
          "model_module": "@jupyter-widgets/controls",
          "model_name": "HTMLModel",
          "model_module_version": "1.5.0",
          "state": {
            "_dom_classes": [],
            "_model_module": "@jupyter-widgets/controls",
            "_model_module_version": "1.5.0",
            "_model_name": "HTMLModel",
            "_view_count": null,
            "_view_module": "@jupyter-widgets/controls",
            "_view_module_version": "1.5.0",
            "_view_name": "HTMLView",
            "description": "",
            "description_tooltip": null,
            "layout": "IPY_MODEL_2e1657c4076644d6ad9af2d7c1fb9a67",
            "placeholder": "​",
            "style": "IPY_MODEL_c3fdc7e2dd0e480bb5f9c716b59245e4",
            "value": "model.safetensors: 100%"
          }
        },
        "75cc3017db2c49399ab2b7d0e8e441c4": {
          "model_module": "@jupyter-widgets/controls",
          "model_name": "FloatProgressModel",
          "model_module_version": "1.5.0",
          "state": {
            "_dom_classes": [],
            "_model_module": "@jupyter-widgets/controls",
            "_model_module_version": "1.5.0",
            "_model_name": "FloatProgressModel",
            "_view_count": null,
            "_view_module": "@jupyter-widgets/controls",
            "_view_module_version": "1.5.0",
            "_view_name": "ProgressView",
            "bar_style": "success",
            "description": "",
            "description_tooltip": null,
            "layout": "IPY_MODEL_5dfa34b7ebb84433af976766c2f3723e",
            "max": 437971872,
            "min": 0,
            "orientation": "horizontal",
            "style": "IPY_MODEL_d8f8eb15e87f4136a161c40864c58014",
            "value": 437971872
          }
        },
        "96c369292e2d42f1ba40163926b30938": {
          "model_module": "@jupyter-widgets/controls",
          "model_name": "HTMLModel",
          "model_module_version": "1.5.0",
          "state": {
            "_dom_classes": [],
            "_model_module": "@jupyter-widgets/controls",
            "_model_module_version": "1.5.0",
            "_model_name": "HTMLModel",
            "_view_count": null,
            "_view_module": "@jupyter-widgets/controls",
            "_view_module_version": "1.5.0",
            "_view_name": "HTMLView",
            "description": "",
            "description_tooltip": null,
            "layout": "IPY_MODEL_1f20223b30ab4c7b83e2373988d0a5e5",
            "placeholder": "​",
            "style": "IPY_MODEL_805524d199be4e2cb33defb7921da388",
            "value": " 438M/438M [00:04&lt;00:00, 37.5MB/s]"
          }
        },
        "c657e19230064726ba2872cef5d69e23": {
          "model_module": "@jupyter-widgets/base",
          "model_name": "LayoutModel",
          "model_module_version": "1.2.0",
          "state": {
            "_model_module": "@jupyter-widgets/base",
            "_model_module_version": "1.2.0",
            "_model_name": "LayoutModel",
            "_view_count": null,
            "_view_module": "@jupyter-widgets/base",
            "_view_module_version": "1.2.0",
            "_view_name": "LayoutView",
            "align_content": null,
            "align_items": null,
            "align_self": null,
            "border": null,
            "bottom": null,
            "display": null,
            "flex": null,
            "flex_flow": null,
            "grid_area": null,
            "grid_auto_columns": null,
            "grid_auto_flow": null,
            "grid_auto_rows": null,
            "grid_column": null,
            "grid_gap": null,
            "grid_row": null,
            "grid_template_areas": null,
            "grid_template_columns": null,
            "grid_template_rows": null,
            "height": null,
            "justify_content": null,
            "justify_items": null,
            "left": null,
            "margin": null,
            "max_height": null,
            "max_width": null,
            "min_height": null,
            "min_width": null,
            "object_fit": null,
            "object_position": null,
            "order": null,
            "overflow": null,
            "overflow_x": null,
            "overflow_y": null,
            "padding": null,
            "right": null,
            "top": null,
            "visibility": null,
            "width": null
          }
        },
        "2e1657c4076644d6ad9af2d7c1fb9a67": {
          "model_module": "@jupyter-widgets/base",
          "model_name": "LayoutModel",
          "model_module_version": "1.2.0",
          "state": {
            "_model_module": "@jupyter-widgets/base",
            "_model_module_version": "1.2.0",
            "_model_name": "LayoutModel",
            "_view_count": null,
            "_view_module": "@jupyter-widgets/base",
            "_view_module_version": "1.2.0",
            "_view_name": "LayoutView",
            "align_content": null,
            "align_items": null,
            "align_self": null,
            "border": null,
            "bottom": null,
            "display": null,
            "flex": null,
            "flex_flow": null,
            "grid_area": null,
            "grid_auto_columns": null,
            "grid_auto_flow": null,
            "grid_auto_rows": null,
            "grid_column": null,
            "grid_gap": null,
            "grid_row": null,
            "grid_template_areas": null,
            "grid_template_columns": null,
            "grid_template_rows": null,
            "height": null,
            "justify_content": null,
            "justify_items": null,
            "left": null,
            "margin": null,
            "max_height": null,
            "max_width": null,
            "min_height": null,
            "min_width": null,
            "object_fit": null,
            "object_position": null,
            "order": null,
            "overflow": null,
            "overflow_x": null,
            "overflow_y": null,
            "padding": null,
            "right": null,
            "top": null,
            "visibility": null,
            "width": null
          }
        },
        "c3fdc7e2dd0e480bb5f9c716b59245e4": {
          "model_module": "@jupyter-widgets/controls",
          "model_name": "DescriptionStyleModel",
          "model_module_version": "1.5.0",
          "state": {
            "_model_module": "@jupyter-widgets/controls",
            "_model_module_version": "1.5.0",
            "_model_name": "DescriptionStyleModel",
            "_view_count": null,
            "_view_module": "@jupyter-widgets/base",
            "_view_module_version": "1.2.0",
            "_view_name": "StyleView",
            "description_width": ""
          }
        },
        "5dfa34b7ebb84433af976766c2f3723e": {
          "model_module": "@jupyter-widgets/base",
          "model_name": "LayoutModel",
          "model_module_version": "1.2.0",
          "state": {
            "_model_module": "@jupyter-widgets/base",
            "_model_module_version": "1.2.0",
            "_model_name": "LayoutModel",
            "_view_count": null,
            "_view_module": "@jupyter-widgets/base",
            "_view_module_version": "1.2.0",
            "_view_name": "LayoutView",
            "align_content": null,
            "align_items": null,
            "align_self": null,
            "border": null,
            "bottom": null,
            "display": null,
            "flex": null,
            "flex_flow": null,
            "grid_area": null,
            "grid_auto_columns": null,
            "grid_auto_flow": null,
            "grid_auto_rows": null,
            "grid_column": null,
            "grid_gap": null,
            "grid_row": null,
            "grid_template_areas": null,
            "grid_template_columns": null,
            "grid_template_rows": null,
            "height": null,
            "justify_content": null,
            "justify_items": null,
            "left": null,
            "margin": null,
            "max_height": null,
            "max_width": null,
            "min_height": null,
            "min_width": null,
            "object_fit": null,
            "object_position": null,
            "order": null,
            "overflow": null,
            "overflow_x": null,
            "overflow_y": null,
            "padding": null,
            "right": null,
            "top": null,
            "visibility": null,
            "width": null
          }
        },
        "d8f8eb15e87f4136a161c40864c58014": {
          "model_module": "@jupyter-widgets/controls",
          "model_name": "ProgressStyleModel",
          "model_module_version": "1.5.0",
          "state": {
            "_model_module": "@jupyter-widgets/controls",
            "_model_module_version": "1.5.0",
            "_model_name": "ProgressStyleModel",
            "_view_count": null,
            "_view_module": "@jupyter-widgets/base",
            "_view_module_version": "1.2.0",
            "_view_name": "StyleView",
            "bar_color": null,
            "description_width": ""
          }
        },
        "1f20223b30ab4c7b83e2373988d0a5e5": {
          "model_module": "@jupyter-widgets/base",
          "model_name": "LayoutModel",
          "model_module_version": "1.2.0",
          "state": {
            "_model_module": "@jupyter-widgets/base",
            "_model_module_version": "1.2.0",
            "_model_name": "LayoutModel",
            "_view_count": null,
            "_view_module": "@jupyter-widgets/base",
            "_view_module_version": "1.2.0",
            "_view_name": "LayoutView",
            "align_content": null,
            "align_items": null,
            "align_self": null,
            "border": null,
            "bottom": null,
            "display": null,
            "flex": null,
            "flex_flow": null,
            "grid_area": null,
            "grid_auto_columns": null,
            "grid_auto_flow": null,
            "grid_auto_rows": null,
            "grid_column": null,
            "grid_gap": null,
            "grid_row": null,
            "grid_template_areas": null,
            "grid_template_columns": null,
            "grid_template_rows": null,
            "height": null,
            "justify_content": null,
            "justify_items": null,
            "left": null,
            "margin": null,
            "max_height": null,
            "max_width": null,
            "min_height": null,
            "min_width": null,
            "object_fit": null,
            "object_position": null,
            "order": null,
            "overflow": null,
            "overflow_x": null,
            "overflow_y": null,
            "padding": null,
            "right": null,
            "top": null,
            "visibility": null,
            "width": null
          }
        },
        "805524d199be4e2cb33defb7921da388": {
          "model_module": "@jupyter-widgets/controls",
          "model_name": "DescriptionStyleModel",
          "model_module_version": "1.5.0",
          "state": {
            "_model_module": "@jupyter-widgets/controls",
            "_model_module_version": "1.5.0",
            "_model_name": "DescriptionStyleModel",
            "_view_count": null,
            "_view_module": "@jupyter-widgets/base",
            "_view_module_version": "1.2.0",
            "_view_name": "StyleView",
            "description_width": ""
          }
        },
        "31b430d5a1fd4e1495ea5edc747de570": {
          "model_module": "@jupyter-widgets/controls",
          "model_name": "HBoxModel",
          "model_module_version": "1.5.0",
          "state": {
            "_dom_classes": [],
            "_model_module": "@jupyter-widgets/controls",
            "_model_module_version": "1.5.0",
            "_model_name": "HBoxModel",
            "_view_count": null,
            "_view_module": "@jupyter-widgets/controls",
            "_view_module_version": "1.5.0",
            "_view_name": "HBoxView",
            "box_style": "",
            "children": [
              "IPY_MODEL_b94512e094de47f1ae094c97d030b942",
              "IPY_MODEL_d4e98b9aa5df47a39ab9135c6e64bb6c",
              "IPY_MODEL_40de3b7bcce640f4ae9d2a7c326aa48a"
            ],
            "layout": "IPY_MODEL_f5a1cdaf8339427da2278454ce4a87a2"
          }
        },
        "b94512e094de47f1ae094c97d030b942": {
          "model_module": "@jupyter-widgets/controls",
          "model_name": "HTMLModel",
          "model_module_version": "1.5.0",
          "state": {
            "_dom_classes": [],
            "_model_module": "@jupyter-widgets/controls",
            "_model_module_version": "1.5.0",
            "_model_name": "HTMLModel",
            "_view_count": null,
            "_view_module": "@jupyter-widgets/controls",
            "_view_module_version": "1.5.0",
            "_view_name": "HTMLView",
            "description": "",
            "description_tooltip": null,
            "layout": "IPY_MODEL_1234f153095648279f5d209ececcbe4e",
            "placeholder": "​",
            "style": "IPY_MODEL_c0a9b6980cbc42468ca991f993bc68b9",
            "value": "tokenizer_config.json: 100%"
          }
        },
        "d4e98b9aa5df47a39ab9135c6e64bb6c": {
          "model_module": "@jupyter-widgets/controls",
          "model_name": "FloatProgressModel",
          "model_module_version": "1.5.0",
          "state": {
            "_dom_classes": [],
            "_model_module": "@jupyter-widgets/controls",
            "_model_module_version": "1.5.0",
            "_model_name": "FloatProgressModel",
            "_view_count": null,
            "_view_module": "@jupyter-widgets/controls",
            "_view_module_version": "1.5.0",
            "_view_name": "ProgressView",
            "bar_style": "success",
            "description": "",
            "description_tooltip": null,
            "layout": "IPY_MODEL_ffb1c627a77e4f52a13c2f13d9043e3e",
            "max": 363,
            "min": 0,
            "orientation": "horizontal",
            "style": "IPY_MODEL_e916a41157e042a4b0b1cf6b6269ee5b",
            "value": 363
          }
        },
        "40de3b7bcce640f4ae9d2a7c326aa48a": {
          "model_module": "@jupyter-widgets/controls",
          "model_name": "HTMLModel",
          "model_module_version": "1.5.0",
          "state": {
            "_dom_classes": [],
            "_model_module": "@jupyter-widgets/controls",
            "_model_module_version": "1.5.0",
            "_model_name": "HTMLModel",
            "_view_count": null,
            "_view_module": "@jupyter-widgets/controls",
            "_view_module_version": "1.5.0",
            "_view_name": "HTMLView",
            "description": "",
            "description_tooltip": null,
            "layout": "IPY_MODEL_5a9c1fab818d4604af9459020300bfab",
            "placeholder": "​",
            "style": "IPY_MODEL_feee99f97a544ea3a5efb92db7876bad",
            "value": " 363/363 [00:00&lt;00:00, 5.91kB/s]"
          }
        },
        "f5a1cdaf8339427da2278454ce4a87a2": {
          "model_module": "@jupyter-widgets/base",
          "model_name": "LayoutModel",
          "model_module_version": "1.2.0",
          "state": {
            "_model_module": "@jupyter-widgets/base",
            "_model_module_version": "1.2.0",
            "_model_name": "LayoutModel",
            "_view_count": null,
            "_view_module": "@jupyter-widgets/base",
            "_view_module_version": "1.2.0",
            "_view_name": "LayoutView",
            "align_content": null,
            "align_items": null,
            "align_self": null,
            "border": null,
            "bottom": null,
            "display": null,
            "flex": null,
            "flex_flow": null,
            "grid_area": null,
            "grid_auto_columns": null,
            "grid_auto_flow": null,
            "grid_auto_rows": null,
            "grid_column": null,
            "grid_gap": null,
            "grid_row": null,
            "grid_template_areas": null,
            "grid_template_columns": null,
            "grid_template_rows": null,
            "height": null,
            "justify_content": null,
            "justify_items": null,
            "left": null,
            "margin": null,
            "max_height": null,
            "max_width": null,
            "min_height": null,
            "min_width": null,
            "object_fit": null,
            "object_position": null,
            "order": null,
            "overflow": null,
            "overflow_x": null,
            "overflow_y": null,
            "padding": null,
            "right": null,
            "top": null,
            "visibility": null,
            "width": null
          }
        },
        "1234f153095648279f5d209ececcbe4e": {
          "model_module": "@jupyter-widgets/base",
          "model_name": "LayoutModel",
          "model_module_version": "1.2.0",
          "state": {
            "_model_module": "@jupyter-widgets/base",
            "_model_module_version": "1.2.0",
            "_model_name": "LayoutModel",
            "_view_count": null,
            "_view_module": "@jupyter-widgets/base",
            "_view_module_version": "1.2.0",
            "_view_name": "LayoutView",
            "align_content": null,
            "align_items": null,
            "align_self": null,
            "border": null,
            "bottom": null,
            "display": null,
            "flex": null,
            "flex_flow": null,
            "grid_area": null,
            "grid_auto_columns": null,
            "grid_auto_flow": null,
            "grid_auto_rows": null,
            "grid_column": null,
            "grid_gap": null,
            "grid_row": null,
            "grid_template_areas": null,
            "grid_template_columns": null,
            "grid_template_rows": null,
            "height": null,
            "justify_content": null,
            "justify_items": null,
            "left": null,
            "margin": null,
            "max_height": null,
            "max_width": null,
            "min_height": null,
            "min_width": null,
            "object_fit": null,
            "object_position": null,
            "order": null,
            "overflow": null,
            "overflow_x": null,
            "overflow_y": null,
            "padding": null,
            "right": null,
            "top": null,
            "visibility": null,
            "width": null
          }
        },
        "c0a9b6980cbc42468ca991f993bc68b9": {
          "model_module": "@jupyter-widgets/controls",
          "model_name": "DescriptionStyleModel",
          "model_module_version": "1.5.0",
          "state": {
            "_model_module": "@jupyter-widgets/controls",
            "_model_module_version": "1.5.0",
            "_model_name": "DescriptionStyleModel",
            "_view_count": null,
            "_view_module": "@jupyter-widgets/base",
            "_view_module_version": "1.2.0",
            "_view_name": "StyleView",
            "description_width": ""
          }
        },
        "ffb1c627a77e4f52a13c2f13d9043e3e": {
          "model_module": "@jupyter-widgets/base",
          "model_name": "LayoutModel",
          "model_module_version": "1.2.0",
          "state": {
            "_model_module": "@jupyter-widgets/base",
            "_model_module_version": "1.2.0",
            "_model_name": "LayoutModel",
            "_view_count": null,
            "_view_module": "@jupyter-widgets/base",
            "_view_module_version": "1.2.0",
            "_view_name": "LayoutView",
            "align_content": null,
            "align_items": null,
            "align_self": null,
            "border": null,
            "bottom": null,
            "display": null,
            "flex": null,
            "flex_flow": null,
            "grid_area": null,
            "grid_auto_columns": null,
            "grid_auto_flow": null,
            "grid_auto_rows": null,
            "grid_column": null,
            "grid_gap": null,
            "grid_row": null,
            "grid_template_areas": null,
            "grid_template_columns": null,
            "grid_template_rows": null,
            "height": null,
            "justify_content": null,
            "justify_items": null,
            "left": null,
            "margin": null,
            "max_height": null,
            "max_width": null,
            "min_height": null,
            "min_width": null,
            "object_fit": null,
            "object_position": null,
            "order": null,
            "overflow": null,
            "overflow_x": null,
            "overflow_y": null,
            "padding": null,
            "right": null,
            "top": null,
            "visibility": null,
            "width": null
          }
        },
        "e916a41157e042a4b0b1cf6b6269ee5b": {
          "model_module": "@jupyter-widgets/controls",
          "model_name": "ProgressStyleModel",
          "model_module_version": "1.5.0",
          "state": {
            "_model_module": "@jupyter-widgets/controls",
            "_model_module_version": "1.5.0",
            "_model_name": "ProgressStyleModel",
            "_view_count": null,
            "_view_module": "@jupyter-widgets/base",
            "_view_module_version": "1.2.0",
            "_view_name": "StyleView",
            "bar_color": null,
            "description_width": ""
          }
        },
        "5a9c1fab818d4604af9459020300bfab": {
          "model_module": "@jupyter-widgets/base",
          "model_name": "LayoutModel",
          "model_module_version": "1.2.0",
          "state": {
            "_model_module": "@jupyter-widgets/base",
            "_model_module_version": "1.2.0",
            "_model_name": "LayoutModel",
            "_view_count": null,
            "_view_module": "@jupyter-widgets/base",
            "_view_module_version": "1.2.0",
            "_view_name": "LayoutView",
            "align_content": null,
            "align_items": null,
            "align_self": null,
            "border": null,
            "bottom": null,
            "display": null,
            "flex": null,
            "flex_flow": null,
            "grid_area": null,
            "grid_auto_columns": null,
            "grid_auto_flow": null,
            "grid_auto_rows": null,
            "grid_column": null,
            "grid_gap": null,
            "grid_row": null,
            "grid_template_areas": null,
            "grid_template_columns": null,
            "grid_template_rows": null,
            "height": null,
            "justify_content": null,
            "justify_items": null,
            "left": null,
            "margin": null,
            "max_height": null,
            "max_width": null,
            "min_height": null,
            "min_width": null,
            "object_fit": null,
            "object_position": null,
            "order": null,
            "overflow": null,
            "overflow_x": null,
            "overflow_y": null,
            "padding": null,
            "right": null,
            "top": null,
            "visibility": null,
            "width": null
          }
        },
        "feee99f97a544ea3a5efb92db7876bad": {
          "model_module": "@jupyter-widgets/controls",
          "model_name": "DescriptionStyleModel",
          "model_module_version": "1.5.0",
          "state": {
            "_model_module": "@jupyter-widgets/controls",
            "_model_module_version": "1.5.0",
            "_model_name": "DescriptionStyleModel",
            "_view_count": null,
            "_view_module": "@jupyter-widgets/base",
            "_view_module_version": "1.2.0",
            "_view_name": "StyleView",
            "description_width": ""
          }
        },
        "03f50aac9b564d1f812d0db492cc6ed2": {
          "model_module": "@jupyter-widgets/controls",
          "model_name": "HBoxModel",
          "model_module_version": "1.5.0",
          "state": {
            "_dom_classes": [],
            "_model_module": "@jupyter-widgets/controls",
            "_model_module_version": "1.5.0",
            "_model_name": "HBoxModel",
            "_view_count": null,
            "_view_module": "@jupyter-widgets/controls",
            "_view_module_version": "1.5.0",
            "_view_name": "HBoxView",
            "box_style": "",
            "children": [
              "IPY_MODEL_30717a836f8540259543c09b6258a225",
              "IPY_MODEL_90288f88f71c4f5bb0a5dd18c01bf422",
              "IPY_MODEL_7fdbfa9ab2e744edb103148df27e2e0c"
            ],
            "layout": "IPY_MODEL_9db8220bdf444499afc89b22543f77c0"
          }
        },
        "30717a836f8540259543c09b6258a225": {
          "model_module": "@jupyter-widgets/controls",
          "model_name": "HTMLModel",
          "model_module_version": "1.5.0",
          "state": {
            "_dom_classes": [],
            "_model_module": "@jupyter-widgets/controls",
            "_model_module_version": "1.5.0",
            "_model_name": "HTMLModel",
            "_view_count": null,
            "_view_module": "@jupyter-widgets/controls",
            "_view_module_version": "1.5.0",
            "_view_name": "HTMLView",
            "description": "",
            "description_tooltip": null,
            "layout": "IPY_MODEL_6afdc8fd88724b609c5e9aafb9d29a46",
            "placeholder": "​",
            "style": "IPY_MODEL_7fab643eb39c402eb86fe0796c087fd5",
            "value": "vocab.txt: 100%"
          }
        },
        "90288f88f71c4f5bb0a5dd18c01bf422": {
          "model_module": "@jupyter-widgets/controls",
          "model_name": "FloatProgressModel",
          "model_module_version": "1.5.0",
          "state": {
            "_dom_classes": [],
            "_model_module": "@jupyter-widgets/controls",
            "_model_module_version": "1.5.0",
            "_model_name": "FloatProgressModel",
            "_view_count": null,
            "_view_module": "@jupyter-widgets/controls",
            "_view_module_version": "1.5.0",
            "_view_name": "ProgressView",
            "bar_style": "success",
            "description": "",
            "description_tooltip": null,
            "layout": "IPY_MODEL_fb50608805a445989ffa907cae405597",
            "max": 231536,
            "min": 0,
            "orientation": "horizontal",
            "style": "IPY_MODEL_a686f8e9a89c4d4797db2e55807e17d6",
            "value": 231536
          }
        },
        "7fdbfa9ab2e744edb103148df27e2e0c": {
          "model_module": "@jupyter-widgets/controls",
          "model_name": "HTMLModel",
          "model_module_version": "1.5.0",
          "state": {
            "_dom_classes": [],
            "_model_module": "@jupyter-widgets/controls",
            "_model_module_version": "1.5.0",
            "_model_name": "HTMLModel",
            "_view_count": null,
            "_view_module": "@jupyter-widgets/controls",
            "_view_module_version": "1.5.0",
            "_view_name": "HTMLView",
            "description": "",
            "description_tooltip": null,
            "layout": "IPY_MODEL_225af6d01ee143b2b6c712e6f173c365",
            "placeholder": "​",
            "style": "IPY_MODEL_825c7ad6d1364291ade63626df2d04b3",
            "value": " 232k/232k [00:00&lt;00:00, 4.08MB/s]"
          }
        },
        "9db8220bdf444499afc89b22543f77c0": {
          "model_module": "@jupyter-widgets/base",
          "model_name": "LayoutModel",
          "model_module_version": "1.2.0",
          "state": {
            "_model_module": "@jupyter-widgets/base",
            "_model_module_version": "1.2.0",
            "_model_name": "LayoutModel",
            "_view_count": null,
            "_view_module": "@jupyter-widgets/base",
            "_view_module_version": "1.2.0",
            "_view_name": "LayoutView",
            "align_content": null,
            "align_items": null,
            "align_self": null,
            "border": null,
            "bottom": null,
            "display": null,
            "flex": null,
            "flex_flow": null,
            "grid_area": null,
            "grid_auto_columns": null,
            "grid_auto_flow": null,
            "grid_auto_rows": null,
            "grid_column": null,
            "grid_gap": null,
            "grid_row": null,
            "grid_template_areas": null,
            "grid_template_columns": null,
            "grid_template_rows": null,
            "height": null,
            "justify_content": null,
            "justify_items": null,
            "left": null,
            "margin": null,
            "max_height": null,
            "max_width": null,
            "min_height": null,
            "min_width": null,
            "object_fit": null,
            "object_position": null,
            "order": null,
            "overflow": null,
            "overflow_x": null,
            "overflow_y": null,
            "padding": null,
            "right": null,
            "top": null,
            "visibility": null,
            "width": null
          }
        },
        "6afdc8fd88724b609c5e9aafb9d29a46": {
          "model_module": "@jupyter-widgets/base",
          "model_name": "LayoutModel",
          "model_module_version": "1.2.0",
          "state": {
            "_model_module": "@jupyter-widgets/base",
            "_model_module_version": "1.2.0",
            "_model_name": "LayoutModel",
            "_view_count": null,
            "_view_module": "@jupyter-widgets/base",
            "_view_module_version": "1.2.0",
            "_view_name": "LayoutView",
            "align_content": null,
            "align_items": null,
            "align_self": null,
            "border": null,
            "bottom": null,
            "display": null,
            "flex": null,
            "flex_flow": null,
            "grid_area": null,
            "grid_auto_columns": null,
            "grid_auto_flow": null,
            "grid_auto_rows": null,
            "grid_column": null,
            "grid_gap": null,
            "grid_row": null,
            "grid_template_areas": null,
            "grid_template_columns": null,
            "grid_template_rows": null,
            "height": null,
            "justify_content": null,
            "justify_items": null,
            "left": null,
            "margin": null,
            "max_height": null,
            "max_width": null,
            "min_height": null,
            "min_width": null,
            "object_fit": null,
            "object_position": null,
            "order": null,
            "overflow": null,
            "overflow_x": null,
            "overflow_y": null,
            "padding": null,
            "right": null,
            "top": null,
            "visibility": null,
            "width": null
          }
        },
        "7fab643eb39c402eb86fe0796c087fd5": {
          "model_module": "@jupyter-widgets/controls",
          "model_name": "DescriptionStyleModel",
          "model_module_version": "1.5.0",
          "state": {
            "_model_module": "@jupyter-widgets/controls",
            "_model_module_version": "1.5.0",
            "_model_name": "DescriptionStyleModel",
            "_view_count": null,
            "_view_module": "@jupyter-widgets/base",
            "_view_module_version": "1.2.0",
            "_view_name": "StyleView",
            "description_width": ""
          }
        },
        "fb50608805a445989ffa907cae405597": {
          "model_module": "@jupyter-widgets/base",
          "model_name": "LayoutModel",
          "model_module_version": "1.2.0",
          "state": {
            "_model_module": "@jupyter-widgets/base",
            "_model_module_version": "1.2.0",
            "_model_name": "LayoutModel",
            "_view_count": null,
            "_view_module": "@jupyter-widgets/base",
            "_view_module_version": "1.2.0",
            "_view_name": "LayoutView",
            "align_content": null,
            "align_items": null,
            "align_self": null,
            "border": null,
            "bottom": null,
            "display": null,
            "flex": null,
            "flex_flow": null,
            "grid_area": null,
            "grid_auto_columns": null,
            "grid_auto_flow": null,
            "grid_auto_rows": null,
            "grid_column": null,
            "grid_gap": null,
            "grid_row": null,
            "grid_template_areas": null,
            "grid_template_columns": null,
            "grid_template_rows": null,
            "height": null,
            "justify_content": null,
            "justify_items": null,
            "left": null,
            "margin": null,
            "max_height": null,
            "max_width": null,
            "min_height": null,
            "min_width": null,
            "object_fit": null,
            "object_position": null,
            "order": null,
            "overflow": null,
            "overflow_x": null,
            "overflow_y": null,
            "padding": null,
            "right": null,
            "top": null,
            "visibility": null,
            "width": null
          }
        },
        "a686f8e9a89c4d4797db2e55807e17d6": {
          "model_module": "@jupyter-widgets/controls",
          "model_name": "ProgressStyleModel",
          "model_module_version": "1.5.0",
          "state": {
            "_model_module": "@jupyter-widgets/controls",
            "_model_module_version": "1.5.0",
            "_model_name": "ProgressStyleModel",
            "_view_count": null,
            "_view_module": "@jupyter-widgets/base",
            "_view_module_version": "1.2.0",
            "_view_name": "StyleView",
            "bar_color": null,
            "description_width": ""
          }
        },
        "225af6d01ee143b2b6c712e6f173c365": {
          "model_module": "@jupyter-widgets/base",
          "model_name": "LayoutModel",
          "model_module_version": "1.2.0",
          "state": {
            "_model_module": "@jupyter-widgets/base",
            "_model_module_version": "1.2.0",
            "_model_name": "LayoutModel",
            "_view_count": null,
            "_view_module": "@jupyter-widgets/base",
            "_view_module_version": "1.2.0",
            "_view_name": "LayoutView",
            "align_content": null,
            "align_items": null,
            "align_self": null,
            "border": null,
            "bottom": null,
            "display": null,
            "flex": null,
            "flex_flow": null,
            "grid_area": null,
            "grid_auto_columns": null,
            "grid_auto_flow": null,
            "grid_auto_rows": null,
            "grid_column": null,
            "grid_gap": null,
            "grid_row": null,
            "grid_template_areas": null,
            "grid_template_columns": null,
            "grid_template_rows": null,
            "height": null,
            "justify_content": null,
            "justify_items": null,
            "left": null,
            "margin": null,
            "max_height": null,
            "max_width": null,
            "min_height": null,
            "min_width": null,
            "object_fit": null,
            "object_position": null,
            "order": null,
            "overflow": null,
            "overflow_x": null,
            "overflow_y": null,
            "padding": null,
            "right": null,
            "top": null,
            "visibility": null,
            "width": null
          }
        },
        "825c7ad6d1364291ade63626df2d04b3": {
          "model_module": "@jupyter-widgets/controls",
          "model_name": "DescriptionStyleModel",
          "model_module_version": "1.5.0",
          "state": {
            "_model_module": "@jupyter-widgets/controls",
            "_model_module_version": "1.5.0",
            "_model_name": "DescriptionStyleModel",
            "_view_count": null,
            "_view_module": "@jupyter-widgets/base",
            "_view_module_version": "1.2.0",
            "_view_name": "StyleView",
            "description_width": ""
          }
        },
        "43bbfb04bb85458aa74610fae0e7698c": {
          "model_module": "@jupyter-widgets/controls",
          "model_name": "HBoxModel",
          "model_module_version": "1.5.0",
          "state": {
            "_dom_classes": [],
            "_model_module": "@jupyter-widgets/controls",
            "_model_module_version": "1.5.0",
            "_model_name": "HBoxModel",
            "_view_count": null,
            "_view_module": "@jupyter-widgets/controls",
            "_view_module_version": "1.5.0",
            "_view_name": "HBoxView",
            "box_style": "",
            "children": [
              "IPY_MODEL_e67260c72f2c43aeb905ce32a167426e",
              "IPY_MODEL_adc8e1978d5c4e34a2b13583e91a3081",
              "IPY_MODEL_989f30436b0a4658b8fe9ca7314e53ca"
            ],
            "layout": "IPY_MODEL_0c77084cc10e473d8b6fd02cd367d331"
          }
        },
        "e67260c72f2c43aeb905ce32a167426e": {
          "model_module": "@jupyter-widgets/controls",
          "model_name": "HTMLModel",
          "model_module_version": "1.5.0",
          "state": {
            "_dom_classes": [],
            "_model_module": "@jupyter-widgets/controls",
            "_model_module_version": "1.5.0",
            "_model_name": "HTMLModel",
            "_view_count": null,
            "_view_module": "@jupyter-widgets/controls",
            "_view_module_version": "1.5.0",
            "_view_name": "HTMLView",
            "description": "",
            "description_tooltip": null,
            "layout": "IPY_MODEL_e8589b04078e445cb9247949d69214ee",
            "placeholder": "​",
            "style": "IPY_MODEL_4fb706f048ae4577ad257afb84fb45af",
            "value": "tokenizer.json: 100%"
          }
        },
        "adc8e1978d5c4e34a2b13583e91a3081": {
          "model_module": "@jupyter-widgets/controls",
          "model_name": "FloatProgressModel",
          "model_module_version": "1.5.0",
          "state": {
            "_dom_classes": [],
            "_model_module": "@jupyter-widgets/controls",
            "_model_module_version": "1.5.0",
            "_model_name": "FloatProgressModel",
            "_view_count": null,
            "_view_module": "@jupyter-widgets/controls",
            "_view_module_version": "1.5.0",
            "_view_name": "ProgressView",
            "bar_style": "success",
            "description": "",
            "description_tooltip": null,
            "layout": "IPY_MODEL_e8d8f9b033234f34bd837d18a256b84e",
            "max": 466021,
            "min": 0,
            "orientation": "horizontal",
            "style": "IPY_MODEL_84b84ca0235142868d776d6c8129eec8",
            "value": 466021
          }
        },
        "989f30436b0a4658b8fe9ca7314e53ca": {
          "model_module": "@jupyter-widgets/controls",
          "model_name": "HTMLModel",
          "model_module_version": "1.5.0",
          "state": {
            "_dom_classes": [],
            "_model_module": "@jupyter-widgets/controls",
            "_model_module_version": "1.5.0",
            "_model_name": "HTMLModel",
            "_view_count": null,
            "_view_module": "@jupyter-widgets/controls",
            "_view_module_version": "1.5.0",
            "_view_name": "HTMLView",
            "description": "",
            "description_tooltip": null,
            "layout": "IPY_MODEL_0de284a4e9f14356843d5b975dda1619",
            "placeholder": "​",
            "style": "IPY_MODEL_7d133ae19e9043df86c1bc3b72b6043a",
            "value": " 466k/466k [00:00&lt;00:00, 10.0MB/s]"
          }
        },
        "0c77084cc10e473d8b6fd02cd367d331": {
          "model_module": "@jupyter-widgets/base",
          "model_name": "LayoutModel",
          "model_module_version": "1.2.0",
          "state": {
            "_model_module": "@jupyter-widgets/base",
            "_model_module_version": "1.2.0",
            "_model_name": "LayoutModel",
            "_view_count": null,
            "_view_module": "@jupyter-widgets/base",
            "_view_module_version": "1.2.0",
            "_view_name": "LayoutView",
            "align_content": null,
            "align_items": null,
            "align_self": null,
            "border": null,
            "bottom": null,
            "display": null,
            "flex": null,
            "flex_flow": null,
            "grid_area": null,
            "grid_auto_columns": null,
            "grid_auto_flow": null,
            "grid_auto_rows": null,
            "grid_column": null,
            "grid_gap": null,
            "grid_row": null,
            "grid_template_areas": null,
            "grid_template_columns": null,
            "grid_template_rows": null,
            "height": null,
            "justify_content": null,
            "justify_items": null,
            "left": null,
            "margin": null,
            "max_height": null,
            "max_width": null,
            "min_height": null,
            "min_width": null,
            "object_fit": null,
            "object_position": null,
            "order": null,
            "overflow": null,
            "overflow_x": null,
            "overflow_y": null,
            "padding": null,
            "right": null,
            "top": null,
            "visibility": null,
            "width": null
          }
        },
        "e8589b04078e445cb9247949d69214ee": {
          "model_module": "@jupyter-widgets/base",
          "model_name": "LayoutModel",
          "model_module_version": "1.2.0",
          "state": {
            "_model_module": "@jupyter-widgets/base",
            "_model_module_version": "1.2.0",
            "_model_name": "LayoutModel",
            "_view_count": null,
            "_view_module": "@jupyter-widgets/base",
            "_view_module_version": "1.2.0",
            "_view_name": "LayoutView",
            "align_content": null,
            "align_items": null,
            "align_self": null,
            "border": null,
            "bottom": null,
            "display": null,
            "flex": null,
            "flex_flow": null,
            "grid_area": null,
            "grid_auto_columns": null,
            "grid_auto_flow": null,
            "grid_auto_rows": null,
            "grid_column": null,
            "grid_gap": null,
            "grid_row": null,
            "grid_template_areas": null,
            "grid_template_columns": null,
            "grid_template_rows": null,
            "height": null,
            "justify_content": null,
            "justify_items": null,
            "left": null,
            "margin": null,
            "max_height": null,
            "max_width": null,
            "min_height": null,
            "min_width": null,
            "object_fit": null,
            "object_position": null,
            "order": null,
            "overflow": null,
            "overflow_x": null,
            "overflow_y": null,
            "padding": null,
            "right": null,
            "top": null,
            "visibility": null,
            "width": null
          }
        },
        "4fb706f048ae4577ad257afb84fb45af": {
          "model_module": "@jupyter-widgets/controls",
          "model_name": "DescriptionStyleModel",
          "model_module_version": "1.5.0",
          "state": {
            "_model_module": "@jupyter-widgets/controls",
            "_model_module_version": "1.5.0",
            "_model_name": "DescriptionStyleModel",
            "_view_count": null,
            "_view_module": "@jupyter-widgets/base",
            "_view_module_version": "1.2.0",
            "_view_name": "StyleView",
            "description_width": ""
          }
        },
        "e8d8f9b033234f34bd837d18a256b84e": {
          "model_module": "@jupyter-widgets/base",
          "model_name": "LayoutModel",
          "model_module_version": "1.2.0",
          "state": {
            "_model_module": "@jupyter-widgets/base",
            "_model_module_version": "1.2.0",
            "_model_name": "LayoutModel",
            "_view_count": null,
            "_view_module": "@jupyter-widgets/base",
            "_view_module_version": "1.2.0",
            "_view_name": "LayoutView",
            "align_content": null,
            "align_items": null,
            "align_self": null,
            "border": null,
            "bottom": null,
            "display": null,
            "flex": null,
            "flex_flow": null,
            "grid_area": null,
            "grid_auto_columns": null,
            "grid_auto_flow": null,
            "grid_auto_rows": null,
            "grid_column": null,
            "grid_gap": null,
            "grid_row": null,
            "grid_template_areas": null,
            "grid_template_columns": null,
            "grid_template_rows": null,
            "height": null,
            "justify_content": null,
            "justify_items": null,
            "left": null,
            "margin": null,
            "max_height": null,
            "max_width": null,
            "min_height": null,
            "min_width": null,
            "object_fit": null,
            "object_position": null,
            "order": null,
            "overflow": null,
            "overflow_x": null,
            "overflow_y": null,
            "padding": null,
            "right": null,
            "top": null,
            "visibility": null,
            "width": null
          }
        },
        "84b84ca0235142868d776d6c8129eec8": {
          "model_module": "@jupyter-widgets/controls",
          "model_name": "ProgressStyleModel",
          "model_module_version": "1.5.0",
          "state": {
            "_model_module": "@jupyter-widgets/controls",
            "_model_module_version": "1.5.0",
            "_model_name": "ProgressStyleModel",
            "_view_count": null,
            "_view_module": "@jupyter-widgets/base",
            "_view_module_version": "1.2.0",
            "_view_name": "StyleView",
            "bar_color": null,
            "description_width": ""
          }
        },
        "0de284a4e9f14356843d5b975dda1619": {
          "model_module": "@jupyter-widgets/base",
          "model_name": "LayoutModel",
          "model_module_version": "1.2.0",
          "state": {
            "_model_module": "@jupyter-widgets/base",
            "_model_module_version": "1.2.0",
            "_model_name": "LayoutModel",
            "_view_count": null,
            "_view_module": "@jupyter-widgets/base",
            "_view_module_version": "1.2.0",
            "_view_name": "LayoutView",
            "align_content": null,
            "align_items": null,
            "align_self": null,
            "border": null,
            "bottom": null,
            "display": null,
            "flex": null,
            "flex_flow": null,
            "grid_area": null,
            "grid_auto_columns": null,
            "grid_auto_flow": null,
            "grid_auto_rows": null,
            "grid_column": null,
            "grid_gap": null,
            "grid_row": null,
            "grid_template_areas": null,
            "grid_template_columns": null,
            "grid_template_rows": null,
            "height": null,
            "justify_content": null,
            "justify_items": null,
            "left": null,
            "margin": null,
            "max_height": null,
            "max_width": null,
            "min_height": null,
            "min_width": null,
            "object_fit": null,
            "object_position": null,
            "order": null,
            "overflow": null,
            "overflow_x": null,
            "overflow_y": null,
            "padding": null,
            "right": null,
            "top": null,
            "visibility": null,
            "width": null
          }
        },
        "7d133ae19e9043df86c1bc3b72b6043a": {
          "model_module": "@jupyter-widgets/controls",
          "model_name": "DescriptionStyleModel",
          "model_module_version": "1.5.0",
          "state": {
            "_model_module": "@jupyter-widgets/controls",
            "_model_module_version": "1.5.0",
            "_model_name": "DescriptionStyleModel",
            "_view_count": null,
            "_view_module": "@jupyter-widgets/base",
            "_view_module_version": "1.2.0",
            "_view_name": "StyleView",
            "description_width": ""
          }
        },
        "61a7060306ab41909f44132af063863d": {
          "model_module": "@jupyter-widgets/controls",
          "model_name": "HBoxModel",
          "model_module_version": "1.5.0",
          "state": {
            "_dom_classes": [],
            "_model_module": "@jupyter-widgets/controls",
            "_model_module_version": "1.5.0",
            "_model_name": "HBoxModel",
            "_view_count": null,
            "_view_module": "@jupyter-widgets/controls",
            "_view_module_version": "1.5.0",
            "_view_name": "HBoxView",
            "box_style": "",
            "children": [
              "IPY_MODEL_74197d363ce4490bbf363ab10b9b3efe",
              "IPY_MODEL_682d65649e86486c9bc4d9f7c6794c7c",
              "IPY_MODEL_94a3fe3703954736b78b1c98a1d611a5"
            ],
            "layout": "IPY_MODEL_e53ab9a1e3764b60ac88bb26c650cfd5"
          }
        },
        "74197d363ce4490bbf363ab10b9b3efe": {
          "model_module": "@jupyter-widgets/controls",
          "model_name": "HTMLModel",
          "model_module_version": "1.5.0",
          "state": {
            "_dom_classes": [],
            "_model_module": "@jupyter-widgets/controls",
            "_model_module_version": "1.5.0",
            "_model_name": "HTMLModel",
            "_view_count": null,
            "_view_module": "@jupyter-widgets/controls",
            "_view_module_version": "1.5.0",
            "_view_name": "HTMLView",
            "description": "",
            "description_tooltip": null,
            "layout": "IPY_MODEL_e8c1cbbb0f92436588fefc9a9089d064",
            "placeholder": "​",
            "style": "IPY_MODEL_499a571066e74baa9f962884134cb0ad",
            "value": "special_tokens_map.json: 100%"
          }
        },
        "682d65649e86486c9bc4d9f7c6794c7c": {
          "model_module": "@jupyter-widgets/controls",
          "model_name": "FloatProgressModel",
          "model_module_version": "1.5.0",
          "state": {
            "_dom_classes": [],
            "_model_module": "@jupyter-widgets/controls",
            "_model_module_version": "1.5.0",
            "_model_name": "FloatProgressModel",
            "_view_count": null,
            "_view_module": "@jupyter-widgets/controls",
            "_view_module_version": "1.5.0",
            "_view_name": "ProgressView",
            "bar_style": "success",
            "description": "",
            "description_tooltip": null,
            "layout": "IPY_MODEL_a164f3df793b4de695a137094614b614",
            "max": 239,
            "min": 0,
            "orientation": "horizontal",
            "style": "IPY_MODEL_cac8be0059584e58b032aaa8821278ea",
            "value": 239
          }
        },
        "94a3fe3703954736b78b1c98a1d611a5": {
          "model_module": "@jupyter-widgets/controls",
          "model_name": "HTMLModel",
          "model_module_version": "1.5.0",
          "state": {
            "_dom_classes": [],
            "_model_module": "@jupyter-widgets/controls",
            "_model_module_version": "1.5.0",
            "_model_name": "HTMLModel",
            "_view_count": null,
            "_view_module": "@jupyter-widgets/controls",
            "_view_module_version": "1.5.0",
            "_view_name": "HTMLView",
            "description": "",
            "description_tooltip": null,
            "layout": "IPY_MODEL_319b859605334281b941161cf84897fc",
            "placeholder": "​",
            "style": "IPY_MODEL_9bc9870933974e639298ce66b83a1945",
            "value": " 239/239 [00:00&lt;00:00, 4.83kB/s]"
          }
        },
        "e53ab9a1e3764b60ac88bb26c650cfd5": {
          "model_module": "@jupyter-widgets/base",
          "model_name": "LayoutModel",
          "model_module_version": "1.2.0",
          "state": {
            "_model_module": "@jupyter-widgets/base",
            "_model_module_version": "1.2.0",
            "_model_name": "LayoutModel",
            "_view_count": null,
            "_view_module": "@jupyter-widgets/base",
            "_view_module_version": "1.2.0",
            "_view_name": "LayoutView",
            "align_content": null,
            "align_items": null,
            "align_self": null,
            "border": null,
            "bottom": null,
            "display": null,
            "flex": null,
            "flex_flow": null,
            "grid_area": null,
            "grid_auto_columns": null,
            "grid_auto_flow": null,
            "grid_auto_rows": null,
            "grid_column": null,
            "grid_gap": null,
            "grid_row": null,
            "grid_template_areas": null,
            "grid_template_columns": null,
            "grid_template_rows": null,
            "height": null,
            "justify_content": null,
            "justify_items": null,
            "left": null,
            "margin": null,
            "max_height": null,
            "max_width": null,
            "min_height": null,
            "min_width": null,
            "object_fit": null,
            "object_position": null,
            "order": null,
            "overflow": null,
            "overflow_x": null,
            "overflow_y": null,
            "padding": null,
            "right": null,
            "top": null,
            "visibility": null,
            "width": null
          }
        },
        "e8c1cbbb0f92436588fefc9a9089d064": {
          "model_module": "@jupyter-widgets/base",
          "model_name": "LayoutModel",
          "model_module_version": "1.2.0",
          "state": {
            "_model_module": "@jupyter-widgets/base",
            "_model_module_version": "1.2.0",
            "_model_name": "LayoutModel",
            "_view_count": null,
            "_view_module": "@jupyter-widgets/base",
            "_view_module_version": "1.2.0",
            "_view_name": "LayoutView",
            "align_content": null,
            "align_items": null,
            "align_self": null,
            "border": null,
            "bottom": null,
            "display": null,
            "flex": null,
            "flex_flow": null,
            "grid_area": null,
            "grid_auto_columns": null,
            "grid_auto_flow": null,
            "grid_auto_rows": null,
            "grid_column": null,
            "grid_gap": null,
            "grid_row": null,
            "grid_template_areas": null,
            "grid_template_columns": null,
            "grid_template_rows": null,
            "height": null,
            "justify_content": null,
            "justify_items": null,
            "left": null,
            "margin": null,
            "max_height": null,
            "max_width": null,
            "min_height": null,
            "min_width": null,
            "object_fit": null,
            "object_position": null,
            "order": null,
            "overflow": null,
            "overflow_x": null,
            "overflow_y": null,
            "padding": null,
            "right": null,
            "top": null,
            "visibility": null,
            "width": null
          }
        },
        "499a571066e74baa9f962884134cb0ad": {
          "model_module": "@jupyter-widgets/controls",
          "model_name": "DescriptionStyleModel",
          "model_module_version": "1.5.0",
          "state": {
            "_model_module": "@jupyter-widgets/controls",
            "_model_module_version": "1.5.0",
            "_model_name": "DescriptionStyleModel",
            "_view_count": null,
            "_view_module": "@jupyter-widgets/base",
            "_view_module_version": "1.2.0",
            "_view_name": "StyleView",
            "description_width": ""
          }
        },
        "a164f3df793b4de695a137094614b614": {
          "model_module": "@jupyter-widgets/base",
          "model_name": "LayoutModel",
          "model_module_version": "1.2.0",
          "state": {
            "_model_module": "@jupyter-widgets/base",
            "_model_module_version": "1.2.0",
            "_model_name": "LayoutModel",
            "_view_count": null,
            "_view_module": "@jupyter-widgets/base",
            "_view_module_version": "1.2.0",
            "_view_name": "LayoutView",
            "align_content": null,
            "align_items": null,
            "align_self": null,
            "border": null,
            "bottom": null,
            "display": null,
            "flex": null,
            "flex_flow": null,
            "grid_area": null,
            "grid_auto_columns": null,
            "grid_auto_flow": null,
            "grid_auto_rows": null,
            "grid_column": null,
            "grid_gap": null,
            "grid_row": null,
            "grid_template_areas": null,
            "grid_template_columns": null,
            "grid_template_rows": null,
            "height": null,
            "justify_content": null,
            "justify_items": null,
            "left": null,
            "margin": null,
            "max_height": null,
            "max_width": null,
            "min_height": null,
            "min_width": null,
            "object_fit": null,
            "object_position": null,
            "order": null,
            "overflow": null,
            "overflow_x": null,
            "overflow_y": null,
            "padding": null,
            "right": null,
            "top": null,
            "visibility": null,
            "width": null
          }
        },
        "cac8be0059584e58b032aaa8821278ea": {
          "model_module": "@jupyter-widgets/controls",
          "model_name": "ProgressStyleModel",
          "model_module_version": "1.5.0",
          "state": {
            "_model_module": "@jupyter-widgets/controls",
            "_model_module_version": "1.5.0",
            "_model_name": "ProgressStyleModel",
            "_view_count": null,
            "_view_module": "@jupyter-widgets/base",
            "_view_module_version": "1.2.0",
            "_view_name": "StyleView",
            "bar_color": null,
            "description_width": ""
          }
        },
        "319b859605334281b941161cf84897fc": {
          "model_module": "@jupyter-widgets/base",
          "model_name": "LayoutModel",
          "model_module_version": "1.2.0",
          "state": {
            "_model_module": "@jupyter-widgets/base",
            "_model_module_version": "1.2.0",
            "_model_name": "LayoutModel",
            "_view_count": null,
            "_view_module": "@jupyter-widgets/base",
            "_view_module_version": "1.2.0",
            "_view_name": "LayoutView",
            "align_content": null,
            "align_items": null,
            "align_self": null,
            "border": null,
            "bottom": null,
            "display": null,
            "flex": null,
            "flex_flow": null,
            "grid_area": null,
            "grid_auto_columns": null,
            "grid_auto_flow": null,
            "grid_auto_rows": null,
            "grid_column": null,
            "grid_gap": null,
            "grid_row": null,
            "grid_template_areas": null,
            "grid_template_columns": null,
            "grid_template_rows": null,
            "height": null,
            "justify_content": null,
            "justify_items": null,
            "left": null,
            "margin": null,
            "max_height": null,
            "max_width": null,
            "min_height": null,
            "min_width": null,
            "object_fit": null,
            "object_position": null,
            "order": null,
            "overflow": null,
            "overflow_x": null,
            "overflow_y": null,
            "padding": null,
            "right": null,
            "top": null,
            "visibility": null,
            "width": null
          }
        },
        "9bc9870933974e639298ce66b83a1945": {
          "model_module": "@jupyter-widgets/controls",
          "model_name": "DescriptionStyleModel",
          "model_module_version": "1.5.0",
          "state": {
            "_model_module": "@jupyter-widgets/controls",
            "_model_module_version": "1.5.0",
            "_model_name": "DescriptionStyleModel",
            "_view_count": null,
            "_view_module": "@jupyter-widgets/base",
            "_view_module_version": "1.2.0",
            "_view_name": "StyleView",
            "description_width": ""
          }
        },
        "2e5dee81c48a42b7ad9c2273d21f2087": {
          "model_module": "@jupyter-widgets/controls",
          "model_name": "HBoxModel",
          "model_module_version": "1.5.0",
          "state": {
            "_dom_classes": [],
            "_model_module": "@jupyter-widgets/controls",
            "_model_module_version": "1.5.0",
            "_model_name": "HBoxModel",
            "_view_count": null,
            "_view_module": "@jupyter-widgets/controls",
            "_view_module_version": "1.5.0",
            "_view_name": "HBoxView",
            "box_style": "",
            "children": [
              "IPY_MODEL_8657d58586cc491993b5a1afc6ecacb7",
              "IPY_MODEL_b76faa6b93854297be36360f66b9cc51",
              "IPY_MODEL_1dc2a63c42d846449092bc6e0462cb4b"
            ],
            "layout": "IPY_MODEL_ae3e1e7442c74b358197e415d5ee45ce"
          }
        },
        "8657d58586cc491993b5a1afc6ecacb7": {
          "model_module": "@jupyter-widgets/controls",
          "model_name": "HTMLModel",
          "model_module_version": "1.5.0",
          "state": {
            "_dom_classes": [],
            "_model_module": "@jupyter-widgets/controls",
            "_model_module_version": "1.5.0",
            "_model_name": "HTMLModel",
            "_view_count": null,
            "_view_module": "@jupyter-widgets/controls",
            "_view_module_version": "1.5.0",
            "_view_name": "HTMLView",
            "description": "",
            "description_tooltip": null,
            "layout": "IPY_MODEL_562fdcb8ca374fe4816b9e5a533576f9",
            "placeholder": "​",
            "style": "IPY_MODEL_451371f3faab44ba99e9082bf2debec6",
            "value": "1_Pooling/config.json: 100%"
          }
        },
        "b76faa6b93854297be36360f66b9cc51": {
          "model_module": "@jupyter-widgets/controls",
          "model_name": "FloatProgressModel",
          "model_module_version": "1.5.0",
          "state": {
            "_dom_classes": [],
            "_model_module": "@jupyter-widgets/controls",
            "_model_module_version": "1.5.0",
            "_model_name": "FloatProgressModel",
            "_view_count": null,
            "_view_module": "@jupyter-widgets/controls",
            "_view_module_version": "1.5.0",
            "_view_name": "ProgressView",
            "bar_style": "success",
            "description": "",
            "description_tooltip": null,
            "layout": "IPY_MODEL_522fcc8ff0044f87b4677b4aec841c5f",
            "max": 190,
            "min": 0,
            "orientation": "horizontal",
            "style": "IPY_MODEL_b1b07248e7c645d4b40580dc52ae40e6",
            "value": 190
          }
        },
        "1dc2a63c42d846449092bc6e0462cb4b": {
          "model_module": "@jupyter-widgets/controls",
          "model_name": "HTMLModel",
          "model_module_version": "1.5.0",
          "state": {
            "_dom_classes": [],
            "_model_module": "@jupyter-widgets/controls",
            "_model_module_version": "1.5.0",
            "_model_name": "HTMLModel",
            "_view_count": null,
            "_view_module": "@jupyter-widgets/controls",
            "_view_module_version": "1.5.0",
            "_view_name": "HTMLView",
            "description": "",
            "description_tooltip": null,
            "layout": "IPY_MODEL_a8d1a26f8a004b9c8295a5def626a1f1",
            "placeholder": "​",
            "style": "IPY_MODEL_74fc55025535423bb4e5380711f85acb",
            "value": " 190/190 [00:00&lt;00:00, 4.59kB/s]"
          }
        },
        "ae3e1e7442c74b358197e415d5ee45ce": {
          "model_module": "@jupyter-widgets/base",
          "model_name": "LayoutModel",
          "model_module_version": "1.2.0",
          "state": {
            "_model_module": "@jupyter-widgets/base",
            "_model_module_version": "1.2.0",
            "_model_name": "LayoutModel",
            "_view_count": null,
            "_view_module": "@jupyter-widgets/base",
            "_view_module_version": "1.2.0",
            "_view_name": "LayoutView",
            "align_content": null,
            "align_items": null,
            "align_self": null,
            "border": null,
            "bottom": null,
            "display": null,
            "flex": null,
            "flex_flow": null,
            "grid_area": null,
            "grid_auto_columns": null,
            "grid_auto_flow": null,
            "grid_auto_rows": null,
            "grid_column": null,
            "grid_gap": null,
            "grid_row": null,
            "grid_template_areas": null,
            "grid_template_columns": null,
            "grid_template_rows": null,
            "height": null,
            "justify_content": null,
            "justify_items": null,
            "left": null,
            "margin": null,
            "max_height": null,
            "max_width": null,
            "min_height": null,
            "min_width": null,
            "object_fit": null,
            "object_position": null,
            "order": null,
            "overflow": null,
            "overflow_x": null,
            "overflow_y": null,
            "padding": null,
            "right": null,
            "top": null,
            "visibility": null,
            "width": null
          }
        },
        "562fdcb8ca374fe4816b9e5a533576f9": {
          "model_module": "@jupyter-widgets/base",
          "model_name": "LayoutModel",
          "model_module_version": "1.2.0",
          "state": {
            "_model_module": "@jupyter-widgets/base",
            "_model_module_version": "1.2.0",
            "_model_name": "LayoutModel",
            "_view_count": null,
            "_view_module": "@jupyter-widgets/base",
            "_view_module_version": "1.2.0",
            "_view_name": "LayoutView",
            "align_content": null,
            "align_items": null,
            "align_self": null,
            "border": null,
            "bottom": null,
            "display": null,
            "flex": null,
            "flex_flow": null,
            "grid_area": null,
            "grid_auto_columns": null,
            "grid_auto_flow": null,
            "grid_auto_rows": null,
            "grid_column": null,
            "grid_gap": null,
            "grid_row": null,
            "grid_template_areas": null,
            "grid_template_columns": null,
            "grid_template_rows": null,
            "height": null,
            "justify_content": null,
            "justify_items": null,
            "left": null,
            "margin": null,
            "max_height": null,
            "max_width": null,
            "min_height": null,
            "min_width": null,
            "object_fit": null,
            "object_position": null,
            "order": null,
            "overflow": null,
            "overflow_x": null,
            "overflow_y": null,
            "padding": null,
            "right": null,
            "top": null,
            "visibility": null,
            "width": null
          }
        },
        "451371f3faab44ba99e9082bf2debec6": {
          "model_module": "@jupyter-widgets/controls",
          "model_name": "DescriptionStyleModel",
          "model_module_version": "1.5.0",
          "state": {
            "_model_module": "@jupyter-widgets/controls",
            "_model_module_version": "1.5.0",
            "_model_name": "DescriptionStyleModel",
            "_view_count": null,
            "_view_module": "@jupyter-widgets/base",
            "_view_module_version": "1.2.0",
            "_view_name": "StyleView",
            "description_width": ""
          }
        },
        "522fcc8ff0044f87b4677b4aec841c5f": {
          "model_module": "@jupyter-widgets/base",
          "model_name": "LayoutModel",
          "model_module_version": "1.2.0",
          "state": {
            "_model_module": "@jupyter-widgets/base",
            "_model_module_version": "1.2.0",
            "_model_name": "LayoutModel",
            "_view_count": null,
            "_view_module": "@jupyter-widgets/base",
            "_view_module_version": "1.2.0",
            "_view_name": "LayoutView",
            "align_content": null,
            "align_items": null,
            "align_self": null,
            "border": null,
            "bottom": null,
            "display": null,
            "flex": null,
            "flex_flow": null,
            "grid_area": null,
            "grid_auto_columns": null,
            "grid_auto_flow": null,
            "grid_auto_rows": null,
            "grid_column": null,
            "grid_gap": null,
            "grid_row": null,
            "grid_template_areas": null,
            "grid_template_columns": null,
            "grid_template_rows": null,
            "height": null,
            "justify_content": null,
            "justify_items": null,
            "left": null,
            "margin": null,
            "max_height": null,
            "max_width": null,
            "min_height": null,
            "min_width": null,
            "object_fit": null,
            "object_position": null,
            "order": null,
            "overflow": null,
            "overflow_x": null,
            "overflow_y": null,
            "padding": null,
            "right": null,
            "top": null,
            "visibility": null,
            "width": null
          }
        },
        "b1b07248e7c645d4b40580dc52ae40e6": {
          "model_module": "@jupyter-widgets/controls",
          "model_name": "ProgressStyleModel",
          "model_module_version": "1.5.0",
          "state": {
            "_model_module": "@jupyter-widgets/controls",
            "_model_module_version": "1.5.0",
            "_model_name": "ProgressStyleModel",
            "_view_count": null,
            "_view_module": "@jupyter-widgets/base",
            "_view_module_version": "1.2.0",
            "_view_name": "StyleView",
            "bar_color": null,
            "description_width": ""
          }
        },
        "a8d1a26f8a004b9c8295a5def626a1f1": {
          "model_module": "@jupyter-widgets/base",
          "model_name": "LayoutModel",
          "model_module_version": "1.2.0",
          "state": {
            "_model_module": "@jupyter-widgets/base",
            "_model_module_version": "1.2.0",
            "_model_name": "LayoutModel",
            "_view_count": null,
            "_view_module": "@jupyter-widgets/base",
            "_view_module_version": "1.2.0",
            "_view_name": "LayoutView",
            "align_content": null,
            "align_items": null,
            "align_self": null,
            "border": null,
            "bottom": null,
            "display": null,
            "flex": null,
            "flex_flow": null,
            "grid_area": null,
            "grid_auto_columns": null,
            "grid_auto_flow": null,
            "grid_auto_rows": null,
            "grid_column": null,
            "grid_gap": null,
            "grid_row": null,
            "grid_template_areas": null,
            "grid_template_columns": null,
            "grid_template_rows": null,
            "height": null,
            "justify_content": null,
            "justify_items": null,
            "left": null,
            "margin": null,
            "max_height": null,
            "max_width": null,
            "min_height": null,
            "min_width": null,
            "object_fit": null,
            "object_position": null,
            "order": null,
            "overflow": null,
            "overflow_x": null,
            "overflow_y": null,
            "padding": null,
            "right": null,
            "top": null,
            "visibility": null,
            "width": null
          }
        },
        "74fc55025535423bb4e5380711f85acb": {
          "model_module": "@jupyter-widgets/controls",
          "model_name": "DescriptionStyleModel",
          "model_module_version": "1.5.0",
          "state": {
            "_model_module": "@jupyter-widgets/controls",
            "_model_module_version": "1.5.0",
            "_model_name": "DescriptionStyleModel",
            "_view_count": null,
            "_view_module": "@jupyter-widgets/base",
            "_view_module_version": "1.2.0",
            "_view_name": "StyleView",
            "description_width": ""
          }
        }
      }
    },
    "accelerator": "GPU"
  },
  "cells": [
    {
      "cell_type": "markdown",
      "source": [
        "# **RAG_Uberhtml_Chatbot_with_llamaindex_create_multiple_index**\n",
        "\n",
        "- Here we are reading UBER HTML Files, which are in zip format with 4 years html 4 files\n",
        "- Then apply **llamaindex- Vector Index** technique, each year html will have 1 separate index\n",
        "- Then built **Retrival** on this vectorindex and fed to LLM Model for retrival.\n",
        "- In this approch no other Vectordb used other than **vector index**\n",
        "\n"
      ],
      "metadata": {
        "id": "uLcFLKD7W7W6"
      }
    },
    {
      "cell_type": "markdown",
      "source": [
        "# **WAY 1: Pure Llamaindex and OpenAI agent used**\n",
        "\n",
        "- Import all pacakges and Connect to OpenaAI\n",
        "\n",
        "- Load the **Uber HTML files** data from website\n",
        "\t- Unzip the files and keep that file inside - **/content/data folder**\n",
        "  - Sample html file : file:///D:/Prabha/Data%20Science/Prabha-DS/Gen_AI/Ineuron/Gen_AI_Course/Project/github/Gen_AI_Projects/07_RAG/05_Llamaindex_Tutorial/01_RAG_Uberhtml_Chatbot_with_llamaindex_create_multiple_index/Images/UBER_2019.html\n",
        "\n",
        "- Read **HTML file** from **Llamaindex UnstructuredReader**\n",
        "\t- Start read the html and save doc in year wise Dictionary\n",
        "- Apply **Embedding and create VectorIndex** by **Llamaindex properties**.\n",
        "\t- Here no other vectordb used\n",
        "\t- Store/Set all parameter/Config during run time to create vector index using llamaindex **Settings** option\n",
        "\t- For **Each year create the Index:** Here Index is nothing but Vector Database. Created this index inside **storage folder yearwise**\n",
        "\t\t- Similarly we can **create multiple index** regarding **multiple data** or **multiple files** or **multiple year**\n",
        "\n",
        "- Retrieval From **In-memory Llamaindex Vectorestore** using **QueryEngineTool class**\n",
        "\t- https://github.com/run-llama/llama_index/blob/main/llama-index-core/llama_index/core/tools/query_engine.py\n",
        "\n",
        "\t- Here we can create query engine in below ways:\n",
        "\n",
        "\t\t- **1. Create yearwise Individual query engine - individual_query_engine_tools**\n",
        "\t\t\t- Here **every year is a individual query_engin**\n",
        "\n",
        "\t\t- **2. Create Entire query engine - query_engine tool**\n",
        "\t\t\t- Created **combined query_engine** using **individual_query_engine_tools**\n",
        "\n",
        "\t\t- **3. Combine Individual Query engine and Entire query engine**\n",
        "\n",
        "\t\t- **4. Create Final Agent: Use OpenAIAgent and pass combined query engine-tools**\n",
        "\n",
        "\t\t\t- Here **OpenAI Agent** and **query engine*** combination helps to **keep the memory of conversion** and provides response\n",
        "\t\t\t- Here Agents manages history also\n",
        "\n",
        "--------------------------------------------------------\n",
        "\n",
        "# WAY 2: Create Multiple Index on multiple PDF using Llamaindex retriver advanced properties\n",
        "\n",
        "- In this example previosly created **Llama index vector/Index** are used. Not executed same step agin here\n",
        "- But this script **not working** due to LLMPredictor not imported, so commented all\n",
        "\n",
        "\n",
        "--------------------------------------------------------\n",
        "\n",
        "# WAY 3: Combined approcah using llamaindex and langchain\n",
        "\n",
        "- Here **llama index -  VectorStoreIndex,SimpleDirectoryReader** features used and **langchain - agent/Tool, ConversationBufferMemory, ChatOpenAI** features used\n",
        "\n",
        "- Create data2 folder in colab inmemory and upload some pdf. Uploaded some pdf manually to this data2 folder\n",
        "\n",
        "- Create Direct index on document/pdf using **Llamaindex VectorStoreIndex**(Here no chunking/embedding done, automaticaly it created embedding using default llm embedding model)\n",
        "\n",
        "- Create langchain Tool structure.\n",
        "\t- **LlamaIndex retriver/as_query_engine from index** also used inside tool\n",
        "\n",
        "- Mention the agent name and add langchains **ConversationBufferMemory** features\n",
        "- Initialize **agent which is the final AGENT** by passing **llm(ChatOpenAI), tools,memory** detail\n",
        "- Test the final agent by passing user Q\n",
        "\n",
        "# Folder structure\n",
        "\n",
        "  ![plot](Images/1_HTML_File.png)\n",
        "  ![plot](Images/2_Inmemory_Vectore_Index.png)\n",
        "\n"
      ],
      "metadata": {
        "id": "MH7dbGuVhgyu"
      }
    },
    {
      "cell_type": "markdown",
      "source": [
        "# **Import all pacakges**"
      ],
      "metadata": {
        "id": "W5AwcZrpW78i"
      }
    },
    {
      "cell_type": "code",
      "execution_count": 1,
      "metadata": {
        "colab": {
          "base_uri": "https://localhost:8080/"
        },
        "id": "dLxhK7cWClKe",
        "outputId": "eda3f11a-4657-4732-d32f-11e0caf4abbf"
      },
      "outputs": [
        {
          "output_type": "stream",
          "name": "stdout",
          "text": [
            "\u001b[2K     \u001b[90m━━━━━━━━━━━━━━━━━━━━━━━━━━━━━━━━━━━━━━━━\u001b[0m \u001b[32m15.4/15.4 MB\u001b[0m \u001b[31m55.4 MB/s\u001b[0m eta \u001b[36m0:00:00\u001b[0m\n",
            "\u001b[2K     \u001b[90m━━━━━━━━━━━━━━━━━━━━━━━━━━━━━━━━━━━━━━━━\u001b[0m \u001b[32m290.4/290.4 kB\u001b[0m \u001b[31m25.0 MB/s\u001b[0m eta \u001b[36m0:00:00\u001b[0m\n",
            "\u001b[2K     \u001b[90m━━━━━━━━━━━━━━━━━━━━━━━━━━━━━━━━━━━━━━━━\u001b[0m \u001b[32m314.1/314.1 kB\u001b[0m \u001b[31m26.6 MB/s\u001b[0m eta \u001b[36m0:00:00\u001b[0m\n",
            "\u001b[2K     \u001b[90m━━━━━━━━━━━━━━━━━━━━━━━━━━━━━━━━━━━━━━━━\u001b[0m \u001b[32m75.6/75.6 kB\u001b[0m \u001b[31m6.0 MB/s\u001b[0m eta \u001b[36m0:00:00\u001b[0m\n",
            "\u001b[2K     \u001b[90m━━━━━━━━━━━━━━━━━━━━━━━━━━━━━━━━━━━━━━━━\u001b[0m \u001b[32m141.9/141.9 kB\u001b[0m \u001b[31m17.0 MB/s\u001b[0m eta \u001b[36m0:00:00\u001b[0m\n",
            "\u001b[2K     \u001b[90m━━━━━━━━━━━━━━━━━━━━━━━━━━━━━━━━━━━━━━━━\u001b[0m \u001b[32m1.8/1.8 MB\u001b[0m \u001b[31m27.6 MB/s\u001b[0m eta \u001b[36m0:00:00\u001b[0m\n",
            "\u001b[2K     \u001b[90m━━━━━━━━━━━━━━━━━━━━━━━━━━━━━━━━━━━━━━━━\u001b[0m \u001b[32m77.9/77.9 kB\u001b[0m \u001b[31m7.0 MB/s\u001b[0m eta \u001b[36m0:00:00\u001b[0m\n",
            "\u001b[2K     \u001b[90m━━━━━━━━━━━━━━━━━━━━━━━━━━━━━━━━━━━━━━━━\u001b[0m \u001b[32m58.3/58.3 kB\u001b[0m \u001b[31m4.9 MB/s\u001b[0m eta \u001b[36m0:00:00\u001b[0m\n",
            "\u001b[2K     \u001b[90m━━━━━━━━━━━━━━━━━━━━━━━━━━━━━━━━━━━━━━━━\u001b[0m \u001b[32m49.3/49.3 kB\u001b[0m \u001b[31m4.6 MB/s\u001b[0m eta \u001b[36m0:00:00\u001b[0m\n",
            "\u001b[?25h"
          ]
        }
      ],
      "source": [
        "%pip install llama-index-readers-file llama-index-llms-openai  llama-index-embeddings-openai llama-index-agent-openai -q"
      ]
    },
    {
      "cell_type": "markdown",
      "source": [
        "### **Connect to OpenaAI**\n",
        "- But later we used hugging face, as there was token limit crossed in OpenAI :("
      ],
      "metadata": {
        "id": "VcFJ0uw9W84a"
      }
    },
    {
      "cell_type": "code",
      "source": [
        "import os\n",
        "from google.colab import userdata\n",
        "OPENAI_API_KEY=userdata.get('OPENAI_API_KEY')\n",
        "os.environ[\"OPENAI_API_KEY\"]=OPENAI_API_KEY"
      ],
      "metadata": {
        "id": "Zn2FYviPFDN5"
      },
      "execution_count": 2,
      "outputs": []
    },
    {
      "cell_type": "markdown",
      "source": [
        "# **Load the Uber HTML file data from website**\n",
        "- Unzip the files and keep that file inside - **/content/data** folder"
      ],
      "metadata": {
        "id": "2rLybyovXEzw"
      }
    },
    {
      "cell_type": "code",
      "source": [
        "!mkdir data\n",
        "#Create blank data folder"
      ],
      "metadata": {
        "id": "9_Z2fjXaFIvy"
      },
      "execution_count": 3,
      "outputs": []
    },
    {
      "cell_type": "code",
      "source": [
        "!wget \"https://www.dropbox.com/s/948jr9cfs7fgj99/UBER.zip?dl=1\" -O data/UBER.zip\n",
        "#Read UBER.zip file from above link and save inside data folder"
      ],
      "metadata": {
        "colab": {
          "base_uri": "https://localhost:8080/"
        },
        "id": "rpfOnUCSFVFL",
        "outputId": "a16905fa-44c7-47ea-b354-222dcb72a568"
      },
      "execution_count": 6,
      "outputs": [
        {
          "output_type": "stream",
          "name": "stdout",
          "text": [
            "--2024-05-07 13:39:51--  https://www.dropbox.com/s/948jr9cfs7fgj99/UBER.zip?dl=1\n",
            "Resolving www.dropbox.com (www.dropbox.com)... 162.125.3.18, 2620:100:6019:18::a27d:412\n",
            "Connecting to www.dropbox.com (www.dropbox.com)|162.125.3.18|:443... connected.\n",
            "HTTP request sent, awaiting response... 302 Found\n",
            "Location: /s/dl/948jr9cfs7fgj99/UBER.zip [following]\n",
            "--2024-05-07 13:39:51--  https://www.dropbox.com/s/dl/948jr9cfs7fgj99/UBER.zip\n",
            "Reusing existing connection to www.dropbox.com:443.\n",
            "HTTP request sent, awaiting response... 302 Found\n",
            "Location: https://uc8c8868e2824cfd8f2b71d8ac0d.dl.dropboxusercontent.com/cd/0/get/CSddsIAVBxpVH5nZE1uYd1oDms5bPsaMmB31i3eBlbFQhup8Hyozp7_OMJSu5EsJMo2LA5tK6YDHZT8wr3sIL12M2vQ8zFHWM6pVmgasp2WxWs894XGghbIEo9W8NzetVIsNKmGxBbo95tcQympDMVO3/file?dl=1# [following]\n",
            "--2024-05-07 13:39:51--  https://uc8c8868e2824cfd8f2b71d8ac0d.dl.dropboxusercontent.com/cd/0/get/CSddsIAVBxpVH5nZE1uYd1oDms5bPsaMmB31i3eBlbFQhup8Hyozp7_OMJSu5EsJMo2LA5tK6YDHZT8wr3sIL12M2vQ8zFHWM6pVmgasp2WxWs894XGghbIEo9W8NzetVIsNKmGxBbo95tcQympDMVO3/file?dl=1\n",
            "Resolving uc8c8868e2824cfd8f2b71d8ac0d.dl.dropboxusercontent.com (uc8c8868e2824cfd8f2b71d8ac0d.dl.dropboxusercontent.com)... 162.125.3.15, 2620:100:6018:15::a27d:30f\n",
            "Connecting to uc8c8868e2824cfd8f2b71d8ac0d.dl.dropboxusercontent.com (uc8c8868e2824cfd8f2b71d8ac0d.dl.dropboxusercontent.com)|162.125.3.15|:443... connected.\n",
            "HTTP request sent, awaiting response... 200 OK\n",
            "Length: 1820227 (1.7M) [application/binary]\n",
            "Saving to: ‘data/UBER.zip’\n",
            "\n",
            "data/UBER.zip       100%[===================>]   1.74M  --.-KB/s    in 0.07s   \n",
            "\n",
            "2024-05-07 13:39:52 (24.8 MB/s) - ‘data/UBER.zip’ saved [1820227/1820227]\n",
            "\n"
          ]
        }
      ]
    },
    {
      "cell_type": "code",
      "source": [
        "!unzip data/UBER.zip -d data\n",
        "#Unzip that file inside Local data folder"
      ],
      "metadata": {
        "colab": {
          "base_uri": "https://localhost:8080/"
        },
        "id": "4nfUGuhZFkYd",
        "outputId": "f90d5ea7-01c2-432d-c2a7-d9a2da54aad5"
      },
      "execution_count": 7,
      "outputs": [
        {
          "output_type": "stream",
          "name": "stdout",
          "text": [
            "Archive:  data/UBER.zip\n",
            "   creating: data/UBER/\n",
            "  inflating: data/UBER/UBER_2021.html  \n",
            "  inflating: data/__MACOSX/UBER/._UBER_2021.html  \n",
            "  inflating: data/UBER/UBER_2020.html  \n",
            "  inflating: data/__MACOSX/UBER/._UBER_2020.html  \n",
            "  inflating: data/UBER/UBER_2019.html  \n",
            "  inflating: data/__MACOSX/UBER/._UBER_2019.html  \n",
            "  inflating: data/UBER/UBER_2022.html  \n",
            "  inflating: data/__MACOSX/UBER/._UBER_2022.html  \n"
          ]
        }
      ]
    },
    {
      "cell_type": "markdown",
      "source": [
        "# **Read HTML file from Llamaindex UnstructuredReader**"
      ],
      "metadata": {
        "id": "5wTJQRa6XiPU"
      }
    },
    {
      "cell_type": "code",
      "source": [
        "from llama_index.readers.file import UnstructuredReader #To read HTML File\n",
        "from pathlib import Path\n",
        "import nltk\n",
        "\n",
        "#download this averaged_perceptron_tagger package to support UnstructuredReader()\n",
        "nltk.download('averaged_perceptron_tagger')"
      ],
      "metadata": {
        "id": "Sw9Kl-HhFrYh",
        "colab": {
          "base_uri": "https://localhost:8080/"
        },
        "outputId": "ebadb101-798d-469d-ad56-ad4cc7d2c53c"
      },
      "execution_count": 8,
      "outputs": [
        {
          "output_type": "stream",
          "name": "stderr",
          "text": [
            "[nltk_data] Downloading package averaged_perceptron_tagger to\n",
            "[nltk_data]     /root/nltk_data...\n",
            "[nltk_data]   Unzipping taggers/averaged_perceptron_tagger.zip.\n"
          ]
        },
        {
          "output_type": "execute_result",
          "data": {
            "text/plain": [
              "True"
            ]
          },
          "metadata": {},
          "execution_count": 8
        }
      ]
    },
    {
      "cell_type": "markdown",
      "source": [
        "### **Start read the html and save doc in year wise Dictionary**"
      ],
      "metadata": {
        "id": "BqJ3aZ9lZOeE"
      }
    },
    {
      "cell_type": "code",
      "source": [
        "!pip install unstructured -q"
      ],
      "metadata": {
        "colab": {
          "base_uri": "https://localhost:8080/"
        },
        "id": "0KBNo9rFZXNI",
        "outputId": "c57b007a-ff76-475a-9292-f3edf5efcd4f"
      },
      "execution_count": 9,
      "outputs": [
        {
          "output_type": "stream",
          "name": "stdout",
          "text": [
            "\u001b[2K     \u001b[90m━━━━━━━━━━━━━━━━━━━━━━━━━━━━━━━━━━━━━━━━\u001b[0m \u001b[32m1.9/1.9 MB\u001b[0m \u001b[31m8.3 MB/s\u001b[0m eta \u001b[36m0:00:00\u001b[0m\n",
            "\u001b[2K     \u001b[90m━━━━━━━━━━━━━━━━━━━━━━━━━━━━━━━━━━━━━━━━\u001b[0m \u001b[32m433.8/433.8 kB\u001b[0m \u001b[31m42.3 MB/s\u001b[0m eta \u001b[36m0:00:00\u001b[0m\n",
            "\u001b[2K     \u001b[90m━━━━━━━━━━━━━━━━━━━━━━━━━━━━━━━━━━━━━━━━\u001b[0m \u001b[32m274.7/274.7 kB\u001b[0m \u001b[31m32.3 MB/s\u001b[0m eta \u001b[36m0:00:00\u001b[0m\n",
            "\u001b[2K     \u001b[90m━━━━━━━━━━━━━━━━━━━━━━━━━━━━━━━━━━━━━━━━\u001b[0m \u001b[32m981.5/981.5 kB\u001b[0m \u001b[31m49.2 MB/s\u001b[0m eta \u001b[36m0:00:00\u001b[0m\n",
            "\u001b[?25h  Preparing metadata (setup.py) ... \u001b[?25l\u001b[?25hdone\n",
            "\u001b[2K     \u001b[90m━━━━━━━━━━━━━━━━━━━━━━━━━━━━━━━━━━━━━━━━\u001b[0m \u001b[32m3.4/3.4 MB\u001b[0m \u001b[31m30.2 MB/s\u001b[0m eta \u001b[36m0:00:00\u001b[0m\n",
            "\u001b[2K     \u001b[90m━━━━━━━━━━━━━━━━━━━━━━━━━━━━━━━━━━━━━━━━\u001b[0m \u001b[32m80.8/80.8 kB\u001b[0m \u001b[31m6.9 MB/s\u001b[0m eta \u001b[36m0:00:00\u001b[0m\n",
            "\u001b[?25h  Building wheel for langdetect (setup.py) ... \u001b[?25l\u001b[?25hdone\n"
          ]
        }
      ]
    },
    {
      "cell_type": "code",
      "source": [
        "years=[2019,2020,2021,2022] #Yearwise HTML file\n",
        "\n",
        "#Create 1 html content by looping through 4 files\n",
        "all_doc=[]\n",
        "doc_set={}\n",
        "\n",
        "#Create UnstructuredReader object\n",
        "loader=UnstructuredReader()"
      ],
      "metadata": {
        "id": "LIxoROGXG4Q7"
      },
      "execution_count": 10,
      "outputs": []
    },
    {
      "cell_type": "code",
      "source": [
        "#loader.load_data(file=Path(f\"/content/data/UBER/UBER_2019.html\"))"
      ],
      "metadata": {
        "id": "i8MYSYpNaPBJ"
      },
      "execution_count": 11,
      "outputs": []
    },
    {
      "cell_type": "code",
      "source": [
        "for year in years:\n",
        "  print(f\"/content/data/UBER/UBER_{year}.html\")\n",
        "\n",
        "  #Read the each HTML file\n",
        "  year_doc=loader.load_data(file=Path(f\"/content/data/UBER/UBER_{year}.html\"))\n",
        "\n",
        "  for doc in year_doc:\n",
        "    doc.metadata={\"year\":year}  #Read the metdata\n",
        "\n",
        "  doc_set[year]=year_doc  #Append Metdata\n",
        "  all_doc.extend(year_doc) #Append all data. Yeardoc is a list, jsut extended"
      ],
      "metadata": {
        "id": "S7NLrlicHIZa",
        "colab": {
          "base_uri": "https://localhost:8080/"
        },
        "outputId": "de109710-027b-4366-bbfc-3e8508bd43fb"
      },
      "execution_count": 11,
      "outputs": [
        {
          "output_type": "stream",
          "name": "stdout",
          "text": [
            "/content/data/UBER/UBER_2019.html\n",
            "/content/data/UBER/UBER_2020.html\n",
            "/content/data/UBER/UBER_2021.html\n",
            "/content/data/UBER/UBER_2022.html\n"
          ]
        }
      ]
    },
    {
      "cell_type": "code",
      "source": [
        "#doc_set[2019]"
      ],
      "metadata": {
        "id": "Jq5pYj1sI1Nj"
      },
      "execution_count": null,
      "outputs": []
    },
    {
      "cell_type": "code",
      "source": [
        "#doc_set[2022]"
      ],
      "metadata": {
        "id": "VM5rlnOuJHfo"
      },
      "execution_count": null,
      "outputs": []
    },
    {
      "cell_type": "code",
      "source": [
        "#all_doc"
      ],
      "metadata": {
        "id": "WASIJbPIHMS6"
      },
      "execution_count": null,
      "outputs": []
    },
    {
      "cell_type": "markdown",
      "source": [
        "# **Apply Embedding and create VectorIndex by Llamaindex properties**"
      ],
      "metadata": {
        "id": "r-Yjg1-ZbiPS"
      }
    },
    {
      "cell_type": "code",
      "source": [
        "from llama_index.core import VectorStoreIndex, StorageContext\n",
        "from llama_index.embeddings.openai import OpenAIEmbedding\n",
        "from llama_index.llms.openai import OpenAI\n",
        "from llama_index.core import Settings  # This Settings required to set all hyperparameter value"
      ],
      "metadata": {
        "id": "NhaaU1azIwJM"
      },
      "execution_count": 12,
      "outputs": []
    },
    {
      "cell_type": "markdown",
      "source": [
        "## **Store/Set all parameter/Config during run time**"
      ],
      "metadata": {
        "id": "9OtTyzuZb9qW"
      }
    },
    {
      "cell_type": "code",
      "source": [
        "!pip install llama-index-embeddings-huggingface llama-index-embeddings-instructor -q"
      ],
      "metadata": {
        "colab": {
          "base_uri": "https://localhost:8080/"
        },
        "id": "cNORwVwqb8o2",
        "outputId": "bdfd4160-31c7-4cd7-f110-cd2edaa56cf3"
      },
      "execution_count": 13,
      "outputs": [
        {
          "output_type": "stream",
          "name": "stdout",
          "text": [
            "\u001b[?25l     \u001b[90m━━━━━━━━━━━━━━━━━━━━━━━━━━━━━━━━━━━━━━━━\u001b[0m \u001b[32m0.0/171.5 kB\u001b[0m \u001b[31m?\u001b[0m eta \u001b[36m-:--:--\u001b[0m\r\u001b[2K     \u001b[91m━━━━━━━━━\u001b[0m\u001b[91m╸\u001b[0m\u001b[90m━━━━━━━━━━━━━━━━━━━━━━━━━━━━━━\u001b[0m \u001b[32m41.0/171.5 kB\u001b[0m \u001b[31m1.1 MB/s\u001b[0m eta \u001b[36m0:00:01\u001b[0m\r\u001b[2K     \u001b[91m━━━━━━━━━━━━━━━━━━━━━━━━━━━━━━━━━\u001b[0m\u001b[90m╺\u001b[0m\u001b[90m━━━━━━\u001b[0m \u001b[32m143.4/171.5 kB\u001b[0m \u001b[31m2.1 MB/s\u001b[0m eta \u001b[36m0:00:01\u001b[0m\r\u001b[2K     \u001b[90m━━━━━━━━━━━━━━━━━━━━━━━━━━━━━━━━━━━━━━━━\u001b[0m \u001b[32m171.5/171.5 kB\u001b[0m \u001b[31m1.9 MB/s\u001b[0m eta \u001b[36m0:00:00\u001b[0m\n",
            "\u001b[?25h"
          ]
        }
      ]
    },
    {
      "cell_type": "code",
      "source": [
        "#Either this(Settings) way or we can use # ServiceContext: this is to set parameter. # It in new version\n",
        "Settings.chunk_size=512\n",
        "Settings.chunk_overlap=64\n",
        "Settings.llm=OpenAI(model=\"gpt-3.5-turbo\")\n",
        "#Settings.embed_model=OpenAIEmbedding(model=\"text-embedding-3-small\") # OpenAI token limit crossed, so using Hugging face embedding\n",
        "\n",
        "# Import embedding model from hugging face\n",
        "from llama_index.embeddings.huggingface import HuggingFaceEmbedding\n",
        "Settings.embed_model=HuggingFaceEmbedding(model_name=\"sentence-transformers/all-mpnet-base-v2\")\n",
        "\n",
        "\n",
        "#OR\n",
        "\n",
        "#Service_Context=ServiceContext.from_defaults(\n",
        "#    chunk_size=1024,\n",
        "#   llm=llm, #Mistral model\n",
        "#    embed_model=embed_model #define embedding model\n",
        "#)"
      ],
      "metadata": {
        "id": "CzXODKL4KQcL",
        "colab": {
          "base_uri": "https://localhost:8080/",
          "height": 493,
          "referenced_widgets": [
            "6a89d391317b42cbb66f6497ed0d687a",
            "e3ed8460916d42478df943829a6a290a",
            "805785f6225c4dd2a846730899e78a7d",
            "1a26e83fa42e490992e832ebdb79a319",
            "2abb2f4bd7d54f11bb5f657483047a21",
            "71d8d739cbdb45a7810d416c9f533c7c",
            "5076772e4c8c4caa98ea9fb116b36712",
            "0819d7186d8541389f2b7e06f8a3c987",
            "c253a34ae4d34cd59541fccd935d4285",
            "6b063750dd424e43a06cd14405297b68",
            "f16c345db8d8449c99fde2919932a52e",
            "449e017ca4d24727b50b35b60d5ff271",
            "749b62f73799412da4ed6df1ef1f4142",
            "1c5840e067844daab32173efc4a2acc9",
            "d620d7fe86a249139a90f01ea55eec4c",
            "59f5528355a94f13a43f201af86d14da",
            "43734e048a924f928e83f6fcc9e5eca1",
            "182fd28d1ea343759bace2c551eb6534",
            "1b33a805fb2e46559412defe0db909a1",
            "f332857614f54a27aa1e0a17ce9bf014",
            "994946bf77294db8a37f90f9590f50c3",
            "9ab715d48acb4751aa19292ce1315da4",
            "19c81e81ea774539b349a90cb57f7697",
            "7348df49b7664f4994e26f3e04e25163",
            "a5f5559c250f427cbc1c5e1275bbf1bd",
            "5f5c9a1cb8144c58968c59b1e407ee07",
            "d1fc61387c8e4dc480453196ac7192bc",
            "b5e0271d094a42fb9cc634e5d269420d",
            "9d7510d0bb634f4fbb7b55e4aa8acb93",
            "3c2bdead766f4bcabf8e4cec272c6c25",
            "05471bfddd0d43db96fbe17754c027eb",
            "01afbe84e34749e38d5544b5ce84688c",
            "fb7655f679474bd1b5e5a75574d4123e",
            "a5ce60e4d41745d7b499dead102ac22d",
            "643c897bccdf4971a05bdb4be282dcae",
            "6dc074a9d9f842efab555d4295d8f245",
            "73864e31fa2c4a2a9129304fa7f74a92",
            "4201fde29d9542c2ad193baed40ccc71",
            "adf5bed186c84865ad37607121c693df",
            "e9b328cc118841a7becc1abcde8d3ad8",
            "9b7711615d5f472fad80b8b18a752ff4",
            "962ad0c3174046eaa6038b655e3e0b2e",
            "8c73a01b799b42c59423731dc774c32e",
            "ec821f6b795a41cabffef62c886c85ca",
            "b1f40ae4270b4624bbfc546c287bc4b4",
            "0f1f9f4b046e4ab48465986f7af297c7",
            "e77dc123cc6148179b1fb36e5ef3144a",
            "1e9679dba55d4fd4b459d2efd5f36de1",
            "4048a1e8a5b94465830dafbb7dc92095",
            "f900a0f948484cd997538728a4d1e1cf",
            "e5c2fd6c7ce140e7b3c21a9e6b2d746e",
            "ea8b08d166454783a3cd16d99ea8ef91",
            "0d4dbf3560524fb89e6d00625a65aae2",
            "e9d9489a414c40aaa19de08c331932a5",
            "d43a24e6ed10477d99aa0ecf8c68b897",
            "7d76b77e04584590b2fbf17eb9c11eaa",
            "4d270a14e7e6471caa6bc37a3f5e1177",
            "75cc3017db2c49399ab2b7d0e8e441c4",
            "96c369292e2d42f1ba40163926b30938",
            "c657e19230064726ba2872cef5d69e23",
            "2e1657c4076644d6ad9af2d7c1fb9a67",
            "c3fdc7e2dd0e480bb5f9c716b59245e4",
            "5dfa34b7ebb84433af976766c2f3723e",
            "d8f8eb15e87f4136a161c40864c58014",
            "1f20223b30ab4c7b83e2373988d0a5e5",
            "805524d199be4e2cb33defb7921da388",
            "31b430d5a1fd4e1495ea5edc747de570",
            "b94512e094de47f1ae094c97d030b942",
            "d4e98b9aa5df47a39ab9135c6e64bb6c",
            "40de3b7bcce640f4ae9d2a7c326aa48a",
            "f5a1cdaf8339427da2278454ce4a87a2",
            "1234f153095648279f5d209ececcbe4e",
            "c0a9b6980cbc42468ca991f993bc68b9",
            "ffb1c627a77e4f52a13c2f13d9043e3e",
            "e916a41157e042a4b0b1cf6b6269ee5b",
            "5a9c1fab818d4604af9459020300bfab",
            "feee99f97a544ea3a5efb92db7876bad",
            "03f50aac9b564d1f812d0db492cc6ed2",
            "30717a836f8540259543c09b6258a225",
            "90288f88f71c4f5bb0a5dd18c01bf422",
            "7fdbfa9ab2e744edb103148df27e2e0c",
            "9db8220bdf444499afc89b22543f77c0",
            "6afdc8fd88724b609c5e9aafb9d29a46",
            "7fab643eb39c402eb86fe0796c087fd5",
            "fb50608805a445989ffa907cae405597",
            "a686f8e9a89c4d4797db2e55807e17d6",
            "225af6d01ee143b2b6c712e6f173c365",
            "825c7ad6d1364291ade63626df2d04b3",
            "43bbfb04bb85458aa74610fae0e7698c",
            "e67260c72f2c43aeb905ce32a167426e",
            "adc8e1978d5c4e34a2b13583e91a3081",
            "989f30436b0a4658b8fe9ca7314e53ca",
            "0c77084cc10e473d8b6fd02cd367d331",
            "e8589b04078e445cb9247949d69214ee",
            "4fb706f048ae4577ad257afb84fb45af",
            "e8d8f9b033234f34bd837d18a256b84e",
            "84b84ca0235142868d776d6c8129eec8",
            "0de284a4e9f14356843d5b975dda1619",
            "7d133ae19e9043df86c1bc3b72b6043a",
            "61a7060306ab41909f44132af063863d",
            "74197d363ce4490bbf363ab10b9b3efe",
            "682d65649e86486c9bc4d9f7c6794c7c",
            "94a3fe3703954736b78b1c98a1d611a5",
            "e53ab9a1e3764b60ac88bb26c650cfd5",
            "e8c1cbbb0f92436588fefc9a9089d064",
            "499a571066e74baa9f962884134cb0ad",
            "a164f3df793b4de695a137094614b614",
            "cac8be0059584e58b032aaa8821278ea",
            "319b859605334281b941161cf84897fc",
            "9bc9870933974e639298ce66b83a1945",
            "2e5dee81c48a42b7ad9c2273d21f2087",
            "8657d58586cc491993b5a1afc6ecacb7",
            "b76faa6b93854297be36360f66b9cc51",
            "1dc2a63c42d846449092bc6e0462cb4b",
            "ae3e1e7442c74b358197e415d5ee45ce",
            "562fdcb8ca374fe4816b9e5a533576f9",
            "451371f3faab44ba99e9082bf2debec6",
            "522fcc8ff0044f87b4677b4aec841c5f",
            "b1b07248e7c645d4b40580dc52ae40e6",
            "a8d1a26f8a004b9c8295a5def626a1f1",
            "74fc55025535423bb4e5380711f85acb"
          ]
        },
        "outputId": "e2d86ece-52db-4c04-f936-19b8736f47a0"
      },
      "execution_count": 14,
      "outputs": [
        {
          "output_type": "stream",
          "name": "stderr",
          "text": [
            "/usr/local/lib/python3.10/dist-packages/huggingface_hub/utils/_token.py:88: UserWarning: \n",
            "The secret `HF_TOKEN` does not exist in your Colab secrets.\n",
            "To authenticate with the Hugging Face Hub, create a token in your settings tab (https://huggingface.co/settings/tokens), set it as secret in your Google Colab and restart your session.\n",
            "You will be able to reuse this secret in all of your notebooks.\n",
            "Please note that authentication is recommended but still optional to access public models or datasets.\n",
            "  warnings.warn(\n"
          ]
        },
        {
          "output_type": "display_data",
          "data": {
            "text/plain": [
              "modules.json:   0%|          | 0.00/349 [00:00<?, ?B/s]"
            ],
            "application/vnd.jupyter.widget-view+json": {
              "version_major": 2,
              "version_minor": 0,
              "model_id": "6a89d391317b42cbb66f6497ed0d687a"
            }
          },
          "metadata": {}
        },
        {
          "output_type": "display_data",
          "data": {
            "text/plain": [
              "config_sentence_transformers.json:   0%|          | 0.00/116 [00:00<?, ?B/s]"
            ],
            "application/vnd.jupyter.widget-view+json": {
              "version_major": 2,
              "version_minor": 0,
              "model_id": "449e017ca4d24727b50b35b60d5ff271"
            }
          },
          "metadata": {}
        },
        {
          "output_type": "display_data",
          "data": {
            "text/plain": [
              "README.md:   0%|          | 0.00/10.6k [00:00<?, ?B/s]"
            ],
            "application/vnd.jupyter.widget-view+json": {
              "version_major": 2,
              "version_minor": 0,
              "model_id": "19c81e81ea774539b349a90cb57f7697"
            }
          },
          "metadata": {}
        },
        {
          "output_type": "display_data",
          "data": {
            "text/plain": [
              "sentence_bert_config.json:   0%|          | 0.00/53.0 [00:00<?, ?B/s]"
            ],
            "application/vnd.jupyter.widget-view+json": {
              "version_major": 2,
              "version_minor": 0,
              "model_id": "a5ce60e4d41745d7b499dead102ac22d"
            }
          },
          "metadata": {}
        },
        {
          "output_type": "display_data",
          "data": {
            "text/plain": [
              "config.json:   0%|          | 0.00/571 [00:00<?, ?B/s]"
            ],
            "application/vnd.jupyter.widget-view+json": {
              "version_major": 2,
              "version_minor": 0,
              "model_id": "b1f40ae4270b4624bbfc546c287bc4b4"
            }
          },
          "metadata": {}
        },
        {
          "output_type": "display_data",
          "data": {
            "text/plain": [
              "model.safetensors:   0%|          | 0.00/438M [00:00<?, ?B/s]"
            ],
            "application/vnd.jupyter.widget-view+json": {
              "version_major": 2,
              "version_minor": 0,
              "model_id": "7d76b77e04584590b2fbf17eb9c11eaa"
            }
          },
          "metadata": {}
        },
        {
          "output_type": "display_data",
          "data": {
            "text/plain": [
              "tokenizer_config.json:   0%|          | 0.00/363 [00:00<?, ?B/s]"
            ],
            "application/vnd.jupyter.widget-view+json": {
              "version_major": 2,
              "version_minor": 0,
              "model_id": "31b430d5a1fd4e1495ea5edc747de570"
            }
          },
          "metadata": {}
        },
        {
          "output_type": "display_data",
          "data": {
            "text/plain": [
              "vocab.txt:   0%|          | 0.00/232k [00:00<?, ?B/s]"
            ],
            "application/vnd.jupyter.widget-view+json": {
              "version_major": 2,
              "version_minor": 0,
              "model_id": "03f50aac9b564d1f812d0db492cc6ed2"
            }
          },
          "metadata": {}
        },
        {
          "output_type": "display_data",
          "data": {
            "text/plain": [
              "tokenizer.json:   0%|          | 0.00/466k [00:00<?, ?B/s]"
            ],
            "application/vnd.jupyter.widget-view+json": {
              "version_major": 2,
              "version_minor": 0,
              "model_id": "43bbfb04bb85458aa74610fae0e7698c"
            }
          },
          "metadata": {}
        },
        {
          "output_type": "display_data",
          "data": {
            "text/plain": [
              "special_tokens_map.json:   0%|          | 0.00/239 [00:00<?, ?B/s]"
            ],
            "application/vnd.jupyter.widget-view+json": {
              "version_major": 2,
              "version_minor": 0,
              "model_id": "61a7060306ab41909f44132af063863d"
            }
          },
          "metadata": {}
        },
        {
          "output_type": "display_data",
          "data": {
            "text/plain": [
              "1_Pooling/config.json:   0%|          | 0.00/190 [00:00<?, ?B/s]"
            ],
            "application/vnd.jupyter.widget-view+json": {
              "version_major": 2,
              "version_minor": 0,
              "model_id": "2e5dee81c48a42b7ad9c2273d21f2087"
            }
          },
          "metadata": {}
        }
      ]
    },
    {
      "cell_type": "markdown",
      "source": [
        "## **For Each year create the Index**\n",
        "- Here Index is nothing but **Vector Database**. Created this index inside **storage folder yearwise**\n",
        "\n",
        "-  **Similarly we can create multiple index** regarding **multiple data or multiple files or multiple year**"
      ],
      "metadata": {
        "id": "RWFkmN9KL83F"
      }
    },
    {
      "cell_type": "code",
      "source": [
        "!mkdir storage"
      ],
      "metadata": {
        "id": "j6mgoEujjiYk"
      },
      "execution_count": 15,
      "outputs": []
    },
    {
      "cell_type": "code",
      "source": [
        "index_set={}  #Blank Index\n",
        "\n",
        "for year in years:\n",
        "\n",
        "\n",
        "  storage_context=StorageContext.from_defaults() # This used to set any other External Vectordb, if not mentioned, it takes default\n",
        "\n",
        "  # All parameter which we set above under Settings, will be passed here automatically during index creation\n",
        "  # Ex:  Settings.chunk_size, Settings.chunk_overlap, Settings.llm, Settings.embed_model\n",
        "\n",
        "  # Create index - which saved in in-memory vectore store by llamaindex\n",
        "  index=VectorStoreIndex.from_documents(\n",
        "                                doc_set[year],\n",
        "                                storage_context=storage_context,\n",
        "                                # embed_model : Here default it takes OpenAIEmbedding which set above\n",
        "                                 )\n",
        "  #Create index - which saved in in-memory vectore store by llamaindex\n",
        "  #index = MultiModalVectorStoreIndex.from_documents(documents,\n",
        "  #                                                  service_context=Service_Context,  #this is to set Chunk size etc parameter\n",
        "  #                                                  storage_context=storage_context, # This used to set External Vectordb\n",
        "  #                                                  embed_model =embed_model)\n",
        "\n",
        "  #Save yearwise index inside Dictionary ; {Year:Index}\n",
        "  index_set[year]=index\n",
        "\n",
        "  #Save/persist the index in local folder\n",
        "  storage_context.persist(persist_dir=f\"/content/storage/{year}\")"
      ],
      "metadata": {
        "id": "xh2Ype-XK7IL"
      },
      "execution_count": 16,
      "outputs": []
    },
    {
      "cell_type": "markdown",
      "source": [
        "# **Retrieval From In-memory Llamaindex Vectorestore using query_engine class**\n",
        "\n",
        "- https://github.com/run-llama/llama_index/blob/main/llama-index-core/llama_index/core/tools/query_engine.py\n"
      ],
      "metadata": {
        "id": "xIQJjmbghmDJ"
      }
    },
    {
      "cell_type": "code",
      "source": [
        "! pip install llama-index-question-gen-openai -q"
      ],
      "metadata": {
        "id": "GvPWNuE5lbf7"
      },
      "execution_count": 17,
      "outputs": []
    },
    {
      "cell_type": "code",
      "source": [
        "from llama_index.core.tools import QueryEngineTool, ToolMetadata\n",
        "from llama_index.core.query_engine import SubQuestionQueryEngine"
      ],
      "metadata": {
        "id": "qSv7EMYKT4ES"
      },
      "execution_count": 18,
      "outputs": []
    },
    {
      "cell_type": "markdown",
      "source": [
        "## **1. Create yearwise Individual query engine - individual_query_engine_tools**"
      ],
      "metadata": {
        "id": "4PEUiYhFmecZ"
      }
    },
    {
      "cell_type": "code",
      "source": [
        "individual_query_engine_tools = [\n",
        "    QueryEngineTool(\n",
        "        #Here every year is a individual query_engine\n",
        "        query_engine=index_set[year].as_query_engine(), #Pass the index/ index_set[year]\n",
        "        metadata=ToolMetadata(\n",
        "            name=f\"vector_index_{year}\",\n",
        "            description=(\n",
        "                \"useful for when you want to answer queries about the\"\n",
        "                f\" {year} for Uber\"\n",
        "                        ),\n",
        "                      ),\n",
        "    )\n",
        "    for year in years  # This helps to loop over each year and create list of individual_query_engine_tools\n",
        "]"
      ],
      "metadata": {
        "id": "IAYVPNlmUHM0"
      },
      "execution_count": 19,
      "outputs": []
    },
    {
      "cell_type": "code",
      "source": [
        "individual_query_engine_tools"
      ],
      "metadata": {
        "colab": {
          "base_uri": "https://localhost:8080/"
        },
        "id": "kt7UDvPbn7lr",
        "outputId": "3090f8b3-51f4-4c92-9ff9-eff46f76193b"
      },
      "execution_count": 20,
      "outputs": [
        {
          "output_type": "execute_result",
          "data": {
            "text/plain": [
              "[<llama_index.core.tools.query_engine.QueryEngineTool at 0x7f20b14c9e10>,\n",
              " <llama_index.core.tools.query_engine.QueryEngineTool at 0x7f20b14ca2f0>,\n",
              " <llama_index.core.tools.query_engine.QueryEngineTool at 0x7f20b14c9ae0>,\n",
              " <llama_index.core.tools.query_engine.QueryEngineTool at 0x7f20b14c98d0>]"
            ]
          },
          "metadata": {},
          "execution_count": 20
        }
      ]
    },
    {
      "cell_type": "markdown",
      "source": [
        "## **2. Create Entire query engine - query_engine tool**"
      ],
      "metadata": {
        "id": "T_3UsO8hmnnJ"
      }
    },
    {
      "cell_type": "code",
      "source": [
        "#Create query_engine using individual_query_engine_tools\n",
        "query_engine = SubQuestionQueryEngine.from_defaults(\n",
        "               query_engine_tools=individual_query_engine_tools,\n",
        "              )\n",
        "\n",
        "query_engine_tool = QueryEngineTool(\n",
        "    query_engine=query_engine,\n",
        "    metadata=ToolMetadata(\n",
        "        name=\"sub_question_query_engine\",\n",
        "        description=(\n",
        "            \"useful for when you want to answer queries that require analyzing\"\n",
        "            \" multiple SEC 10-K documents for Uber\"\n",
        "        ),\n",
        "    ),\n",
        ")"
      ],
      "metadata": {
        "id": "LC76_qjOYP7v"
      },
      "execution_count": 21,
      "outputs": []
    },
    {
      "cell_type": "code",
      "source": [
        "query_engine_tool"
      ],
      "metadata": {
        "colab": {
          "base_uri": "https://localhost:8080/"
        },
        "id": "q91ggEZ8Y_TN",
        "outputId": "b44542b3-c7ef-42ee-9c39-60dccad5d602"
      },
      "execution_count": 22,
      "outputs": [
        {
          "output_type": "execute_result",
          "data": {
            "text/plain": [
              "<llama_index.core.tools.query_engine.QueryEngineTool at 0x7f20b14c9cc0>"
            ]
          },
          "metadata": {},
          "execution_count": 22
        }
      ]
    },
    {
      "cell_type": "markdown",
      "source": [
        "## **3. Combine Individual Query engine and Entire query engine**"
      ],
      "metadata": {
        "id": "8wyZnkPpmy5q"
      }
    },
    {
      "cell_type": "code",
      "source": [
        "tools = individual_query_engine_tools + [query_engine_tool]"
      ],
      "metadata": {
        "id": "T258BnW4YcU5"
      },
      "execution_count": 23,
      "outputs": []
    },
    {
      "cell_type": "markdown",
      "source": [
        "## **4. Create Final Agent: Use OpenAIAgent and pass combined query engine-tools**\n",
        "\n",
        "- Here **OpenAI Agent** and **query engine** combination helps to keep the **memory of conversion** and provides **response**\n",
        "- Here **Agents** manages history also"
      ],
      "metadata": {
        "id": "1Fd5HqBimXps"
      }
    },
    {
      "cell_type": "code",
      "source": [
        "from llama_index.agent.openai import OpenAIAgent"
      ],
      "metadata": {
        "id": "vcAo_1hKVsGU"
      },
      "execution_count": 24,
      "outputs": []
    },
    {
      "cell_type": "code",
      "source": [
        " agent=OpenAIAgent.from_tools(tools,verbose=True) #Pass combined query engine-tools"
      ],
      "metadata": {
        "id": "t62hcdLZVyUy"
      },
      "execution_count": 25,
      "outputs": []
    },
    {
      "cell_type": "code",
      "source": [
        "response=agent.chat(\"hi i am sunny\")"
      ],
      "metadata": {
        "colab": {
          "base_uri": "https://localhost:8080/"
        },
        "id": "_cutCoWhZJe1",
        "outputId": "520e11e0-4033-4c3b-b37e-129fa3ad64d2"
      },
      "execution_count": 26,
      "outputs": [
        {
          "output_type": "stream",
          "name": "stdout",
          "text": [
            "Added user message to memory: hi i am sunny\n"
          ]
        }
      ]
    },
    {
      "cell_type": "code",
      "source": [
        "print(str(response))"
      ],
      "metadata": {
        "colab": {
          "base_uri": "https://localhost:8080/"
        },
        "id": "eH7DVCvaZNlD",
        "outputId": "1fecbabd-cac1-440c-b350-3bb9cf4a11ee"
      },
      "execution_count": 27,
      "outputs": [
        {
          "output_type": "stream",
          "name": "stdout",
          "text": [
            "Hello Sunny! How can I assist you today?\n"
          ]
        }
      ]
    },
    {
      "cell_type": "code",
      "source": [
        "response=agent.chat(\"what were some risk factor in 2020 with uber?\")"
      ],
      "metadata": {
        "colab": {
          "base_uri": "https://localhost:8080/"
        },
        "id": "toEJk8PuZVa7",
        "outputId": "f8b656bc-fca2-4596-869e-fb7266ca5680"
      },
      "execution_count": 28,
      "outputs": [
        {
          "output_type": "stream",
          "name": "stdout",
          "text": [
            "Added user message to memory: what were some risk factor in 2020 with uber?\n",
            "=== Calling Function ===\n",
            "Calling function: vector_index_2020 with args: {\"input\":\"risk factors\"}\n",
            "Got output: Some of the risk factors outlined in the context information include the adverse effects of the COVID-19 pandemic, potential reclassification of drivers as employees, intense competition in the mobility industry, significant losses incurred, challenges in attracting and maintaining platform users, operational and cultural challenges, negative media coverage affecting brand reputation, difficulties in managing growth, safety incidents impacting user retention, and risks associated with substantial investments in new technologies.\n",
            "========================\n",
            "\n"
          ]
        }
      ]
    },
    {
      "cell_type": "code",
      "source": [
        "print(str(response))"
      ],
      "metadata": {
        "colab": {
          "base_uri": "https://localhost:8080/"
        },
        "id": "oCxfTXOyZdtd",
        "outputId": "a4d977ab-3ce0-4034-ca76-3627e9d9f387"
      },
      "execution_count": 29,
      "outputs": [
        {
          "output_type": "stream",
          "name": "stdout",
          "text": [
            "In 2020, some of the risk factors for Uber included the adverse effects of the COVID-19 pandemic, potential reclassification of drivers as employees, intense competition in the mobility industry, significant losses, challenges in attracting and maintaining platform users, operational and cultural challenges, negative media coverage affecting brand reputation, difficulties in managing growth, safety incidents impacting user retention, and risks associated with substantial investments in new technologies.\n"
          ]
        }
      ]
    },
    {
      "cell_type": "code",
      "source": [
        "response=agent.chat(\"what were some good factor in 2020 with uber?\")"
      ],
      "metadata": {
        "colab": {
          "base_uri": "https://localhost:8080/"
        },
        "id": "ts3MIOF5ZgKl",
        "outputId": "55556dee-ec94-431f-e061-c991fe30825f"
      },
      "execution_count": 30,
      "outputs": [
        {
          "output_type": "stream",
          "name": "stdout",
          "text": [
            "Added user message to memory: what were some good factor in 2020 with uber?\n",
            "=== Calling Function ===\n",
            "Calling function: vector_index_2020 with args: {\"input\":\"positive factors\"}\n",
            "Got output: Equity incentives to attract and retain key personnel, rapid growth in the United States and internationally, and the implementation of reductions in workforce to optimize organizational structure.\n",
            "========================\n",
            "\n"
          ]
        }
      ]
    },
    {
      "cell_type": "code",
      "source": [
        "print(str(response))"
      ],
      "metadata": {
        "colab": {
          "base_uri": "https://localhost:8080/"
        },
        "id": "3LQPTtEMZqiF",
        "outputId": "2509a696-75fa-4184-83d3-1a62ead76c7d"
      },
      "execution_count": 31,
      "outputs": [
        {
          "output_type": "stream",
          "name": "stdout",
          "text": [
            "Some of the positive factors for Uber in 2020 included equity incentives to attract and retain key personnel, rapid growth in the United States and internationally, and the implementation of reductions in workforce to optimize organizational structure.\n"
          ]
        }
      ]
    },
    {
      "cell_type": "code",
      "source": [
        "response=agent.chat(\"i didn't get those risk factor can you explain me 3rd and 4th point\")"
      ],
      "metadata": {
        "colab": {
          "base_uri": "https://localhost:8080/"
        },
        "id": "z85fPWQJZtH0",
        "outputId": "ccb6495a-c4c1-4937-b592-863edd948a1e"
      },
      "execution_count": 32,
      "outputs": [
        {
          "output_type": "stream",
          "name": "stdout",
          "text": [
            "Added user message to memory: i didn't get those risk factor can you explain me 3rd and 4th point\n",
            "=== Calling Function ===\n",
            "Calling function: sub_question_query_engine with args: {\"input\": \"In 2020, what were the challenges in attracting and maintaining platform users for Uber?\"}\n",
            "Generated 2 sub questions.\n",
            "Got output: Error: asyncio.run() cannot be called from a running event loop\n",
            "========================\n",
            "\n",
            "=== Calling Function ===\n",
            "Calling function: sub_question_query_engine with args: {\"input\": \"In 2020, what were the operational and cultural challenges faced by Uber?\"}\n",
            "Generated 2 sub questions.\n",
            "Got output: Error: asyncio.run() cannot be called from a running event loop\n",
            "========================\n",
            "\n"
          ]
        }
      ]
    },
    {
      "cell_type": "code",
      "source": [
        "print(str(response))"
      ],
      "metadata": {
        "colab": {
          "base_uri": "https://localhost:8080/"
        },
        "id": "klXkEQNBZ_mC",
        "outputId": "3ac52c8e-d84b-46ad-eadb-6f5223195f72"
      },
      "execution_count": 33,
      "outputs": [
        {
          "output_type": "stream",
          "name": "stdout",
          "text": [
            "It seems there was an issue retrieving the specific details for the 3rd and 4th points regarding the challenges in attracting and maintaining platform users and the operational and cultural challenges faced by Uber in 2020. Let me try to provide a summary based on the general knowledge.\n",
            "\n",
            "In 2020, Uber faced challenges in attracting and maintaining platform users due to intense competition in the mobility industry. The company had to continuously innovate and offer competitive services to retain existing users and attract new ones.\n",
            "\n",
            "Regarding operational and cultural challenges, Uber may have encountered difficulties in managing its operations efficiently and aligning its organizational culture with its business goals. This could include issues related to internal processes, communication, and adapting to changes in the market.\n",
            "\n",
            "For more detailed information, I recommend referring to Uber's official reports or statements for a comprehensive understanding of these challenges in 2020.\n"
          ]
        }
      ]
    },
    {
      "cell_type": "code",
      "source": [
        "response=agent.chat(\"what is addition of 2+2?\")\n",
        "print(str(response))"
      ],
      "metadata": {
        "colab": {
          "base_uri": "https://localhost:8080/"
        },
        "id": "6D6vMMczaCSt",
        "outputId": "5aeff2ec-b845-486b-97e0-397babead08d"
      },
      "execution_count": 34,
      "outputs": [
        {
          "output_type": "stream",
          "name": "stdout",
          "text": [
            "Added user message to memory: what is addition of 2+2?\n",
            "The addition of 2 + 2 is 4.\n"
          ]
        }
      ]
    },
    {
      "cell_type": "code",
      "source": [
        "response=agent.chat(\"what was the revenu of uber in 2022?\")\n",
        "print(str(response))"
      ],
      "metadata": {
        "colab": {
          "base_uri": "https://localhost:8080/"
        },
        "id": "zZ3DHMMMaW9E",
        "outputId": "f5624137-fecc-494a-d9f7-5010519c57ed"
      },
      "execution_count": 35,
      "outputs": [
        {
          "output_type": "stream",
          "name": "stdout",
          "text": [
            "Added user message to memory: what was the revenu of uber in 2022?\n",
            "=== Calling Function ===\n",
            "Calling function: vector_index_2022 with args: {\"input\":\"revenue\"}\n",
            "Got output: Revenue increased by $14.4 billion in 2022 compared to 2021, primarily driven by a rise in Gross Bookings of 28%, or 33% on a constant currency basis. The growth in revenue was mainly due to increased Mobility Trip volumes as the business recovered from the impacts of COVID-19, a $4.8 billion increase in Freight Gross Bookings following the acquisition of Transplace, and a $3.9 billion net increase in Mobility revenue due to business model changes in the UK and accruals made for the resolution of historical claims in the UK related to the classification of drivers.\n",
            "========================\n",
            "\n",
            "In 2022, Uber's revenue increased by $14.4 billion compared to 2021. This growth was primarily driven by a rise in Gross Bookings of 28%, or 33% on a constant currency basis. The increase in revenue was attributed to factors such as increased Mobility Trip volumes as the business recovered from the impacts of COVID-19, a $4.8 billion increase in Freight Gross Bookings following the acquisition of Transplace, and a $3.9 billion net increase in Mobility revenue due to business model changes in the UK and accruals made for the resolution of historical claims in the UK related to the classification of drivers.\n"
          ]
        }
      ]
    },
    {
      "cell_type": "code",
      "source": [
        "response=agent.chat(\"can you multiply those previous number?\")\n",
        "print(str(response))"
      ],
      "metadata": {
        "colab": {
          "base_uri": "https://localhost:8080/"
        },
        "id": "r7BAxYlvabfr",
        "outputId": "74d36552-af16-47f1-eb3d-fd66ab7a9e95"
      },
      "execution_count": 36,
      "outputs": [
        {
          "output_type": "stream",
          "name": "stdout",
          "text": [
            "Added user message to memory: can you multiply those previous number?\n",
            "To multiply the revenue increase of $14.4 billion in 2022 by the rise in Gross Bookings of 28%, we would calculate:\n",
            "\n",
            "$14.4 billion * 28% = $4.032 billion\n",
            "\n",
            "Therefore, the result of multiplying the revenue increase by the rise in Gross Bookings is approximately $4.032 billion.\n"
          ]
        }
      ]
    },
    {
      "cell_type": "markdown",
      "source": [
        "> Respone: The multiplication of $14.4 billion by 14.4 billion is $205,920 billion. Additionally, the multiplication of 28 by 33 is 924.\n"
      ],
      "metadata": {
        "id": "8Xmqo3mNpifb"
      }
    },
    {
      "cell_type": "code",
      "source": [
        "response=agent.chat(\"can you multiply those previous to previous number?\")\n",
        "print(str(response))"
      ],
      "metadata": {
        "colab": {
          "base_uri": "https://localhost:8080/"
        },
        "id": "LT2l_eypa8s-",
        "outputId": "b320e9bc-9630-49c9-c60f-76add4664ec1"
      },
      "execution_count": 37,
      "outputs": [
        {
          "output_type": "stream",
          "name": "stdout",
          "text": [
            "Added user message to memory: can you multiply those previous to previous number?\n",
            "I apologize for the confusion, but I do not have access to the specific numbers mentioned in the previous to previous response. If you provide me with the numbers you are referring to, I would be happy to assist you with the multiplication calculation.\n"
          ]
        }
      ]
    },
    {
      "cell_type": "code",
      "source": [
        "response=agent.chat(\"can you multiply previos two number which you added?\")\n",
        "print(str(response))"
      ],
      "metadata": {
        "colab": {
          "base_uri": "https://localhost:8080/"
        },
        "id": "bwXdcSycbEvO",
        "outputId": "c67e05fd-3c6a-4644-d7e4-716c01112cd4"
      },
      "execution_count": 38,
      "outputs": [
        {
          "output_type": "stream",
          "name": "stdout",
          "text": [
            "Added user message to memory: can you multiply previos two number which you added?\n",
            "To multiply the revenue increase of $14.4 billion in 2022 by the rise in Gross Bookings of 28%, we calculated the result to be approximately $4.032 billion. \n",
            "\n",
            "Now, let's multiply this result by the constant currency basis increase of 33%:\n",
            "\n",
            "$4.032 billion * 33% = $1.33056 billion\n",
            "\n",
            "Therefore, the result of multiplying the previous two numbers (revenue increase by 28% and then by 33%) is approximately $1.33056 billion.\n"
          ]
        }
      ]
    },
    {
      "cell_type": "markdown",
      "source": [
        "> It supposed to remember previous Q and ans, but its not doing :("
      ],
      "metadata": {
        "id": "Cn_CzgvrqFqG"
      }
    },
    {
      "cell_type": "markdown",
      "source": [
        "# **WAY 2: Create Multiple Index on multiple PDF using Llamaindex retriver advanced properties**\n",
        "\n",
        "- In this example previosly created **Llama index vector/Index** are used. Not executed same step agin here\n",
        "\n",
        "- But this script not working due to LLMPredictor not imported, so commented all"
      ],
      "metadata": {
        "id": "ytJuoHvsqGoi"
      }
    },
    {
      "cell_type": "code",
      "source": [
        "# !pip install langchain llama_index -q\n",
        "# !pip install llama-index-llms-openai -q\n",
        "# !pip install llama-index-llms-langchain -q"
      ],
      "metadata": {
        "id": "m4LA5tjwWhIm"
      },
      "execution_count": 46,
      "outputs": []
    },
    {
      "cell_type": "code",
      "source": [
        "# from llama_index.core import SimpleDirectoryReader\n",
        "# from llama_index.core import  ServiceContext, VectorStoreIndex\n",
        "# #from llama_index.LLMPredictor import LLMPredictor\n",
        "# from llama_index.core.response.pprint_utils import pprint_response\n",
        "# from langchain import OpenAI\n",
        "\n",
        "# from llama_index.core.tools import QueryEngineTool, ToolMetadata\n",
        "# from llama_index.core.query_engine import SubQuestionQueryEngine\n",
        "\n",
        "# # Initiated LLM/ model_name=\"text-davinci-003\"\n",
        "# llm_predictor = LLMPredictor(llm=OpenAI(temperature=0, model_name=\"text-davinci-003\", max_tokens=-1, streaming=True))\n",
        "\n",
        "# #Define this LLM model as ServiceContext\n",
        "# service_context = ServiceContext.from_defaults(llm_predictor=llm_predictor)\n",
        "\n",
        "\n",
        "# march_2022 = SimpleDirectoryReader(input_files=[\"llama_index/docs/examples/data/10q/uber_10q_march_2022.pdf\"]).load_data()\n",
        "# june_2022 = SimpleDirectoryReader(input_files=[\"llama_index/docs/examples/data/10q/uber_10q_june_2022.pdf\"]).load_data()\n",
        "# sept_2022 = SimpleDirectoryReader(input_files=[\"llama_index/docs/examples/data/10q/uber_10q_sept_2022.pdf\"]).load_data()\n",
        "\n",
        "# march_index = VectorStoreIndex.from_documents(march_2022)\n",
        "# june_index = VectorStoreIndex.from_documents(june_2022)\n",
        "# sept_index = VectorStoreIndex.from_documents(sept_2022)\n",
        "\n",
        "# march_engine = march_index.as_query_engine(similarity_top_k=3)\n",
        "# june_engine = june_index.as_query_engine(similarity_top_k=3)\n",
        "# sept_engine = sept_index.as_query_engine(similarity_top_k=3)\n",
        "\n",
        "# query_engine_tools = [\n",
        "#     QueryEngineTool(\n",
        "#         query_engine=sept_engine,\n",
        "#         metadata=ToolMetadata(name='sept_22', description='Provides information about Uber quarterly financials ending September 2022')\n",
        "#     ),\n",
        "#     QueryEngineTool(\n",
        "#         query_engine=june_engine,\n",
        "#         metadata=ToolMetadata(name='june_22', description='Provides information about Uber quarterly financials ending June 2022')\n",
        "#     ),\n",
        "#     QueryEngineTool(\n",
        "#         query_engine=march_engine,\n",
        "#         metadata=ToolMetadata(name='march_22', description='Provides information about Uber quarterly financials ending March 2022')\n",
        "#     ),\n",
        "# ]\n",
        "\n",
        "# # Given a query, this query engine `SubQuestionQueryEngine ` will generate a “query plan”\n",
        "# # containing sub-queries against sub-documents before synthesizing the final answer.\n",
        "# s_engine = SubQuestionQueryEngine.from_defaults(query_engine_tools=query_engine_tools)\n",
        "\n",
        "# response = s_engine.query('Analyze Uber revenue growth over the latest two quarter filings')\n",
        "\n",
        "# print(response)"
      ],
      "metadata": {
        "id": "hUKvvv7QbRim"
      },
      "execution_count": null,
      "outputs": []
    },
    {
      "cell_type": "markdown",
      "source": [
        "# **WAY 3: Combined approcah using llamaindex and langchain**\n",
        "- Here **llama index -  VectorStoreIndex,SimpleDirectoryReader** features used and **langchain - agent/Tool, ConversationBufferMemory, ChatOpenAI** features used"
      ],
      "metadata": {
        "id": "EkkQTdjHsgoR"
      }
    },
    {
      "cell_type": "code",
      "source": [
        "!pip install langchain -q"
      ],
      "metadata": {
        "id": "Qijj-hGEfSCY"
      },
      "execution_count": 54,
      "outputs": []
    },
    {
      "cell_type": "code",
      "source": [
        "from langchain.agents import Tool\n",
        "from langchain.chains.conversation.memory import ConversationBufferMemory\n",
        "from langchain.chat_models import ChatOpenAI\n",
        "from langchain.agents import initialize_agent"
      ],
      "metadata": {
        "id": "zbwJQfWNfMPy"
      },
      "execution_count": 55,
      "outputs": []
    },
    {
      "cell_type": "code",
      "source": [
        "from llama_index.core import VectorStoreIndex,SimpleDirectoryReader"
      ],
      "metadata": {
        "id": "Va7S47-HfQeU"
      },
      "execution_count": 56,
      "outputs": []
    },
    {
      "cell_type": "markdown",
      "source": [
        "### Create data2 folder in colab inmemory and upload some pdf"
      ],
      "metadata": {
        "id": "cZmpk-gftUGE"
      }
    },
    {
      "cell_type": "code",
      "source": [
        "!mkdir data2"
      ],
      "metadata": {
        "id": "w6YYGwHOtX52"
      },
      "execution_count": 57,
      "outputs": []
    },
    {
      "cell_type": "code",
      "source": [
        "document=SimpleDirectoryReader('/content/data2').load_data()"
      ],
      "metadata": {
        "id": "5Rn5deI1fhHt"
      },
      "execution_count": 58,
      "outputs": []
    },
    {
      "cell_type": "markdown",
      "source": [
        "### Uploaded some pdf manually to this data2 folder"
      ],
      "metadata": {
        "id": "M90Faae2ZuBA"
      }
    },
    {
      "cell_type": "markdown",
      "source": [
        "## Create Direct index on document/pdf using **Llamaindex VectorStoreIndex** (Here no chunking/embedding done, automaticaly it created embedding using default llm embedding model)"
      ],
      "metadata": {
        "id": "tpHpIaysZ37_"
      }
    },
    {
      "cell_type": "code",
      "source": [
        "#LlamaIndex - index\n",
        "index = VectorStoreIndex.from_documents(documents=document)"
      ],
      "metadata": {
        "id": "9IV4AAVwfwHE"
      },
      "execution_count": 59,
      "outputs": []
    },
    {
      "cell_type": "markdown",
      "source": [
        "## Create langchain Tool structure.\n",
        "- **LlamaIndex retriver/as_query_engine from index** also used inside tool"
      ],
      "metadata": {
        "id": "Xbe2XSHnabHu"
      }
    },
    {
      "cell_type": "code",
      "source": [
        "tools=[\n",
        "    Tool(\n",
        "        # Use Langchain class - Tool\n",
        "        name = \"LlamaIndex\",  #Name of the Tool\n",
        "        func=lambda q: str(index.as_query_engine().query(q)),  #LlamaIndex retriver/as_query_engine from index\n",
        "        description=\"useful for when you want to answer questions about the author. The input to this tool should be a complete english sentence.\",\n",
        "        return_direct=True\n",
        "    ),\n",
        "\n",
        "]"
      ],
      "metadata": {
        "id": "BmhpWZYIf7Xc"
      },
      "execution_count": 60,
      "outputs": []
    },
    {
      "cell_type": "markdown",
      "source": [
        "## Mention the agent name and add langchains **ConversationBufferMemory** features"
      ],
      "metadata": {
        "id": "FPF5CjQcawi3"
      }
    },
    {
      "cell_type": "code",
      "source": [
        "#Mention the agent name\n",
        "agent=\"conversational-react-description\""
      ],
      "metadata": {
        "id": "eggwROlWgGVX"
      },
      "execution_count": 61,
      "outputs": []
    },
    {
      "cell_type": "code",
      "source": [
        "memory=ConversationBufferMemory(memory_key = \"chat_history\")"
      ],
      "metadata": {
        "id": "KyCP4pMegGa2"
      },
      "execution_count": 62,
      "outputs": []
    },
    {
      "cell_type": "markdown",
      "source": [
        "## Initialize **agent which is the final AGENT** by passing **llm(ChatOpenAI), tools,memory** detail"
      ],
      "metadata": {
        "id": "JybIVmbVbBof"
      }
    },
    {
      "cell_type": "code",
      "source": [
        "#Create LLM -  Used Openai gpt\n",
        "llm = ChatOpenAI(temperature=0)"
      ],
      "metadata": {
        "id": "_Cp1-mrSgQBd",
        "colab": {
          "base_uri": "https://localhost:8080/"
        },
        "outputId": "e5cc24be-684f-45e6-97b1-00966759e18d"
      },
      "execution_count": 63,
      "outputs": [
        {
          "output_type": "stream",
          "name": "stderr",
          "text": [
            "/usr/local/lib/python3.10/dist-packages/langchain_core/_api/deprecation.py:119: LangChainDeprecationWarning: The class `ChatOpenAI` was deprecated in LangChain 0.0.10 and will be removed in 0.3.0. An updated version of the class exists in the langchain-openai package and should be used instead. To use it run `pip install -U langchain-openai` and import as `from langchain_openai import ChatOpenAI`.\n",
            "  warn_deprecated(\n"
          ]
        }
      ]
    },
    {
      "cell_type": "code",
      "source": [
        "# initialize agent which is the final AGENT\n",
        "agent_executor=initialize_agent(tools,llm,agent,memory=memory)"
      ],
      "metadata": {
        "id": "4AhcIKGagWAE",
        "colab": {
          "base_uri": "https://localhost:8080/"
        },
        "outputId": "7133e123-981d-4b35-b6f2-848e7412ff0c"
      },
      "execution_count": 64,
      "outputs": [
        {
          "output_type": "stream",
          "name": "stderr",
          "text": [
            "/usr/local/lib/python3.10/dist-packages/langchain_core/_api/deprecation.py:119: LangChainDeprecationWarning: The function `initialize_agent` was deprecated in LangChain 0.1.0 and will be removed in 0.2.0. Use Use new agent constructor methods like create_react_agent, create_json_agent, create_structured_chat_agent, etc. instead.\n",
            "  warn_deprecated(\n"
          ]
        }
      ]
    },
    {
      "cell_type": "markdown",
      "source": [
        "## Test the final agent by passing user Q"
      ],
      "metadata": {
        "id": "1S2Kz5ufbVx3"
      }
    },
    {
      "cell_type": "code",
      "source": [
        "agent_executor.run(input=\"hi i am sunny\")"
      ],
      "metadata": {
        "colab": {
          "base_uri": "https://localhost:8080/",
          "height": 90
        },
        "id": "uPosA5PEgoyi",
        "outputId": "a27cd5cb-1b4c-4329-87db-70c2af69539e"
      },
      "execution_count": 65,
      "outputs": [
        {
          "output_type": "stream",
          "name": "stderr",
          "text": [
            "/usr/local/lib/python3.10/dist-packages/langchain_core/_api/deprecation.py:119: LangChainDeprecationWarning: The method `Chain.run` was deprecated in langchain 0.1.0 and will be removed in 0.2.0. Use invoke instead.\n",
            "  warn_deprecated(\n"
          ]
        },
        {
          "output_type": "execute_result",
          "data": {
            "text/plain": [
              "'Hello Sunny! How can I assist you today?'"
            ],
            "application/vnd.google.colaboratory.intrinsic+json": {
              "type": "string"
            }
          },
          "metadata": {},
          "execution_count": 65
        }
      ]
    },
    {
      "cell_type": "code",
      "source": [
        "agent_executor.run(input=\"what is RAG token?\")"
      ],
      "metadata": {
        "colab": {
          "base_uri": "https://localhost:8080/",
          "height": 52
        },
        "id": "tFWg_btqhWD5",
        "outputId": "b07449d0-7f3d-41d4-8fbe-38fb636ffb05"
      },
      "execution_count": 66,
      "outputs": [
        {
          "output_type": "execute_result",
          "data": {
            "text/plain": [
              "'RAG-Token can be viewed as a standard, autoregressive seq2seq generator with a specific transition probability.'"
            ],
            "application/vnd.google.colaboratory.intrinsic+json": {
              "type": "string"
            }
          },
          "metadata": {},
          "execution_count": 66
        }
      ]
    },
    {
      "cell_type": "code",
      "source": [
        "agent_executor.run(input=\"what will be the sum of 2 and 2?\")"
      ],
      "metadata": {
        "colab": {
          "base_uri": "https://localhost:8080/",
          "height": 35
        },
        "id": "1QFOc5sNha51",
        "outputId": "b7314877-879a-413d-c9e2-2db64d8cd7ed"
      },
      "execution_count": 67,
      "outputs": [
        {
          "output_type": "execute_result",
          "data": {
            "text/plain": [
              "'The sum of 2 and 2 is 4.'"
            ],
            "application/vnd.google.colaboratory.intrinsic+json": {
              "type": "string"
            }
          },
          "metadata": {},
          "execution_count": 67
        }
      ]
    },
    {
      "cell_type": "code",
      "source": [
        "agent_executor.run(input=\"what is RAG sequence model?\")"
      ],
      "metadata": {
        "colab": {
          "base_uri": "https://localhost:8080/",
          "height": 139
        },
        "id": "yrxzNgsChh-E",
        "outputId": "c0735fea-7304-49d0-bd4b-fcd8e966d1c6"
      },
      "execution_count": 68,
      "outputs": [
        {
          "output_type": "execute_result",
          "data": {
            "text/plain": [
              "'The RAG-Sequence model does not break the likelihood into a conventional per-token likelihood, which means it cannot be solved with a single beam search. Instead, beam search is run for each document z, scoring each hypothesis using pθ(yi|x,z,y1:i-1). This results in a set of hypotheses Y, some of which may not have appeared in the beams of all documents. To estimate the probability of a hypothesis y, an additional forward pass is run for each document z for which y does not appear in the beam, multiplying the generator probability with pη(z|x) and then summing the probabilities across beams for the marginals. This decoding procedure is referred to as \"Thorough Decoding.\"'"
            ],
            "application/vnd.google.colaboratory.intrinsic+json": {
              "type": "string"
            }
          },
          "metadata": {},
          "execution_count": 68
        }
      ]
    },
    {
      "cell_type": "code",
      "source": [
        "agent_executor.run(input=\"can you multiply those previous two numbers?\")"
      ],
      "metadata": {
        "colab": {
          "base_uri": "https://localhost:8080/",
          "height": 35
        },
        "id": "H7HnZO7qhzNP",
        "outputId": "e7d7fb79-a831-4f7b-e31c-f41de01e21d2"
      },
      "execution_count": 69,
      "outputs": [
        {
          "output_type": "execute_result",
          "data": {
            "text/plain": [
              "'16'"
            ],
            "application/vnd.google.colaboratory.intrinsic+json": {
              "type": "string"
            }
          },
          "metadata": {},
          "execution_count": 69
        }
      ]
    },
    {
      "cell_type": "code",
      "source": [
        "agent_executor.run(input=\"what is latest rag evaltion technique in 2024?\")"
      ],
      "metadata": {
        "colab": {
          "base_uri": "https://localhost:8080/",
          "height": 104
        },
        "id": "2Ktae_1dh76d",
        "outputId": "a7a09195-ff1d-4254-b2bd-a3ff583306dd"
      },
      "execution_count": 70,
      "outputs": [
        {
          "output_type": "execute_result",
          "data": {
            "text/plain": [
              "\"The latest RAG evaluation technique in 2024 involves conducting ablations on the dev set to compare different RAG models. The evaluation includes metrics such as Exact Match, Label Accuracy, and performance with mismatched indices to update RAG's world knowledge by replacing its non-parametric memory. Additionally, the evaluation considers the effect of retrieving more documents on RAG models' performance, with the flexibility to adjust the number of retrieved documents at test time for improved results.\""
            ],
            "application/vnd.google.colaboratory.intrinsic+json": {
              "type": "string"
            }
          },
          "metadata": {},
          "execution_count": 70
        }
      ]
    },
    {
      "cell_type": "code",
      "source": [
        "agent_executor.run(input=\"what is llama3 model and is it appropriate for RAG?\")"
      ],
      "metadata": {
        "colab": {
          "base_uri": "https://localhost:8080/",
          "height": 35
        },
        "id": "UMuDVXqoiUiQ",
        "outputId": "046f5262-ea24-4baf-f00e-7cf1f2b72148"
      },
      "execution_count": 71,
      "outputs": [
        {
          "output_type": "execute_result",
          "data": {
            "text/plain": [
              "'The llama3 model is not mentioned in the provided context information.'"
            ],
            "application/vnd.google.colaboratory.intrinsic+json": {
              "type": "string"
            }
          },
          "metadata": {},
          "execution_count": 71
        }
      ]
    },
    {
      "cell_type": "code",
      "source": [
        "agent_executor.run(input=\"what is machine learning?\")"
      ],
      "metadata": {
        "colab": {
          "base_uri": "https://localhost:8080/",
          "height": 70
        },
        "id": "YKjJ1SIkifb-",
        "outputId": "0a746520-1295-4ae5-a162-4ac1b25b6cef"
      },
      "execution_count": 72,
      "outputs": [
        {
          "output_type": "execute_result",
          "data": {
            "text/plain": [
              "'Machine learning is a field of artificial intelligence that focuses on the development of algorithms and models that enable computers to learn from and make predictions or decisions based on data, without being explicitly programmed to do so.'"
            ],
            "application/vnd.google.colaboratory.intrinsic+json": {
              "type": "string"
            }
          },
          "metadata": {},
          "execution_count": 72
        }
      ]
    },
    {
      "cell_type": "code",
      "source": [
        "agent_executor.run(input=\"what is 10+10?\")"
      ],
      "metadata": {
        "colab": {
          "base_uri": "https://localhost:8080/",
          "height": 35
        },
        "id": "grxm3y_PjjRU",
        "outputId": "6f8c2267-d2fb-43d1-decb-fb9b97448fab"
      },
      "execution_count": 73,
      "outputs": [
        {
          "output_type": "execute_result",
          "data": {
            "text/plain": [
              "'The sum of 10 and 10 is 20.'"
            ],
            "application/vnd.google.colaboratory.intrinsic+json": {
              "type": "string"
            }
          },
          "metadata": {},
          "execution_count": 73
        }
      ]
    },
    {
      "cell_type": "code",
      "source": [
        "agent_executor.run(input=\"can you tell me the types of it?\")"
      ],
      "metadata": {
        "id": "MyVQfqYUjy1x"
      },
      "execution_count": null,
      "outputs": []
    },
    {
      "cell_type": "markdown",
      "source": [
        "# **END**"
      ],
      "metadata": {
        "id": "QR63qqg5bzTw"
      }
    }
  ]
}